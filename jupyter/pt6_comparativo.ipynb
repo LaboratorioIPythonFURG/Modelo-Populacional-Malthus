{
 "cells": [
  {
   "cell_type": "markdown",
   "id": "c3d6f98c-e404-461f-ab14-20d9e79d0a06",
   "metadata": {},
   "source": [
    "<h1>6  &nbsp;Estudo comparativo - Soluções numéricas e analítica</h1>\n",
    "\n",
    "&nbsp; Esta seção tem como objetivo comparar a solução analítica e a aproximação numérica com a população estimada para 2021 pelo IBGE.\n",
    "\n",
    "&nbsp; Os resultados obtidos pela solução analítica, pelo método de Euler, Euler modificado e RK4:\n",
    "\n",
    "<center><b>Aproximação populacional para Rio Grande por método</b></center>\n",
    "\n",
    "| Método | Número de habitantes |\n",
    "| --- | --- |\n",
    "| LSODA | 198336.85795442 |\n",
    "| Euler | 198335.71424191 |\n",
    "| Euler modificado | 198335.74844755 |\n",
    "|RK4 |198335.74844762 |\n",
    "|RK45|  209760.60286601|\n",
    "\n",
    "<center>Fonte: O autor</center>"
   ]
  },
  {
   "cell_type": "markdown",
   "id": "dcff749d-7012-429d-b721-e7be0b8deb5d",
   "metadata": {},
   "source": [
    "&nbsp; Importando bibliotecas:"
   ]
  },
  {
   "cell_type": "code",
   "execution_count": 1,
   "id": "ad00f3f2-3c1f-421f-9797-fc8f95edb0d0",
   "metadata": {},
   "outputs": [],
   "source": [
    "import numpy as np\n",
    "import matplotlib.pyplot as plt"
   ]
  },
  {
   "cell_type": "markdown",
   "id": "b3ec7236-fb5d-4191-9a68-c2d07172b267",
   "metadata": {},
   "source": [
    "&nbsp; Declarando o nome dos métodos, aproximações e a população estimada pelo IBGE"
   ]
  },
  {
   "cell_type": "code",
   "execution_count": 2,
   "id": "a9e451dd-cab7-46e6-b070-e9e0105cce42",
   "metadata": {},
   "outputs": [],
   "source": [
    "metodos = ['Analítico','LSODA','Euler','Euler modificado','RK4','RK45']\n",
    "\n",
    "solucoes = [209761,198336.85795442, 198335.71424191, 198335.74844755, 198335.74844762, 209760.60286601]\n",
    "\n",
    "index = [0,1,2,3,4]\n",
    "\n",
    "solucao_IBGE = 212881\n",
    "\n",
    "dados = [[0, 0, 0]]"
   ]
  },
  {
   "cell_type": "markdown",
   "id": "e53bd7e4-be5c-482d-8904-649fe18bab27",
   "metadata": {},
   "source": [
    "&nbsp; A seguir, obtemos o erro das soluções obtidas com relação a população fornecida pelo IBGE."
   ]
  },
  {
   "cell_type": "code",
   "execution_count": 3,
   "id": "511c79d6-f518-493a-a210-03a0bf07991e",
   "metadata": {},
   "outputs": [],
   "source": [
    "for i in index:\n",
    "    erro_hab = solucao_IBGE - solucoes[i]\n",
    "    erro_perc = (erro_hab/solucao_IBGE)*100\n",
    "    #Adicionando linhas à matriz (tabela)\n",
    "    dados = np.vstack([dados,[metodos[i],round(erro_hab),str(round(erro_perc,2))+'%']])\n",
    "                      "
   ]
  },
  {
   "cell_type": "markdown",
   "id": "8fd6bb6e-6cdf-43f1-a18b-b1b952042a99",
   "metadata": {},
   "source": [
    "  Finalmente, exibimos os dados armazenados:"
   ]
  },
  {
   "cell_type": "code",
   "execution_count": 4,
   "id": "e8ef0a2f-2fb7-4d4f-8a43-8c8eccb36fd4",
   "metadata": {},
   "outputs": [
    {
     "data": {
      "image/png": "[encoded data removed]",
      "text/plain": [
       "<Figure size 432x288 with 1 Axes>"
      ]
     },
     "metadata": {
      "needs_background": "light"
     },
     "output_type": "display_data"
    }
   ],
   "source": [
    "#remove a primeira linha da matriz\n",
    "dados = np.delete(dados, 0, 0)\n",
    "\n",
    "#Exibindo tabela\n",
    "fig, ax =plt.subplots(1,1)\n",
    "column_labels=['Método', 'Erro absoluto', 'Erro percentual']\n",
    "ax.axis('tight')\n",
    "ax.axis('off')\n",
    "ax.table(cellText=dados,colLabels=column_labels,loc='center')\n",
    "\n",
    "plt.show()\n"
   ]
  }
 ],
 "metadata": {
  "kernelspec": {
   "display_name": "Python 3 (ipykernel)",
   "language": "python",
   "name": "python3"
  },
  "language_info": {
   "codemirror_mode": {
    "name": "ipython",
    "version": 3
   },
   "file_extension": ".py",
   "mimetype": "text/x-python",
   "name": "python",
   "nbconvert_exporter": "python",
   "pygments_lexer": "ipython3",
   "version": "3.10.2"
  }
 },
 "nbformat": 4,
 "nbformat_minor": 5
}
