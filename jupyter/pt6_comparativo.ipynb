{
 "cells": [
  {
   "cell_type": "markdown",
   "id": "c3d6f98c-e404-461f-ab14-20d9e79d0a06",
   "metadata": {},
   "source": [
    "<h1>6  &nbsp;Estudo comparativo - Soluções numéricas e analítica</h1>\n",
    "\n",
    "<h2>6.1 &nbsp; Erro absoluto e percentual</h2>\n",
    "\n",
    "&nbsp; Esta seção tem como objetivo comparar a solução analítica e a aproximação numérica com a população estimada para 2021 pelo IBGE.\n",
    "\n",
    "&nbsp; Os resultados obtidos pela solução analítica, pelo método de Euler, Euler modificado e RK4:\n",
    "\n",
    "<center><b>Aproximação populacional para Rio Grande por método</b></center>\n",
    "\n",
    "| Método | Número de habitantes |\n",
    "| --- | --- |\n",
    "| LSODA | 198336.85795442 |\n",
    "| Euler | 198335.71424191 |\n",
    "| Euler modificado | 198335.74844755 |\n",
    "|RK4 |198335.74844762 |\n",
    "|RK45|  209760.60286601|\n",
    "\n",
    "<center>Fonte: O autor</center>"
   ]
  },
  {
   "cell_type": "markdown",
   "id": "dcff749d-7012-429d-b721-e7be0b8deb5d",
   "metadata": {},
   "source": [
    "&nbsp; Importando bibliotecas:"
   ]
  },
  {
   "cell_type": "code",
   "execution_count": 1,
   "id": "ad00f3f2-3c1f-421f-9797-fc8f95edb0d0",
   "metadata": {},
   "outputs": [],
   "source": [
    "import numpy as np\n",
    "import matplotlib.pyplot as plt"
   ]
  },
  {
   "cell_type": "markdown",
   "id": "b3ec7236-fb5d-4191-9a68-c2d07172b267",
   "metadata": {},
   "source": [
    "&nbsp; Declarando o nome dos métodos, aproximações e a população estimada pelo IBGE"
   ]
  },
  {
   "cell_type": "code",
   "execution_count": 2,
   "id": "a9e451dd-cab7-46e6-b070-e9e0105cce42",
   "metadata": {},
   "outputs": [],
   "source": [
    "metodos = ['Analítico','LSODA','Euler','Euler modificado','RK4','RK45']\n",
    "\n",
    "solucoes = [209761,198336.85795442, 198335.71424191, 198335.74844755, 198335.74844762, 209760.60286601]\n",
    "\n",
    "index = [0,1,2,3,4]\n",
    "\n",
    "solucao_IBGE = 212881\n",
    "\n",
    "dados = [[0, 0, 0]]"
   ]
  },
  {
   "cell_type": "markdown",
   "id": "e53bd7e4-be5c-482d-8904-649fe18bab27",
   "metadata": {},
   "source": [
    "&nbsp; A seguir, obtemos o erro das soluções obtidas com relação a população fornecida pelo IBGE."
   ]
  },
  {
   "cell_type": "code",
   "execution_count": 3,
   "id": "511c79d6-f518-493a-a210-03a0bf07991e",
   "metadata": {},
   "outputs": [],
   "source": [
    "for i in index:\n",
    "    erro_hab = solucao_IBGE - solucoes[i]\n",
    "    erro_perc = (erro_hab/solucao_IBGE)*100\n",
    "    #Adicionando linhas à matriz (tabela)\n",
    "    dados = np.vstack([dados,[metodos[i],round(erro_hab),str(round(erro_perc,2))+'%']])\n",
    "                      "
   ]
  },
  {
   "cell_type": "markdown",
   "id": "8fd6bb6e-6cdf-43f1-a18b-b1b952042a99",
   "metadata": {},
   "source": [
    "  Finalmente, exibimos os dados armazenados:"
   ]
  },
  {
   "cell_type": "code",
   "execution_count": 4,
   "id": "e8ef0a2f-2fb7-4d4f-8a43-8c8eccb36fd4",
   "metadata": {},
   "outputs": [
    {
     "data": {
      "image/png": "[encoded data removed]",
      "text/plain": [
       "<Figure size 432x288 with 1 Axes>"
      ]
     },
     "metadata": {
      "needs_background": "light"
     },
     "output_type": "display_data"
    }
   ],
   "source": [
    "#remove a primeira linha da matriz\n",
    "dados = np.delete(dados, 0, 0)\n",
    "\n",
    "#Exibindo tabela\n",
    "fig, ax =plt.subplots(1,1)\n",
    "column_labels=['Método', 'Erro absoluto', 'Erro percentual']\n",
    "ax.axis('tight')\n",
    "ax.axis('off')\n",
    "ax.table(cellText=dados,colLabels=column_labels,loc='center')\n",
    "\n",
    "plt.show()\n"
   ]
  },
  {
   "cell_type": "markdown",
   "id": "6f6ffdbe-864c-4675-a872-4bceb266e5b7",
   "metadata": {
    "tags": []
   },
   "source": [
    "<h2>6.2  &nbsp; O maior passo de derivação para produzir uma aproximação aceitável</h2>\n",
    "\n",
    "&nbsp; Vimos que a solução analítica possui uma aproximação aceitável, com erro de 1.47% em relação ao IBGE. &nbsp; Neste tópico, vamos verificar se é possível reduzir o passo de derivação de modo a diminuir o erro dos métodos numéricos estudados neste repositório.\n",
    "<br><br>\n",
    "Adicionando o diretório que contém os arquivos python:"
   ]
  },
  {
   "cell_type": "code",
   "execution_count": 5,
   "id": "f3eb062e-646e-4948-8dc2-4bc9280f9c2f",
   "metadata": {},
   "outputs": [],
   "source": [
    "import sys \n",
    "sys.path.insert(0, '../python')"
   ]
  },
  {
   "cell_type": "markdown",
   "id": "33cfd648-9406-47dc-a768-1e93942fa1fe",
   "metadata": {},
   "source": [
    "&nbsp; Importanto os módulos de <i><b>Modelo-Populacional-Malthus/python/</b></i> bem como as  bibliotecas Numpy e SciPy:"
   ]
  },
  {
   "cell_type": "code",
   "execution_count": 6,
   "id": "191c7e13-f20a-4a07-9d2f-20f8b5e5a0d2",
   "metadata": {},
   "outputs": [],
   "source": [
    "import numpy as np\n",
    "import scipy.integrate as sciInt\n",
    "\n",
    "from sol_euler import sol_euler\n",
    "from sol_euler_mod import sol_euler_mod\n",
    "from sol_rk4 import sol_rk4\n",
    "from modelo import modelo"
   ]
  },
  {
   "cell_type": "markdown",
   "id": "324a25b8-d639-42fd-b670-8ba6c9bc4d03",
   "metadata": {},
   "source": [
    "<h3>Método de Euler</h3>\n",
    "\n",
    "&nbsp; Declarando variáveis:\n"
   ]
  },
  {
   "cell_type": "code",
   "execution_count": 7,
   "id": "95771f94-929c-4955-bb9a-237ca6f9730a",
   "metadata": {},
   "outputs": [],
   "source": [
    "#Condição inicial\n",
    "P0 = 186488\n",
    "\n",
    "#tempo inicial\n",
    "ti = 10\n",
    "\n",
    "#tempo final\n",
    "tf = 21\n",
    "\n",
    "#passo inicial\n",
    "h = 0.001\n",
    "\n",
    "#decrescimo\n",
    "decrescimo = 0.0001 #adicionar mais um zero à esquerda faz o código demorar\n",
    "\n",
    "#inicio de tabela de dados\n",
    "dados = [[0, 0, 0, 0]]"
   ]
  },
  {
   "cell_type": "markdown",
   "id": "7e4bdf25-ec31-4574-b0b5-d930fa118f75",
   "metadata": {},
   "source": [
    "&nbsp; Contruindo algoritmo para minimizar o erro de 14545."
   ]
  },
  {
   "cell_type": "code",
   "execution_count": 8,
   "id": "fe5483c6-ec7f-4b2d-acf1-a8b5b5b642b1",
   "metadata": {},
   "outputs": [
    {
     "name": "stdout",
     "output_type": "stream",
     "text": [
      "- Iteração. Passo atual (h):  0.0009\n",
      "- Iteração. Passo atual (h):  0.0007999999999999999\n",
      "- Iteração. Passo atual (h):  0.0006999999999999999\n",
      "- Iteração. Passo atual (h):  0.0005999999999999998\n",
      "- Iteração. Passo atual (h):  0.0004999999999999998\n",
      "- Iteração. Passo atual (h):  0.0003999999999999998\n",
      "- Iteração. Passo atual (h):  0.0002999999999999998\n",
      "- Iteração. Passo atual (h):  0.00019999999999999982\n",
      "- Iteração. Passo atual (h):  9.999999999999982e-05\n",
      "- Iteração. Passo atual (h):  -1.8973538018496328e-19\n",
      "passo negativo: -1.8973538018496328e-19\n",
      "Erro absoluto (hab):  14544.144290017342\n",
      "Erro absoluto arredondado (hab):  14544.0\n",
      "Erro percentual arredondado 6.83%\n",
      "Erro percentual arredondado 6.832053724859119%\n",
      "Passo atual:  9.999999999999982e-05\n",
      "CPU times: total: 30.2 s\n",
      "Wall time: 31.2 s\n"
     ]
    }
   ],
   "source": [
    "%%time\n",
    "\n",
    "limite = False\n",
    "\n",
    "#excede while err>3194:\n",
    "while limite==False and h>0:\n",
    "    try:\n",
    "        #passo\n",
    "        h = h - decrescimo\n",
    "        \n",
    "        print('- Iteração. Passo atual (h): ',h)\n",
    "        \n",
    "        if (h<0):\n",
    "            print('passo negativo:',h)\n",
    "            h = h + decrescimo\n",
    "            break\n",
    "    \n",
    "        #vetor tempo\n",
    "        vt = np.arange(ti,tf,h)\n",
    "    \n",
    "        #solução\n",
    "        P_euler = sol_euler(vt,P0)\n",
    "    \n",
    "        #erro abs\n",
    "        err = solucao_IBGE - np.amax(P_euler)\n",
    "    \n",
    "        #erro percentual\n",
    "        err_perc = (err/solucao_IBGE)*100\n",
    "        \n",
    "    except:\n",
    "        limite = True\n",
    "        print('O passo atingiu o limite')\n",
    "    \n",
    " \n",
    "print('Erro absoluto (hab): ',err)\n",
    "print('Erro absoluto arredondado (hab): ',round(err,0))\n",
    "print('Erro percentual arredondado {}%'.format(round(err_perc,2)))\n",
    "print('Erro percentual arredondado {}%'.format(err_perc))\n",
    "print('Passo atual: ',h)\n",
    "\n",
    "dados = np.vstack([dados,['Euler',h,round(err),str(round(err_perc,2))+'%']])"
   ]
  },
  {
   "cell_type": "markdown",
   "id": "1c7d0702-9a39-4a08-a002-0947818d48c7",
   "metadata": {},
   "source": [
    "<h3>Método de Euler modificado</h3>"
   ]
  },
  {
   "cell_type": "code",
   "execution_count": 9,
   "id": "7b10b761-ef85-4145-b734-ec3458ec8c7b",
   "metadata": {},
   "outputs": [
    {
     "name": "stdout",
     "output_type": "stream",
     "text": [
      "- Iteração. Passo atual (h):  0.0009\n",
      "- Iteração. Passo atual (h):  0.0007999999999999999\n",
      "- Iteração. Passo atual (h):  0.0006999999999999999\n",
      "- Iteração. Passo atual (h):  0.0005999999999999998\n",
      "- Iteração. Passo atual (h):  0.0004999999999999998\n",
      "- Iteração. Passo atual (h):  0.0003999999999999998\n",
      "- Iteração. Passo atual (h):  0.0002999999999999998\n",
      "- Iteração. Passo atual (h):  0.00019999999999999982\n",
      "- Iteração. Passo atual (h):  9.999999999999982e-05\n",
      "- Iteração. Passo atual (h):  -1.8973538018496328e-19\n",
      "passo negativo: -1.8973538018496328e-19\n",
      "Erro absoluto (hab):  14544.140869105322\n",
      "Erro absoluto arredondado (hab):  14544.0\n",
      "Erro percentual arredondado 6.83%\n",
      "Erro percentual arredondado 6.832052117899353%\n",
      "Passo atual:  9.999999999999982e-05\n",
      "CPU times: total: 41 s\n",
      "Wall time: 55.8 s\n"
     ]
    }
   ],
   "source": [
    "%%time\n",
    "\n",
    "h = 0.001\n",
    "\n",
    "limite = False\n",
    "\n",
    "#excede while err>3194:\n",
    "while limite==False and h>0:\n",
    "    try:\n",
    "        #passo\n",
    "        h = h - decrescimo\n",
    "        \n",
    "        print('- Iteração. Passo atual (h): ',h)\n",
    "        \n",
    "        if (h<0):\n",
    "            print('passo negativo:',h)\n",
    "            h = h + decrescimo\n",
    "            break\n",
    "    \n",
    "        #vetor tempo\n",
    "        vt = np.arange(ti,tf,h)\n",
    "    \n",
    "        #solução\n",
    "        P_euler_mod = sol_euler_mod(vt,P0)\n",
    "    \n",
    "        #erro abs\n",
    "        err = solucao_IBGE - np.amax(P_euler_mod)\n",
    "    \n",
    "        #erro percentual\n",
    "        err_perc = (err/solucao_IBGE)*100\n",
    "        \n",
    "    except:\n",
    "        limite = True\n",
    "        print('O passo atingiu o limite')\n",
    "    \n",
    " \n",
    "print('Erro absoluto (hab): ',err)\n",
    "print('Erro absoluto arredondado (hab): ',round(err,0))\n",
    "print('Erro percentual arredondado {}%'.format(round(err_perc,2)))\n",
    "print('Erro percentual arredondado {}%'.format(err_perc))\n",
    "print('Passo atual: ',h)\n",
    "\n",
    "dados = np.vstack([dados,['Euler modificado',h,round(err),str(round(err_perc,2))+'%']])"
   ]
  },
  {
   "cell_type": "markdown",
   "id": "83985596-42cd-4000-a387-82dfe4bdcbea",
   "metadata": {},
   "source": [
    "<h3>Método de Runge-Kutta de 4º ordem</h3>"
   ]
  },
  {
   "cell_type": "code",
   "execution_count": 10,
   "id": "60793c08-e632-4b28-b6cb-29e19a2f639d",
   "metadata": {},
   "outputs": [
    {
     "name": "stdout",
     "output_type": "stream",
     "text": [
      "- Iteração. Passo atual (h):  0.0009\n",
      "- Iteração. Passo atual (h):  0.0007999999999999999\n",
      "- Iteração. Passo atual (h):  0.0006999999999999999\n",
      "- Iteração. Passo atual (h):  0.0005999999999999998\n",
      "- Iteração. Passo atual (h):  0.0004999999999999998\n",
      "- Iteração. Passo atual (h):  0.0003999999999999998\n",
      "- Iteração. Passo atual (h):  0.0002999999999999998\n",
      "- Iteração. Passo atual (h):  0.00019999999999999982\n",
      "- Iteração. Passo atual (h):  9.999999999999982e-05\n",
      "- Iteração. Passo atual (h):  -1.8973538018496328e-19\n",
      "passo negativo: -1.8973538018496328e-19\n",
      "Erro absoluto (hab):  14544.140869104536\n",
      "Erro absoluto arredondado (hab):  14544.0\n",
      "Erro percentual arredondado 6.83%\n",
      "Erro percentual arredondado 6.832052117898985%\n",
      "Passo atual:  9.999999999999982e-05\n",
      "CPU times: total: 42.7 s\n",
      "Wall time: 54.2 s\n"
     ]
    }
   ],
   "source": [
    "%%time\n",
    "\n",
    "h = 0.001\n",
    "\n",
    "limite = False\n",
    "\n",
    "#excede while err>3194:\n",
    "while limite==False and h>0:\n",
    "    try:\n",
    "        #passo\n",
    "        h = h - decrescimo\n",
    "        \n",
    "        print('- Iteração. Passo atual (h): ',h)\n",
    "        \n",
    "        if (h<0):\n",
    "            print('passo negativo:',h)\n",
    "            h = h + decrescimo\n",
    "            break\n",
    "    \n",
    "        #vetor tempo\n",
    "        vt = np.arange(ti,tf,h)\n",
    "    \n",
    "        #solução\n",
    "        P_rk4 = sol_rk4(vt,P0)\n",
    "    \n",
    "        #erro abs\n",
    "        err = solucao_IBGE - np.amax(P_rk4)\n",
    "    \n",
    "        #erro percentual\n",
    "        err_perc = (err/solucao_IBGE)*100\n",
    "        \n",
    "    except:\n",
    "        limite = True\n",
    "        print('O passo atingiu o limite')\n",
    "    \n",
    " \n",
    "print('Erro absoluto (hab): ',err)\n",
    "print('Erro absoluto arredondado (hab): ',round(err,0))\n",
    "print('Erro percentual arredondado {}%'.format(round(err_perc,2)))\n",
    "print('Erro percentual arredondado {}%'.format(err_perc))\n",
    "print('Passo atual: ',h)\n",
    "\n",
    "dados = np.vstack([dados,['Runge-Kutta 4º Ordem',h,round(err),str(round(err_perc,2))+'%']])"
   ]
  },
  {
   "cell_type": "markdown",
   "id": "fdeb9fdf-84e1-4d05-b12a-351fa07d64fa",
   "metadata": {},
   "source": [
    "<h3>Método LSODA</h3>"
   ]
  },
  {
   "cell_type": "code",
   "execution_count": 11,
   "id": "19748c81-ba40-46e5-846d-6694628d6da5",
   "metadata": {},
   "outputs": [
    {
     "name": "stdout",
     "output_type": "stream",
     "text": [
      "- Iteração. Passo atual (h):  0.0009\n",
      "- Iteração. Passo atual (h):  0.0007999999999999999\n",
      "- Iteração. Passo atual (h):  0.0006999999999999999\n",
      "- Iteração. Passo atual (h):  0.0005999999999999998\n",
      "- Iteração. Passo atual (h):  0.0004999999999999998\n",
      "- Iteração. Passo atual (h):  0.0003999999999999998\n",
      "- Iteração. Passo atual (h):  0.0002999999999999998\n",
      "- Iteração. Passo atual (h):  0.00019999999999999982\n",
      "- Iteração. Passo atual (h):  9.999999999999982e-05\n",
      "- Iteração. Passo atual (h):  -1.8973538018496328e-19\n",
      "passo negativo: -1.8973538018496328e-19\n",
      "Erro absoluto (hab):  14544.142110810935\n",
      "Erro absoluto arredondado (hab):  14544.0\n",
      "Erro percentual arredondado 6.83%\n",
      "Erro percentual arredondado 6.832052701185609%\n",
      "Passo atual:  9.999999999999982e-05\n",
      "CPU times: total: 93.8 ms\n",
      "Wall time: 101 ms\n"
     ]
    }
   ],
   "source": [
    "%%time\n",
    "\n",
    "h = 0.001\n",
    "\n",
    "limite = False\n",
    "\n",
    "#excede while err>3194:\n",
    "while limite==False and h>0:\n",
    "    try:\n",
    "        #passo\n",
    "        h = h - decrescimo\n",
    "        \n",
    "        print('- Iteração. Passo atual (h): ',h)\n",
    "        \n",
    "        if (h<0):\n",
    "            print('passo negativo:',h)\n",
    "            h = h + decrescimo\n",
    "            break\n",
    "    \n",
    "        #vetor tempo\n",
    "        vt = np.arange(ti,tf,h)\n",
    "    \n",
    "        #solução\n",
    "        P_lsoda = sciInt.odeint(modelo, y0=186488, t=vt, tfirst=True)\n",
    "    \n",
    "        #erro abs\n",
    "        err = solucao_IBGE - np.amax(P_lsoda)\n",
    "    \n",
    "        #erro percentual\n",
    "        err_perc = (err/solucao_IBGE)*100\n",
    "        \n",
    "    except:\n",
    "        limite = True\n",
    "        print('O passo atingiu o limite')\n",
    "    \n",
    " \n",
    "print('Erro absoluto (hab): ',err)\n",
    "print('Erro absoluto arredondado (hab): ',round(err,0))\n",
    "print('Erro percentual arredondado {}%'.format(round(err_perc,2)))\n",
    "print('Erro percentual arredondado {}%'.format(err_perc))\n",
    "print('Passo atual: ',h)\n",
    "\n",
    "dados = np.vstack([dados,['LSODA',h,round(err),str(round(err_perc,2))+'%']])"
   ]
  },
  {
   "cell_type": "markdown",
   "id": "5110f6f2-7841-4dec-8f14-05044fa06863",
   "metadata": {},
   "source": [
    "<h3> Método RK45 </h3>"
   ]
  },
  {
   "cell_type": "code",
   "execution_count": 12,
   "id": "ed7cf93f-ed80-4688-8b71-91f936cc6e88",
   "metadata": {},
   "outputs": [
    {
     "name": "stdout",
     "output_type": "stream",
     "text": [
      "- Iteração. Passo atual (h):  0.0009\n",
      "- Iteração. Passo atual (h):  0.0007999999999999999\n",
      "- Iteração. Passo atual (h):  0.0006999999999999999\n",
      "- Iteração. Passo atual (h):  0.0005999999999999998\n",
      "- Iteração. Passo atual (h):  0.0004999999999999998\n",
      "- Iteração. Passo atual (h):  0.0003999999999999998\n",
      "- Iteração. Passo atual (h):  0.0002999999999999998\n",
      "- Iteração. Passo atual (h):  0.00019999999999999982\n",
      "- Iteração. Passo atual (h):  9.999999999999982e-05\n",
      "- Iteração. Passo atual (h):  -1.8973538018496328e-19\n",
      "passo negativo: -1.8973538018496328e-19\n",
      "Erro absoluto (hab):  3120.397134018305\n",
      "Erro absoluto arredondado (hab):  3120.0\n",
      "Erro percentual arredondado 1.47%\n",
      "Erro percentual arredondado 1.4657940981197501%\n",
      "Passo atual:  9.999999999999982e-05\n",
      "CPU times: total: 219 ms\n",
      "Wall time: 217 ms\n"
     ]
    }
   ],
   "source": [
    "%%time\n",
    "\n",
    "h = 0.001\n",
    "\n",
    "limite = False\n",
    "\n",
    "#excede while err>3194:\n",
    "while limite==False and h>0:\n",
    "    try:\n",
    "        #passo\n",
    "        h = h - decrescimo\n",
    "        \n",
    "        print('- Iteração. Passo atual (h): ',h)\n",
    "        \n",
    "        if (h<0):\n",
    "            print('passo negativo:',h)\n",
    "            h = h + decrescimo\n",
    "            break\n",
    "    \n",
    "        #vetor tempo\n",
    "        vt = np.arange(ti,tf,h)\n",
    "    \n",
    "        #solução\n",
    "        P_rk45 = sciInt.solve_ivp(modelo, t_span=(0,max(vt)), y0=[186488], t_eval=vt)\n",
    "    \n",
    "        #erro abs\n",
    "        err = solucao_IBGE - np.amax(P_rk45.y[0])\n",
    "    \n",
    "        #erro percentual\n",
    "        err_perc = (err/solucao_IBGE)*100\n",
    "        \n",
    "    except:\n",
    "        limite = True\n",
    "        print('O passo atingiu o limite')\n",
    "    \n",
    " \n",
    "print('Erro absoluto (hab): ',err)\n",
    "print('Erro absoluto arredondado (hab): ',round(err,0))\n",
    "print('Erro percentual arredondado {}%'.format(round(err_perc,2)))\n",
    "print('Erro percentual arredondado {}%'.format(err_perc))\n",
    "print('Passo atual: ',h)\n",
    "\n",
    "dados = np.vstack([dados,['RK45',h,round(err),str(round(err_perc,2))+'%']])"
   ]
  },
  {
   "cell_type": "markdown",
   "id": "0cf0d1ea-9791-484b-a5b6-b8f4ecf6f840",
   "metadata": {
    "tags": []
   },
   "source": [
    "<h3>Resultados</h3>"
   ]
  },
  {
   "cell_type": "code",
   "execution_count": 13,
   "id": "edee1294-2cae-4159-a0e2-4f5cb8fa9a1c",
   "metadata": {},
   "outputs": [
    {
     "name": "stdout",
     "output_type": "stream",
     "text": [
      "[['Euler' '9.999999999999982e-05' '14544' '6.83%']\n",
      " ['Euler modificado' '9.999999999999982e-05' '14544' '6.83%']\n",
      " ['Runge-Kutta 4º Ordem' '9.999999999999982e-05' '14544' '6.83%']\n",
      " ['LSODA' '9.999999999999982e-05' '14544' '6.83%']\n",
      " ['RK45' '9.999999999999982e-05' '3120' '1.47%']]\n"
     ]
    },
    {
     "data": {
      "image/png": "[encoded data removed]",
      "text/plain": [
       "<Figure size 432x288 with 1 Axes>"
      ]
     },
     "metadata": {
      "needs_background": "light"
     },
     "output_type": "display_data"
    }
   ],
   "source": [
    "#remove a primeira linha da matriz\n",
    "dados = np.delete(dados, 0, 0)\n",
    "\n",
    "#Exibindo tabela\n",
    "fig, ax =plt.subplots(1,1)\n",
    "column_labels=['Método', 'Passo','Erro (hab)', 'Erro percentual']\n",
    "ax.axis('tight')\n",
    "ax.axis('off')\n",
    "ax.table(cellText=dados,colLabels=column_labels,loc='center')\n",
    "print(dados)\n",
    "plt.show()"
   ]
  }
 ],
 "metadata": {
  "kernelspec": {
   "display_name": "Python 3 (ipykernel)",
   "language": "python",
   "name": "python3"
  },
  "language_info": {
   "codemirror_mode": {
    "name": "ipython",
    "version": 3
   },
   "file_extension": ".py",
   "mimetype": "text/x-python",
   "name": "python",
   "nbconvert_exporter": "python",
   "pygments_lexer": "ipython3",
   "version": "3.10.2"
  }
 },
 "nbformat": 4,
 "nbformat_minor": 5
}
