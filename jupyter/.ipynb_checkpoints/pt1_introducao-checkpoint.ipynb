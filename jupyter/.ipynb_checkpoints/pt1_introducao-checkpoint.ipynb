{
 "cells": [
  {
   "cell_type": "markdown",
   "id": "86093a3b-b5aa-4fe9-af97-b743191b6c5d",
   "metadata": {},
   "source": [
    "<h1 style='color:#0000ec'>1 &nbsp; Modelos Populacionais</h1>\n",
    "<h2 style='color:#0000b7'> &nbsp; Problema modelo:</h2>\n",
    "    &nbsp; &nbsp; &nbsp; Jaçanã é uma cidade pacata no interior do Rio Grande do Norte e no ano 2000 a população do município era de 7677 habitantes e em 2010 <br> &nbsp; &nbsp; essa população passou para 7925. De acordo o modelo de crescimento populacional de Malthus, qual será a população estimada para\n",
    "2016?\n",
    "<br><br>\n",
    "&nbsp; &nbsp; &nbsp;<b>Referência:</b> https://editorarealize.com.br/artigo/visualizar/43077\n",
    "\n",
    "<h2>Problema proposto:</h2>\n",
    "    &nbsp; Rio Grande é uma cidade localizada na região sul do Rio Grande do sul e no ano 2000 a população do município era de 186 488 e em 2010 essa população aumentou para 197 228.  De acordo o modelo de crescimento populacional de Malthus, Verhulst e Montroll, qual será a população estimada para 2021?"
   ]
  },
  {
   "cell_type": "markdown",
   "id": "4495d0e5-e485-4632-af03-7376a5ded60d",
   "metadata": {},
   "source": [
    "<h1>2 &nbsp; Modelos de Malthus, Verhulst e Montroll</h1>\n",
    "\n",
    "<h2>&nbsp; 2.1 &nbsp;O modelo de Malthus</h2>\n",
    "\n",
    "&nbsp; &nbsp; &nbsp; O modelo populacional de Malthus é dado por:\n",
    "​\n",
    "$$\\frac{dP}{dt}=κP$$\n",
    "​\n",
    "&nbsp; &nbsp; onde <b>P</b> é o número de habitantes e <b>κ</b> a constante de proporcionalidade. \n",
    "\n",
    "<h3>&nbsp; &nbsp; 2.1.1 &nbsp;Solução da equação diferencial</h3>\n",
    "\n",
    "&nbsp; &nbsp; &nbsp; &nbsp; Inicialmente, obtemos a solução da equação diferencial por separação de variáveis:\n",
    "\n",
    "$$\\frac{dP}{dt}=κP \\Rightarrow \\frac{dP}{κP}=dt $$\n",
    "\n",
    "&nbsp; &nbsp; &nbsp; &nbsp; Integrando a equação:\n",
    "\n",
    "$$ \\int\\frac{dP}{P} = \\int κdt \\Rightarrow ln|P|+C_{1} = κt + C_{2} \\Rightarrow ln|P| = κt + C $$\n",
    "\n",
    "&nbsp; &nbsp; &nbsp; &nbsp;  Isolando <b>P</b>,temos:\n",
    "\n",
    "$$ P = e^{κt + C}$$ \n",
    "\n",
    "&nbsp; &nbsp; &nbsp; &nbsp;  Tomando $e^{C}$ como a população inicial $P_{0}$ temos a solução analítica do problema de contorno:\n",
    "\n",
    "$$ P(t) = P_{0}\\:e^{κt}$$ \n",
    "\n",
    "<h3>&nbsp; &nbsp; 2.1.2 &nbsp;Solução do problema de contorno</h3>\n",
    "\n",
    "&nbsp; &nbsp; &nbsp; &nbsp;  Em $t=0$ a população era de 186 488 habitantes, logo:\n",
    "\n",
    "$$ P(0)=P_{0}e^{κ(0)} \\Rightarrow 186 \\: 488 = P_{0} $$\n",
    "\n",
    "&nbsp; &nbsp; &nbsp; &nbsp;  Dessa forma, $P(t)$:\n",
    "\n",
    "$$ P(t) = 186488\\:e^{κt}$$\n",
    "\n",
    "&nbsp; &nbsp; &nbsp; &nbsp;  Mas, em $t=10$ a população era de 197 228, então:\n",
    "\n",
    "$$ P(10) = 186488\\:e^{(10)κ} \\Rightarrow 197228 = 186488\\:e^{10κ} \\Rightarrow \\frac{197228}{186488}=e^{10κ} \\Rightarrow $$ <br> \n",
    "\n",
    "$$ \\Rightarrow ln \\left ( \\frac{197228}{186488} \\right ) = 10κ \\Rightarrow κ=\\frac{1}{10}ln \\left ( \\frac{197228}{186488} \\right ) \\approx 0.0056$$\n",
    "\n",
    "&nbsp; &nbsp; &nbsp; &nbsp;  Portanto, segundo o modelo de Malthus, a equação que descreve o número de habitantes de Rio Grande - RS sob as condições do <br>  &nbsp; &nbsp; &nbsp; enunciado é dada por:\n",
    "\n",
    "$$ P(t)=186488e^{0.0056t}$$\n",
    "\n",
    "<h3>&nbsp; &nbsp; 2.1.3 &nbsp;População estimada para 2021</h3>\n",
    "\n",
    "&nbsp; &nbsp; &nbsp; &nbsp;  Uma vez que temos a solução particular $P(t)$ basta obter o valor da função em $t=21$:<br><p></p>\n",
    "\n",
    "$$ P(21)=186488e^{0.0056(21)}=209761$$\n",
    "\n",
    "&nbsp; &nbsp; &nbsp; &nbsp; Portanto, a população estimada é de 209 761 habitantes"
   ]
  }
 ],
 "metadata": {
  "kernelspec": {
   "display_name": "Python 3 (ipykernel)",
   "language": "python",
   "name": "python3"
  },
  "language_info": {
   "codemirror_mode": {
    "name": "ipython",
    "version": 3
   },
   "file_extension": ".py",
   "mimetype": "text/x-python",
   "name": "python",
   "nbconvert_exporter": "python",
   "pygments_lexer": "ipython3",
   "version": "3.10.2"
  }
 },
 "nbformat": 4,
 "nbformat_minor": 5
}
