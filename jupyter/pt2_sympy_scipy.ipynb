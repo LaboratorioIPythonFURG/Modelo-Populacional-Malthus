{
 "cells": [
  {
   "cell_type": "markdown",
   "id": "7d71de07-afeb-432b-97bd-e76e82847dc4",
   "metadata": {
    "jp-MarkdownHeadingCollapsed": true,
    "tags": []
   },
   "source": [
    "<h1>2 &nbsp; Solução analítica</h1>\n",
    "\n",
    "<h2>2.1 &nbsp; Solução da equação diferencial</h2>\n",
    "\n",
    "&nbsp; O modelo populacional de Malthus é dado por:\n",
    "\n",
    "$$\\frac{dP}{dt}=κP$$\n",
    "\n",
    "onde <b>P</b> é o número de habitantes e <b>κ</b> a constante de proporcionalidade. \n",
    "<br>\n",
    "&nbsp; Podemos escrever o problema enunciado na <b>Seção 1</b> como um problema de contorno:\n",
    "\n",
    "$$\\begin{cases} \\frac{dP}{dt}=κP  \\\\ P(0)= 186 \\: 488 \\\\ P(10)= 197 \\: 228 \\end{cases}$$\n",
    "\n",
    "&nbsp; Inicialmente, obtemos a solução da equação diferencial por separação de variáveis:\n",
    "\n",
    "$$\\frac{dP}{dt}=κP \\Rightarrow \\frac{dP}{κP}=dt $$\n",
    "\n",
    "&nbsp; Integrando a equação:\n",
    "\n",
    "$$ \\int\\frac{dP}{P} = \\int κdt \\Rightarrow ln|P|+C_{1} = κt + C_{2} \\Rightarrow ln|P| = κt + C $$\n",
    "\n",
    "&nbsp; Isolando <b>P</b>,temos:\n",
    "\n",
    "$$ P = e^{κt + C}$$ \n",
    "\n",
    "&nbsp; Tomando $e^{C}$ como a população inicial $P_{0}$ temos a solução analítica do problema de contorno:\n",
    "\n",
    "$$ P(t) = P_{0}\\:e^{κt}$$ \n",
    "\n",
    "<h2>2.2 &nbsp; Solução do problema de contorno</h2>\n",
    "\n",
    "&nbsp; Em $t=0$ a população era de 186 488 habitantes, logo:\n",
    "\n",
    "$$ P(0)=P_{0}e^{κ(0)} \\Rightarrow 186 \\: 488 = P_{0} $$\n",
    "\n",
    "&nbsp; Dessa forma, $P(t)$:\n",
    "\n",
    "$$ P(t) = 186488\\:e^{κt}$$\n",
    "\n",
    "&nbsp; Mas, em $t=10$ a população era de 197 228, então:\n",
    "\n",
    "$$ P(10) = 186488\\:e^{(10)κ} \\Rightarrow 197228 = 186488\\:e^{10κ} \\Rightarrow \\frac{197228}{186488}=e^{10κ} \\Rightarrow $$ <br> \n",
    "\n",
    "$$ \\Rightarrow ln \\left ( \\frac{197228}{186488} \\right ) = 10κ \\Rightarrow κ=\\frac{1}{10}ln \\left ( \\frac{197228}{186488} \\right ) \\approx 0.0056$$\n",
    "\n",
    "&nbsp; Portanto, segundo o modelo de Malthus, a equação que descreve o número de habitantes de Rio Grande - RS sob as condições do enunciado é dada por:\n",
    "\n",
    "$$ P(t)=186488e^{0.0056t}$$\n",
    "\n",
    "<h2>2.3 &nbsp; População estimada para 2021</h2>\n",
    "\n",
    "&nbsp;  Uma vez que temos a solução particular $P(t)$ basta obter o valor da função em $t=21$:<br><p></p>\n",
    "\n",
    "$$ P(21)=186488e^{0.0056(21)}=209761$$\n",
    "\n",
    "&nbsp; Portanto, a população estimada é de 209 761 habitantes"
   ]
  }
 ],
 "metadata": {
  "kernelspec": {
   "display_name": "Python 3 (ipykernel)",
   "language": "python",
   "name": "python3"
  },
  "language_info": {
   "codemirror_mode": {
    "name": "ipython",
    "version": 3
   },
   "file_extension": ".py",
   "mimetype": "text/x-python",
   "name": "python",
   "nbconvert_exporter": "python",
   "pygments_lexer": "ipython3",
   "version": "3.10.2"
  }
 },
 "nbformat": 4,
 "nbformat_minor": 5
}
