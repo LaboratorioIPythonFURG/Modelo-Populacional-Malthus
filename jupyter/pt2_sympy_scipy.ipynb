{
 "cells": [
  {
   "cell_type": "markdown",
   "id": "7d71de07-afeb-432b-97bd-e76e82847dc4",
   "metadata": {
    "tags": []
   },
   "source": [
    "<h1>2 &nbsp; Solução analítica</h1>\n",
    "\n",
    "<h2>2.1 &nbsp; Solução da equação diferencial</h2>\n",
    "\n",
    "&nbsp; O modelo populacional de Malthus é dado por:\n",
    "\n",
    "$$\\frac{dP}{dt}=κP$$\n",
    "\n",
    "onde <b>P</b> é o número de habitantes e <b>κ</b> a constante de proporcionalidade. \n",
    "<br>\n",
    "&nbsp; Podemos escrever o problema enunciado na <b>Seção 1</b> como um problema de contorno:\n",
    "\n",
    "$$\\begin{cases} \\frac{dP}{dt}=κP  \\\\ P(0)= 186 \\: 488 \\\\ P(10)= 197 \\: 228 \\end{cases}$$\n",
    "\n",
    "&nbsp; Inicialmente, obtemos a solução da equação diferencial por separação de variáveis:\n",
    "\n",
    "$$\\frac{dP}{dt}=κP \\Rightarrow \\frac{dP}{κP}=dt $$\n",
    "\n",
    "&nbsp; Integrando a equação:\n",
    "\n",
    "$$ \\int\\frac{dP}{P} = \\int κdt \\Rightarrow ln|P|+C_{1} = κt + C_{2} \\Rightarrow ln|P| = κt + C $$\n",
    "\n",
    "&nbsp; Isolando <b>P</b>,temos:\n",
    "\n",
    "$$ P = e^{κt + C}$$ \n",
    "\n",
    "&nbsp; Tomando $e^{C}$ como a população inicial $P_{0}$ temos a solução analítica do problema de contorno:\n",
    "\n",
    "$$ P(t) = P_{0}\\:e^{κt}$$ \n",
    "\n",
    "<h2>2.2 &nbsp; Solução do problema de contorno</h2>\n",
    "\n",
    "&nbsp; Em $t=0$ a população era de 186 488 habitantes, logo:\n",
    "\n",
    "$$ P(0)=P_{0}e^{κ(0)} \\Rightarrow 186 \\: 488 = P_{0} $$\n",
    "\n",
    "&nbsp; Dessa forma, $P(t)$:\n",
    "\n",
    "$$ P(t) = 186488\\:e^{κt}$$\n",
    "\n",
    "&nbsp; Mas, em $t=10$ a população era de 197 228, então:\n",
    "\n",
    "$$ P(10) = 186488\\:e^{(10)κ} \\Rightarrow 197228 = 186488\\:e^{10κ} \\Rightarrow \\frac{197228}{186488}=e^{10κ} \\Rightarrow $$ <br> \n",
    "\n",
    "$$ \\Rightarrow ln \\left ( \\frac{197228}{186488} \\right ) = 10κ \\Rightarrow κ=\\frac{1}{10}ln \\left ( \\frac{197228}{186488} \\right ) \\approx 0.0056$$\n",
    "\n",
    "&nbsp; Portanto, segundo o modelo de Malthus, a equação que descreve o número de habitantes de Rio Grande - RS sob as condições do enunciado é dada por:\n",
    "\n",
    "$$ P(t)=186488e^{0.0056t}$$\n",
    "\n",
    "<h2>2.3 &nbsp; População estimada para 2021</h2>\n",
    "\n",
    "&nbsp;  Uma vez que temos a solução particular $P(t)$ basta obter o valor da função em $t=21$:<br><p></p>\n",
    "\n",
    "$$ P(21)=186488e^{0.0056(21)}=209761$$\n",
    "\n",
    "&nbsp; Portanto, a população estimada é de 209 761 habitantes\n",
    "\n",
    "<h2>2.4 &nbsp; Comparação de resultados</h2>\n",
    "\n",
    "&nbsp; Segundo o IBGE a população real (estimada) para 2021 é de 212 881 habitantes.\n",
    "<br>\n",
    "&nbsp; A diferença entre os resultados obtidos a partir do modelo de Malthus e do IBGE é de 3 120 habitantes. A tabela a seguir apresenta a discrepância entre os resultados do modelo de Malthus e IBGE para a população de Rio Grande em 2021\n",
    "\n",
    "<center> <b>Tabela 1: Discrepância obtida</b></center>\n",
    "\n",
    "| Malthus | IBGE | Erro | Erro(%) |\n",
    "| --- | --- | --- | --- |\n",
    "| 209 761 | 212 881 | 3 120 | 1.46 | \n",
    "\n",
    "<center>Fonte: O autor </center>\n",
    "\n",
    "<h1>3 &nbsp; Emprego das bibliotecas SymPy e NumPy</h1>\n",
    "<h2>3.1 &nbsp; Solução através do SymPy</h2>\n",
    "\n",
    "&nbsp; Importando a biblioteca SymPy."
   ]
  },
  {
   "cell_type": "code",
   "execution_count": 1,
   "id": "3072652b-2fa9-4d0a-8dc5-dea25fd923ff",
   "metadata": {},
   "outputs": [],
   "source": [
    "import sympy as sp"
   ]
  },
  {
   "cell_type": "markdown",
   "id": "21cfc28e-ba85-41be-8c30-6da36c70dafb",
   "metadata": {},
   "source": [
    "Utilizando o SymPy para declarar a função modelo e a variável simbólica."
   ]
  },
  {
   "cell_type": "code",
   "execution_count": 2,
   "id": "a1cc71c7-f59f-4a17-b24a-cdbf3e4b4917",
   "metadata": {},
   "outputs": [],
   "source": [
    "#Função\n",
    "P = sp.Function(\"P\")\n",
    "\n",
    "#Variável\n",
    "t = sp.Symbol(\"t\")"
   ]
  },
  {
   "cell_type": "markdown",
   "id": "3b661353-668f-4fc2-a289-b841bee7dc76",
   "metadata": {},
   "source": [
    "Construindo a EDO"
   ]
  },
  {
   "cell_type": "code",
   "execution_count": 3,
   "id": "8f437339-fbc2-4d0b-a077-e404b1bc0e84",
   "metadata": {},
   "outputs": [
    {
     "data": {
      "text/latex": [
       "$\\displaystyle \\frac{d}{d t} P{\\left(t \\right)} = 0.0056 P{\\left(t \\right)}$"
      ],
      "text/plain": [
       "Eq(Derivative(P(t), t), 0.0056*P(t))"
      ]
     },
     "execution_count": 3,
     "metadata": {},
     "output_type": "execute_result"
    }
   ],
   "source": [
    "eq_dif = sp.Eq(P(t).diff(t),0.0056*P(t))\n",
    "eq_dif"
   ]
  },
  {
   "cell_type": "markdown",
   "id": "61120eff-aca7-48d8-9dad-bb3c5b174c51",
   "metadata": {},
   "source": [
    "<h3>sympy.dsolve()</h3>"
   ]
  }
 ],
 "metadata": {
  "kernelspec": {
   "display_name": "Python 3 (ipykernel)",
   "language": "python",
   "name": "python3"
  },
  "language_info": {
   "codemirror_mode": {
    "name": "ipython",
    "version": 3
   },
   "file_extension": ".py",
   "mimetype": "text/x-python",
   "name": "python",
   "nbconvert_exporter": "python",
   "pygments_lexer": "ipython3",
   "version": "3.10.2"
  }
 },
 "nbformat": 4,
 "nbformat_minor": 5
}
