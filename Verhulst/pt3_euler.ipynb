{
 "cells": [
  {
   "cell_type": "markdown",
   "id": "9b9bd396-db11-49d6-8c51-c586374fd6c9",
   "metadata": {},
   "source": [
    "<h1>3 &nbsp; Métodos numéricos - Euler, Euler modificado e RK4 </h1>\n",
    "<h2>3.1 &nbsp; O método de Euler</h2>\n",
    "&nbsp; Importando as bibliotecas NumPy e Matplotlib ao arquivo <b>atual</b>:"
   ]
  },
  {
   "cell_type": "code",
   "execution_count": 1,
   "id": "9b28faa1-7087-4504-8b28-56f4b89898e4",
   "metadata": {},
   "outputs": [],
   "source": [
    "import numpy as np\n",
    "import matplotlib.pyplot as plt"
   ]
  },
  {
   "cell_type": "markdown",
   "id": "bbd20782-982f-495e-b4c5-da28be367473",
   "metadata": {},
   "source": [
    "&nbsp; Carregando o diretório <b>python/</b> que contém as funções escritas ao longo dos tópicos:"
   ]
  },
  {
   "cell_type": "code",
   "execution_count": 2,
   "id": "0324ec01-58df-4ff1-8926-fb9b11f26eb8",
   "metadata": {},
   "outputs": [],
   "source": [
    "import sys\n",
    "sys.path.insert(0, '../python')"
   ]
  },
  {
   "cell_type": "markdown",
   "id": "cdc9cbbc-2245-462e-832a-83a9586491d8",
   "metadata": {},
   "source": [
    "Escrevendo arquivo contendo a função <b>f(&LT;população>)</b> contendo o modelo matemático do fenômeno"
   ]
  },
  {
   "cell_type": "code",
   "execution_count": 3,
   "id": "e7809a39-8c57-4005-b15b-68cb061e9f01",
   "metadata": {},
   "outputs": [
    {
     "name": "stdout",
     "output_type": "stream",
     "text": [
      "Writing ../python/f_verhulst.py\n"
     ]
    }
   ],
   "source": [
    "%%writefile ../python/f_verhulst.py\n",
    "def f(P):\n",
    "    L = 300000\n",
    "    k = 0.01553891418938226\n",
    "    return  (k*(1-P/L))*P"
   ]
  },
  {
   "cell_type": "markdown",
   "id": "321f3a9e-37bf-4320-bc87-f5b687dab63b",
   "metadata": {},
   "source": [
    "Importando a função <b>sol_euler</b>"
   ]
  },
  {
   "cell_type": "code",
   "execution_count": 5,
   "id": "cbf6164c-588e-47a8-a14a-a4914e2fc68e",
   "metadata": {},
   "outputs": [],
   "source": [
    "from sol_euler import sol_euler"
   ]
  },
  {
   "cell_type": "markdown",
   "id": "d9dd47bd-ce20-4259-a12c-0ad576ae5174",
   "metadata": {},
   "source": [
    "&nbsp; Uma vez definido o método de Euler, basta declarar o passo de derivação <b>h</b>, a condição inicial <b>T0</b>, o tempo inicial <b>ti</b>, o tempo final <b>tf</b> e o intervalo de tempo <b>vt</b>:"
   ]
  },
  {
   "cell_type": "code",
   "execution_count": 6,
   "id": "94989e8c-e5a0-48a2-8c8b-b6542d323a80",
   "metadata": {},
   "outputs": [],
   "source": [
    "#Passo de derivação\n",
    "h = 0.001\n",
    "\n",
    "#Condição inicial\n",
    "P0 = 186488\n",
    "\n",
    "#tempo inicial\n",
    "ti = 0\n",
    "\n",
    "#tempo final\n",
    "tf = 21\n",
    "\n",
    "#Intervalo de 10 à 21 anos com passo h\n",
    "vt = np.arange(ti,tf,h)"
   ]
  },
  {
   "cell_type": "markdown",
   "id": "e70cda57-541c-41b6-81d9-e29238dc5792",
   "metadata": {},
   "source": [
    "&nbsp; Atribuindo as variáveis aos parâmetros de <b>sol_euler</b>:"
   ]
  },
  {
   "cell_type": "code",
   "execution_count": 7,
   "id": "93333c7a-f32d-4d63-929f-98fe0625b182",
   "metadata": {},
   "outputs": [
    {
     "name": "stdout",
     "output_type": "stream",
     "text": [
      "[186488.         186489.0443328  186490.08867145 ... 209757.00980926\n",
      " 209758.18444852 209759.35909435]\n",
      "O vetor de temperaturas tem 21000 elementos\n"
     ]
    }
   ],
   "source": [
    "P = sol_euler(vt,P0)\n",
    "print(P)\n",
    "print('O vetor de temperaturas tem {} elementos'.format(P.shape[0]))"
   ]
  },
  {
   "cell_type": "markdown",
   "id": "df9a1ac1-5d37-4892-8964-dfab0618b2aa",
   "metadata": {},
   "source": [
    "Exibindo o gráfico <b>vt</b> $\\times$ <b>P</b>:"
   ]
  },
  {
   "cell_type": "code",
   "execution_count": 8,
   "id": "6d5658de-acf5-46a5-9ddc-825d6525bec6",
   "metadata": {},
   "outputs": [
    {
     "data": {
      "image/png": "[encoded data removed]",
      "text/plain": [
       "<Figure size 432x288 with 1 Axes>"
      ]
     },
     "metadata": {
      "needs_background": "light"
     },
     "output_type": "display_data"
    }
   ],
   "source": [
    "plt.plot(vt,P,'b',label='Euler')\n",
    "plt.title(\"Simulação populacional de Rio Grande\")\n",
    "plt.xlabel(\"Anos (Ano+2*10^3)\")\n",
    "plt.ylabel(\"Número de habitantes\")\n",
    "plt.show()"
   ]
  }
 ],
 "metadata": {
  "kernelspec": {
   "display_name": "Python 3 (ipykernel)",
   "language": "python",
   "name": "python3"
  },
  "language_info": {
   "codemirror_mode": {
    "name": "ipython",
    "version": 3
   },
   "file_extension": ".py",
   "mimetype": "text/x-python",
   "name": "python",
   "nbconvert_exporter": "python",
   "pygments_lexer": "ipython3",
   "version": "3.10.2"
  }
 },
 "nbformat": 4,
 "nbformat_minor": 5
}
