{
 "cells": [
  {
   "cell_type": "markdown",
   "id": "6d7f4ffb-6161-4c37-837c-5da18db8c113",
   "metadata": {},
   "source": [
    "<h1>6  &nbsp;Estudo comparativo - Soluções numéricas e analítica</h1>\n",
    "\n",
    "<h2>6.1 &nbsp; Erro absoluto e percentual</h2>\n",
    "\n",
    "&nbsp; Esta seção tem como objetivo comparar a solução analítica e a aproximação numérica com a população estimada para 2021 pelo IBGE.\n",
    "\n",
    "&nbsp; Os resultados obtidos pela solução analítica, pelo método de Euler, Euler modificado e RK4:\n",
    "\n",
    "<center><b>Aproximação populacional para Rio Grande por método</b></center>\n",
    "\n",
    "| Método | Número de habitantes |\n",
    "| --- | --- |\n",
    "| LSODA | 208447.55940518 |\n",
    "| Euler | 208446.62006659 |\n",
    "| Euler modificado | 208446.56882837 |\n",
    "|RK4 |208446.56882864 |\n",
    "|RK45|  208447.55725928|\n",
    "\n",
    "<center>Fonte: O autor</center>"
   ]
  },
  {
   "cell_type": "markdown",
   "id": "1309097f-f8cd-485e-8285-1d53a47f498f",
   "metadata": {},
   "source": [
    "&nbsp; Importando bibliotecas:"
   ]
  },
  {
   "cell_type": "code",
   "execution_count": 1,
   "id": "626a6aed-530a-4747-b5f9-575da589be33",
   "metadata": {},
   "outputs": [],
   "source": [
    "import numpy as np\n",
    "import matplotlib.pyplot as plt"
   ]
  },
  {
   "cell_type": "markdown",
   "id": "664cd12c-2529-40d1-a330-b35128200c27",
   "metadata": {},
   "source": [
    "&nbsp; Declarando o nome dos métodos, aproximações e a população estimada pelo IBGE"
   ]
  },
  {
   "cell_type": "code",
   "execution_count": 2,
   "id": "df30923a-edd8-414f-aab1-68466f1c6b96",
   "metadata": {},
   "outputs": [],
   "source": [
    "metodos = ['Analítico','LSODA','Euler','Euler modificado','RK4','RK45']\n",
    "\n",
    "solucoes = [208447.5573077047,\n",
    "            208447.55940518,\n",
    "            208446.62006659,\n",
    "            208446.56882837,\n",
    "            208446.56882864, \n",
    "            208447.55725928]\n",
    "\n",
    "index = [0,1,2,3,4]\n",
    "\n",
    "solucao_IBGE = 212881\n",
    "\n",
    "dados = [[0, 0, 0]]"
   ]
  },
  {
   "cell_type": "markdown",
   "id": "f3222167-3e1f-4e9d-a01a-de5446ce919c",
   "metadata": {},
   "source": [
    "&nbsp; A seguir, obtemos o erro das soluções obtidas com relação a população fornecida pelo IBGE."
   ]
  },
  {
   "cell_type": "code",
   "execution_count": 3,
   "id": "5d5ee2bf-9b7e-4613-bbdf-dce9a40fbc2e",
   "metadata": {},
   "outputs": [],
   "source": [
    "for i in index:\n",
    "    erro_hab = solucao_IBGE - solucoes[i]\n",
    "    erro_perc = (erro_hab/solucao_IBGE)*100\n",
    "    #Adicionando linhas à matriz (tabela)\n",
    "    dados = np.vstack([dados,[metodos[i],round(erro_hab),str(round(erro_perc,2))+'%']])\n",
    "   "
   ]
  },
  {
   "cell_type": "markdown",
   "id": "634247d5-90b1-4250-9fcf-5e8c94845f73",
   "metadata": {},
   "source": [
    "Finalmente, exibimos os dados armazenados:"
   ]
  },
  {
   "cell_type": "code",
   "execution_count": 4,
   "id": "16f242c4-314b-4113-aa40-05a1142cbf6e",
   "metadata": {},
   "outputs": [
    {
     "data": {
      "image/png": "[encoded data removed]",
      "text/plain": [
       "<Figure size 432x288 with 1 Axes>"
      ]
     },
     "metadata": {
      "needs_background": "light"
     },
     "output_type": "display_data"
    }
   ],
   "source": [
    "#remove a primeira linha da matriz\n",
    "dados = np.delete(dados, 0, 0)\n",
    "\n",
    "#Exibindo tabela\n",
    "fig, ax =plt.subplots(1,1)\n",
    "column_labels=['Método', 'Erro absoluto', 'Erro percentual']\n",
    "ax.axis('tight')\n",
    "ax.axis('off')\n",
    "ax.table(cellText=dados,colLabels=column_labels,loc='center')\n",
    "\n",
    "plt.show()"
   ]
  },
  {
   "cell_type": "markdown",
   "id": "5f5f723e-d1dd-44f6-b5f7-6eb382cb0c98",
   "metadata": {},
   "source": [
    "<h2>6.2  &nbsp; O maior passo de derivação para produzir uma aproximação aceitável</h2>\n",
    "\n",
    "&nbsp; Vimos que a solução analítica possui uma aproximação aceitável, com erro de 1.47% em relação ao IBGE. &nbsp; Neste tópico, vamos verificar se é possível reduzir o passo de derivação de modo a diminuir o erro dos métodos numéricos estudados neste repositório.\n",
    "<br><br>\n",
    "Adicionando o diretório que contém os arquivos python:"
   ]
  },
  {
   "cell_type": "code",
   "execution_count": 5,
   "id": "6c8ac3c3-e75f-42df-9009-7af59f8bb441",
   "metadata": {},
   "outputs": [],
   "source": [
    "import sys \n",
    "sys.path.insert(0, '../python')"
   ]
  },
  {
   "cell_type": "markdown",
   "id": "2f461159-43eb-43dc-9a98-139aa822ad87",
   "metadata": {},
   "source": [
    "&nbsp; Importanto o módulo <i>menor_passo</i> em <i><b>Modelos-Populacionais/python/</b></i> "
   ]
  },
  {
   "cell_type": "code",
   "execution_count": 6,
   "id": "e403c333-ce56-44c1-88c3-cf2123565f81",
   "metadata": {},
   "outputs": [],
   "source": [
    "from menor_passo import menor_passo"
   ]
  },
  {
   "cell_type": "markdown",
   "id": "60292cfc-4c67-4924-a206-65143eaab1f9",
   "metadata": {},
   "source": [
    "<h3>Método de Euler</h3>\n",
    "\n",
    "&nbsp; Declarando variáveis:\n"
   ]
  },
  {
   "cell_type": "code",
   "execution_count": 7,
   "id": "6a831f7d-fdd4-4d18-ba2a-95d027162c43",
   "metadata": {},
   "outputs": [],
   "source": [
    "#Condição inicial\n",
    "P0 = 186488\n",
    "\n",
    "#tempo inicial\n",
    "ti = 0\n",
    "\n",
    "#tempo final\n",
    "tf = 21\n",
    "\n",
    "#passo inicial\n",
    "h = 0.001\n",
    "\n",
    "#decrescimo\n",
    "decrescimo = 0.0001 #adicionar mais um zero à esquerda faz o código demorar\n",
    "\n",
    "#inicio de tabela de dados\n",
    "dados = [[0, 0, 0, 0]]"
   ]
  },
  {
   "cell_type": "markdown",
   "id": "104a80d2-bcd2-428e-a97e-00a91b9ca579",
   "metadata": {},
   "source": [
    "&nbsp; Contruindo algoritmo para minimizar o erro através da redução do passo de derivação."
   ]
  },
  {
   "cell_type": "code",
   "execution_count": 8,
   "id": "38dd28fa-a0cf-4785-b0f8-4e846545197b",
   "metadata": {},
   "outputs": [
    {
     "name": "stdout",
     "output_type": "stream",
     "text": [
      "- Iteração. Passo atual (h):  0.0009\n",
      "- Iteração. Passo atual (h):  0.0007999999999999999\n",
      "- Iteração. Passo atual (h):  0.0006999999999999999\n",
      "- Iteração. Passo atual (h):  0.0005999999999999998\n",
      "- Iteração. Passo atual (h):  0.0004999999999999998\n",
      "- Iteração. Passo atual (h):  0.0003999999999999998\n",
      "- Iteração. Passo atual (h):  0.0002999999999999998\n",
      "- Iteração. Passo atual (h):  0.00019999999999999982\n",
      "- Iteração. Passo atual (h):  9.999999999999982e-05\n",
      "- Iteração. Passo atual (h):  -1.8973538018496328e-19\n",
      "passo negativo: -1.8973538018496328e-19\n",
      "Erro absoluto (hab):  4433.437568228022\n",
      "Erro absoluto arredondado (hab):  4433.0\n",
      "Erro percentual arredondado 2.08%\n",
      "Erro percentual 2.08258960086998%\n",
      "Passo atual:  9.999999999999982e-05\n",
      "CPU times: total: 1min 11s\n",
      "Wall time: 1min 13s\n"
     ]
    }
   ],
   "source": [
    "%%time\n",
    "\n",
    "dados = menor_passo(ti,tf,h,decrescimo,P0,solucao_IBGE,dados,'Euler','verhulst')"
   ]
  },
  {
   "cell_type": "markdown",
   "id": "01e2f209-2197-43e5-b9cb-35685ce02cf7",
   "metadata": {},
   "source": [
    "<h3>Método de Euler modificado</h3>"
   ]
  },
  {
   "cell_type": "code",
   "execution_count": 9,
   "id": "3b7bb9d3-278c-4091-b1b1-9ae8d723e29a",
   "metadata": {},
   "outputs": [
    {
     "name": "stdout",
     "output_type": "stream",
     "text": [
      "- Iteração. Passo atual (h):  0.0009\n",
      "- Iteração. Passo atual (h):  0.0007999999999999999\n",
      "- Iteração. Passo atual (h):  0.0006999999999999999\n",
      "- Iteração. Passo atual (h):  0.0005999999999999998\n",
      "- Iteração. Passo atual (h):  0.0004999999999999998\n",
      "- Iteração. Passo atual (h):  0.0003999999999999998\n",
      "- Iteração. Passo atual (h):  0.0002999999999999998\n",
      "- Iteração. Passo atual (h):  0.00019999999999999982\n",
      "- Iteração. Passo atual (h):  9.999999999999982e-05\n",
      "- Iteração. Passo atual (h):  -1.8973538018496328e-19\n",
      "passo negativo: -1.8973538018496328e-19\n",
      "Erro absoluto (hab):  4433.442692292912\n",
      "Erro absoluto arredondado (hab):  4433.0\n",
      "Erro percentual arredondado 2.08%\n",
      "Erro percentual 2.0825920078790086%\n",
      "Passo atual:  9.999999999999982e-05\n",
      "CPU times: total: 1min 9s\n",
      "Wall time: 1min 10s\n"
     ]
    }
   ],
   "source": [
    "%%time\n",
    "\n",
    "dados = menor_passo(ti,tf,h,decrescimo,P0,solucao_IBGE,dados,'Euler Modificado','verhulst')"
   ]
  },
  {
   "cell_type": "markdown",
   "id": "a89cf601-1b7c-4d40-b50a-f50e0265b6d8",
   "metadata": {},
   "source": [
    "<h3>Método de Runge-Kutta de 4º ordem</h3>"
   ]
  },
  {
   "cell_type": "code",
   "execution_count": 10,
   "id": "8c7e127b-5134-45e2-87ba-50e44b000991",
   "metadata": {},
   "outputs": [
    {
     "name": "stdout",
     "output_type": "stream",
     "text": [
      "- Iteração. Passo atual (h):  0.0009\n",
      "- Iteração. Passo atual (h):  0.0007999999999999999\n",
      "- Iteração. Passo atual (h):  0.0006999999999999999\n",
      "- Iteração. Passo atual (h):  0.0005999999999999998\n",
      "- Iteração. Passo atual (h):  0.0004999999999999998\n",
      "- Iteração. Passo atual (h):  0.0003999999999999998\n",
      "- Iteração. Passo atual (h):  0.0002999999999999998\n",
      "- Iteração. Passo atual (h):  0.00019999999999999982\n",
      "- Iteração. Passo atual (h):  9.999999999999982e-05\n",
      "- Iteração. Passo atual (h):  -1.8973538018496328e-19\n",
      "passo negativo: -1.8973538018496328e-19\n",
      "Erro absoluto (hab):  4433.442692290177\n",
      "Erro absoluto arredondado (hab):  4433.0\n",
      "Erro percentual arredondado 2.08%\n",
      "Erro percentual 2.082592007877724%\n",
      "Passo atual:  9.999999999999982e-05\n",
      "CPU times: total: 1min 10s\n",
      "Wall time: 1min 10s\n"
     ]
    }
   ],
   "source": [
    "%%time\n",
    "\n",
    "dados = menor_passo(ti,tf,h,decrescimo,P0,solucao_IBGE,dados,'RK4','verhulst')"
   ]
  },
  {
   "cell_type": "markdown",
   "id": "e6ad4d3e-ed6b-484a-97e1-81cf880b9297",
   "metadata": {},
   "source": [
    "<h3>Método LSODA</h3>"
   ]
  },
  {
   "cell_type": "code",
   "execution_count": 11,
   "id": "e4a5895a-b8ff-49da-a397-f8ee008c6202",
   "metadata": {},
   "outputs": [
    {
     "name": "stdout",
     "output_type": "stream",
     "text": [
      "- Iteração. Passo atual (h):  0.0009\n",
      "- Iteração. Passo atual (h):  0.0007999999999999999\n",
      "- Iteração. Passo atual (h):  0.0006999999999999999\n",
      "- Iteração. Passo atual (h):  0.0005999999999999998\n",
      "- Iteração. Passo atual (h):  0.0004999999999999998\n",
      "- Iteração. Passo atual (h):  0.0003999999999999998\n",
      "- Iteração. Passo atual (h):  0.0002999999999999998\n",
      "- Iteração. Passo atual (h):  0.00019999999999999982\n",
      "- Iteração. Passo atual (h):  9.999999999999982e-05\n",
      "- Iteração. Passo atual (h):  -1.8973538018496328e-19\n",
      "passo negativo: -1.8973538018496328e-19\n",
      "Erro absoluto (hab):  4433.443672377733\n",
      "Erro absoluto arredondado (hab):  4433.0\n",
      "Erro percentual arredondado 2.08%\n",
      "Erro percentual 2.0825924682699406%\n",
      "Passo atual:  9.999999999999982e-05\n",
      "CPU times: total: 62.5 ms\n",
      "Wall time: 68 ms\n"
     ]
    }
   ],
   "source": [
    "%%time\n",
    "\n",
    "dados = menor_passo(ti,tf,h,decrescimo,P0,solucao_IBGE,dados,'LSODA','verhulst')"
   ]
  },
  {
   "cell_type": "markdown",
   "id": "1eb73eb9-7693-4d13-a97c-f95338ebbef6",
   "metadata": {},
   "source": [
    "<h3> Método RK45 </h3>"
   ]
  },
  {
   "cell_type": "code",
   "execution_count": 12,
   "id": "58a6fa50-93f1-451b-8f7b-a1283d5c5f3e",
   "metadata": {},
   "outputs": [
    {
     "name": "stdout",
     "output_type": "stream",
     "text": [
      "- Iteração. Passo atual (h):  0.0009\n",
      "- Iteração. Passo atual (h):  0.0007999999999999999\n",
      "- Iteração. Passo atual (h):  0.0006999999999999999\n",
      "- Iteração. Passo atual (h):  0.0005999999999999998\n",
      "- Iteração. Passo atual (h):  0.0004999999999999998\n",
      "- Iteração. Passo atual (h):  0.0003999999999999998\n",
      "- Iteração. Passo atual (h):  0.0002999999999999998\n",
      "- Iteração. Passo atual (h):  0.00019999999999999982\n",
      "- Iteração. Passo atual (h):  9.999999999999982e-05\n",
      "- Iteração. Passo atual (h):  -1.8973538018496328e-19\n",
      "passo negativo: -1.8973538018496328e-19\n",
      "Erro absoluto (hab):  4433.442740722006\n",
      "Erro absoluto arredondado (hab):  4433.0\n",
      "Erro percentual arredondado 2.08%\n",
      "Erro percentual 2.082592030628382%\n",
      "Passo atual:  9.999999999999982e-05\n",
      "CPU times: total: 125 ms\n",
      "Wall time: 130 ms\n"
     ]
    }
   ],
   "source": [
    "%%time\n",
    "\n",
    "dados = menor_passo(ti,tf,h,decrescimo,P0,solucao_IBGE,dados,'RK45','verhulst')"
   ]
  },
  {
   "cell_type": "markdown",
   "id": "b7c649cc-1d80-446f-96ed-24059ec23e10",
   "metadata": {},
   "source": [
    "<h3>Resultados</h3>\n",
    "&nbsp; Exibindo os dados obtidos pelas células anteriores:"
   ]
  },
  {
   "cell_type": "code",
   "execution_count": 13,
   "id": "9b733034-3166-455f-b672-d0aef897a21b",
   "metadata": {},
   "outputs": [
    {
     "name": "stdout",
     "output_type": "stream",
     "text": [
      "[['Euler' '9.999999999999982e-05' '4433' '2.08%']\n",
      " ['Euler Modificado' '9.999999999999982e-05' '4433' '2.08%']\n",
      " ['RK4' '9.999999999999982e-05' '4433' '2.08%']\n",
      " ['LSODA' '9.999999999999982e-05' '4433' '2.08%']\n",
      " ['RK45' '9.999999999999982e-05' '4433' '2.08%']]\n"
     ]
    },
    {
     "data": {
      "image/png": "[encoded data removed]",
      "text/plain": [
       "<Figure size 432x288 with 1 Axes>"
      ]
     },
     "metadata": {
      "needs_background": "light"
     },
     "output_type": "display_data"
    }
   ],
   "source": [
    "#remove a primeira linha da matriz\n",
    "dados = np.delete(dados, 0, 0)\n",
    "\n",
    "#Exibindo tabela\n",
    "fig, ax =plt.subplots(1,1)\n",
    "column_labels=['Método', 'Passo','Erro (hab)', 'Erro percentual']\n",
    "ax.axis('tight')\n",
    "ax.axis('off')\n",
    "ax.table(cellText=dados,colLabels=column_labels,loc='center')\n",
    "print(dados)\n",
    "plt.show()"
   ]
  },
  {
   "cell_type": "markdown",
   "id": "7c333f91-02ff-41d9-8021-7d8c56bc574d",
   "metadata": {},
   "source": [
    "&nbsp; Observa-se que a medida que diminuimos o passo de derivação as aproximações obtidas através dos métodos de Euler, Euler modificado e Runge-Kutta de 4º ordem e LSODA permanecem próximas do passo inicial (0.001). &nbsp; Já o método Runge-Kutta 45 obteve um erro de 1.47% em relação à estimativa do IBGE. &nbsp; Cabe salientar que o método RK45 obteve o mesmo erro pencentual pertencente a solução analítica."
   ]
  }
 ],
 "metadata": {
  "kernelspec": {
   "display_name": "Python 3 (ipykernel)",
   "language": "python",
   "name": "python3"
  },
  "language_info": {
   "codemirror_mode": {
    "name": "ipython",
    "version": 3
   },
   "file_extension": ".py",
   "mimetype": "text/x-python",
   "name": "python",
   "nbconvert_exporter": "python",
   "pygments_lexer": "ipython3",
   "version": "3.10.2"
  }
 },
 "nbformat": 4,
 "nbformat_minor": 5
}
