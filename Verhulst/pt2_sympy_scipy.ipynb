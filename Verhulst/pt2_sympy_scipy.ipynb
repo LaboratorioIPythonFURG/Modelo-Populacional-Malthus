{
 "cells": [
  {
   "cell_type": "markdown",
   "id": "e0e27714-37da-4536-9cd8-511094f4128e",
   "metadata": {},
   "source": [
    "<h1>2 &nbsp; Solução analítica</h1>\n",
    "\n",
    "<h2>2.1 &nbsp; Solução da equação diferencial</h2>\n",
    "\n",
    "&nbsp; O modelo populacional de Verhulst é dado por:\n",
    "\n",
    "$$\\frac{dP}{dt}=\\left [  κ\\left ( 1- \\frac{P}{L} \\ \\right ) \\right ]P$$\n",
    "\n",
    "&nbsp; Onde <b>P</b> é o número de habitantes, <b>L</b> é um limite estipulado em decorrência da competitividade, e <b>κ</b> a constante de crescimento de uma população em determinada época.\n",
    "\n",
    "&nbsp; Podemos escrever o problema enunciado na <b>Seção 1</b> como um problema de contorno:\n",
    "\n",
    "$$\\begin{cases} \\frac{dP}{dt}= \\left [  κ\\left ( 1- \\frac{P}{L} \\ \\right ) \\right ]P  \\\\ P(0)= 186 \\: 488 \\\\ P(10)= 197 \\: 228 \\end{cases}$$\n",
    "\n",
    "&nbsp; A solução analítica do modelo de Verhulst é dada por:\n",
    "\n",
    "$$P(t)=\\frac{L P_{0}e^{κt}}{L+P_{0}(e^{κt}-1)}$$\n",
    "\n",
    "<h2>2.2 &nbsp; Solução do problema de contorno:</h2>\n",
    "\n",
    "&nbsp; Para o modelo de Verhuslt devemos estudar um limite <b>L</b>, isto é, estipular o número de habitantes de Rio Grande após um determinado período. Vamos considerar <b>L = 300 000</b>\n",
    "\n",
    " &nbsp; Em $t=10$ temos $N=197 \\: 228$:\n",
    " \n",
    " $$P(10)=\\frac{300 \\: 000 * 186 \\: 488*e^{κ(10)}}{300 \\: 000+186 \\: 488(e^{κ(10)}-1)} = 197 \\: 228 \\Rightarrow κ = ln\\left ( \\frac{699617023^{1/10}}{598929523^{1/10}} \\right ) $$"
   ]
  },
  {
   "cell_type": "code",
   "execution_count": 1,
   "id": "384df344-88bd-4276-9449-a153fa764ce8",
   "metadata": {},
   "outputs": [
    {
     "name": "stdout",
     "output_type": "stream",
     "text": [
      "k = 0.01553891418938226\n"
     ]
    }
   ],
   "source": [
    "import math\n",
    "k = math.log(699617023**(1/10)/598929523**(1/10))\n",
    "print('k =',k)"
   ]
  },
  {
   "cell_type": "markdown",
   "id": "ac0f44be-7d4e-4d20-a837-bcfaca2c84e1",
   "metadata": {},
   "source": [
    "&nbsp; Logo, a solução geral do problema:<br>\n",
    "\n",
    " $$P(t)=\\frac{300 \\: 000 * 186 \\: 488*e^{κ(t)}}{300 \\: 000+186 \\: 488(e^{κ(t)}-1)}, \\: κ = 0.01553891418938226$$\n",
    " \n",
    "&nbsp; Por fim, a simulação para 2021:\n",
    "\n",
    "$$P(21)=\\frac{300 \\: 000 * 186 \\: 488*e^{0.01553891418938226(21)}}{300 \\: 000+186 \\: 488(e^{0.01553891418938226(21)}-1)} = 208447.5573077047$$"
   ]
  },
  {
   "cell_type": "markdown",
   "id": "7b404e10-390b-4d0b-926b-a4413205c19d",
   "metadata": {},
   "source": [
    "<h1>3 &nbsp; Emprego das bibliotecas SymPy e NumPy</h1>\n",
    "<h2>3.1 &nbsp; Solução através do SymPy</h2>\n",
    "\n",
    "&nbsp; Importando a biblioteca SymPy."
   ]
  },
  {
   "cell_type": "code",
   "execution_count": 2,
   "id": "42cfb812-384b-4d73-adaf-02db38873fe9",
   "metadata": {},
   "outputs": [],
   "source": [
    "import sympy as sp"
   ]
  },
  {
   "cell_type": "markdown",
   "id": "0aa1cff6-984e-473c-b580-87324776fb17",
   "metadata": {},
   "source": [
    "&nbsp; Utilizando o SymPy para declarar a função modelo e a variável simbólica."
   ]
  },
  {
   "cell_type": "code",
   "execution_count": 3,
   "id": "a63747a5-0fb6-49d0-a13c-79ccea50bc0c",
   "metadata": {},
   "outputs": [],
   "source": [
    "#Função\n",
    "P = sp.Function(\"P\")\n",
    "\n",
    "#Variável\n",
    "t = sp.Symbol(\"t\")\n",
    "\n",
    "#Limite populacional\n",
    "L = 300000"
   ]
  },
  {
   "cell_type": "markdown",
   "id": "e6cd424a-fae6-4c4f-993d-e95eb0e225eb",
   "metadata": {},
   "source": [
    "&nbsp; Construindo a EDO"
   ]
  },
  {
   "cell_type": "code",
   "execution_count": 4,
   "id": "08fbd6b9-f703-4624-bccd-2064ab1ee6bf",
   "metadata": {},
   "outputs": [
    {
     "data": {
      "text/latex": [
       "$\\displaystyle \\frac{d}{d t} P{\\left(t \\right)} = \\left(0.0155389141893823 - 5.17963806312742 \\cdot 10^{-8} P{\\left(t \\right)}\\right) P{\\left(t \\right)}$"
      ],
      "text/plain": [
       "Eq(Derivative(P(t), t), (0.0155389141893823 - 5.17963806312742e-8*P(t))*P(t))"
      ]
     },
     "execution_count": 4,
     "metadata": {},
     "output_type": "execute_result"
    }
   ],
   "source": [
    "eq_dif = sp.Eq(P(t).diff(t),  (k*(1-P(t)/L))*P(t) )\n",
    "eq_dif"
   ]
  },
  {
   "cell_type": "markdown",
   "id": "81f1e407-94b2-46ec-834d-d6f1e13fc11f",
   "metadata": {},
   "source": [
    "<h3>sympy.dsolve()</h3>"
   ]
  },
  {
   "cell_type": "code",
   "execution_count": 5,
   "id": "2b160859-1fc0-47c3-b1cc-223e89a5fd2d",
   "metadata": {},
   "outputs": [],
   "source": [
    "#Obtendo solução particular\n",
    "#sg = sp.dsolve(eq_dif,ics={P(10):186488})\n",
    "#sg"
   ]
  },
  {
   "cell_type": "markdown",
   "id": "a5d833ee-9151-436b-9c97-3b749b90a289",
   "metadata": {},
   "source": [
    "&nbsp; A função sympy.dsolve não resolve a equação diferencial."
   ]
  },
  {
   "cell_type": "markdown",
   "id": "2abcddaa-48a4-43a1-a559-b1a50bef12a5",
   "metadata": {},
   "source": [
    "<h2>3.2 &nbsp; Solução através do SciPy</h2>\n",
    "\n",
    "&nbsp; Importando as bibliotecas Numpy e SciPy:"
   ]
  },
  {
   "cell_type": "code",
   "execution_count": 6,
   "id": "a74ea239-959e-4446-81dd-a9c92ea0cae5",
   "metadata": {},
   "outputs": [],
   "source": [
    "import numpy as np\n",
    "import scipy.integrate as sciInt"
   ]
  },
  {
   "cell_type": "markdown",
   "id": "88ed8360-c17a-4484-b200-bc47ed7c49a0",
   "metadata": {},
   "source": [
    "Escrevendo arquivo contendo a função <i><b>modelo_verhulst(\t&lt;população>,\t&lt;tempo>)</b></i> contendo o modelo matemático do fenômeno:"
   ]
  },
  {
   "cell_type": "code",
   "execution_count": 7,
   "id": "776a8597-4c64-4e4b-83b8-3a6850584212",
   "metadata": {},
   "outputs": [
    {
     "name": "stdout",
     "output_type": "stream",
     "text": [
      "Overwriting ../python/modelo_verhulst.py\n"
     ]
    }
   ],
   "source": [
    "%%writefile ../python/modelo_verhulst.py\n",
    "#Definindo o modelo populacional\n",
    "def modelo(t,P):\n",
    "    L = 300000\n",
    "    k = 0.01553891418938226\n",
    "    return  (k*(1-P/L))*P"
   ]
  },
  {
   "cell_type": "markdown",
   "id": "dea780fe-5a26-44a0-ba46-0509fa1c66da",
   "metadata": {},
   "source": [
    "Criando o vetor tempo de 0 à 21"
   ]
  },
  {
   "cell_type": "code",
   "execution_count": 8,
   "id": "f2ec2e4f-6035-4950-a9bd-a7b915cefd06",
   "metadata": {},
   "outputs": [
    {
     "data": {
      "text/plain": [
       "array([ 0.        ,  0.42857143,  0.85714286,  1.28571429,  1.71428571,\n",
       "        2.14285714,  2.57142857,  3.        ,  3.42857143,  3.85714286,\n",
       "        4.28571429,  4.71428571,  5.14285714,  5.57142857,  6.        ,\n",
       "        6.42857143,  6.85714286,  7.28571429,  7.71428571,  8.14285714,\n",
       "        8.57142857,  9.        ,  9.42857143,  9.85714286, 10.28571429,\n",
       "       10.71428571, 11.14285714, 11.57142857, 12.        , 12.42857143,\n",
       "       12.85714286, 13.28571429, 13.71428571, 14.14285714, 14.57142857,\n",
       "       15.        , 15.42857143, 15.85714286, 16.28571429, 16.71428571,\n",
       "       17.14285714, 17.57142857, 18.        , 18.42857143, 18.85714286,\n",
       "       19.28571429, 19.71428571, 20.14285714, 20.57142857, 21.        ])"
      ]
     },
     "execution_count": 8,
     "metadata": {},
     "output_type": "execute_result"
    }
   ],
   "source": [
    "t = np.linspace(0,21)\n",
    "t"
   ]
  },
  {
   "cell_type": "markdown",
   "id": "81b557dd-729e-4a48-8d3d-fc976cf03c60",
   "metadata": {},
   "source": [
    "Carregando o diretório <b>python/</b> que contém as funções escritas ao longo dos tópico e importando o <b>modelo</b>:"
   ]
  },
  {
   "cell_type": "code",
   "execution_count": 9,
   "id": "b6746084-c0d0-40b7-b15f-21dc853375b1",
   "metadata": {},
   "outputs": [],
   "source": [
    "import sys\n",
    "sys.path.insert(0,'../python')\n",
    "from modelo_verhulst import modelo"
   ]
  },
  {
   "cell_type": "markdown",
   "id": "9db04ceb-9ca3-4874-80e0-2e2bcd563759",
   "metadata": {},
   "source": [
    "<h3>scipy.integrate.odeint()</h3>\n",
    "Método: LSODA"
   ]
  },
  {
   "cell_type": "code",
   "execution_count": 10,
   "id": "799a09af-dd58-4122-86f3-88770068e72e",
   "metadata": {},
   "outputs": [
    {
     "name": "stdout",
     "output_type": "stream",
     "text": [
      "[[186488.        ]\n",
      " [186957.52767275]\n",
      " [187426.28563095]\n",
      " [187894.26543432]\n",
      " [188361.45961484]\n",
      " [188827.86037933]\n",
      " [189293.45786442]\n",
      " [189758.2424712 ]\n",
      " [190222.20698082]\n",
      " [190685.34377043]\n",
      " [191147.64469267]\n",
      " [191609.10181203]\n",
      " [192069.70735085]\n",
      " [192529.45338078]\n",
      " [192988.33220964]\n",
      " [193446.33589253]\n",
      " [193903.45712762]\n",
      " [194359.68814558]\n",
      " [194815.02153006]\n",
      " [195269.44988126]\n",
      " [195722.96581229]\n",
      " [196175.56202651]\n",
      " [196627.23131756]\n",
      " [197077.96656936]\n",
      " [197527.76072958]\n",
      " [197976.60672744]\n",
      " [198424.49763828]\n",
      " [198871.42662861]\n",
      " [199317.38694631]\n",
      " [199762.37192059]\n",
      " [200206.37496204]\n",
      " [200649.38949677]\n",
      " [201091.40896512]\n",
      " [201532.42694625]\n",
      " [201972.43709189]\n",
      " [202411.43312589]\n",
      " [202849.40884419]\n",
      " [203286.3581154 ]\n",
      " [203722.2748979 ]\n",
      " [204157.15322102]\n",
      " [204590.9871817 ]\n",
      " [205023.7709505 ]\n",
      " [205455.49877157]\n",
      " [205886.16496265]\n",
      " [206315.7639174 ]\n",
      " [206744.29011574]\n",
      " [207171.73810549]\n",
      " [207598.10250754]\n",
      " [208023.3780174 ]\n",
      " [208447.55940518]]\n"
     ]
    }
   ],
   "source": [
    "sol1 = sciInt.odeint(modelo, y0=186488, t=t, tfirst=True)\n",
    "print(sol1)\n",
    "\n",
    "t_lim = np.linspace(0,500)\n",
    "sol1_lim = sciInt.odeint(modelo, y0=186488, t=t_lim, tfirst=True)"
   ]
  },
  {
   "cell_type": "markdown",
   "id": "0bda192b-f076-4bc4-9e9b-ac34d3de9075",
   "metadata": {},
   "source": [
    "<h3>scipy.integrate.solve_ivp()</h3>\n",
    "Método: RK45 (Padrão)"
   ]
  },
  {
   "cell_type": "code",
   "execution_count": 11,
   "id": "774f394c-b822-46ef-899f-b437a47e795c",
   "metadata": {},
   "outputs": [
    {
     "name": "stdout",
     "output_type": "stream",
     "text": [
      "  message: 'The solver successfully reached the end of the integration interval.'\n",
      "     nfev: 20\n",
      "     njev: 0\n",
      "      nlu: 0\n",
      "      sol: None\n",
      "   status: 0\n",
      "  success: True\n",
      "        t: array([ 0.        ,  0.42857143,  0.85714286,  1.28571429,  1.71428571,\n",
      "        2.14285714,  2.57142857,  3.        ,  3.42857143,  3.85714286,\n",
      "        4.28571429,  4.71428571,  5.14285714,  5.57142857,  6.        ,\n",
      "        6.42857143,  6.85714286,  7.28571429,  7.71428571,  8.14285714,\n",
      "        8.57142857,  9.        ,  9.42857143,  9.85714286, 10.28571429,\n",
      "       10.71428571, 11.14285714, 11.57142857, 12.        , 12.42857143,\n",
      "       12.85714286, 13.28571429, 13.71428571, 14.14285714, 14.57142857,\n",
      "       15.        , 15.42857143, 15.85714286, 16.28571429, 16.71428571,\n",
      "       17.14285714, 17.57142857, 18.        , 18.42857143, 18.85714286,\n",
      "       19.28571429, 19.71428571, 20.14285714, 20.57142857, 21.        ])\n",
      " t_events: None\n",
      "        y: array([[186488.        , 186957.52861553, 187426.28746336,\n",
      "        187894.26806541, 188361.46200676, 188827.86093608,\n",
      "        189293.45656561, 189758.24067117, 190222.20515165,\n",
      "        190685.34199472, 191147.64312896, 191609.10055252,\n",
      "        192069.70633586, 192529.45262175, 192988.33162528,\n",
      "        193446.33563381, 193903.45700705, 194359.68817697,\n",
      "        194815.02164788, 195269.44999638, 195722.96587139,\n",
      "        196175.56199412, 196627.2311581 , 197077.96622916,\n",
      "        197527.76014542, 197976.60591734, 198424.49662766,\n",
      "        198871.42543143, 199317.38555602, 199762.37030109,\n",
      "        200206.37303861, 200649.38721286, 201091.40634043,\n",
      "        201532.4240102 , 201972.43388338, 202411.42969345,\n",
      "        202849.40524624, 203286.35441986, 203722.27116473,\n",
      "        204157.14950357, 204590.98353141, 205023.7674156 ,\n",
      "        205455.49539579, 205886.16178391, 206315.76096424,\n",
      "        206744.28739333, 207171.73560005, 207598.10018557,\n",
      "        208023.37582339, 208447.55725928]])\n",
      " y_events: None\n"
     ]
    }
   ],
   "source": [
    "sol2 = sciInt.solve_ivp(modelo, t_span=(0,max(t)), y0=[186488], t_eval=t)\n",
    "print(sol2)\n",
    "\n",
    "sol2_lim = sciInt.solve_ivp(modelo, t_span=(0,max(t_lim)), y0=[186488], t_eval=t_lim)"
   ]
  },
  {
   "cell_type": "markdown",
   "id": "95c2d284-11ee-46e4-a631-e7cba98a7f5f",
   "metadata": {},
   "source": [
    "<h2>2.4 &nbsp;  Esboço do gráfico através do Matplotlib</h2>\n",
    "Esboço das soluções pelo SymPy e SciPy (LSODA e RK45) de 2010 à 2021."
   ]
  },
  {
   "cell_type": "code",
   "execution_count": 12,
   "id": "b4bd1481-7faa-4859-a011-86160b6ea572",
   "metadata": {},
   "outputs": [],
   "source": [
    "#importando a biblioteca Matplotlib\n",
    "import matplotlib.pyplot as plt"
   ]
  },
  {
   "cell_type": "markdown",
   "id": "7ca85e46-f685-4580-9afb-24bc52b82cd8",
   "metadata": {},
   "source": [
    "<h3>SciPy (LSODA): de 2020 à 2021</h3>"
   ]
  },
  {
   "cell_type": "code",
   "execution_count": 13,
   "id": "1f0dd2b5-c989-42c9-9dc9-bdb6b47db0a3",
   "metadata": {},
   "outputs": [
    {
     "data": {
      "image/png": "[encoded data removed]",
      "text/plain": [
       "<Figure size 432x288 with 1 Axes>"
      ]
     },
     "metadata": {
      "needs_background": "light"
     },
     "output_type": "display_data"
    },
    {
     "name": "stdout",
     "output_type": "stream",
     "text": [
      "Simulação para 2021: [208447.55940518]\n"
     ]
    }
   ],
   "source": [
    "#Solução pelo LSODA\n",
    "plt.plot(t,sol1,\"r\")\n",
    "\n",
    "#Exibindo figura\n",
    "plt.title(\"Simulação populacional de Rio Grande\")\n",
    "plt.xlabel(\"Anos (Ano+2*10^3)\")\n",
    "plt.ylabel(\"Número de habitantes\")\n",
    "plt.show()\n",
    "\n",
    "print(\"Simulação para 2021:\",sol1[sol1.shape[0]-1])"
   ]
  },
  {
   "cell_type": "markdown",
   "id": "80f3b727-15f4-4248-9507-7e0f17889f03",
   "metadata": {},
   "source": [
    "<h3>SciPy (LSODA): Limite populacional (L)</h3>"
   ]
  },
  {
   "cell_type": "code",
   "execution_count": 14,
   "id": "1269048e-cc9c-4f83-890b-9d77c9ffca9a",
   "metadata": {},
   "outputs": [
    {
     "data": {
      "image/png": "[encoded data removed]",
      "text/plain": [
       "<Figure size 432x288 with 1 Axes>"
      ]
     },
     "metadata": {
      "needs_background": "light"
     },
     "output_type": "display_data"
    },
    {
     "name": "stdout",
     "output_type": "stream",
     "text": [
      "Simulação para 2050: [299922.88006751]\n"
     ]
    }
   ],
   "source": [
    "#Solução pelo LSODA\n",
    "plt.plot(t_lim,sol1_lim,\"r\")\n",
    "\n",
    "#Exibindo figura\n",
    "plt.title(\"Simulação populacional de Rio Grande\")\n",
    "plt.xlabel(\"Anos (Ano+2*10^3)\")\n",
    "plt.ylabel(\"Número de habitantes\")\n",
    "plt.show()\n",
    "\n",
    "print(\"Simulação para 2050:\",sol1_lim[sol1_lim.shape[0]-1])"
   ]
  },
  {
   "cell_type": "markdown",
   "id": "c164e749-aa44-443a-b495-230c94a1f2c5",
   "metadata": {},
   "source": [
    "<h3>SciPy (RK45): de 2020 à 2021</h3>"
   ]
  },
  {
   "cell_type": "code",
   "execution_count": 15,
   "id": "a19ef64a-4079-4524-a3f1-a92808197136",
   "metadata": {},
   "outputs": [
    {
     "data": {
      "image/png": "[encoded data removed]",
      "text/plain": [
       "<Figure size 432x288 with 1 Axes>"
      ]
     },
     "metadata": {
      "needs_background": "light"
     },
     "output_type": "display_data"
    },
    {
     "name": "stdout",
     "output_type": "stream",
     "text": [
      "Simulação para 2021: 208447.55725927802\n"
     ]
    }
   ],
   "source": [
    "#solução pelo SciPy (RK45)\n",
    "plt.plot(t,sol2.y[0],\"b\")\n",
    "\n",
    "#Exibindo figura\n",
    "plt.title(\"Simulação populacional de Rio Grande\")\n",
    "plt.xlabel(\"Anos (Ano+2*10^3)\")\n",
    "plt.ylabel(\"Número de habitantes\")\n",
    "plt.show()\n",
    "\n",
    "print(\"Simulação para 2021:\",sol2.y[0][sol2.y[0].shape[0]-1])"
   ]
  },
  {
   "cell_type": "markdown",
   "id": "bbe9cff8-8641-48e3-8f98-0d2cd6ca7343",
   "metadata": {},
   "source": [
    "<h3>SciPy (RK45): Limite populacional (L)</h3>"
   ]
  },
  {
   "cell_type": "code",
   "execution_count": 16,
   "id": "bca6dda9-fd3e-4ca0-944d-fb83f25d0edd",
   "metadata": {},
   "outputs": [
    {
     "data": {
      "image/png": "[encoded data removed]",
      "text/plain": [
       "<Figure size 432x288 with 1 Axes>"
      ]
     },
     "metadata": {
      "needs_background": "light"
     },
     "output_type": "display_data"
    },
    {
     "name": "stdout",
     "output_type": "stream",
     "text": [
      "Simulação para 500+2*10^3: 299899.95840515784\n"
     ]
    }
   ],
   "source": [
    "#Solução pelo LSODA\n",
    "plt.plot(t_lim,sol2_lim.y[0],\"b\")\n",
    "\n",
    "#Exibindo figura\n",
    "plt.title(\"Simulação populacional de Rio Grande\")\n",
    "plt.xlabel(\"Anos (Ano+2*10^3)\")\n",
    "plt.ylabel(\"Número de habitantes\")\n",
    "plt.show()\n",
    "\n",
    "print(\"Simulação para 500+2*10^3:\",sol2_lim.y[0][sol2_lim.y[0].shape[0]-1])"
   ]
  }
 ],
 "metadata": {
  "kernelspec": {
   "display_name": "Python 3 (ipykernel)",
   "language": "python",
   "name": "python3"
  },
  "language_info": {
   "codemirror_mode": {
    "name": "ipython",
    "version": 3
   },
   "file_extension": ".py",
   "mimetype": "text/x-python",
   "name": "python",
   "nbconvert_exporter": "python",
   "pygments_lexer": "ipython3",
   "version": "3.10.2"
  }
 },
 "nbformat": 4,
 "nbformat_minor": 5
}
