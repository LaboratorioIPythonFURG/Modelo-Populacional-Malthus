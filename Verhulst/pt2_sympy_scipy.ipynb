{
 "cells": [
  {
   "cell_type": "markdown",
   "id": "e0e27714-37da-4536-9cd8-511094f4128e",
   "metadata": {},
   "source": [
    "<h1>2 &nbsp; Solução analítica</h1>\n",
    "\n",
    "<h2>2.1 &nbsp; Solução da equação diferencial</h2>\n",
    "\n",
    "&nbsp; O modelo populacional de Verhulst é dado por:\n",
    "\n",
    "$$\\frac{dP}{dt}=\\left [  κ\\left ( 1- \\frac{P}{L} \\ \\right ) \\right ]P$$\n",
    "\n",
    "&nbsp; Onde <b>P</b> é o número de habitantes, <b>L</b> é um limite estipulado em decorrência da competitividade, e, <b>κ</b> a constante de crescimento de uma população em determinada época.\n",
    "\n",
    "&nbsp; Podemos escrever o problema enunciado na <b>Seção 1</b> como um problema de contorno:\n",
    "\n",
    "$$\\begin{cases} \\frac{dP}{dt}= \\left [  κ\\left ( 1- \\frac{P}{L} \\ \\right ) \\right ]P  \\\\ P(0)= 186 \\: 488 \\\\ P(10)= 197 \\: 228 \\end{cases}$$\n",
    "\n",
    "&nbsp; A solução analítica do modelo de Verhulst é dado por:\n",
    "\n",
    "$$N(t)=\\frac{L N_{0}e^{κt}}{L+N_{0}(e^{κt}-1)}$$\n",
    "\n",
    "<h2>2.2 &nbsp; Solução do problema de contorno:</h2>\n",
    "\n",
    "&nbsp; Para o modelo de Verhuslt devemos estudar um limite <b>L</b>, isto é, estipular o número de habitantes de Rio Grande após um determinado período. Vamos considerar <b>L = 300 000</b>\n",
    "\n",
    " &nbsp; Em $t=10$ temos $N=197 \\: 228$:\n",
    " \n",
    " $$N(10)=\\frac{300 \\: 000 * 186 \\: 488*e^{κ(10)}}{300 \\: 000+186 \\: 488(e^{κ(10)}-1)} = 197 \\: 228 \\Rightarrow κ = ln\\left ( \\frac{699617023^{1/10}}{598929523^{1/10}} \\right ) $$"
   ]
  },
  {
   "cell_type": "code",
   "execution_count": 1,
   "id": "384df344-88bd-4276-9449-a153fa764ce8",
   "metadata": {},
   "outputs": [
    {
     "name": "stdout",
     "output_type": "stream",
     "text": [
      "k = 0.01553891418938226\n"
     ]
    }
   ],
   "source": [
    "import math\n",
    "k = math.log(699617023**(1/10)/598929523**(1/10))\n",
    "print('k =',k)"
   ]
  },
  {
   "cell_type": "markdown",
   "id": "7b404e10-390b-4d0b-926b-a4413205c19d",
   "metadata": {},
   "source": [
    "<h1>3 &nbsp; Emprego das bibliotecas SymPy e NumPy</h1>\n",
    "<h2>3.1 &nbsp; Solução através do SymPy</h2>\n",
    "\n",
    "&nbsp; Importando a biblioteca SymPy."
   ]
  },
  {
   "cell_type": "code",
   "execution_count": 2,
   "id": "42cfb812-384b-4d73-adaf-02db38873fe9",
   "metadata": {},
   "outputs": [],
   "source": [
    "import sympy as sp"
   ]
  },
  {
   "cell_type": "markdown",
   "id": "0aa1cff6-984e-473c-b580-87324776fb17",
   "metadata": {},
   "source": [
    "&nbsp; Utilizando o SymPy para declarar a função modelo e a variável simbólica."
   ]
  },
  {
   "cell_type": "code",
   "execution_count": 3,
   "id": "a63747a5-0fb6-49d0-a13c-79ccea50bc0c",
   "metadata": {},
   "outputs": [],
   "source": [
    "#Função\n",
    "P = sp.Function(\"P\")\n",
    "\n",
    "#Variável\n",
    "t = sp.Symbol(\"t\")\n",
    "\n",
    "#Limite populacional\n",
    "L = 300000"
   ]
  },
  {
   "cell_type": "markdown",
   "id": "e6cd424a-fae6-4c4f-993d-e95eb0e225eb",
   "metadata": {},
   "source": [
    "&nbsp; Construindo a EDO"
   ]
  },
  {
   "cell_type": "code",
   "execution_count": 4,
   "id": "08fbd6b9-f703-4624-bccd-2064ab1ee6bf",
   "metadata": {},
   "outputs": [
    {
     "data": {
      "text/latex": [
       "$\\displaystyle \\frac{d}{d t} P{\\left(t \\right)} = \\left(0.0155389141893823 - 5.17963806312742 \\cdot 10^{-8} P{\\left(t \\right)}\\right) P{\\left(t \\right)}$"
      ],
      "text/plain": [
       "Eq(Derivative(P(t), t), (0.0155389141893823 - 5.17963806312742e-8*P(t))*P(t))"
      ]
     },
     "execution_count": 4,
     "metadata": {},
     "output_type": "execute_result"
    }
   ],
   "source": [
    "eq_dif = sp.Eq(P(t).diff(t),  (k*(1-P(t)/L))*P(t) )\n",
    "eq_dif"
   ]
  },
  {
   "cell_type": "markdown",
   "id": "81f1e407-94b2-46ec-834d-d6f1e13fc11f",
   "metadata": {},
   "source": [
    "<h3>sympy.dsolve()</h3>"
   ]
  },
  {
   "cell_type": "code",
   "execution_count": 5,
   "id": "2b160859-1fc0-47c3-b1cc-223e89a5fd2d",
   "metadata": {},
   "outputs": [],
   "source": [
    "#Obtendo solução particular\n",
    "#sg = sp.dsolve(eq_dif,ics={P(10):186488})\n",
    "#sg"
   ]
  },
  {
   "cell_type": "markdown",
   "id": "a5d833ee-9151-436b-9c97-3b749b90a289",
   "metadata": {},
   "source": [
    "&nbsp; A função sympy.dsolve não resolve a equação diferencial."
   ]
  },
  {
   "cell_type": "markdown",
   "id": "2abcddaa-48a4-43a1-a559-b1a50bef12a5",
   "metadata": {},
   "source": [
    "<h2>3.2 &nbsp; Solução através do SciPy</h2>\n",
    "\n",
    "&nbsp; Importando as bibliotecas Numpy e SciPy:"
   ]
  },
  {
   "cell_type": "code",
   "execution_count": 6,
   "id": "a74ea239-959e-4446-81dd-a9c92ea0cae5",
   "metadata": {},
   "outputs": [],
   "source": [
    "import numpy as np\n",
    "import scipy.integrate as sciInt"
   ]
  },
  {
   "cell_type": "markdown",
   "id": "88ed8360-c17a-4484-b200-bc47ed7c49a0",
   "metadata": {},
   "source": [
    "Escrevendo arquivo contendo a função <i><b>modelo_verhulst(\t&lt;população>,\t&lt;tempo>)</b></i> contendo o modelo matemático do fenômeno:"
   ]
  },
  {
   "cell_type": "code",
   "execution_count": 8,
   "id": "776a8597-4c64-4e4b-83b8-3a6850584212",
   "metadata": {},
   "outputs": [
    {
     "name": "stdout",
     "output_type": "stream",
     "text": [
      "Writing ../python/modelo_verhulst.py\n"
     ]
    }
   ],
   "source": [
    "%%writefile ../python/modelo_verhulst.py\n",
    "#Definindo o modelo populacional\n",
    "def modelo(t,P):\n",
    "    L = 300000\n",
    "    k = 0.01553891418938226\n",
    "    return  (k*(1-P/L))*P"
   ]
  },
  {
   "cell_type": "markdown",
   "id": "dea780fe-5a26-44a0-ba46-0509fa1c66da",
   "metadata": {},
   "source": [
    "Criando o vetor tempo de 10 à 21"
   ]
  }
 ],
 "metadata": {
  "kernelspec": {
   "display_name": "Python 3 (ipykernel)",
   "language": "python",
   "name": "python3"
  },
  "language_info": {
   "codemirror_mode": {
    "name": "ipython",
    "version": 3
   },
   "file_extension": ".py",
   "mimetype": "text/x-python",
   "name": "python",
   "nbconvert_exporter": "python",
   "pygments_lexer": "ipython3",
   "version": "3.10.2"
  }
 },
 "nbformat": 4,
 "nbformat_minor": 5
}
