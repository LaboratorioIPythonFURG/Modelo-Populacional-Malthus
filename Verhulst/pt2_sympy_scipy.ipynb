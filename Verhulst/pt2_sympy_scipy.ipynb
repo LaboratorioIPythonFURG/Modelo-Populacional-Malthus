{
 "cells": [
  {
   "cell_type": "markdown",
   "id": "e0e27714-37da-4536-9cd8-511094f4128e",
   "metadata": {},
   "source": [
    "<h1>2 &nbsp; Solução analítica</h1>\n",
    "\n",
    "<h2>2.1 &nbsp; Solução da equação diferencial</h2>\n",
    "\n",
    "&nbsp; O modelo populacional de Verhulst é dado por:\n",
    "\n",
    "$$\\frac{dP}{dt}=\\left [  κ\\left ( 1- \\frac{P}{L} \\ \\right ) \\right ]P$$\n",
    "\n",
    "&nbsp; Onde <b>P</b> é o número de habitantes, <b>L</b> é um limite estipulado em decorrência da competitividade, e, <b>κ</b> a constante de crescimento de uma população em determinada época.\n",
    "\n",
    "&nbsp; Podemos escrever o problema enunciado na <b>Seção 1</b> como um problema de contorno:\n",
    "\n",
    "$$\\begin{cases} \\frac{dP}{dt}= \\left [  κ\\left ( 1- \\frac{P}{L} \\ \\right ) \\right ]P  \\\\ P(0)= 186 \\: 488 \\\\ P(10)= 197 \\: 228 \\end{cases}$$\n",
    "\n",
    "&nbsp; A solução analítica do modelo de Verhulst é dado por:\n",
    "\n",
    "$$N(t)=\\frac{L N_{0}e^{κt}}{L+N_{0}(e^{κt}-1)}$$\n",
    "\n",
    "<h2>2.2 &nbsp; Solução do problema de contorno:</h2>\n",
    "\n",
    "&nbsp; Para o modelo de Verhuslt devemos estudar um limite <b>L</b>, isto é, estipular o número de habitantes de Rio Grande após um determinado período. Vamos considerar <b>L = 300 000</b>\n",
    "\n",
    " &nbsp; Em $t=10$ temos $N=197 \\: 228$:\n",
    " \n",
    " $$N(10)=\\frac{300 \\: 000 * 186 \\: 488*e^{κ(10)}}{300 \\: 000+186 \\: 488(e^{κ(10)}-1)} = 197 \\: 228$$\n",
    "\n",
    "\n",
    "<h1>3 &nbsp; Emprego das bibliotecas SymPy e NumPy</h1>\n",
    "<h2>3.1 &nbsp; Solução através do SymPy</h2>\n",
    "\n",
    "&nbsp; Importando a biblioteca SymPy.\n",
    "\n"
   ]
  },
  {
   "cell_type": "code",
   "execution_count": 1,
   "id": "42cfb812-384b-4d73-adaf-02db38873fe9",
   "metadata": {},
   "outputs": [],
   "source": [
    "import sympy as sp"
   ]
  },
  {
   "cell_type": "markdown",
   "id": "0aa1cff6-984e-473c-b580-87324776fb17",
   "metadata": {},
   "source": [
    "&nbsp; Utilizando o SymPy para declarar a função modelo e a variável simbólica."
   ]
  },
  {
   "cell_type": "code",
   "execution_count": 2,
   "id": "a63747a5-0fb6-49d0-a13c-79ccea50bc0c",
   "metadata": {},
   "outputs": [],
   "source": [
    "#Função\n",
    "P = sp.Function(\"P\")\n",
    "\n",
    "#Variável\n",
    "t = sp.Symbol(\"t\")"
   ]
  },
  {
   "cell_type": "markdown",
   "id": "e6cd424a-fae6-4c4f-993d-e95eb0e225eb",
   "metadata": {},
   "source": [
    "&nbsp; Construindo a EDO"
   ]
  },
  {
   "cell_type": "code",
   "execution_count": null,
   "id": "08fbd6b9-f703-4624-bccd-2064ab1ee6bf",
   "metadata": {},
   "outputs": [],
   "source": [
    "eq_dif = sp.Eq(P(t).diff(t),  (k(1-P(t)/L))*P(t) )\n",
    "eq_dif"
   ]
  }
 ],
 "metadata": {
  "kernelspec": {
   "display_name": "Python 3 (ipykernel)",
   "language": "python",
   "name": "python3"
  },
  "language_info": {
   "codemirror_mode": {
    "name": "ipython",
    "version": 3
   },
   "file_extension": ".py",
   "mimetype": "text/x-python",
   "name": "python",
   "nbconvert_exporter": "python",
   "pygments_lexer": "ipython3",
   "version": "3.10.2"
  }
 },
 "nbformat": 4,
 "nbformat_minor": 5
}
