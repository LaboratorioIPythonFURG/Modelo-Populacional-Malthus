{
 "cells": [
  {
   "cell_type": "markdown",
   "id": "e0e27714-37da-4536-9cd8-511094f4128e",
   "metadata": {},
   "source": [
    "<h1>2 &nbsp; Solução analítica</h1>\n",
    "\n",
    "<h2>2.1 &nbsp; Solução da equação diferencial</h2>\n",
    "\n",
    "&nbsp; O modelo populacional de Verhulst é dado por:\n",
    "\n",
    "$$\\frac{dP}{dt}=κP(L-P)$$\n",
    "\n",
    "&nbsp; Onde <b>P</b> é o número de habitantes, <b>L</b> é um limite estipulado em decorrência da competitividade, e, <b>κ</b> a constante de crescimento de uma população em determinada época."
   ]
  }
 ],
 "metadata": {
  "kernelspec": {
   "display_name": "Python 3 (ipykernel)",
   "language": "python",
   "name": "python3"
  },
  "language_info": {
   "codemirror_mode": {
    "name": "ipython",
    "version": 3
   },
   "file_extension": ".py",
   "mimetype": "text/x-python",
   "name": "python",
   "nbconvert_exporter": "python",
   "pygments_lexer": "ipython3",
   "version": "3.10.2"
  }
 },
 "nbformat": 4,
 "nbformat_minor": 5
}
