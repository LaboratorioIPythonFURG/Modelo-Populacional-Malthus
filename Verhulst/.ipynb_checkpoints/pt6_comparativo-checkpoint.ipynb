{
 "cells": [
  {
   "cell_type": "markdown",
   "id": "6d7f4ffb-6161-4c37-837c-5da18db8c113",
   "metadata": {},
   "source": [
    "<h1>6  &nbsp;Estudo comparativo - Soluções numéricas e analítica</h1>\n",
    "\n",
    "<h2>6.1 &nbsp; Erro absoluto e percentual</h2>\n",
    "\n",
    "&nbsp; Esta seção tem como objetivo comparar a solução analítica e a aproximação numérica com a população estimada para 2021 pelo IBGE.\n",
    "\n",
    "&nbsp; Os resultados obtidos pela solução analítica, pelo método de Euler, Euler modificado e RK4:\n",
    "\n",
    "<center><b>Aproximação populacional para Rio Grande por método</b></center>\n",
    "\n",
    "| Método | Número de habitantes |\n",
    "| --- | --- |\n",
    "| LSODA | 208447.55940518 |\n",
    "| Euler | 208446.62006659 |\n",
    "| Euler modificado | 208446.56882837 |\n",
    "|RK4 |208446.56882864 |\n",
    "|RK45|  208447.55725928|\n",
    "\n",
    "<center>Fonte: O autor</center>"
   ]
  },
  {
   "cell_type": "markdown",
   "id": "1309097f-f8cd-485e-8285-1d53a47f498f",
   "metadata": {},
   "source": [
    "&nbsp; Importando bibliotecas:"
   ]
  },
  {
   "cell_type": "code",
   "execution_count": 1,
   "id": "626a6aed-530a-4747-b5f9-575da589be33",
   "metadata": {},
   "outputs": [],
   "source": [
    "import numpy as np\n",
    "import matplotlib.pyplot as plt"
   ]
  },
  {
   "cell_type": "markdown",
   "id": "664cd12c-2529-40d1-a330-b35128200c27",
   "metadata": {},
   "source": [
    "&nbsp; Declarando o nome dos métodos, aproximações e a população estimada pelo IBGE"
   ]
  },
  {
   "cell_type": "code",
   "execution_count": 2,
   "id": "df30923a-edd8-414f-aab1-68466f1c6b96",
   "metadata": {},
   "outputs": [],
   "source": [
    "metodos = ['Analítico','LSODA','Euler','Euler modificado','RK4','RK45']\n",
    "\n",
    "solucoes = [208447.5573077047,\n",
    "            208447.55940518,\n",
    "            208446.62006659,\n",
    "            208446.56882837,\n",
    "            208446.56882864, \n",
    "            208447.55725928]\n",
    "\n",
    "index = [0,1,2,3,4]\n",
    "\n",
    "solucao_IBGE = 212881\n",
    "\n",
    "dados = [[0, 0, 0]]"
   ]
  },
  {
   "cell_type": "markdown",
   "id": "f3222167-3e1f-4e9d-a01a-de5446ce919c",
   "metadata": {},
   "source": [
    "&nbsp; A seguir, obtemos o erro das soluções obtidas com relação a população fornecida pelo IBGE."
   ]
  },
  {
   "cell_type": "code",
   "execution_count": 3,
   "id": "5d5ee2bf-9b7e-4613-bbdf-dce9a40fbc2e",
   "metadata": {},
   "outputs": [],
   "source": [
    "for i in index:\n",
    "    erro_hab = solucao_IBGE - solucoes[i]\n",
    "    erro_perc = (erro_hab/solucao_IBGE)*100\n",
    "    #Adicionando linhas à matriz (tabela)\n",
    "    dados = np.vstack([dados,[metodos[i],round(erro_hab),str(round(erro_perc,2))+'%']])\n",
    "   "
   ]
  },
  {
   "cell_type": "markdown",
   "id": "634247d5-90b1-4250-9fcf-5e8c94845f73",
   "metadata": {},
   "source": [
    "Finalmente, exibimos os dados armazenados:"
   ]
  },
  {
   "cell_type": "code",
   "execution_count": 4,
   "id": "16f242c4-314b-4113-aa40-05a1142cbf6e",
   "metadata": {},
   "outputs": [
    {
     "data": {
      "image/png": "[encoded data removed]",
      "text/plain": [
       "<Figure size 432x288 with 1 Axes>"
      ]
     },
     "metadata": {
      "needs_background": "light"
     },
     "output_type": "display_data"
    }
   ],
   "source": [
    "#remove a primeira linha da matriz\n",
    "dados = np.delete(dados, 0, 0)\n",
    "\n",
    "#Exibindo tabela\n",
    "fig, ax =plt.subplots(1,1)\n",
    "column_labels=['Método', 'Erro absoluto', 'Erro percentual']\n",
    "ax.axis('tight')\n",
    "ax.axis('off')\n",
    "ax.table(cellText=dados,colLabels=column_labels,loc='center')\n",
    "\n",
    "plt.show()"
   ]
  },
  {
   "cell_type": "markdown",
   "id": "5f5f723e-d1dd-44f6-b5f7-6eb382cb0c98",
   "metadata": {},
   "source": [
    "<h2>6.2  &nbsp; O maior passo de derivação para produzir uma aproximação aceitável</h2>\n",
    "\n",
    "&nbsp; Vimos que a solução analítica possui uma aproximação aceitável, com erro de 1.47% em relação ao IBGE. &nbsp; Neste tópico, vamos verificar se é possível reduzir o passo de derivação de modo a diminuir o erro dos métodos numéricos estudados neste repositório.\n",
    "<br><br>\n",
    "Adicionando o diretório que contém os arquivos python:"
   ]
  },
  {
   "cell_type": "code",
   "execution_count": 5,
   "id": "6c8ac3c3-e75f-42df-9009-7af59f8bb441",
   "metadata": {},
   "outputs": [],
   "source": [
    "import sys \n",
    "sys.path.insert(0, '../python')"
   ]
  },
  {
   "cell_type": "markdown",
   "id": "2f461159-43eb-43dc-9a98-139aa822ad87",
   "metadata": {},
   "source": [
    "&nbsp; Importanto os módulos de <i><b>Modelos-Populacionais/python/</b></i> bem como as  bibliotecas Numpy e SciPy:"
   ]
  },
  {
   "cell_type": "code",
   "execution_count": 6,
   "id": "e403c333-ce56-44c1-88c3-cf2123565f81",
   "metadata": {},
   "outputs": [],
   "source": [
    "import numpy as np\n",
    "import scipy.integrate as sciInt\n",
    "\n",
    "from sol_euler import sol_euler\n",
    "from sol_euler_mod import sol_euler_mod\n",
    "from sol_rk4 import sol_rk4\n",
    "from modelo_malthus import modelo"
   ]
  },
  {
   "cell_type": "markdown",
   "id": "60292cfc-4c67-4924-a206-65143eaab1f9",
   "metadata": {},
   "source": [
    "<h3>Método de Euler</h3>\n",
    "\n",
    "&nbsp; Declarando variáveis:\n"
   ]
  },
  {
   "cell_type": "code",
   "execution_count": 7,
   "id": "6a831f7d-fdd4-4d18-ba2a-95d027162c43",
   "metadata": {},
   "outputs": [],
   "source": [
    "#Condição inicial\n",
    "P0 = 186488\n",
    "\n",
    "#tempo inicial\n",
    "ti = 0\n",
    "\n",
    "#tempo final\n",
    "tf = 21\n",
    "\n",
    "#passo inicial\n",
    "h = 0.001\n",
    "\n",
    "#decrescimo\n",
    "decrescimo = 0.0001 #adicionar mais um zero à esquerda faz o código demorar\n",
    "\n",
    "#inicio de tabela de dados\n",
    "dados = [[0, 0, 0, 0]]"
   ]
  },
  {
   "cell_type": "markdown",
   "id": "104a80d2-bcd2-428e-a97e-00a91b9ca579",
   "metadata": {},
   "source": [
    "&nbsp; Contruindo algoritmo para minimizar o erro através da redução do passo de derivação."
   ]
  },
  {
   "cell_type": "code",
   "execution_count": null,
   "id": "38dd28fa-a0cf-4785-b0f8-4e846545197b",
   "metadata": {},
   "outputs": [],
   "source": [
    "%%time\n",
    "\n",
    "limite = False\n",
    "\n",
    "#excede while err>3194:\n",
    "while limite==False and h>0:\n",
    "    try:\n",
    "        #passo\n",
    "        h = h - decrescimo\n",
    "        \n",
    "        print('- Iteração. Passo atual (h): ',h)\n",
    "        \n",
    "        if (h<0):\n",
    "            print('passo negativo:',h)\n",
    "            h = h + decrescimo\n",
    "            break\n",
    "    \n",
    "        #vetor tempo\n",
    "        vt = np.arange(ti,tf,h)\n",
    "    \n",
    "        #solução\n",
    "        P_euler = sol_euler(vt,P0,'verhulst')\n",
    "    \n",
    "        #erro abs\n",
    "        err = solucao_IBGE - np.amax(P_euler)\n",
    "    \n",
    "        #erro percentual\n",
    "        err_perc = (err/solucao_IBGE)*100\n",
    "        \n",
    "    except:\n",
    "        limite = True\n",
    "        print('O passo atingiu o limite')\n",
    "    \n",
    " \n",
    "print('Erro absoluto (hab): ',err)\n",
    "print('Erro absoluto arredondado (hab): ',round(err,0))\n",
    "print('Erro percentual arredondado {}%'.format(round(err_perc,2)))\n",
    "print('Erro percentual arredondado {}%'.format(err_perc))\n",
    "print('Passo atual: ',h)\n",
    "\n",
    "dados = np.vstack([dados,['Euler',h,round(err),str(round(err_perc,2))+'%']])"
   ]
  }
 ],
 "metadata": {
  "kernelspec": {
   "display_name": "Python 3 (ipykernel)",
   "language": "python",
   "name": "python3"
  },
  "language_info": {
   "codemirror_mode": {
    "name": "ipython",
    "version": 3
   },
   "file_extension": ".py",
   "mimetype": "text/x-python",
   "name": "python",
   "nbconvert_exporter": "python",
   "pygments_lexer": "ipython3",
   "version": "3.10.2"
  }
 },
 "nbformat": 4,
 "nbformat_minor": 5
}
