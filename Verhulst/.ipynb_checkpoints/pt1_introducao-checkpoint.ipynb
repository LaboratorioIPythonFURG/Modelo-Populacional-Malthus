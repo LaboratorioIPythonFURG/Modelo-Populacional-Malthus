{
 "cells": [
  {
   "cell_type": "markdown",
   "id": "c45f5a3c-7d5f-4578-8818-d584f29c8410",
   "metadata": {},
   "source": [
    "<h1>2 &nbsp;Modelo Populacional de Verhulst </h1>\n",
    "<h2>Problema proposto:</h2>\n",
    "    &nbsp; Rio Grande é uma cidade localizada na região sul do Rio Grande do sul e no ano 2000 a população do município era de 186 488 e em 2010 essa população aumentou para 197 228.  De acordo o modelo de crescimento populacional de Verhulst, qual será a população estimada para 2021?"
   ]
  }
 ],
 "metadata": {
  "kernelspec": {
   "display_name": "Python 3 (ipykernel)",
   "language": "python",
   "name": "python3"
  },
  "language_info": {
   "codemirror_mode": {
    "name": "ipython",
    "version": 3
   },
   "file_extension": ".py",
   "mimetype": "text/x-python",
   "name": "python",
   "nbconvert_exporter": "python",
   "pygments_lexer": "ipython3",
   "version": "3.10.2"
  }
 },
 "nbformat": 4,
 "nbformat_minor": 5
}
