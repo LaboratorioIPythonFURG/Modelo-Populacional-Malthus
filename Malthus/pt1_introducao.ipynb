{
 "cells": [
  {
   "cell_type": "markdown",
   "id": "34b4d81a-3cda-49d0-a9da-26e7ce2e12f1",
   "metadata": {},
   "source": [
    "<h1>Capítulo 1: Modelo Populacional de Malthus</h1>\n",
    "<h1>1 &nbsp; O problema</h1>\n",
    "<h2>Problema modelo:</h2>\n",
    "    &nbsp; Jaçanã é uma cidade pacata no interior do Rio Grande do Norte e no ano 2000 a população do município era de 7677 habitantes e em 2010 essa população passou para 7925. De acordo o modelo de crescimento populacional de Malthus, qual será a população estimada para\n",
    "2016?\n",
    "<br><br>\n",
    "&nbsp;<b>Referência:</b> https://editorarealize.com.br/artigo/visualizar/43077\n",
    "\n",
    "<h2>Problema proposto:</h2>\n",
    "    &nbsp; Rio Grande é uma cidade localizada na região sul do Rio Grande do sul e no ano 2000 a população do município era de 186 488 e em 2010 essa população aumentou para 197 228.  De acordo o modelo de crescimento populacional de Malthus, qual será a população estimada para 2021?"
   ]
  }
 ],
 "metadata": {
  "kernelspec": {
   "display_name": "Python 3 (ipykernel)",
   "language": "python",
   "name": "python3"
  },
  "language_info": {
   "codemirror_mode": {
    "name": "ipython",
    "version": 3
   },
   "file_extension": ".py",
   "mimetype": "text/x-python",
   "name": "python",
   "nbconvert_exporter": "python",
   "pygments_lexer": "ipython3",
   "version": "3.10.2"
  }
 },
 "nbformat": 4,
 "nbformat_minor": 5
}
