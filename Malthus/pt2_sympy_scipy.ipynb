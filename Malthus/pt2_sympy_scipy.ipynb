{
 "cells": [
  {
   "cell_type": "markdown",
   "id": "7d71de07-afeb-432b-97bd-e76e82847dc4",
   "metadata": {
    "tags": []
   },
   "source": [
    "<h1>2 &nbsp; Solução analítica</h1>\n",
    "\n",
    "<h2>2.1 &nbsp; Solução da equação diferencial</h2>\n",
    "\n",
    "&nbsp; O modelo populacional de Malthus é dado por:\n",
    "\n",
    "$$\\frac{dP}{dt}=κP$$\n,",
    "\n",
    "onde <b>P</b> é o número de habitantes e <b>κ</b> a constante de proporcionalidade. \n",
    "<br>\n",
    "&nbsp; Podemos escrever o problema enunciado na <b>Seção 1</b> como um problema de contorno:\n",
    "\n",
    "$$\\begin{cases} \\frac{dP}{dt}=κP  \\\\ P(0)= 186 \\: 488 \\\\ P(10)= 197 \\: 228 \\end{cases}$$\n",
    "\n",
    "&nbsp; Inicialmente, obtemos a solução da equação diferencial por separação de variáveis:\n",
    "\n",
    "$$\\frac{dP}{dt}=κP \\Rightarrow \\frac{dP}{κP}=dt $$\n",
    "\n",
    "&nbsp; Integrando a equação:\n",
    "\n",
    "$$ \\int\\frac{dP}{P} = \\int κdt \\Rightarrow ln|P|+C_{1} = κt + C_{2} \\Rightarrow ln|P| = κt + C $$\n",
    "\n",
    "&nbsp; Isolando <b>P</b>,temos:\n",
    "\n",
    "$$ P = e^{κt + C}$$ \n",
    "\n",
    "&nbsp; Tomando $e^{C}$ como a população inicial $P_{0}$ temos a solução analítica do problema de contorno:\n",
    "\n",
    "$$ P(t) = P_{0}\\:e^{κt}$$ \n",
    "\n",
    "<h2>2.2 &nbsp; Solução do problema de contorno</h2>\n",
    "\n",
    "&nbsp; Em $t=0$ a população era de 186 488 habitantes, logo:\n",
    "\n",
    "$$ P(0)=P_{0}e^{κ(0)} \\Rightarrow 186 \\: 488 = P_{0} $$\n",
    "\n",
    "&nbsp; Dessa forma, $P(t)$:\n",
    "\n",
    "$$ P(t) = 186488\\:e^{κt}$$\n",
    "\n",
    "&nbsp; Mas, em $t=10$ a população era de 197 228, então:\n",
    "\n",
    "$$ P(10) = 186488\\:e^{(10)κ} \\Rightarrow 197228 = 186488\\:e^{10κ} \\Rightarrow \\frac{197228}{186488}=e^{10κ} \\Rightarrow $$ <br> \n",
    "\n",
    "$$ \\Rightarrow ln \\left ( \\frac{197228}{186488} \\right ) = 10κ \\Rightarrow κ=\\frac{1}{10}ln \\left ( \\frac{197228}{186488} \\right ) \\approx 0.0056$$\n",
    "\n",
    "&nbsp; Portanto, segundo o modelo de Malthus, a equação que descreve o número de habitantes de Rio Grande - RS sob as condições do enunciado é dada por:\n",
    "\n",
    "$$ P(t)=186488e^{0.0056t}$$\n",
    "\n",
    "<h2>2.3 &nbsp; População estimada para 2021</h2>\n",
    "\n",
    "&nbsp;  Uma vez que temos a solução particular $P(t)$ basta obter o valor da função em $t=21$:<br><p></p>\n",
    "\n",
    "$$ P(21)=186488e^{0.0056(21)}=209761$$\n",
    "\n",
    "&nbsp; Portanto, a população estimada é de 209 761 habitantes\n",
    "\n",
    "<h2>2.4 &nbsp; Comparação de resultados</h2>\n",
    "\n",
    "&nbsp; Segundo o IBGE a população real (estimada) para 2021 é de 212 881 habitantes.\n",
    "<br>\n",
    "&nbsp; A diferença entre os resultados obtidos a partir do modelo de Malthus e do IBGE é de 3 120 habitantes. A tabela a seguir apresenta a discrepância entre os resultados do modelo de Malthus e IBGE para a população de Rio Grande em 2021\n",
    "\n",
    "<center> <b>Tabela 1: Discrepância obtida</b></center>\n",
    "\n",
    "| Malthus | IBGE | Erro | Erro(%) |\n",
    "| --- | --- | --- | --- |\n",
    "| 209 761 | 212 881 | 3 120 | 1.46 | \n",
    "\n",
    "<center>Fonte: O autor </center>\n",
    "\n",
    "<h1>3 &nbsp; Emprego das bibliotecas SymPy e NumPy</h1>\n",
    "<h2>3.1 &nbsp; Solução através do SymPy</h2>\n",
    "\n",
    "&nbsp; Importando a biblioteca SymPy."
   ]
  },
  {
   "cell_type": "code",
   "execution_count": 1,
   "id": "3072652b-2fa9-4d0a-8dc5-dea25fd923ff",
   "metadata": {},
   "outputs": [],
   "source": [
    "import sympy as sp"
   ]
  },
  {
   "cell_type": "markdown",
   "id": "21cfc28e-ba85-41be-8c30-6da36c70dafb",
   "metadata": {},
   "source": [
    "Utilizando o SymPy para declarar a função modelo e a variável simbólica."
   ]
  },
  {
   "cell_type": "code",
   "execution_count": 2,
   "id": "a1cc71c7-f59f-4a17-b24a-cdbf3e4b4917",
   "metadata": {},
   "outputs": [],
   "source": [
    "#Função\n",
    "P = sp.Function(\"P\")\n",
    "\n",
    "#Variável\n",
    "t = sp.Symbol(\"t\")"
   ]
  },
  {
   "cell_type": "markdown",
   "id": "3b661353-668f-4fc2-a289-b841bee7dc76",
   "metadata": {},
   "source": [
    "Construindo a EDO"
   ]
  },
  {
   "cell_type": "code",
   "execution_count": 3,
   "id": "8f437339-fbc2-4d0b-a077-e404b1bc0e84",
   "metadata": {},
   "outputs": [
    {
     "data": {
      "text/latex": [
       "$\\displaystyle \\frac{d}{d t} P{\\left(t \\right)} = 0.0056 P{\\left(t \\right)}$"
      ],
      "text/plain": [
       "Eq(Derivative(P(t), t), 0.0056*P(t))"
      ]
     },
     "execution_count": 3,
     "metadata": {},
     "output_type": "execute_result"
    }
   ],
   "source": [
    "eq_dif = sp.Eq(P(t).diff(t),0.0056*P(t))\n",
    "eq_dif"
   ]
  },
  {
   "cell_type": "markdown",
   "id": "61120eff-aca7-48d8-9dad-bb3c5b174c51",
   "metadata": {},
   "source": [
    "<h3>sympy.dsolve()</h3>"
   ]
  },
  {
   "cell_type": "code",
   "execution_count": 4,
   "id": "8b62f89c-793f-48b6-8a57-13927065cb7d",
   "metadata": {},
   "outputs": [
    {
     "data": {
      "text/latex": [
       "$\\displaystyle P{\\left(t \\right)} = 186488 e^{0.0056 t}$"
      ],
      "text/plain": [
       "Eq(P(t), 186488*exp(0.0056*t))"
      ]
     },
     "execution_count": 4,
     "metadata": {},
     "output_type": "execute_result"
    }
   ],
   "source": [
    "#Obtendo solução particular\n",
    "sg = sp.dsolve(eq_dif,ics={P(0):186488})\n",
    "sg"
   ]
  },
  {
   "cell_type": "markdown",
   "id": "95cb70c7-0346-4783-9479-3beb2559b41c",
   "metadata": {},
   "source": [
    "<h2>3.2 &nbsp; Solução através do SciPy</h2>\n",
    "\n",
    "&nbsp; Importando as bibliotecas Numpy e SciPy:"
   ]
  },
  {
   "cell_type": "code",
   "execution_count": 5,
   "id": "da94056d-301c-4fb6-abd7-3f2a1b1a3d53",
   "metadata": {},
   "outputs": [],
   "source": [
    "import numpy as np\n",
    "import scipy.integrate as sciInt"
   ]
  },
  {
   "cell_type": "markdown",
   "id": "8def0f34-da05-45cf-a4ec-d7e891a2d90b",
   "metadata": {},
   "source": [
    "Escrevendo arquivo contendo a função <i><b>modelo(\t&lt;população>,\t&lt;tempo>)</b></i> contendo o modelo matemático do fenômeno:"
   ]
  },
  {
   "cell_type": "code",
   "execution_count": 6,
   "id": "1afb4a0b-349a-43b1-b2f7-1b8619493726",
   "metadata": {},
   "outputs": [
    {
     "name": "stdout",
     "output_type": "stream",
     "text": [
      "Overwriting ../python/modelo_malthus.py\n"
     ]
    }
   ],
   "source": [
    "%%writefile ../python/modelo_malthus.py\n",
    "#Definindo o modelo populacional\n",
    "def modelo_malthus(t,P):\n",
    "    return 0.0056*P"
   ]
  },
  {
   "cell_type": "markdown",
   "id": "d0a6c2ae-355a-4288-99d7-6730f016acdd",
   "metadata": {},
   "source": [
    "Criando o vetor tempo de 10 à 21"
   ]
  },
  {
   "cell_type": "code",
   "execution_count": 7,
   "id": "6efaaa9a-5dbc-43ef-b0f3-4d1f6f19cf00",
   "metadata": {},
   "outputs": [
    {
     "data": {
      "text/plain": [
       "array([ 0.        ,  0.42857143,  0.85714286,  1.28571429,  1.71428571,\n",
       "        2.14285714,  2.57142857,  3.        ,  3.42857143,  3.85714286,\n",
       "        4.28571429,  4.71428571,  5.14285714,  5.57142857,  6.        ,\n",
       "        6.42857143,  6.85714286,  7.28571429,  7.71428571,  8.14285714,\n",
       "        8.57142857,  9.        ,  9.42857143,  9.85714286, 10.28571429,\n",
       "       10.71428571, 11.14285714, 11.57142857, 12.        , 12.42857143,\n",
       "       12.85714286, 13.28571429, 13.71428571, 14.14285714, 14.57142857,\n",
       "       15.        , 15.42857143, 15.85714286, 16.28571429, 16.71428571,\n",
       "       17.14285714, 17.57142857, 18.        , 18.42857143, 18.85714286,\n",
       "       19.28571429, 19.71428571, 20.14285714, 20.57142857, 21.        ])"
      ]
     },
     "execution_count": 7,
     "metadata": {},
     "output_type": "execute_result"
    }
   ],
   "source": [
    "#t = np.linspace(10,21)\n",
    "t = np.linspace(0,21)\n",
    "t"
   ]
  },
  {
   "cell_type": "markdown",
   "id": "59841403-5848-4db4-abb2-a46fc6966397",
   "metadata": {},
   "source": [
    "Carregando o diretório python/ que contém as funções escritas ao longo dos tópico e importando o <b>modelo</b>:"
   ]
  },
  {
   "cell_type": "code",
   "execution_count": 8,
   "id": "5fec89b8-4370-462b-9a6f-af83ec390286",
   "metadata": {},
   "outputs": [],
   "source": [
    "import sys\n",
    "sys.path.insert(0,'../python')\n",
    "from modelo_malthus import modelo_malthus as modelo"
   ]
  },
  {
   "cell_type": "markdown",
   "id": "bbf1da61-dc21-41f9-87ed-55e77542bb4d",
   "metadata": {},
   "source": [
    "<h3>scipy.integrate.odeint()</h3>"
   ]
  },
  {
   "cell_type": "markdown",
   "id": "de6b4b92-4ff2-40aa-81b5-5a813d9549f5",
   "metadata": {},
   "source": [
    "Método: LSODA"
   ]
  },
  {
   "cell_type": "code",
   "execution_count": 9,
   "id": "751bd78c-173a-49d4-b7f9-059e43f525a1",
   "metadata": {},
   "outputs": [
    {
     "data": {
      "text/plain": [
       "array([[186488.        ],\n",
       "       [186936.10907328],\n",
       "       [187385.29485165],\n",
       "       [187835.55982436],\n",
       "       [188286.90687372],\n",
       "       [188739.33761878],\n",
       "       [189192.85510744],\n",
       "       [189647.46222192],\n",
       "       [190103.16184443],\n",
       "       [190559.95685719],\n",
       "       [191017.84997429],\n",
       "       [191476.84342271],\n",
       "       [191936.93980267],\n",
       "       [192398.14175096],\n",
       "       [192860.45190436],\n",
       "       [193323.87289963],\n",
       "       [193788.4074303 ],\n",
       "       [194254.05821347],\n",
       "       [194720.82792168],\n",
       "       [195188.71922743],\n",
       "       [195657.73480325],\n",
       "       [196127.87754588],\n",
       "       [196599.149657  ],\n",
       "       [197071.55426971],\n",
       "       [197545.09406836],\n",
       "       [198019.7717438 ],\n",
       "       [198495.5899933 ],\n",
       "       [198972.55154275],\n",
       "       [199450.65918686],\n",
       "       [199929.91567504],\n",
       "       [200410.32376022],\n",
       "       [200891.886204  ],\n",
       "       [201374.60577664],\n",
       "       [201858.48525707],\n",
       "       [202343.5274329 ],\n",
       "       [202829.73510041],\n",
       "       [203317.11106453],\n",
       "       [203805.65813888],\n",
       "       [204295.37914357],\n",
       "       [204786.27687751],\n",
       "       [205278.35416095],\n",
       "       [205771.6138302 ],\n",
       "       [206266.05872933],\n",
       "       [206761.69171016],\n",
       "       [207258.51563229],\n",
       "       [207756.53336304],\n",
       "       [208255.74777753],\n",
       "       [208756.16175862],\n",
       "       [209257.77819692],\n",
       "       [209760.59999083]])"
      ]
     },
     "execution_count": 9,
     "metadata": {},
     "output_type": "execute_result"
    }
   ],
   "source": [
    "sol1 = sciInt.odeint(modelo, y0=186488, t=t, tfirst=True)\n",
    "sol1"
   ]
  },
  {
   "cell_type": "markdown",
   "id": "b027828d-7191-4b56-957f-c082b3288ac0",
   "metadata": {},
   "source": [
    "<h3>scipy.integrate.solve_ivp()</h3>"
   ]
  },
  {
   "cell_type": "markdown",
   "id": "b8a44255-3e15-4448-90b8-93c28a73c71e",
   "metadata": {},
   "source": [
    "  Método: RK45 (Padrão)"
   ]
  },
  {
   "cell_type": "code",
   "execution_count": 10,
   "id": "6a57f5a8-58ed-4464-bd91-f3ec47f8d53f",
   "metadata": {},
   "outputs": [
    {
     "data": {
      "text/plain": [
       "  message: 'The solver successfully reached the end of the integration interval.'\n",
       "     nfev: 20\n",
       "     njev: 0\n",
       "      nlu: 0\n",
       "      sol: None\n",
       "   status: 0\n",
       "  success: True\n",
       "        t: array([ 0.        ,  0.42857143,  0.85714286,  1.28571429,  1.71428571,\n",
       "        2.14285714,  2.57142857,  3.        ,  3.42857143,  3.85714286,\n",
       "        4.28571429,  4.71428571,  5.14285714,  5.57142857,  6.        ,\n",
       "        6.42857143,  6.85714286,  7.28571429,  7.71428571,  8.14285714,\n",
       "        8.57142857,  9.        ,  9.42857143,  9.85714286, 10.28571429,\n",
       "       10.71428571, 11.14285714, 11.57142857, 12.        , 12.42857143,\n",
       "       12.85714286, 13.28571429, 13.71428571, 14.14285714, 14.57142857,\n",
       "       15.        , 15.42857143, 15.85714286, 16.28571429, 16.71428571,\n",
       "       17.14285714, 17.57142857, 18.        , 18.42857143, 18.85714286,\n",
       "       19.28571429, 19.71428571, 20.14285714, 20.57142857, 21.        ])\n",
       " t_events: None\n",
       "        y: array([[186488.        , 186936.10871537, 187385.29418327,\n",
       "        187835.55899097, 188286.90573199, 188739.33700609,\n",
       "        189192.85541929, 189647.46358387, 190103.16412326,\n",
       "        190559.95967192, 191017.85285807, 191476.84631608,\n",
       "        191936.94268699, 192398.14461853, 192860.4547651 ,\n",
       "        193323.87578777, 193788.4103543 , 194254.06113911,\n",
       "        194720.83082332, 195188.72209469, 195657.7376477 ,\n",
       "        196127.88018346, 196599.15240981, 197071.55704121,\n",
       "        197545.09679884, 198019.77441054, 198495.59261082,\n",
       "        198972.55414087, 199450.66174857, 199929.91818846,\n",
       "        200410.32622176, 200891.88861637, 201374.60814686,\n",
       "        201858.4875945 , 202343.52974719, 202829.73739956,\n",
       "        203317.11335287, 203805.66041509, 204295.38140085,\n",
       "        204786.27913146, 205278.3564349 , 205771.61614584,\n",
       "        206266.06110562, 206761.69416225, 207258.51817043,\n",
       "        207756.53599151, 208255.75049355, 208756.16455127,\n",
       "        209257.78104607, 209760.60286601]])\n",
       " y_events: None"
      ]
     },
     "execution_count": 10,
     "metadata": {},
     "output_type": "execute_result"
    }
   ],
   "source": [
    "sol2 = sciInt.solve_ivp(modelo, t_span=(0,max(t)), y0=[186488], t_eval=t)\n",
    "sol2"
   ]
  },
  {
   "cell_type": "markdown",
   "id": "75f93fee-d4a8-4aa7-b919-0b5bfe8f65cb",
   "metadata": {},
   "source": [
    "<h2>2.4 &nbsp;  Esboço do gráfico através do Matplotlib</h2>\n",
    "Esboço das soluções pelo SymPy e SciPy (LSODA e RK45) de 2010 à 2021."
   ]
  },
  {
   "cell_type": "code",
   "execution_count": 11,
   "id": "4884ebae-5450-4ee7-88a5-68e3f73c932f",
   "metadata": {},
   "outputs": [],
   "source": [
    "#importando a biblioteca Matplotlib\n",
    "import matplotlib.pyplot as plt"
   ]
  },
  {
   "cell_type": "markdown",
   "id": "9307791f-435c-4a29-8d61-8c057822b89a",
   "metadata": {},
   "source": [
    "<h3>Sympy</h3>"
   ]
  },
  {
   "cell_type": "code",
   "execution_count": 12,
   "id": "bc95e8c2-9c11-4c3c-b4b3-e9f458c76006",
   "metadata": {},
   "outputs": [
    {
     "data": {
      "image/png": "[encoded data removed]",
      "text/plain": [
       "<Figure size 432x288 with 1 Axes>"
      ]
     },
     "metadata": {
      "needs_background": "light"
     },
     "output_type": "display_data"
    },
    {
     "name": "stdout",
     "output_type": "stream",
     "text": [
      "Simulação para 2021: 209760.60281646045\n"
     ]
    }
   ],
   "source": [
    "#Solução pelo SymPy\n",
    "plt.plot(t,186488*np.exp(0.0056*t),\"b\") \n",
    "\n",
    "#Exibindo figura\n",
    "plt.title(\"Simulação populacional de Rio Grande\")\n",
    "plt.xlabel(\"Anos+2*10^3\")\n",
    "plt.ylabel(\"Número de habitantes\")\n",
    "plt.show()\n",
    "\n",
    "print(\"Simulação para 2021:\",186488*np.exp(0.0056*21))"
   ]
  },
  {
   "cell_type": "markdown",
   "id": "3b9e9e46-9ce8-44e1-8ef1-788e6e799c49",
   "metadata": {},
   "source": [
    "<h3>SciPy (LSODA)</h3>"
   ]
  },
  {
   "cell_type": "code",
   "execution_count": 13,
   "id": "d52cf21c-e011-4b00-a86e-47cbef05510d",
   "metadata": {},
   "outputs": [
    {
     "data": {
      "image/png": "[encoded data removed]",
      "text/plain": [
       "<Figure size 432x288 with 1 Axes>"
      ]
     },
     "metadata": {
      "needs_background": "light"
     },
     "output_type": "display_data"
    },
    {
     "name": "stdout",
     "output_type": "stream",
     "text": [
      "Simulação para 2021: [209760.59999083]\n"
     ]
    }
   ],
   "source": [
    "#Solução pelo LSODA\n",
    "plt.plot(t,sol1,\"g\")\n",
    "\n",
    "#Exibindo figura\n",
    "plt.title(\"Simulação populacional de Rio Grande\")\n",
    "plt.xlabel(\"Anos (Ano+2*10^3)\")\n",
    "plt.ylabel(\"Número de habitantes\")\n",
    "plt.show()\n",
    "\n",
    "print(\"Simulação para 2021:\",sol1[sol1.shape[0]-1])"
   ]
  },
  {
   "cell_type": "markdown",
   "id": "2ad09e14-bc7b-4431-8b17-cc426ec975ef",
   "metadata": {},
   "source": [
    "<h3>SciPy (RK45)</h3>"
   ]
  },
  {
   "cell_type": "code",
   "execution_count": 14,
   "id": "094fa04f-3df5-46f0-b258-749a876a2a5d",
   "metadata": {},
   "outputs": [
    {
     "data": {
      "image/png": "[encoded data removed]",
      "text/plain": [
       "<Figure size 432x288 with 1 Axes>"
      ]
     },
     "metadata": {
      "needs_background": "light"
     },
     "output_type": "display_data"
    },
    {
     "name": "stdout",
     "output_type": "stream",
     "text": [
      "Simulação para 2021: 209760.60286601182\n"
     ]
    }
   ],
   "source": [
    "#solução pelo SciPy (RK45)\n",
    "plt.plot(t,sol2.y[0],\"b\")\n",
    "\n",
    "#Exibindo figura\n",
    "plt.title(\"Simulação populacional de Rio Grande\")\n",
    "plt.xlabel(\"Anos (Ano+2*10^3)\")\n",
    "plt.ylabel(\"Número de habitantes\")\n",
    "plt.show()\n",
    "\n",
    "print(\"Simulação para 2021:\",sol2.y[0][sol2.y[0].shape[0]-1])"
   ]
  }
 ],
 "metadata": {
  "kernelspec": {
   "display_name": "Python 3 (ipykernel)",
   "language": "python",
   "name": "python3"
  },
  "language_info": {
   "codemirror_mode": {
    "name": "ipython",
    "version": 3
   },
   "file_extension": ".py",
   "mimetype": "text/x-python",
   "name": "python",
   "nbconvert_exporter": "python",
   "pygments_lexer": "ipython3",
   "version": "3.10.2"
  }
 },
 "nbformat": 4,
 "nbformat_minor": 5
}
