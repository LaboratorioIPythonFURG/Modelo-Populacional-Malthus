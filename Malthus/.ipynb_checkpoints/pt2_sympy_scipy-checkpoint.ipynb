{
 "cells": [
  {
   "cell_type": "markdown",
   "id": "7d71de07-afeb-432b-97bd-e76e82847dc4",
   "metadata": {
    "tags": []
   },
   "source": [
    "<h1>2 &nbsp; Solução analítica</h1>\n",
    "\n",
    "<h2>2.1 &nbsp; Solução da equação diferencial</h2>\n",
    "\n",
    "&nbsp; O modelo populacional de Malthus é dado por:\n",
    "\n",
    "$$\\frac{dP}{dt}=κP$$\n",
    "\n",
    "onde <b>P</b> é o número de habitantes e <b>κ</b> a constante de proporcionalidade. \n",
    "<br>\n",
    "&nbsp; Podemos escrever o problema enunciado na <b>Seção 1</b> como um problema de contorno:\n",
    "\n",
    "$$\\begin{cases} \\frac{dP}{dt}=κP  \\\\ P(0)= 186 \\: 488 \\\\ P(10)= 197 \\: 228 \\end{cases}$$\n",
    "\n",
    "&nbsp; Inicialmente, obtemos a solução da equação diferencial por separação de variáveis:\n",
    "\n",
    "$$\\frac{dP}{dt}=κP \\Rightarrow \\frac{dP}{κP}=dt $$\n",
    "\n",
    "&nbsp; Integrando a equação:\n",
    "\n",
    "$$ \\int\\frac{dP}{P} = \\int κdt \\Rightarrow ln|P|+C_{1} = κt + C_{2} \\Rightarrow ln|P| = κt + C $$\n",
    "\n",
    "&nbsp; Isolando <b>P</b>,temos:\n",
    "\n",
    "$$ P = e^{κt + C}$$ \n",
    "\n",
    "&nbsp; Tomando $e^{C}$ como a população inicial $P_{0}$ temos a solução analítica do problema de contorno:\n",
    "\n",
    "$$ P(t) = P_{0}\\:e^{κt}$$ \n",
    "\n",
    "<h2>2.2 &nbsp; Solução do problema de contorno</h2>\n",
    "\n",
    "&nbsp; Em $t=0$ a população era de 186 488 habitantes, logo:\n",
    "\n",
    "$$ P(0)=P_{0}e^{κ(0)} \\Rightarrow 186 \\: 488 = P_{0} $$\n",
    "\n",
    "&nbsp; Dessa forma, $P(t)$:\n",
    "\n",
    "$$ P(t) = 186488\\:e^{κt}$$\n",
    "\n",
    "&nbsp; Mas, em $t=10$ a população era de 197 228, então:\n",
    "\n",
    "$$ P(10) = 186488\\:e^{(10)κ} \\Rightarrow 197228 = 186488\\:e^{10κ} \\Rightarrow \\frac{197228}{186488}=e^{10κ} \\Rightarrow $$ <br> \n",
    "\n",
    "$$ \\Rightarrow ln \\left ( \\frac{197228}{186488} \\right ) = 10κ \\Rightarrow κ=\\frac{1}{10}ln \\left ( \\frac{197228}{186488} \\right ) \\approx 0.0056$$\n",
    "\n",
    "&nbsp; Portanto, segundo o modelo de Malthus, a equação que descreve o número de habitantes de Rio Grande - RS sob as condições do enunciado é dada por:\n",
    "\n",
    "$$ P(t)=186488e^{0.0056t}$$\n",
    "\n",
    "<h2>2.3 &nbsp; População estimada para 2021</h2>\n",
    "\n",
    "&nbsp;  Uma vez que temos a solução particular $P(t)$ basta obter o valor da função em $t=21$:<br><p></p>\n",
    "\n",
    "$$ P(21)=186488e^{0.0056(21)}=209761$$\n",
    "\n",
    "&nbsp; Portanto, a população estimada é de 209 761 habitantes\n",
    "\n",
    "<h2>2.4 &nbsp; Comparação de resultados</h2>\n",
    "\n",
    "&nbsp; Segundo o IBGE a população real (estimada) para 2021 é de 212 881 habitantes.\n",
    "<br>\n",
    "&nbsp; A diferença entre os resultados obtidos a partir do modelo de Malthus e do IBGE é de 3 120 habitantes. A tabela a seguir apresenta a discrepância entre os resultados do modelo de Malthus e IBGE para a população de Rio Grande em 2021\n",
    "\n",
    "<center> <b>Tabela 1: Discrepância obtida</b></center>\n",
    "\n",
    "| Malthus | IBGE | Erro | Erro(%) |\n",
    "| --- | --- | --- | --- |\n",
    "| 209 761 | 212 881 | 3 120 | 1.46 | \n",
    "\n",
    "<center>Fonte: O autor </center>\n",
    "\n",
    "<h1>3 &nbsp; Emprego das bibliotecas SymPy e NumPy</h1>\n",
    "<h2>3.1 &nbsp; Solução através do SymPy</h2>\n",
    "\n",
    "&nbsp; Importando a biblioteca SymPy."
   ]
  },
  {
   "cell_type": "code",
   "execution_count": 1,
   "id": "3072652b-2fa9-4d0a-8dc5-dea25fd923ff",
   "metadata": {},
   "outputs": [],
   "source": [
    "import sympy as sp"
   ]
  },
  {
   "cell_type": "markdown",
   "id": "21cfc28e-ba85-41be-8c30-6da36c70dafb",
   "metadata": {},
   "source": [
    "Utilizando o SymPy para declarar a função modelo e a variável simbólica."
   ]
  },
  {
   "cell_type": "code",
   "execution_count": 2,
   "id": "a1cc71c7-f59f-4a17-b24a-cdbf3e4b4917",
   "metadata": {},
   "outputs": [],
   "source": [
    "#Função\n",
    "P = sp.Function(\"P\")\n",
    "\n",
    "#Variável\n",
    "t = sp.Symbol(\"t\")"
   ]
  },
  {
   "cell_type": "markdown",
   "id": "3b661353-668f-4fc2-a289-b841bee7dc76",
   "metadata": {},
   "source": [
    "Construindo a EDO"
   ]
  },
  {
   "cell_type": "code",
   "execution_count": 3,
   "id": "8f437339-fbc2-4d0b-a077-e404b1bc0e84",
   "metadata": {},
   "outputs": [
    {
     "data": {
      "text/latex": [
       "$\\displaystyle \\frac{d}{d t} P{\\left(t \\right)} = 0.0056 P{\\left(t \\right)}$"
      ],
      "text/plain": [
       "Eq(Derivative(P(t), t), 0.0056*P(t))"
      ]
     },
     "execution_count": 3,
     "metadata": {},
     "output_type": "execute_result"
    }
   ],
   "source": [
    "eq_dif = sp.Eq(P(t).diff(t),0.0056*P(t))\n",
    "eq_dif"
   ]
  },
  {
   "cell_type": "markdown",
   "id": "61120eff-aca7-48d8-9dad-bb3c5b174c51",
   "metadata": {},
   "source": [
    "<h3>sympy.dsolve()</h3>"
   ]
  },
  {
   "cell_type": "code",
   "execution_count": 4,
   "id": "8b62f89c-793f-48b6-8a57-13927065cb7d",
   "metadata": {},
   "outputs": [
    {
     "data": {
      "text/latex": [
       "$\\displaystyle P{\\left(t \\right)} = 186486.792693391 e^{0.0056 t}$"
      ],
      "text/plain": [
       "Eq(P(t), 186486.792693391*exp(0.0056*t))"
      ]
     },
     "execution_count": 4,
     "metadata": {},
     "output_type": "execute_result"
    }
   ],
   "source": [
    "#Obtendo solução particular\n",
    "sg = sp.dsolve(eq_dif,ics={P(10):197228})\n",
    "sg"
   ]
  },
  {
   "cell_type": "markdown",
   "id": "95cb70c7-0346-4783-9479-3beb2559b41c",
   "metadata": {},
   "source": [
    "<h2>3.2 &nbsp; Solução através do SciPy</h2>\n",
    "\n",
    "&nbsp; Importando as bibliotecas Numpy e SciPy:"
   ]
  },
  {
   "cell_type": "code",
   "execution_count": 5,
   "id": "da94056d-301c-4fb6-abd7-3f2a1b1a3d53",
   "metadata": {},
   "outputs": [],
   "source": [
    "import numpy as np\n",
    "import scipy.integrate as sciInt"
   ]
  },
  {
   "cell_type": "markdown",
   "id": "8def0f34-da05-45cf-a4ec-d7e891a2d90b",
   "metadata": {},
   "source": [
    "Escrevendo arquivo contendo a função <i><b>modelo(\t&lt;população>,\t&lt;tempo>)</b></i> contendo o modelo matemático do fenômeno:"
   ]
  },
  {
   "cell_type": "code",
   "execution_count": 6,
   "id": "1afb4a0b-349a-43b1-b2f7-1b8619493726",
   "metadata": {},
   "outputs": [
    {
     "name": "stdout",
     "output_type": "stream",
     "text": [
      "Overwriting ../python/modelo_malthus.py\n"
     ]
    }
   ],
   "source": [
    "%%writefile ../python/modelo_malthus.py\n",
    "#Definindo o modelo populacional\n",
    "def modelo(t,P):\n",
    "    return 0.0056*P"
   ]
  },
  {
   "cell_type": "markdown",
   "id": "d0a6c2ae-355a-4288-99d7-6730f016acdd",
   "metadata": {},
   "source": [
    "Criando o vetor tempo de 10 à 21"
   ]
  },
  {
   "cell_type": "code",
   "execution_count": 7,
   "id": "6efaaa9a-5dbc-43ef-b0f3-4d1f6f19cf00",
   "metadata": {},
   "outputs": [
    {
     "data": {
      "text/plain": [
       "array([10.        , 10.2244898 , 10.44897959, 10.67346939, 10.89795918,\n",
       "       11.12244898, 11.34693878, 11.57142857, 11.79591837, 12.02040816,\n",
       "       12.24489796, 12.46938776, 12.69387755, 12.91836735, 13.14285714,\n",
       "       13.36734694, 13.59183673, 13.81632653, 14.04081633, 14.26530612,\n",
       "       14.48979592, 14.71428571, 14.93877551, 15.16326531, 15.3877551 ,\n",
       "       15.6122449 , 15.83673469, 16.06122449, 16.28571429, 16.51020408,\n",
       "       16.73469388, 16.95918367, 17.18367347, 17.40816327, 17.63265306,\n",
       "       17.85714286, 18.08163265, 18.30612245, 18.53061224, 18.75510204,\n",
       "       18.97959184, 19.20408163, 19.42857143, 19.65306122, 19.87755102,\n",
       "       20.10204082, 20.32653061, 20.55102041, 20.7755102 , 21.        ])"
      ]
     },
     "execution_count": 7,
     "metadata": {},
     "output_type": "execute_result"
    }
   ],
   "source": [
    "#t = np.linspace(10,21)\n",
    "t = np.linspace(0,21)\n",
    "t"
   ]
  },
  {
   "cell_type": "markdown",
   "id": "59841403-5848-4db4-abb2-a46fc6966397",
   "metadata": {},
   "source": [
    "Carregando o diretório python/ que contém as funções escritas ao longo dos tópico e importando o <b>modelo</b>:"
   ]
  },
  {
   "cell_type": "code",
   "execution_count": 8,
   "id": "5fec89b8-4370-462b-9a6f-af83ec390286",
   "metadata": {},
   "outputs": [],
   "source": [
    "import sys\n",
    "sys.path.insert(0,'../python')\n",
    "from modelo_malthus import modelo"
   ]
  },
  {
   "cell_type": "markdown",
   "id": "bbf1da61-dc21-41f9-87ed-55e77542bb4d",
   "metadata": {},
   "source": [
    "<h3>scipy.integrate.odeint()</h3>"
   ]
  },
  {
   "cell_type": "markdown",
   "id": "de6b4b92-4ff2-40aa-81b5-5a813d9549f5",
   "metadata": {},
   "source": [
    "Método: LSODA"
   ]
  },
  {
   "cell_type": "code",
   "execution_count": 9,
   "id": "751bd78c-173a-49d4-b7f9-059e43f525a1",
   "metadata": {},
   "outputs": [
    {
     "data": {
      "text/plain": [
       "array([[186488.        ],\n",
       "       [186722.58972216],\n",
       "       [186957.4747602 ],\n",
       "       [187192.65512325],\n",
       "       [187428.13118303],\n",
       "       [187663.90373156],\n",
       "       [187899.97279495],\n",
       "       [188136.33748033],\n",
       "       [188373.00172223],\n",
       "       [188609.96307365],\n",
       "       [188847.22193246],\n",
       "       [189084.77892446],\n",
       "       [189322.63453848],\n",
       "       [189560.78920921],\n",
       "       [189799.24337139],\n",
       "       [190037.99745971],\n",
       "       [190277.05190889],\n",
       "       [190516.40715364],\n",
       "       [190756.06362868],\n",
       "       [190996.02176871],\n",
       "       [191236.28198903],\n",
       "       [191476.8445005 ],\n",
       "       [191717.70963091],\n",
       "       [191958.87776009],\n",
       "       [192200.34926789],\n",
       "       [192442.12453415],\n",
       "       [192684.20393871],\n",
       "       [192926.58786141],\n",
       "       [193169.27668211],\n",
       "       [193412.27078063],\n",
       "       [193655.57053831],\n",
       "       [193899.17635411],\n",
       "       [194143.08861744],\n",
       "       [194387.30771288],\n",
       "       [194631.83402502],\n",
       "       [194876.66793846],\n",
       "       [195121.80983776],\n",
       "       [195367.26010753],\n",
       "       [195613.01913234],\n",
       "       [195859.08729678],\n",
       "       [196105.46516617],\n",
       "       [196352.15272241],\n",
       "       [196599.15062145],\n",
       "       [196846.45924876],\n",
       "       [197094.07899031],\n",
       "       [197342.01023255],\n",
       "       [197590.25336241],\n",
       "       [197838.80876732],\n",
       "       [198087.67683519],\n",
       "       [198336.85795442]])"
      ]
     },
     "execution_count": 9,
     "metadata": {},
     "output_type": "execute_result"
    }
   ],
   "source": [
    "sol1 = sciInt.odeint(modelo, y0=186488, t=t, tfirst=True)\n",
    "sol1"
   ]
  },
  {
   "cell_type": "markdown",
   "id": "b027828d-7191-4b56-957f-c082b3288ac0",
   "metadata": {},
   "source": [
    "<h3>scipy.integrate.solve_ivp()</h3>"
   ]
  },
  {
   "cell_type": "markdown",
   "id": "b8a44255-3e15-4448-90b8-93c28a73c71e",
   "metadata": {},
   "source": [
    "  Método: RK45 (Padrão)"
   ]
  },
  {
   "cell_type": "code",
   "execution_count": 10,
   "id": "6a57f5a8-58ed-4464-bd91-f3ec47f8d53f",
   "metadata": {},
   "outputs": [
    {
     "data": {
      "text/plain": [
       "  message: 'The solver successfully reached the end of the integration interval.'\n",
       "     nfev: 20\n",
       "     njev: 0\n",
       "      nlu: 0\n",
       "      sol: None\n",
       "   status: 0\n",
       "  success: True\n",
       "        t: array([10.        , 10.2244898 , 10.44897959, 10.67346939, 10.89795918,\n",
       "       11.12244898, 11.34693878, 11.57142857, 11.79591837, 12.02040816,\n",
       "       12.24489796, 12.46938776, 12.69387755, 12.91836735, 13.14285714,\n",
       "       13.36734694, 13.59183673, 13.81632653, 14.04081633, 14.26530612,\n",
       "       14.48979592, 14.71428571, 14.93877551, 15.16326531, 15.3877551 ,\n",
       "       15.6122449 , 15.83673469, 16.06122449, 16.28571429, 16.51020408,\n",
       "       16.73469388, 16.95918367, 17.18367347, 17.40816327, 17.63265306,\n",
       "       17.85714286, 18.08163265, 18.30612245, 18.53061224, 18.75510204,\n",
       "       18.97959184, 19.20408163, 19.42857143, 19.65306122, 19.87755102,\n",
       "       20.10204082, 20.32653061, 20.55102041, 20.7755102 , 21.        ])\n",
       " t_events: None\n",
       "        y: array([[197229.27736738, 197477.3786612 , 197725.79204819,\n",
       "        197974.51792101, 198223.55667278, 198472.90869717,\n",
       "        198722.57438831, 198972.55414087, 199222.84835   ,\n",
       "        199473.45741135, 199724.38172108, 199975.62167586,\n",
       "        200227.17767286, 200479.05010974, 200731.23938466,\n",
       "        200983.74589632, 201236.57004387, 201489.712227  ,\n",
       "        201743.1728459 , 201996.95230123, 202251.0509942 ,\n",
       "        202505.46932649, 202760.20770028, 203015.26651829,\n",
       "        203270.64618369, 203526.3471002 , 203782.369672  ,\n",
       "        204038.71430382, 204295.38140085, 204552.37136881,\n",
       "        204809.6846139 , 205067.32154285, 205325.28256286,\n",
       "        205583.56808167, 205842.17850749, 206101.11424905,\n",
       "        206360.37571557, 206619.9633168 , 206879.87746295,\n",
       "        207140.11856478, 207400.68703351, 207661.58328088,\n",
       "        207922.80771915, 208184.36076106, 208446.24281985,\n",
       "        208708.45430928, 208970.9956436 , 209233.86723758,\n",
       "        209497.06950646, 209760.60286601]])\n",
       " y_events: None"
      ]
     },
     "execution_count": 10,
     "metadata": {},
     "output_type": "execute_result"
    }
   ],
   "source": [
    "sol2 = sciInt.solve_ivp(modelo, t_span=(0,max(t)), y0=[186488], t_eval=t)\n",
    "sol2"
   ]
  },
  {
   "cell_type": "markdown",
   "id": "75f93fee-d4a8-4aa7-b919-0b5bfe8f65cb",
   "metadata": {},
   "source": [
    "<h2>2.4 &nbsp;  Esboço do gráfico através do Matplotlib</h2>\n",
    "Esboço das soluções pelo SymPy e SciPy (LSODA e RK45) de 2010 à 2021."
   ]
  },
  {
   "cell_type": "code",
   "execution_count": 11,
   "id": "4884ebae-5450-4ee7-88a5-68e3f73c932f",
   "metadata": {},
   "outputs": [],
   "source": [
    "#importando a biblioteca Matplotlib\n",
    "import matplotlib.pyplot as plt"
   ]
  },
  {
   "cell_type": "markdown",
   "id": "9307791f-435c-4a29-8d61-8c057822b89a",
   "metadata": {},
   "source": [
    "<h3>Sympy</h3>"
   ]
  },
  {
   "cell_type": "code",
   "execution_count": 12,
   "id": "bc95e8c2-9c11-4c3c-b4b3-e9f458c76006",
   "metadata": {},
   "outputs": [
    {
     "data": {
      "image/png": "[encoded data removed]",
      "text/plain": [
       "<Figure size 432x288 with 1 Axes>"
      ]
     },
     "metadata": {
      "needs_background": "light"
     },
     "output_type": "display_data"
    },
    {
     "name": "stdout",
     "output_type": "stream",
     "text": [
      "Simulação para 2021: 198336.8591309244\n"
     ]
    }
   ],
   "source": [
    "#Solução pelo SymPy\n",
    "plt.plot(t,176331.702373928*np.exp(0.0056*t),\"b\") \n",
    "\n",
    "#Exibindo figura\n",
    "plt.title(\"Simulação populacional de Rio Grande\")\n",
    "plt.xlabel(\"Anos+2*10^3\")\n",
    "plt.ylabel(\"Número de habitantes\")\n",
    "plt.show()\n",
    "\n",
    "print(\"Simulação para 2021:\",176331.702373928*np.exp(0.0056*21))"
   ]
  },
  {
   "cell_type": "markdown",
   "id": "3b9e9e46-9ce8-44e1-8ef1-788e6e799c49",
   "metadata": {},
   "source": [
    "<h3>SciPy (LSODA)</h3>"
   ]
  },
  {
   "cell_type": "code",
   "execution_count": 13,
   "id": "d52cf21c-e011-4b00-a86e-47cbef05510d",
   "metadata": {},
   "outputs": [
    {
     "data": {
      "image/png": "[encoded data removed]",
      "text/plain": [
       "<Figure size 432x288 with 1 Axes>"
      ]
     },
     "metadata": {
      "needs_background": "light"
     },
     "output_type": "display_data"
    },
    {
     "name": "stdout",
     "output_type": "stream",
     "text": [
      "Simulação para 2021: [198336.85795442]\n"
     ]
    }
   ],
   "source": [
    "#Solução pelo LSODA\n",
    "plt.plot(t,sol1,\"g\")\n",
    "\n",
    "#Exibindo figura\n",
    "plt.title(\"Simulação populacional de Rio Grande\")\n",
    "plt.xlabel(\"Anos (Ano+2*10^3)\")\n",
    "plt.ylabel(\"Número de habitantes\")\n",
    "plt.show()\n",
    "\n",
    "print(\"Simulação para 2021:\",sol1[sol1.shape[0]-1])"
   ]
  },
  {
   "cell_type": "markdown",
   "id": "2ad09e14-bc7b-4431-8b17-cc426ec975ef",
   "metadata": {},
   "source": [
    "<h3>SciPy (RK45)</h3>"
   ]
  },
  {
   "cell_type": "code",
   "execution_count": 14,
   "id": "094fa04f-3df5-46f0-b258-749a876a2a5d",
   "metadata": {},
   "outputs": [
    {
     "data": {
      "image/png": "[encoded data removed]",
      "text/plain": [
       "<Figure size 432x288 with 1 Axes>"
      ]
     },
     "metadata": {
      "needs_background": "light"
     },
     "output_type": "display_data"
    },
    {
     "name": "stdout",
     "output_type": "stream",
     "text": [
      "Simulação para 2021: 209760.60286601182\n"
     ]
    }
   ],
   "source": [
    "#solução pelo SciPy (RK45)\n",
    "plt.plot(t,sol2.y[0],\"b\")\n",
    "\n",
    "#Exibindo figura\n",
    "plt.title(\"Simulação populacional de Rio Grande\")\n",
    "plt.xlabel(\"Anos (Ano+2*10^3)\")\n",
    "plt.ylabel(\"Número de habitantes\")\n",
    "plt.show()\n",
    "\n",
    "print(\"Simulação para 2021:\",sol2.y[0][sol2.y[0].shape[0]-1])"
   ]
  }
 ],
 "metadata": {
  "kernelspec": {
   "display_name": "Python 3 (ipykernel)",
   "language": "python",
   "name": "python3"
  },
  "language_info": {
   "codemirror_mode": {
    "name": "ipython",
    "version": 3
   },
   "file_extension": ".py",
   "mimetype": "text/x-python",
   "name": "python",
   "nbconvert_exporter": "python",
   "pygments_lexer": "ipython3",
   "version": "3.10.2"
  }
 },
 "nbformat": 4,
 "nbformat_minor": 5
}
