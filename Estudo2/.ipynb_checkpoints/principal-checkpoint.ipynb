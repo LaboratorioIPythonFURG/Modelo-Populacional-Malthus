{
 "cells": [
  {
   "cell_type": "code",
   "execution_count": 1,
   "id": "6db711b6-37f4-4ec4-8476-f307c0374c79",
   "metadata": {},
   "outputs": [],
   "source": [
    "import numpy as np\n",
    "import pandas\n",
    "import matplotlib.pyplot as plt\n",
    "import sys\n",
    "sys.path.insert(0,'Python/')"
   ]
  },
  {
   "cell_type": "code",
   "execution_count": 2,
   "id": "34c3d39f-f03e-497a-aea0-d87a083e0206",
   "metadata": {},
   "outputs": [],
   "source": [
    "from modelos import Verhulst\n",
    "from parametros import K_Verhulst,r_Verhulst\n",
    "from solucionadores import EulerModificado\n",
    "from parametros import tm\n",
    "from parametros import polinomio"
   ]
  },
  {
   "cell_type": "code",
   "execution_count": 3,
   "id": "854701fa-e397-42d2-ab7b-27babd457106",
   "metadata": {},
   "outputs": [
    {
     "data": {
      "text/html": [
       "<div>\n",
       "<style scoped>\n",
       "    .dataframe tbody tr th:only-of-type {\n",
       "        vertical-align: middle;\n",
       "    }\n",
       "\n",
       "    .dataframe tbody tr th {\n",
       "        vertical-align: top;\n",
       "    }\n",
       "\n",
       "    .dataframe thead th {\n",
       "        text-align: right;\n",
       "    }\n",
       "</style>\n",
       "<table border=\"1\" class=\"dataframe\">\n",
       "  <thead>\n",
       "    <tr style=\"text-align: right;\">\n",
       "      <th></th>\n",
       "      <th>Ano</th>\n",
       "      <th>Populacao</th>\n",
       "    </tr>\n",
       "  </thead>\n",
       "  <tbody>\n",
       "    <tr>\n",
       "      <th>0</th>\n",
       "      <td>1991</td>\n",
       "      <td>9138670</td>\n",
       "    </tr>\n",
       "    <tr>\n",
       "      <th>1</th>\n",
       "      <td>2000</td>\n",
       "      <td>10187798</td>\n",
       "    </tr>\n",
       "    <tr>\n",
       "      <th>2</th>\n",
       "      <td>2010</td>\n",
       "      <td>10693929</td>\n",
       "    </tr>\n",
       "  </tbody>\n",
       "</table>\n",
       "</div>"
      ],
      "text/plain": [
       "    Ano  Populacao\n",
       "0  1991    9138670\n",
       "1  2000   10187798\n",
       "2  2010   10693929"
      ]
     },
     "execution_count": 3,
     "metadata": {},
     "output_type": "execute_result"
    }
   ],
   "source": [
    "dados = pandas.read_excel(\"Planilhas/dados_populacionais.xlsx\")\n",
    "\n",
    "dados"
   ]
  },
  {
   "cell_type": "code",
   "execution_count": 14,
   "id": "bdf883df-3668-4b89-93c6-19b6b0751f51",
   "metadata": {},
   "outputs": [
    {
     "data": {
      "text/plain": [
       "-1090112.509859726"
      ]
     },
     "execution_count": 14,
     "metadata": {},
     "output_type": "execute_result"
    }
   ],
   "source": [
    "K = K_Verhulst(dados['Populacao'][0],dados['Populacao'][1],dados['Populacao'][2])\n",
    "K "
   ]
  },
  {
   "cell_type": "code",
   "execution_count": 15,
   "id": "747fe103-e829-4495-9ce5-8acc4bd71978",
   "metadata": {},
   "outputs": [
    {
     "data": {
      "text/plain": [
       "0.0011035439731889396"
      ]
     },
     "execution_count": 15,
     "metadata": {},
     "output_type": "execute_result"
    }
   ],
   "source": [
    "r = r_Verhulst(dados['Populacao'][0],dados['Populacao'][1],K,10)\n",
    "r"
   ]
  },
  {
   "cell_type": "code",
   "execution_count": 16,
   "id": "c5298c64-a409-4f9f-acd1-c59ade94073a",
   "metadata": {},
   "outputs": [
    {
     "data": {
      "text/plain": [
       "{'r': 0.0011035439731889396, 'K': -1090112.509859726}"
      ]
     },
     "execution_count": 16,
     "metadata": {},
     "output_type": "execute_result"
    }
   ],
   "source": [
    "params = dict({'r': r ,'K': K})\n",
    "#params = dict({'r': 0.04285 ,'K': 218858})\n",
    "params\n"
   ]
  },
  {
   "cell_type": "code",
   "execution_count": 26,
   "id": "bc4a7d37-a3db-42b7-80bd-bd88ecb12b05",
   "metadata": {},
   "outputs": [
    {
     "data": {
      "text/plain": [
       "11492688"
      ]
     },
     "execution_count": 26,
     "metadata": {},
     "output_type": "execute_result"
    }
   ],
   "source": [
    "vt = np.linspace(0,10+10,200)\n",
    "\n",
    "simulacao = EulerModificado(vt,dados['Populacao'][0],Verhulst,params) \n",
    "\n",
    "round(simulacao[-1])"
   ]
  },
  {
   "cell_type": "code",
   "execution_count": 8,
   "id": "8f97eac3-595b-4844-8922-33a85cbca170",
   "metadata": {},
   "outputs": [],
   "source": [
    "#plt.plot(vt,simulacao,'b',label='Modelo de Malthus')\n",
    "\n",
    "#plt.title('Simulação populacional pelo método RK4')\n",
    "#plt.xlabel('Tempo (Anos)')\n",
    "#plt.ylabel('Número de habiltantes')\n",
    "#plt.legend()\n",
    "#plt.yscale(\"log\")\n",
    "#plt.xscale(\"log\")\n",
    "plt.show()"
   ]
  },
  {
   "cell_type": "code",
   "execution_count": 9,
   "id": "50a65582-33c3-4a5b-bfa9-7a084825002f",
   "metadata": {},
   "outputs": [
    {
     "data": {
      "text/plain": [
       "6.2751433038040645"
      ]
     },
     "execution_count": 9,
     "metadata": {},
     "output_type": "execute_result"
    }
   ],
   "source": [
    "((203942-191900)/191900)*100"
   ]
  }
 ],
 "metadata": {
  "kernelspec": {
   "display_name": "Python 3 (ipykernel)",
   "language": "python",
   "name": "python3"
  },
  "language_info": {
   "codemirror_mode": {
    "name": "ipython",
    "version": 3
   },
   "file_extension": ".py",
   "mimetype": "text/x-python",
   "name": "python",
   "nbconvert_exporter": "python",
   "pygments_lexer": "ipython3",
   "version": "3.10.2"
  }
 },
 "nbformat": 4,
 "nbformat_minor": 5
}
