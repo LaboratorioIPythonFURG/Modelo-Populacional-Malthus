{
 "cells": [
  {
   "cell_type": "markdown",
   "id": "7cfe0448-01ce-418d-bcfa-c69e4045b9b3",
   "metadata": {},
   "source": [
    "<h1 style='color:#0000ec'>8 &nbsp;Estudo comparativo - Soluções numéricas e analítica</h1>"
   ]
  },
  {
   "cell_type": "markdown",
   "id": "8e7a6f2e-e763-4271-b87d-34a3327ee36b",
   "metadata": {},
   "source": [
    "&nbsp; &nbsp; &nbsp; Importando bibliotecas <i><b>Numpy</b></i> e <i><b>Matplotlib</b></i>:"
   ]
  },
  {
   "cell_type": "code",
   "execution_count": 1,
   "id": "1267e598-d6ec-478a-9bb1-fb980e0ba520",
   "metadata": {},
   "outputs": [],
   "source": [
    "import numpy as np\n",
    "import matplotlib.pyplot as plt"
   ]
  },
  {
   "cell_type": "markdown",
   "id": "9f4e4d89-687c-41a3-b41a-a8761e4b8445",
   "metadata": {},
   "source": [
    "&nbsp; &nbsp; &nbsp; Importando bibliotecas <i><b>SciPy</b></i> :"
   ]
  },
  {
   "cell_type": "code",
   "execution_count": 2,
   "id": "ad8a3c87-7f4d-4173-842e-673eaf31305e",
   "metadata": {},
   "outputs": [],
   "source": [
    "import scipy.integrate as sciInt"
   ]
  },
  {
   "cell_type": "markdown",
   "id": "822e4328-d74f-40ff-9699-ced153e04f2b",
   "metadata": {},
   "source": [
    "&nbsp; &nbsp; &nbsp; Importando os modelos de <b>Malthus</b> e <b>Verhulst</b>:"
   ]
  },
  {
   "cell_type": "code",
   "execution_count": 3,
   "id": "cad65a33-a0ee-4b6f-a70f-f9e261642af8",
   "metadata": {},
   "outputs": [],
   "source": [
    "import sys\n",
    "sys.path.insert(0,'../python')\n",
    "\n",
    "from modelo_malthus import modelo_malthus\n",
    "from modelo_verhulst import modelo_verhulst"
   ]
  },
  {
   "cell_type": "markdown",
   "id": "45c281b4-b616-4ece-98bc-b1e11d62ef1e",
   "metadata": {},
   "source": [
    "&nbsp; &nbsp; &nbsp; Importando os métodos de solução:"
   ]
  },
  {
   "cell_type": "code",
   "execution_count": 4,
   "id": "c5c5af53-054a-4ac0-a3c7-6cdab183bb27",
   "metadata": {},
   "outputs": [],
   "source": [
    "from sol_euler import sol_euler\n",
    "from sol_euler_mod import sol_euler_mod\n",
    "from sol_rk4 import sol_rk4"
   ]
  },
  {
   "cell_type": "markdown",
   "id": "a88e7388-6146-4429-848d-3b9afe637c95",
   "metadata": {},
   "source": [
    "&nbsp; &nbsp; &nbsp; Declarando vetor contendo a população de Rio Grande, segundo o DATASUS, entre os anos de 2010 e 2012."
   ]
  },
  {
   "cell_type": "code",
   "execution_count": 5,
   "id": "a01a630c-4846-469d-b18e-00c6f59eb06d",
   "metadata": {},
   "outputs": [],
   "source": [
    "dados_datasus = [197228, 198049, 198842]"
   ]
  },
  {
   "cell_type": "markdown",
   "id": "4a5925fd-dd37-491c-9cfb-aa4b48fc63ef",
   "metadata": {},
   "source": [
    "<h2 style='color:#0000b7' >&nbsp; 8.1 &nbsp;Obtendo aproximações</h2>"
   ]
  },
  {
   "cell_type": "markdown",
   "id": "7891ea2d-a66c-42e0-ac06-3b768d2a5193",
   "metadata": {},
   "source": [
    "&nbsp; &nbsp; &nbsp; Declarando o passo de derivação <b>h</b>, a condição inicial <b>T0</b>, o tempo inicial <b>ti</b>, o tempo final <b>tf</b> e o intervalo de tempo <b>vt</b>:"
   ]
  },
  {
   "cell_type": "code",
   "execution_count": 6,
   "id": "a092555b-b25d-46cb-bda2-d303dd1c5ab0",
   "metadata": {},
   "outputs": [],
   "source": [
    "h = 0.001 #Passo de derivação\n",
    "\n",
    "P0 = 197228 #Condição inicial\n",
    "\n",
    "ti = 0 #tempo inicial\n",
    "\n",
    "tf = 12 #tempo final\n",
    "\n",
    "vt = np.arange(ti,tf,h) #Intervalo de 10 à 21 anos com passo h"
   ]
  },
  {
   "cell_type": "markdown",
   "id": "e3f11542-aba1-4fef-9c9c-063060aa013d",
   "metadata": {},
   "source": [
    "&nbsp; &nbsp; &nbsp; Obtendo solução analítica e segundo os métodos <b>LSODA</b>, <b>RK45</b>, <b>Euler</b>, <b>Euler modificado</b> e <b>RK4</b> para o modelo de <b>Malthus</b>:"
   ]
  },
  {
   "cell_type": "code",
   "execution_count": 7,
   "id": "05f40473-9bcf-4c6c-be0f-69a3a55e6d97",
   "metadata": {
    "tags": []
   },
   "outputs": [],
   "source": [
    "malthus_analitico = 186488*np.exp(0.00407*vt)\n",
    "\n",
    "malthus_sympy = 186488*np.exp(0.00407*vt)\n",
    "\n",
    "malthus_lsoda = sciInt.odeint(modelo_malthus, y0=P0, t=vt, tfirst=True)\n",
    "\n",
    "malthus_rk45 = sciInt.solve_ivp(modelo_malthus, t_span=(0,max(vt)), y0=[P0], t_eval=vt)\n",
    "\n",
    "malthus_euler = sol_euler(vt,P0,'malthus')\n",
    "\n",
    "malthus_euler_mod = sol_euler_mod(vt,P0,'malthus')\n",
    "\n",
    "malthus_rk4 = sol_rk4(vt,P0,'malthus')"
   ]
  },
  {
   "cell_type": "markdown",
   "id": "f810e3fe-bd46-49a6-ac9c-4e85bb7c9943",
   "metadata": {},
   "source": [
    "&nbsp; &nbsp; &nbsp; Obtendo solução analítica e segundo os métodos <b>LSODA</b>, <b>RK45</b>, <b>Euler</b>, <b>Euler modificado</b> e <b>RK4</b> para o modelo de <b>Verhulst</b>:"
   ]
  },
  {
   "cell_type": "code",
   "execution_count": 8,
   "id": "ed6a9f8a-1e2f-4b38-b3e5-25bc62555cac",
   "metadata": {},
   "outputs": [],
   "source": [
    "verhulst_analitico = (218858*197228*np.exp(0.04285*vt))/(218858+197228*(np.exp(0.04285*vt)-1))\n",
    "\n",
    "verhulst_sympy = 218858/(1+0.109670026568236*np.exp(-0.04285*vt))\n",
    "\n",
    "verhulst_lsoda = sciInt.odeint(modelo_verhulst, y0=P0, t=vt, tfirst=True)\n",
    "\n",
    "verhulst_rk45 = sciInt.solve_ivp(modelo_verhulst, t_span=(0,max(vt)), y0=[P0], t_eval=vt)\n",
    "\n",
    "verhulst_euler = sol_euler(vt,P0,'verhulst')\n",
    "\n",
    "verhulst_euler_mod = sol_euler_mod(vt,P0,'verhulst')\n",
    "\n",
    "verhulst_rk4 = sol_rk4(vt,P0,'verhulst')"
   ]
  },
  {
   "cell_type": "code",
   "execution_count": 9,
   "id": "9338bd3f-c913-461f-9165-00977e16b7e8",
   "metadata": {},
   "outputs": [
    {
     "name": "stdout",
     "output_type": "stream",
     "text": [
      "197228.0\n"
     ]
    }
   ],
   "source": [
    "print(malthus_rk45.y[0][0])"
   ]
  },
  {
   "cell_type": "markdown",
   "id": "ec9b1974-0e40-4df5-8638-4356624940b2",
   "metadata": {
    "tags": []
   },
   "source": [
    "<h2 style='color:#0000b7' >&nbsp; 8.2 &nbsp;Calculando o erro para 2010-2012</h2>"
   ]
  },
  {
   "cell_type": "markdown",
   "id": "b4636b77-ddd9-4ea4-9706-58d5e2c6870e",
   "metadata": {},
   "source": [
    "&nbsp; &nbsp; &nbsp; A seguir, escrevemos a função <i><b>erro_datasus(\t&lt;dados do DATASUS>,\t&lt;Vetor solução>)</b></i> o erro das soluções obtidas com relação a população fornecida pelo DATASUS."
   ]
  },
  {
   "cell_type": "code",
   "execution_count": 10,
   "id": "5d3310a3-3f9b-4b80-904d-83d044508e7e",
   "metadata": {},
   "outputs": [
    {
     "name": "stdout",
     "output_type": "stream",
     "text": [
      "Overwriting ../python/erro_datasus.py\n"
     ]
    }
   ],
   "source": [
    "%%writefile ../python/erro_datasus.py\n",
    "\n",
    "import numpy as np\n",
    "\n",
    "def erro_datasus(dados_datasus,solucoes,metodo):\n",
    "    \n",
    "    dados = [[0, 0, 0]]\n",
    "    \n",
    "    for i in range(0,3):\n",
    "        \n",
    "        if metodo=='lsoda':\n",
    "            \n",
    "            solucao = solucoes[i][0]\n",
    "            \n",
    "        elif metodo=='rk45':\n",
    "            \n",
    "            solucao = solucoes.y[0][i]\n",
    "        \n",
    "        else:\n",
    "            \n",
    "            solucao = solucoes[i]\n",
    "            \n",
    "        erro_hab = dados_datasus[i] - solucao\n",
    "        #print(erro_hab)\n",
    "        erro_perc = (erro_hab/dados_datasus[i])*100\n",
    "        #Adicionando linhas à matriz (tabela)\n",
    "        dados = np.vstack([dados,[solucao,round(erro_hab),str(round(erro_perc,2))+'%']])\n",
    "        \n",
    "    #remove a primeira linha da matriz\n",
    "    dados = np.delete(dados, 0, 0)\n",
    "    \n",
    "    return dados"
   ]
  },
  {
   "cell_type": "markdown",
   "id": "d6b5c74f-e432-42b3-8888-2bccb0fe82f5",
   "metadata": {},
   "source": [
    "&nbsp; &nbsp; &nbsp; Importando função escrita em <b>[9]</b>"
   ]
  },
  {
   "cell_type": "code",
   "execution_count": 11,
   "id": "67d36e94-5f0f-4f54-9b67-0852b6582a19",
   "metadata": {},
   "outputs": [],
   "source": [
    "import sys\n",
    "sys.path.insert(0, '../python')\n",
    "from erro_datasus import erro_datasus"
   ]
  },
  {
   "cell_type": "markdown",
   "id": "d96e302c-c2ec-4060-a2de-d3af8ddddda0",
   "metadata": {},
   "source": [
    "&nbsp; &nbsp; &nbsp; Atribuindo as aproximações à funções <i><b>erro_ibge</b></i>."
   ]
  },
  {
   "cell_type": "code",
   "execution_count": 12,
   "id": "0334e695-18d2-42dc-83a0-a83f9d58de62",
   "metadata": {},
   "outputs": [
    {
     "name": "stdout",
     "output_type": "stream",
     "text": [
      "197228.0\n"
     ]
    }
   ],
   "source": [
    "print(malthus_lsoda[0][0])"
   ]
  },
  {
   "cell_type": "code",
   "execution_count": 13,
   "id": "db69dbe5-cc8b-4d25-a9ce-9f35ebb8909a",
   "metadata": {},
   "outputs": [
    {
     "ename": "TypeError",
     "evalue": "erro_datasus() missing 1 required positional argument: 'metodo'",
     "output_type": "error",
     "traceback": [
      "\u001b[1;31m---------------------------------------------------------------------------\u001b[0m",
      "\u001b[1;31mTypeError\u001b[0m                                 Traceback (most recent call last)",
      "Input \u001b[1;32mIn [13]\u001b[0m, in \u001b[0;36m<module>\u001b[1;34m\u001b[0m\n\u001b[0;32m      3\u001b[0m err_malthus_sympy \u001b[38;5;241m=\u001b[39m erro_datasus(dados_datasus,malthus_sympy,\u001b[38;5;124m'\u001b[39m\u001b[38;5;124m'\u001b[39m)\n\u001b[0;32m      5\u001b[0m err_malthus_lsoda \u001b[38;5;241m=\u001b[39m erro_datasus(dados_datasus,malthus_lsoda,\u001b[38;5;124m'\u001b[39m\u001b[38;5;124mlsoda\u001b[39m\u001b[38;5;124m'\u001b[39m)\n\u001b[1;32m----> 7\u001b[0m err_malthus_rk45 \u001b[38;5;241m=\u001b[39m \u001b[43merro_datasus\u001b[49m\u001b[43m(\u001b[49m\u001b[43mdados_datasus\u001b[49m\u001b[43m,\u001b[49m\u001b[43mmalthus_rk45\u001b[49m\u001b[43m)\u001b[49m\n\u001b[0;32m      9\u001b[0m err_malthus_euler \u001b[38;5;241m=\u001b[39m erro_datasus(dados_datasus,malthus_euler)\n\u001b[0;32m     11\u001b[0m err_malthus_euler_mod \u001b[38;5;241m=\u001b[39m erro_datasus(dados_datasus,malthus_euler_mod)\n",
      "\u001b[1;31mTypeError\u001b[0m: erro_datasus() missing 1 required positional argument: 'metodo'"
     ]
    }
   ],
   "source": [
    "err_malthus_analitico = erro_datasus(dados_datasus,malthus_analitico,'')\n",
    "\n",
    "err_malthus_sympy = erro_datasus(dados_datasus,malthus_sympy,'')\n",
    "\n",
    "err_malthus_lsoda = erro_datasus(dados_datasus,malthus_lsoda,'lsoda')\n",
    "\n",
    "err_malthus_rk45 = erro_datasus(dados_datasus,malthus_rk45)\n",
    "\n",
    "err_malthus_euler = erro_datasus(dados_datasus,malthus_euler)\n",
    "\n",
    "err_malthus_euler_mod = erro_datasus(dados_datasus,malthus_euler_mod)\n",
    "\n",
    "err_malthus_rk4 = erro_datasus(dados_datasus,malthus_euler_rk4)"
   ]
  },
  {
   "cell_type": "markdown",
   "id": "eb8958c6-ffcb-4340-865f-d53713465129",
   "metadata": {},
   "source": [
    "&nbsp; &nbsp; &nbsp; Finalmente, exibimos os dados armazenados:"
   ]
  },
  {
   "cell_type": "code",
   "execution_count": null,
   "id": "32c99bc4-a91f-43c8-bfb8-b714d2c6638e",
   "metadata": {},
   "outputs": [],
   "source": [
    "fig, ax =plt.subplots(1,1)\n",
    "column_labels=['Método', 'Erro absoluto', 'Erro percentual']\n",
    "ax.axis('tight')\n",
    "ax.axis('off')\n",
    "\n",
    "print('Malthus:')\n",
    "ax.table(cellText=dados_malthus,colLabels=column_labels,loc='center')\n",
    "plt.show()"
   ]
  },
  {
   "cell_type": "code",
   "execution_count": null,
   "id": "7949a82b-899b-44be-bc53-13461488521a",
   "metadata": {},
   "outputs": [],
   "source": [
    "fig, ax =plt.subplots(1,1)\n",
    "column_labels=['Método', 'Erro absoluto', 'Erro percentual']\n",
    "ax.axis('tight')\n",
    "ax.axis('off')\n",
    "\n",
    "print('Verhulst')\n",
    "ax.table(cellText=dados_verhulst,colLabels=column_labels,loc='center')\n",
    "plt.show()"
   ]
  },
  {
   "cell_type": "code",
   "execution_count": null,
   "id": "e0e7bc73-69d7-4163-8e1f-4db85e2fdfd7",
   "metadata": {},
   "outputs": [],
   "source": [
    "for i in range(0,3):\n",
    "    print(i)"
   ]
  }
 ],
 "metadata": {
  "kernelspec": {
   "display_name": "Python 3 (ipykernel)",
   "language": "python",
   "name": "python3"
  },
  "language_info": {
   "codemirror_mode": {
    "name": "ipython",
    "version": 3
   },
   "file_extension": ".py",
   "mimetype": "text/x-python",
   "name": "python",
   "nbconvert_exporter": "python",
   "pygments_lexer": "ipython3",
   "version": "3.10.2"
  }
 },
 "nbformat": 4,
 "nbformat_minor": 5
}
