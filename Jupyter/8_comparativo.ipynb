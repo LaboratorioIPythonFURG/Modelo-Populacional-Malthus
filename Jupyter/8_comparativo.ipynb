{
 "cells": [
  {
   "cell_type": "markdown",
   "id": "7cfe0448-01ce-418d-bcfa-c69e4045b9b3",
   "metadata": {},
   "source": [
    "<h1 style='color:#0000ec'>8 &nbsp;Estudo comparativo - Soluções numéricas e analítica</h1>\n",
    "\n",
    "<h2 style='color:#0000b7' >&nbsp; 8.1 &nbsp;Erro absoluto e percentual</h2>\n",
    "\n",
    "&nbsp; &nbsp; &nbsp; Esta seção tem como objetivo comparar a solução analítica e a aproximação numérica com a população estimada para 2021 pelo IBGE.\n",
    "\n",
    "&nbsp; &nbsp; &nbsp; Os resultados obtidos pela solução analítica, pelo método de Euler, Euler modificado e RK4:\n",
    "\n",
    "<center><b>Aproximação populacional pelo modelo de Malthus</b></center>\n",
    "\n",
    "| Método | Número de habitantes |\n",
    "| --- | --- |\n",
    "| LSODA | 209760.59999083 |\n",
    "| Euler | 209759.35909435 |\n",
    "| Euler modificado | 209759.42816025 |\n",
    "|RK4 |209759.42816037 |\n",
    "|RK45|  209760.60286601182|\n",
    "\n",
    "<center>Fonte: O autor</center>\n",
    "\n",
    "<br>\n",
    "\n",
    "<center><b>Aproximação populacional pelo modelo de Verhulst</b></center>\n",
    "\n",
    "| Método | Número de habitantes |\n",
    "| --- | --- |\n",
    "| LSODA | 208447.55940518 |\n",
    "| Euler | 208446.62006659 |\n",
    "| Euler modificado | 208446.56882837 |\n",
    "|RK4 |208446.56882864 |\n",
    "|RK45|  208447.55725928|\n",
    "\n",
    "<center>Fonte: O autor</center>"
   ]
  }
 ],
 "metadata": {
  "kernelspec": {
   "display_name": "Python 3 (ipykernel)",
   "language": "python",
   "name": "python3"
  },
  "language_info": {
   "codemirror_mode": {
    "name": "ipython",
    "version": 3
   },
   "file_extension": ".py",
   "mimetype": "text/x-python",
   "name": "python",
   "nbconvert_exporter": "python",
   "pygments_lexer": "ipython3",
   "version": "3.10.2"
  }
 },
 "nbformat": 4,
 "nbformat_minor": 5
}
