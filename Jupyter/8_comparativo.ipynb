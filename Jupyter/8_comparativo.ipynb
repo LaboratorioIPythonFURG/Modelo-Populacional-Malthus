{
 "cells": [
  {
   "cell_type": "markdown",
   "id": "7cfe0448-01ce-418d-bcfa-c69e4045b9b3",
   "metadata": {},
   "source": [
    "<h1 style='color:#0000ec'>8 &nbsp;Estudo comparativo - Soluções numéricas e analítica</h1>\n",
    "\n",
    "<h2 style='color:#0000b7' >&nbsp; 8.1 &nbsp;Erro absoluto e percentual</h2>\n",
    "\n",
    "&nbsp; &nbsp; &nbsp; Esta seção tem como objetivo comparar a solução analítica e a aproximação numérica com a população estimada para 2021 pelo IBGE.\n",
    "\n",
    "&nbsp; &nbsp; &nbsp; Os resultados obtidos pela solução analítica, pelo método de Euler, Euler modificado e RK4:\n",
    "\n",
    "<center><b>Aproximação populacional pelo modelo de Malthus</b></center>\n",
    "\n",
    "| Método | Número de habitantes |\n",
    "| --- | --- |\n",
    "| LSODA | 209760.59999083 |\n",
    "| Euler | 209759.35909435 |\n",
    "| Euler modificado | 209759.42816025 |\n",
    "|RK4 |209759.42816037 |\n",
    "|RK45|  209760.60286601182|\n",
    "\n",
    "<center>Fonte: O autor</center>\n",
    "\n",
    "<br>\n",
    "\n",
    "<center><b>Aproximação populacional pelo modelo de Verhulst</b></center>\n",
    "\n",
    "| Método | Número de habitantes |\n",
    "| --- | --- |\n",
    "| LSODA | 208447.55940518 |\n",
    "| Euler | 208446.62006659 |\n",
    "| Euler modificado | 208446.56882837 |\n",
    "|RK4 |208446.56882864 |\n",
    "|RK45|  208447.55725928|\n",
    "\n",
    "<center>Fonte: O autor</center>\n",
    "\n",
    "&nbsp; &nbsp; &nbsp; Importando bibliotecas:"
   ]
  },
  {
   "cell_type": "code",
   "execution_count": 1,
   "id": "1267e598-d6ec-478a-9bb1-fb980e0ba520",
   "metadata": {},
   "outputs": [],
   "source": [
    "import numpy as np\n",
    "import matplotlib.pyplot as plt"
   ]
  },
  {
   "cell_type": "markdown",
   "id": "7891ea2d-a66c-42e0-ac06-3b768d2a5193",
   "metadata": {},
   "source": [
    "&nbsp; &nbsp; &nbsp; Declarando o nome dos métodos, aproximações e a população estimada pelo IBGE:"
   ]
  },
  {
   "cell_type": "code",
   "execution_count": null,
   "id": "7d512caf-c08b-4dee-96ed-e27fad084af5",
   "metadata": {},
   "outputs": [],
   "source": [
    "metodos = ['Analítico','LSODA','Euler','Euler modificado','RK4','RK45']\n",
    "\n",
    "solucoes_malthus = [209761,\n",
    "            209760.59999083,\n",
    "            209759.35909435,\n",
    "            209759.42816025,\n",
    "            209759.42816037, \n",
    "            209760.60286601182]\n",
    "\n",
    "solucoes_verhulst = [208447.5573077047,\n",
    "            208447.55940518,\n",
    "            208446.62006659,\n",
    "            208446.56882837,\n",
    "            208446.56882864, \n",
    "            208447.55725928]\n",
    "\n",
    "index = [0,1,2,3,4]\n",
    "\n",
    "solucao_IBGE = 212881\n",
    "\n",
    "dados = [[0, 0, 0]]"
   ]
  },
  {
   "cell_type": "markdown",
   "id": "b4636b77-ddd9-4ea4-9706-58d5e2c6870e",
   "metadata": {},
   "source": [
    "&nbsp; &nbsp; &nbsp; A seguir, obtemos o erro das soluções obtidas com relação a população fornecida pelo IBGE."
   ]
  }
 ],
 "metadata": {
  "kernelspec": {
   "display_name": "Python 3 (ipykernel)",
   "language": "python",
   "name": "python3"
  },
  "language_info": {
   "codemirror_mode": {
    "name": "ipython",
    "version": 3
   },
   "file_extension": ".py",
   "mimetype": "text/x-python",
   "name": "python",
   "nbconvert_exporter": "python",
   "pygments_lexer": "ipython3",
   "version": "3.10.2"
  }
 },
 "nbformat": 4,
 "nbformat_minor": 5
}
