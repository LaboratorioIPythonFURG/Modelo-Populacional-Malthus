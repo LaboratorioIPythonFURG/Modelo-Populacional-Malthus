{
 "cells": [
  {
   "cell_type": "markdown",
   "id": "54835393-ea2c-4496-b118-961b01be564e",
   "metadata": {},
   "source": [
    "<h1 style='color:#0000ec'>4 &nbsp; Emprego da biblioteca SciPy</h1>\n",
    "\n",
    "&nbsp; Importando as bibliotecas <b>Numpy</b>, <b>SciPy</b> e <b>Matplotlib</b>:"
   ]
  },
  {
   "cell_type": "code",
   "execution_count": 1,
   "id": "0bd02821-d47a-4fff-be76-fbf66e775467",
   "metadata": {},
   "outputs": [],
   "source": [
    "import numpy as np\n",
    "import scipy.integrate as sciInt\n",
    "import matplotlib.pyplot as plt"
   ]
  },
  {
   "cell_type": "markdown",
   "id": "191ede47-14c3-4487-aa88-601109217421",
   "metadata": {},
   "source": [
    "&nbsp; Escrevendo arquivo contendo a função <i><b>modelo_malthus(\t&lt;população>,\t&lt;tempo>)</b></i> contendo o modelo matemático do fenômeno:"
   ]
  },
  {
   "cell_type": "code",
   "execution_count": 2,
   "id": "cfaec467-24dd-4641-87e3-630a8f6d411f",
   "metadata": {},
   "outputs": [
    {
     "name": "stdout",
     "output_type": "stream",
     "text": [
      "Overwriting ../python/modelo_malthus.py\n"
     ]
    }
   ],
   "source": [
    "%%writefile ../python/modelo_malthus.py\n",
    "#Definindo o modelo populacional\n",
    "def modelo_malthus(t,P):\n",
    "    return 0.00407*P"
   ]
  },
  {
   "cell_type": "markdown",
   "id": "92338800-fa64-4a36-a1f7-996e93631907",
   "metadata": {},
   "source": [
    "&nbsp; Escrevendo arquivo contendo a função <i><b>modelo_verhulst(\t&lt;população>,\t&lt;tempo>)</b></i> contendo o modelo matemático do fenômeno:"
   ]
  },
  {
   "cell_type": "code",
   "execution_count": 3,
   "id": "64faabde-017d-4647-b9e0-aa0ab09dc499",
   "metadata": {},
   "outputs": [
    {
     "name": "stdout",
     "output_type": "stream",
     "text": [
      "Overwriting ../python/modelo_verhulst.py\n"
     ]
    }
   ],
   "source": [
    "%%writefile ../python/modelo_verhulst.py\n",
    "#Definindo o modelo populacional\n",
    "def modelo_verhulst(t,P):\n",
    "    L = 218858\n",
    "    k = 0.04285\n",
    "    return  (k*(1-P/L))*P"
   ]
  },
  {
   "cell_type": "markdown",
   "id": "aea18141-8e75-4740-9cf8-d9cd37e4b607",
   "metadata": {},
   "source": [
    "&nbsp; Escrevendo arquivo contendo a função <i><b>modelo_montroll(\t&lt;população>,\t&lt;tempo>)</b></i> contendo o modelo matemático do fenômeno:"
   ]
  },
  {
   "cell_type": "code",
   "execution_count": null,
   "id": "8ba56543-aed0-45df-a8d2-b392e0edcf21",
   "metadata": {},
   "outputs": [
    {
     "name": "stdout",
     "output_type": "stream",
     "text": [
      "Overwriting ../python/modelo_verhulst.py\n"
     ]
    }
   ],
   "source": [
    "%%writefile ../python/modelo_montroll.py\n",
    "#Definindo o modelo populacional\n",
    "def modelo_montroll(t,P):\n",
    "    L = 218858\n",
    "    k = 0.004\n",
    "    l = 107.83\n",
    "    return  (k*(1-(P/L)**(l)))*P"
   ]
  },
  {
   "cell_type": "markdown",
   "id": "bcde4177-047a-456f-94d6-3ad837ea726b",
   "metadata": {},
   "source": [
    "&nbsp; Criando o vetor tempo de 10 à 21:"
   ]
  },
  {
   "cell_type": "code",
   "execution_count": 4,
   "id": "3b02c84d-3e09-4a75-874c-363438ec642d",
   "metadata": {},
   "outputs": [
    {
     "name": "stdout",
     "output_type": "stream",
     "text": [
      "[ 0.          0.42857143  0.85714286  1.28571429  1.71428571  2.14285714\n",
      "  2.57142857  3.          3.42857143  3.85714286  4.28571429  4.71428571\n",
      "  5.14285714  5.57142857  6.          6.42857143  6.85714286  7.28571429\n",
      "  7.71428571  8.14285714  8.57142857  9.          9.42857143  9.85714286\n",
      " 10.28571429 10.71428571 11.14285714 11.57142857 12.         12.42857143\n",
      " 12.85714286 13.28571429 13.71428571 14.14285714 14.57142857 15.\n",
      " 15.42857143 15.85714286 16.28571429 16.71428571 17.14285714 17.57142857\n",
      " 18.         18.42857143 18.85714286 19.28571429 19.71428571 20.14285714\n",
      " 20.57142857 21.        ]\n"
     ]
    }
   ],
   "source": [
    "t = np.linspace(0,21) #vetor tempo\n",
    "print(t)\n",
    "P0 = 186488 # população inicial"
   ]
  },
  {
   "cell_type": "markdown",
   "id": "b46a91fe-fe4a-4f99-8303-785fb4060cce",
   "metadata": {},
   "source": [
    "&nbsp; Carregando o diretório <b>python/</b> que contém as funções escritas ao longo dos tópico e importando o <b>modelo</b>:"
   ]
  },
  {
   "cell_type": "code",
   "execution_count": 5,
   "id": "64bec405-051d-42f7-aa04-87b137260e79",
   "metadata": {},
   "outputs": [],
   "source": [
    "import sys\n",
    "sys.path.insert(0,'../python')\n",
    "\n",
    "from modelo_malthus import modelo_malthus\n",
    "from modelo_verhulst import modelo_verhulst\n",
    "from modelo_montroll import modelo_montroll"
   ]
  },
  {
   "cell_type": "markdown",
   "id": "4a434be5-f243-4bca-9b2a-81359daa0689",
   "metadata": {},
   "source": [
    "<h2 style='color:#0000b7' >&nbsp; 4.1 &nbsp;Modelo de Malthus</h2>\n",
    "\n",
    "<h3 style='color:#b50000' >&nbsp; &nbsp; 4.1.1 &nbsp;scipy.integrate.odeint - Método LSODA</h3>"
   ]
  },
  {
   "cell_type": "code",
   "execution_count": 6,
   "id": "cf262467-5abf-4bae-a76b-a11f61c54f2b",
   "metadata": {},
   "outputs": [
    {
     "name": "stdout",
     "output_type": "stream",
     "text": [
      "[[186488.         186936.10907328 187385.29485165 187835.55982436\n",
      "  188286.90687372 188739.33761878 189192.85510744 189647.46222192\n",
      "  190103.16184443 190559.95685719 191017.84997429 191476.84342271\n",
      "  191936.93980267 192398.14175096 192860.45190436 193323.87289963\n",
      "  193788.4074303  194254.05821347 194720.82792168 195188.71922743\n",
      "  195657.73480325 196127.87754588 196599.149657   197071.55426971\n",
      "  197545.09406836 198019.7717438  198495.5899933  198972.55154275\n",
      "  199450.65918686 199929.91567504 200410.32376022 200891.886204\n",
      "  201374.60577664 201858.48525707 202343.5274329  202829.73510041\n",
      "  203317.11106453 203805.65813888 204295.37914357 204786.27687751\n",
      "  205278.35416095 205771.6138302  206266.05872933 206761.69171016\n",
      "  207258.51563229 207756.53336304 208255.74777753 208756.16175862\n",
      "  209257.77819692 209760.59999083]]\n"
     ]
    }
   ],
   "source": [
    "sol = sciInt.odeint(modelo_malthus, y0=P0, t=t, tfirst=True)\n",
    "print(np.transpose(sol))"
   ]
  },
  {
   "cell_type": "markdown",
   "id": "f07dd0fe-7ada-4cc2-84c7-8c06159b0287",
   "metadata": {},
   "source": [
    "&nbsp; &nbsp; &nbsp; &nbsp; Exibindo gráfico <b>vt</b> $\\times$ <b>$P$</b>"
   ]
  },
  {
   "cell_type": "code",
   "execution_count": 7,
   "id": "f1069a63-d631-46c7-a955-a090de2ab6c2",
   "metadata": {},
   "outputs": [
    {
     "data": {
      "image/png": "[encoded data removed]",
      "text/plain": [
       "<Figure size 432x288 with 1 Axes>"
      ]
     },
     "metadata": {
      "needs_background": "light"
     },
     "output_type": "display_data"
    },
    {
     "name": "stdout",
     "output_type": "stream",
     "text": [
      "Simulação para 2021: [209760.59999083]\n",
      "Simulação para 2021 (arredondado): 209761\n"
     ]
    }
   ],
   "source": [
    "plt.plot(t,sol,\"g\")\n",
    "\n",
    "#Exibindo figura\n",
    "plt.title(\"Simulação populacional de Rio Grande\")\n",
    "plt.xlabel(\"Anos\")\n",
    "plt.ylabel(\"Número de habitantes\")\n",
    "plt.yscale(\"log\")\n",
    "plt.xscale(\"log\")\n",
    "plt.show()\n",
    "\n",
    "print(\"Simulação para 2021:\",sol[sol.shape[0]-1])\n",
    "print(\"Simulação para 2021 (arredondado):\",round(sol[sol.shape[0]-1][0]))"
   ]
  },
  {
   "cell_type": "markdown",
   "id": "c82d64b3-7224-4e4c-bc8b-f3e02caf5aa4",
   "metadata": {},
   "source": [
    "<h3 style='color:#b50000' >&nbsp; &nbsp; 4.1.2 &nbsp;scipy.solve_ivp - Método RK45 (Padrão)</h3>"
   ]
  },
  {
   "cell_type": "code",
   "execution_count": 8,
   "id": "e6d8fd66-bc77-40dd-8e4b-da7a0b603311",
   "metadata": {},
   "outputs": [
    {
     "data": {
      "text/plain": [
       "array([186488.        , 186936.10871537, 187385.29418327, 187835.55899097,\n",
       "       188286.90573199, 188739.33700609, 189192.85541929, 189647.46358387,\n",
       "       190103.16412326, 190559.95967192, 191017.85285807, 191476.84631608,\n",
       "       191936.94268699, 192398.14461853, 192860.4547651 , 193323.87578777,\n",
       "       193788.4103543 , 194254.06113911, 194720.83082332, 195188.72209469,\n",
       "       195657.7376477 , 196127.88018346, 196599.15240981, 197071.55704121,\n",
       "       197545.09679884, 198019.77441054, 198495.59261082, 198972.55414087,\n",
       "       199450.66174857, 199929.91818846, 200410.32622176, 200891.88861637,\n",
       "       201374.60814686, 201858.4875945 , 202343.52974719, 202829.73739956,\n",
       "       203317.11335287, 203805.66041509, 204295.38140085, 204786.27913146,\n",
       "       205278.3564349 , 205771.61614584, 206266.06110562, 206761.69416225,\n",
       "       207258.51817043, 207756.53599151, 208255.75049355, 208756.16455127,\n",
       "       209257.78104607, 209760.60286601])"
      ]
     },
     "execution_count": 8,
     "metadata": {},
     "output_type": "execute_result"
    }
   ],
   "source": [
    "sol = sciInt.solve_ivp(modelo_malthus, t_span=(0,max(t)), y0=[P0], t_eval=t)\n",
    "sol.y[0]"
   ]
  },
  {
   "cell_type": "markdown",
   "id": "d95e4c7b-8a16-402f-ab90-e2b7a0b86b5a",
   "metadata": {},
   "source": [
    "&nbsp; &nbsp; &nbsp; &nbsp; Exibindo gráfico <b>vt</b> $\\times$ <b>$P$</b>:"
   ]
  },
  {
   "cell_type": "code",
   "execution_count": 9,
   "id": "fe3c3f48-9d37-49aa-bbe3-8def6c0c1e22",
   "metadata": {},
   "outputs": [
    {
     "data": {
      "image/png": "[encoded data removed]",
      "text/plain": [
       "<Figure size 432x288 with 1 Axes>"
      ]
     },
     "metadata": {
      "needs_background": "light"
     },
     "output_type": "display_data"
    },
    {
     "name": "stdout",
     "output_type": "stream",
     "text": [
      "Simulação para 2021: 209760.60286601182\n",
      "Simulação para 2021 (arredondado): 209761\n"
     ]
    }
   ],
   "source": [
    "plt.plot(t,sol.y[0],\"b\")\n",
    "\n",
    "#Exibindo figura\n",
    "plt.title(\"Simulação populacional de Rio Grande\")\n",
    "plt.xlabel(\"Anos (Ano+2*10^3)\")\n",
    "plt.ylabel(\"Número de habitantes\")\n",
    "plt.yscale(\"log\")\n",
    "plt.xscale(\"log\")\n",
    "plt.show()\n",
    "\n",
    "print(\"Simulação para 2021:\",sol.y[0][sol.y[0].shape[0]-1])\n",
    "print(\"Simulação para 2021 (arredondado):\",round(sol.y[0][sol.y[0].shape[0]-1]))"
   ]
  },
  {
   "cell_type": "markdown",
   "id": "1175e9ea-6a00-407b-b380-8450bf77a621",
   "metadata": {},
   "source": [
    "<h2 style='color:#0000b7' >&nbsp; 4.2 &nbsp;Modelo de Verhulst</h2>\n",
    "\n",
    "<h3 style='color:#b50000' >&nbsp; &nbsp; 4.2.1 &nbsp;scipy.integrate.odeint - Método LSODA</h3>"
   ]
  },
  {
   "cell_type": "markdown",
   "id": "425f5fb6-9bed-4e11-baed-6455af5b4a50",
   "metadata": {},
   "source": [
    "&nbsp; &nbsp; &nbsp; &nbsp; Obtendo aproximação:"
   ]
  },
  {
   "cell_type": "code",
   "execution_count": 10,
   "id": "66810bff-d8fc-4116-a72b-0a35fe45a279",
   "metadata": {},
   "outputs": [
    {
     "name": "stdout",
     "output_type": "stream",
     "text": [
      "[ 0.          0.2244898   0.44897959  0.67346939  0.89795918  1.12244898\n",
      "  1.34693878  1.57142857  1.79591837  2.02040816  2.24489796  2.46938776\n",
      "  2.69387755  2.91836735  3.14285714  3.36734694  3.59183673  3.81632653\n",
      "  4.04081633  4.26530612  4.48979592  4.71428571  4.93877551  5.16326531\n",
      "  5.3877551   5.6122449   5.83673469  6.06122449  6.28571429  6.51020408\n",
      "  6.73469388  6.95918367  7.18367347  7.40816327  7.63265306  7.85714286\n",
      "  8.08163265  8.30612245  8.53061224  8.75510204  8.97959184  9.20408163\n",
      "  9.42857143  9.65306122  9.87755102 10.10204082 10.32653061 10.55102041\n",
      " 10.7755102  11.        ]\n"
     ]
    }
   ],
   "source": [
    "t = np.linspace(0,11) #vetor tempo\n",
    "print(t)\n",
    "P0 = 197228 # população inicial"
   ]
  },
  {
   "cell_type": "code",
   "execution_count": 11,
   "id": "f98f9c59-5996-43c3-a2fa-fe23e52067fe",
   "metadata": {},
   "outputs": [
    {
     "name": "stdout",
     "output_type": "stream",
     "text": [
      "[[197228.         197414.78255598 197600.125957   197784.03819445\n",
      "  197966.5271025  198147.60085909 198327.26804058 198505.53666521\n",
      "  198682.41484806 198857.910705   199032.03235272 199204.78790781\n",
      "  199376.18548486 199546.23319686 199714.93915238 199882.31140588\n",
      "  200048.35801495 200213.08707287 200376.50667291 200538.62490835\n",
      "  200699.44987246 200858.98965851 201017.25235978 201174.24606955\n",
      "  201329.97888108 201484.45884585 201637.69371542 201789.69142552\n",
      "  201940.45996841 202090.00733636 202238.3415216  202385.4705164\n",
      "  202531.40231302 202676.14479793 202819.70553474 202962.09236173\n",
      "  203103.31314707 203243.37575892 203382.28806546 203520.05793484\n",
      "  203656.69323523 203792.20162641 203926.59049847 204059.86753969\n",
      "  204192.04044568 204323.11691208 204453.10463452 204582.01125435\n",
      "  204709.84403281 204836.61044736]]\n"
     ]
    }
   ],
   "source": [
    "sol = sciInt.odeint(modelo_verhulst, y0=P0, t=t, tfirst=True)\n",
    "print(np.transpose(sol))"
   ]
  },
  {
   "cell_type": "markdown",
   "id": "fb817063-91e8-4411-b8a2-ae41921f9672",
   "metadata": {},
   "source": [
    "&nbsp; &nbsp; Gerando solução com vetor variando de 0 à 500, com o obejtivo de visualizar a assíntota horizontal em <b>P</b> = <b>L</b>"
   ]
  },
  {
   "cell_type": "code",
   "execution_count": 12,
   "id": "a54a67a1-9582-4540-9a2d-165823c6c369",
   "metadata": {},
   "outputs": [],
   "source": [
    "t_lim = np.linspace(0,500)\n",
    "sol_lim = sciInt.odeint(modelo_verhulst, y0=P0, t=t_lim, tfirst=True)"
   ]
  },
  {
   "cell_type": "markdown",
   "id": "7f003420-e92e-4fac-88e4-e346f29bcc6a",
   "metadata": {},
   "source": [
    "&nbsp; &nbsp; &nbsp; &nbsp; Exibindo gráfico <b>vt</b> $\\times$ <b>$P$</b>"
   ]
  },
  {
   "cell_type": "code",
   "execution_count": 13,
   "id": "e59d84bb-01a8-43eb-b88d-f50da73c7ee8",
   "metadata": {},
   "outputs": [
    {
     "data": {
      "image/png": "[encoded data removed]",
      "text/plain": [
       "<Figure size 432x288 with 1 Axes>"
      ]
     },
     "metadata": {
      "needs_background": "light"
     },
     "output_type": "display_data"
    },
    {
     "name": "stdout",
     "output_type": "stream",
     "text": [
      "Simulação para 2021: [204836.61044736]\n",
      "Simulação para 2021 (arredondado): 204837\n"
     ]
    }
   ],
   "source": [
    "plt.plot(t,sol,\"g\")\n",
    "\n",
    "#Exibindo figura\n",
    "plt.title(\"Simulação populacional de Rio Grande\")\n",
    "plt.xlabel(\"Anos \")\n",
    "plt.ylabel(\"Número de habitantes\")\n",
    "plt.yscale(\"log\")\n",
    "plt.xscale(\"log\")\n",
    "plt.show()\n",
    "\n",
    "print(\"Simulação para 2021:\",sol[sol.shape[0]-1])\n",
    "print(\"Simulação para 2021 (arredondado):\",round(sol[sol.shape[0]-1][0]))"
   ]
  },
  {
   "cell_type": "markdown",
   "id": "ddda5b2a-bcf9-4c43-96cf-4a9df463dc58",
   "metadata": {},
   "source": [
    "&nbsp; &nbsp; &nbsp; &nbsp; Exibindo gráfico <b>vt</b> $\\times$ <b>$P$</b> com característica assintótica:"
   ]
  },
  {
   "cell_type": "code",
   "execution_count": 14,
   "id": "6cd4b4b2-289f-43e8-84da-fa85e0b5f44b",
   "metadata": {},
   "outputs": [
    {
     "data": {
      "image/png": "[encoded data removed]",
      "text/plain": [
       "<Figure size 432x288 with 1 Axes>"
      ]
     },
     "metadata": {
      "needs_background": "light"
     },
     "output_type": "display_data"
    }
   ],
   "source": [
    "L =218858 #Limite (L)\n",
    "\n",
    "plt.plot(t_lim,sol_lim,\"g\") #Curva logística\n",
    "plt.plot(t_lim,np.full(t_lim.shape[0], L),\"b\", linestyle = 'dotted') #Assíntota\n",
    "\n",
    "#Exibindo figura\n",
    "plt.title(\"Simulação populacional de Rio Grande\")\n",
    "plt.xlabel(\"Anos \")\n",
    "plt.ylabel(\"Número de habitantes\")\n",
    "plt.show()"
   ]
  },
  {
   "cell_type": "markdown",
   "id": "fd699f66-6e90-4969-bd71-faacffba9a7f",
   "metadata": {},
   "source": [
    "<h3 style='color:#b50000' >&nbsp; &nbsp; 4.2.2 &nbsp;scipy.solve_ivp - Método RK45 (Padrão)</h3>"
   ]
  },
  {
   "cell_type": "code",
   "execution_count": 15,
   "id": "b3039d6b-e4b9-4f2d-b4c8-5d821bda4dc3",
   "metadata": {},
   "outputs": [
    {
     "name": "stdout",
     "output_type": "stream",
     "text": [
      "[197228.         197414.78157933 197600.12408819 197784.03561985\n",
      " 197966.5242769  198147.59816396 198327.26538737 198505.53405522\n",
      " 198682.41227734 198857.90816527 199032.02983232 199204.78539351\n",
      " 199376.18296561 199546.23066712 199714.93661828 199882.30894986\n",
      " 200048.35586776 200213.08549526 200376.50591783 200538.62520647\n",
      " 200699.45141769 200858.99259347 201017.25676136 201174.25193437\n",
      " 201329.98611103 201484.4672754  201637.70339702 201789.70243096\n",
      " 201940.4723178  202090.02098361 202238.35633998 202385.48628401\n",
      " 202531.41869831 202676.161451   202819.7223957  202962.10937156\n",
      " 203103.3302032  203243.39270079 203382.30465999 203520.07386198\n",
      " 203656.70807342 203792.21504652 203926.60251896 204059.87821396\n",
      " 204192.04984024 204323.12509202 204453.11164903 204582.01717652\n",
      " 204709.84932524 204836.61573145]\n"
     ]
    }
   ],
   "source": [
    "sol = sciInt.solve_ivp(modelo_verhulst, t_span=(0,max(t)), y0=[P0], t_eval=t)\n",
    "print(sol.y[0])\n",
    "\n",
    "sol_lim = sciInt.solve_ivp(modelo_verhulst, t_span=(0,max(t_lim)), y0=[P0], t_eval=t_lim)"
   ]
  },
  {
   "cell_type": "markdown",
   "id": "e5671b49-c12b-40a2-8a27-be3e1cbb2965",
   "metadata": {},
   "source": [
    "&nbsp; &nbsp; &nbsp; &nbsp; Exibindo gráfico <b>vt</b> $\\times$ <b>$P$</b>"
   ]
  },
  {
   "cell_type": "code",
   "execution_count": 16,
   "id": "33b2a89d-c083-4998-8c12-00c640d4acc6",
   "metadata": {},
   "outputs": [
    {
     "data": {
      "image/png": "[encoded data removed]",
      "text/plain": [
       "<Figure size 432x288 with 1 Axes>"
      ]
     },
     "metadata": {
      "needs_background": "light"
     },
     "output_type": "display_data"
    },
    {
     "name": "stdout",
     "output_type": "stream",
     "text": [
      "Simulação para 2021: 204836.61573145498\n",
      "Simulação para 2021 (arredondado): 204837\n"
     ]
    }
   ],
   "source": [
    "plt.plot(t,sol.y[0],\"b\")\n",
    "\n",
    "#Exibindo figura\n",
    "plt.title(\"Simulação populacional de Rio Grande\")\n",
    "plt.xlabel(\"Anos\")\n",
    "plt.ylabel(\"Número de habitantes\")\n",
    "plt.yscale(\"log\")\n",
    "plt.xscale(\"log\")\n",
    "plt.show()\n",
    "\n",
    "print(\"Simulação para 2021:\",sol.y[0][sol.y[0].shape[0]-1])\n",
    "print(\"Simulação para 2021 (arredondado):\",round(sol.y[0][sol.y[0].shape[0]-1]))"
   ]
  },
  {
   "cell_type": "markdown",
   "id": "6fedea6b-6315-4f1b-97ab-5c289f499e7f",
   "metadata": {},
   "source": [
    "&nbsp; &nbsp; &nbsp; &nbsp; Exibindo gráfico <b>vt</b> $\\times$ <b>$P$</b> com característica assintótica:"
   ]
  },
  {
   "cell_type": "code",
   "execution_count": 17,
   "id": "9f1e9076-6fb6-4c66-af22-a55bfa770e62",
   "metadata": {},
   "outputs": [
    {
     "data": {
      "image/png": "[encoded data removed]",
      "text/plain": [
       "<Figure size 432x288 with 1 Axes>"
      ]
     },
     "metadata": {
      "needs_background": "light"
     },
     "output_type": "display_data"
    }
   ],
   "source": [
    "plt.plot(t_lim,sol_lim.y[0],\"b\") #Curva logística\n",
    "plt.plot(t_lim,np.full(t_lim.shape[0], L),\"g\", linestyle = 'dotted') #Assíntota\n",
    "\n",
    "#Exibindo figura\n",
    "plt.title(\"Simulação populacional de Rio Grande\")\n",
    "plt.xlabel(\"Anos (Ano+2*10^3)\")\n",
    "plt.ylabel(\"Número de habitantes\")\n",
    "plt.show()"
   ]
  },
  {
   "cell_type": "markdown",
   "id": "f109698b-0222-4cb5-82f4-f4e1e73cce07",
   "metadata": {},
   "source": [
    "<h2 style='color:#0000b7' >&nbsp; 4.3 &nbsp;Modelo de Montroll</h2>\n",
    "\n",
    "<h3 style='color:#b50000' >&nbsp; &nbsp; 4.3.1 &nbsp;scipy.integrate.odeint - Método LSODA</h3>"
   ]
  }
 ],
 "metadata": {
  "kernelspec": {
   "display_name": "Python 3 (ipykernel)",
   "language": "python",
   "name": "python3"
  },
  "language_info": {
   "codemirror_mode": {
    "name": "ipython",
    "version": 3
   },
   "file_extension": ".py",
   "mimetype": "text/x-python",
   "name": "python",
   "nbconvert_exporter": "python",
   "pygments_lexer": "ipython3",
   "version": "3.10.2"
  }
 },
 "nbformat": 4,
 "nbformat_minor": 5
}
