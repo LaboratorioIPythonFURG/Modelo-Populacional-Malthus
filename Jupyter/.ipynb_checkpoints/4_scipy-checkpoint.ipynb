{
 "cells": [
  {
   "cell_type": "markdown",
   "id": "54835393-ea2c-4496-b118-961b01be564e",
   "metadata": {},
   "source": [
    "<h1 style='color:#0000ec'>4 &nbsp; Emprego da biblioteca SciPy</h1>\n",
    "\n",
    "&nbsp; Importando as bibliotecas <b>Numpy</b>, <b>SciPy</b> e <b>Matplotlib</b>:"
   ]
  },
  {
   "cell_type": "code",
   "execution_count": 1,
   "id": "0bd02821-d47a-4fff-be76-fbf66e775467",
   "metadata": {},
   "outputs": [],
   "source": [
    "import numpy as np\n",
    "import scipy.integrate as sciInt\n",
    "import matplotlib.pyplot as plt"
   ]
  },
  {
   "cell_type": "markdown",
   "id": "191ede47-14c3-4487-aa88-601109217421",
   "metadata": {},
   "source": [
    "&nbsp; Escrevendo arquivo contendo a função <i><b>modelo_malthus(\t&lt;população>,\t&lt;tempo>)</b></i> contendo o modelo matemático do fenômeno:"
   ]
  },
  {
   "cell_type": "code",
   "execution_count": 2,
   "id": "cfaec467-24dd-4641-87e3-630a8f6d411f",
   "metadata": {},
   "outputs": [
    {
     "name": "stdout",
     "output_type": "stream",
     "text": [
      "Overwriting ../python/modelo_malthus.py\n"
     ]
    }
   ],
   "source": [
    "%%writefile ../python/modelo_malthus.py\n",
    "#Definindo o modelo populacional\n",
    "def modelo_malthus(t,P):\n",
    "    return 0.0056*P"
   ]
  },
  {
   "cell_type": "markdown",
   "id": "92338800-fa64-4a36-a1f7-996e93631907",
   "metadata": {},
   "source": [
    "&nbsp; Escrevendo arquivo contendo a função <i><b>modelo_verhulst(\t&lt;população>,\t&lt;tempo>)</b></i> contendo o modelo matemático do fenômeno:"
   ]
  },
  {
   "cell_type": "code",
   "execution_count": 3,
   "id": "64faabde-017d-4647-b9e0-aa0ab09dc499",
   "metadata": {},
   "outputs": [
    {
     "name": "stdout",
     "output_type": "stream",
     "text": [
      "Overwriting ../python/modelo_verhulst.py\n"
     ]
    }
   ],
   "source": [
    "%%writefile ../python/modelo_verhulst.py\n",
    "#Definindo o modelo populacional\n",
    "def modelo_verhulst(t,P):\n",
    "    L = 300000\n",
    "    k = 0.01553891418938226\n",
    "    return  (k*(1-P/L))*P"
   ]
  },
  {
   "cell_type": "markdown",
   "id": "bcde4177-047a-456f-94d6-3ad837ea726b",
   "metadata": {},
   "source": [
    "&nbsp; Criando o vetor tempo de 10 à 21:"
   ]
  },
  {
   "cell_type": "code",
   "execution_count": 7,
   "id": "3b02c84d-3e09-4a75-874c-363438ec642d",
   "metadata": {},
   "outputs": [
    {
     "name": "stdout",
     "output_type": "stream",
     "text": [
      "[ 0.          0.42857143  0.85714286  1.28571429  1.71428571  2.14285714\n",
      "  2.57142857  3.          3.42857143  3.85714286  4.28571429  4.71428571\n",
      "  5.14285714  5.57142857  6.          6.42857143  6.85714286  7.28571429\n",
      "  7.71428571  8.14285714  8.57142857  9.          9.42857143  9.85714286\n",
      " 10.28571429 10.71428571 11.14285714 11.57142857 12.         12.42857143\n",
      " 12.85714286 13.28571429 13.71428571 14.14285714 14.57142857 15.\n",
      " 15.42857143 15.85714286 16.28571429 16.71428571 17.14285714 17.57142857\n",
      " 18.         18.42857143 18.85714286 19.28571429 19.71428571 20.14285714\n",
      " 20.57142857 21.        ]\n"
     ]
    }
   ],
   "source": [
    "t = np.linspace(0,21) #vetor tempo\n",
    "print(t)\n",
    "P0 = 186488 # população inicial"
   ]
  },
  {
   "cell_type": "markdown",
   "id": "b46a91fe-fe4a-4f99-8303-785fb4060cce",
   "metadata": {},
   "source": [
    "&nbsp; Carregando o diretório <b>python/</b> que contém as funções escritas ao longo dos tópico e importando o <b>modelo</b>:"
   ]
  },
  {
   "cell_type": "code",
   "execution_count": 5,
   "id": "64bec405-051d-42f7-aa04-87b137260e79",
   "metadata": {},
   "outputs": [],
   "source": [
    "import sys\n",
    "sys.path.insert(0,'../python')\n",
    "\n",
    "from modelo_malthus import modelo_malthus\n",
    "from modelo_verhulst import modelo_verhulst"
   ]
  },
  {
   "cell_type": "markdown",
   "id": "4a434be5-f243-4bca-9b2a-81359daa0689",
   "metadata": {},
   "source": [
    "<h2 style='color:#0000b7' >&nbsp; 4.1 &nbsp;Modelo de Malthus</h2>\n",
    "&nbsp; &nbsp; &nbsp; Método: LSODA"
   ]
  },
  {
   "cell_type": "code",
   "execution_count": 11,
   "id": "cf262467-5abf-4bae-a76b-a11f61c54f2b",
   "metadata": {},
   "outputs": [
    {
     "name": "stdout",
     "output_type": "stream",
     "text": [
      "[[186488.         186936.10907328 187385.29485165 187835.55982436\n",
      "  188286.90687372 188739.33761878 189192.85510744 189647.46222192\n",
      "  190103.16184443 190559.95685719 191017.84997429 191476.84342271\n",
      "  191936.93980267 192398.14175096 192860.45190436 193323.87289963\n",
      "  193788.4074303  194254.05821347 194720.82792168 195188.71922743\n",
      "  195657.73480325 196127.87754588 196599.149657   197071.55426971\n",
      "  197545.09406836 198019.7717438  198495.5899933  198972.55154275\n",
      "  199450.65918686 199929.91567504 200410.32376022 200891.886204\n",
      "  201374.60577664 201858.48525707 202343.5274329  202829.73510041\n",
      "  203317.11106453 203805.65813888 204295.37914357 204786.27687751\n",
      "  205278.35416095 205771.6138302  206266.05872933 206761.69171016\n",
      "  207258.51563229 207756.53336304 208255.74777753 208756.16175862\n",
      "  209257.77819692 209760.59999083]]\n"
     ]
    }
   ],
   "source": [
    "sol1 = sciInt.odeint(modelo_malthus, y0=P0, t=t, tfirst=True)\n",
    "print(np.transpose(sol1))"
   ]
  },
  {
   "cell_type": "markdown",
   "id": "f07dd0fe-7ada-4cc2-84c7-8c06159b0287",
   "metadata": {},
   "source": [
    "&nbsp; &nbsp; &nbsp; Exibindo gráfico <b>vt</b> $\\times$ <b>$P$</b>"
   ]
  },
  {
   "cell_type": "code",
   "execution_count": 10,
   "id": "f1069a63-d631-46c7-a955-a090de2ab6c2",
   "metadata": {},
   "outputs": [
    {
     "data": {
      "image/png": "[encoded data removed]",
      "text/plain": [
       "<Figure size 432x288 with 1 Axes>"
      ]
     },
     "metadata": {
      "needs_background": "light"
     },
     "output_type": "display_data"
    },
    {
     "name": "stdout",
     "output_type": "stream",
     "text": [
      "Simulação para 2021: [209760.59999083]\n"
     ]
    }
   ],
   "source": [
    "plt.plot(t,sol1,\"g\")\n",
    "\n",
    "#Exibindo figura\n",
    "plt.title(\"Simulação populacional de Rio Grande\")\n",
    "plt.xlabel(\"Anos (Ano+2*10^3)\")\n",
    "plt.ylabel(\"Número de habitantes\")\n",
    "plt.show()\n",
    "\n",
    "print(\"Simulação para 2021:\",sol1[sol1.shape[0]-1])"
   ]
  },
  {
   "cell_type": "markdown",
   "id": "1175e9ea-6a00-407b-b380-8450bf77a621",
   "metadata": {},
   "source": [
    "<h2 style='color:#0000b7' >&nbsp; 4.2 &nbsp;Modelo de Verhulst</h2>"
   ]
  },
  {
   "cell_type": "markdown",
   "id": "425f5fb6-9bed-4e11-baed-6455af5b4a50",
   "metadata": {},
   "source": [
    "&nbsp; &nbsp; &nbsp; Obtendo aproximação:"
   ]
  },
  {
   "cell_type": "code",
   "execution_count": 14,
   "id": "f98f9c59-5996-43c3-a2fa-fe23e52067fe",
   "metadata": {},
   "outputs": [
    {
     "name": "stdout",
     "output_type": "stream",
     "text": [
      "[[186488.         186957.52767275 187426.28563095 187894.26543432\n",
      "  188361.45961484 188827.86037933 189293.45786442 189758.2424712\n",
      "  190222.20698082 190685.34377043 191147.64469267 191609.10181203\n",
      "  192069.70735085 192529.45338078 192988.33220964 193446.33589253\n",
      "  193903.45712762 194359.68814558 194815.02153006 195269.44988126\n",
      "  195722.96581229 196175.56202651 196627.23131756 197077.96656936\n",
      "  197527.76072958 197976.60672744 198424.49763828 198871.42662861\n",
      "  199317.38694631 199762.37192059 200206.37496204 200649.38949677\n",
      "  201091.40896512 201532.42694625 201972.43709189 202411.43312589\n",
      "  202849.40884419 203286.3581154  203722.2748979  204157.15322102\n",
      "  204590.9871817  205023.7709505  205455.49877157 205886.16496265\n",
      "  206315.7639174  206744.29011574 207171.73810549 207598.10250754\n",
      "  208023.3780174  208447.55940518]]\n"
     ]
    }
   ],
   "source": [
    "sol2 = sciInt.odeint(modelo_verhulst, y0=P0, t=t, tfirst=True)\n",
    "print(np.transpose(sol2))"
   ]
  },
  {
   "cell_type": "markdown",
   "id": "7f003420-e92e-4fac-88e4-e346f29bcc6a",
   "metadata": {},
   "source": [
    "&nbsp; &nbsp; &nbsp; Exibindo gráfico <b>vt</b> $\\times$ <b>$P$</b>"
   ]
  },
  {
   "cell_type": "code",
   "execution_count": 15,
   "id": "e59d84bb-01a8-43eb-b88d-f50da73c7ee8",
   "metadata": {},
   "outputs": [
    {
     "data": {
      "image/png": "[encoded data removed]",
      "text/plain": [
       "<Figure size 432x288 with 1 Axes>"
      ]
     },
     "metadata": {
      "needs_background": "light"
     },
     "output_type": "display_data"
    },
    {
     "name": "stdout",
     "output_type": "stream",
     "text": [
      "Simulação para 2021: [208447.55940518]\n"
     ]
    }
   ],
   "source": [
    "plt.plot(t,sol2,\"g\")\n",
    "\n",
    "#Exibindo figura\n",
    "plt.title(\"Simulação populacional de Rio Grande\")\n",
    "plt.xlabel(\"Anos (Ano+2*10^3)\")\n",
    "plt.ylabel(\"Número de habitantes\")\n",
    "plt.show()\n",
    "\n",
    "print(\"Simulação para 2021:\",sol2[sol2.shape[0]-1])"
   ]
  }
 ],
 "metadata": {
  "kernelspec": {
   "display_name": "Python 3 (ipykernel)",
   "language": "python",
   "name": "python3"
  },
  "language_info": {
   "codemirror_mode": {
    "name": "ipython",
    "version": 3
   },
   "file_extension": ".py",
   "mimetype": "text/x-python",
   "name": "python",
   "nbconvert_exporter": "python",
   "pygments_lexer": "ipython3",
   "version": "3.10.2"
  }
 },
 "nbformat": 4,
 "nbformat_minor": 5
}
