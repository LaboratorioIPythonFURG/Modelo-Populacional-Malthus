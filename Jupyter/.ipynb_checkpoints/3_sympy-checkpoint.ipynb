{
 "cells": [
  {
   "cell_type": "markdown",
   "id": "5ae68684-ebdf-4b32-86e1-4878e420578f",
   "metadata": {},
   "source": [
    "<h1 style='color:#0000ec'>3 &nbsp; Emprego da biblioteca SymPy</h1>\n",
    "\n",
    "&nbsp; Importando as bibliotecas <b>SymPy</b>, <b>Matplotlib</b> e <b>NumPy</b>:\n",
    "\n"
   ]
  },
  {
   "cell_type": "code",
   "execution_count": 1,
   "id": "46827118-d18e-4687-9eec-80d41285f254",
   "metadata": {},
   "outputs": [],
   "source": [
    "import sympy as sp\n",
    "import matplotlib.pyplot as plt\n",
    "import numpy as np"
   ]
  },
  {
   "cell_type": "markdown",
   "id": "9e4ea65b-f4af-403f-80ea-558567ad6e00",
   "metadata": {},
   "source": [
    "&nbsp; Utilizando o SymPy para declarar a função modelo e a variável simbólica:"
   ]
  },
  {
   "cell_type": "code",
   "execution_count": 2,
   "id": "2c5671dc-1754-403f-a0dc-ee5c210c8596",
   "metadata": {},
   "outputs": [],
   "source": [
    "P = sp.Function(\"P\") #Função\n",
    "\n",
    "t = sp.Symbol(\"t\") #Variável"
   ]
  },
  {
   "cell_type": "markdown",
   "id": "3a9f1d3b-a843-4d5d-a8b9-33a31306e774",
   "metadata": {},
   "source": [
    "&nbsp; Criando o vetor tempo de 0 a 21 anos (2000 e 2021):"
   ]
  },
  {
   "cell_type": "code",
   "execution_count": 3,
   "id": "8cb3975a-6c95-4c9e-bab2-cec1d0843fc7",
   "metadata": {},
   "outputs": [
    {
     "data": {
      "text/plain": [
       "array([ 0.        ,  0.42857143,  0.85714286,  1.28571429,  1.71428571,\n",
       "        2.14285714,  2.57142857,  3.        ,  3.42857143,  3.85714286,\n",
       "        4.28571429,  4.71428571,  5.14285714,  5.57142857,  6.        ,\n",
       "        6.42857143,  6.85714286,  7.28571429,  7.71428571,  8.14285714,\n",
       "        8.57142857,  9.        ,  9.42857143,  9.85714286, 10.28571429,\n",
       "       10.71428571, 11.14285714, 11.57142857, 12.        , 12.42857143,\n",
       "       12.85714286, 13.28571429, 13.71428571, 14.14285714, 14.57142857,\n",
       "       15.        , 15.42857143, 15.85714286, 16.28571429, 16.71428571,\n",
       "       17.14285714, 17.57142857, 18.        , 18.42857143, 18.85714286,\n",
       "       19.28571429, 19.71428571, 20.14285714, 20.57142857, 21.        ])"
      ]
     },
     "execution_count": 3,
     "metadata": {},
     "output_type": "execute_result"
    }
   ],
   "source": [
    "vt = np.linspace(0,21)\n",
    "vt"
   ]
  },
  {
   "cell_type": "markdown",
   "id": "34949d05-bd5c-4cc8-b8e5-4d3eb0982364",
   "metadata": {},
   "source": [
    "<h2 style='color:#0000b7' >&nbsp; 3.1 &nbsp;Modelo de Malthus</h2>"
   ]
  },
  {
   "cell_type": "markdown",
   "id": "4507743b-8e31-4d28-845b-200e9794697a",
   "metadata": {},
   "source": [
    "&nbsp; &nbsp; &nbsp; &nbsp; Construindo a EDO:"
   ]
  },
  {
   "cell_type": "code",
   "execution_count": 4,
   "id": "91305b74-1ae8-4a8e-b640-308fe6d0cfd5",
   "metadata": {},
   "outputs": [
    {
     "data": {
      "text/latex": [
       "$\\displaystyle \\frac{d}{d t} P{\\left(t \\right)} = 0.0056 P{\\left(t \\right)}$"
      ],
      "text/plain": [
       "Eq(Derivative(P(t), t), 0.0056*P(t))"
      ]
     },
     "execution_count": 4,
     "metadata": {},
     "output_type": "execute_result"
    }
   ],
   "source": [
    "eq_dif = sp.Eq(P(t).diff(t),0.0056*P(t))\n",
    "eq_dif"
   ]
  },
  {
   "cell_type": "markdown",
   "id": "efd743d1-405d-49dd-b896-0a39063fdcc1",
   "metadata": {},
   "source": [
    "&nbsp; &nbsp; &nbsp; &nbsp;  Obtendo solução particular da equação diferencial:"
   ]
  },
  {
   "cell_type": "code",
   "execution_count": 5,
   "id": "25aeb2e5-1bc2-4473-8721-cebf54014a92",
   "metadata": {},
   "outputs": [
    {
     "data": {
      "text/latex": [
       "$\\displaystyle P{\\left(t \\right)} = 186488 e^{0.0056 t}$"
      ],
      "text/plain": [
       "Eq(P(t), 186488*exp(0.0056*t))"
      ]
     },
     "execution_count": 5,
     "metadata": {},
     "output_type": "execute_result"
    }
   ],
   "source": [
    "sg = sp.dsolve(eq_dif,ics={P(0):186488})\n",
    "sg"
   ]
  },
  {
   "cell_type": "markdown",
   "id": "88c2849c-9ed6-4f30-9ab5-2dfc92259998",
   "metadata": {},
   "source": [
    "Exibindo gráfico <b>vt</b> $\\times$ <b>$P$</b>"
   ]
  },
  {
   "cell_type": "code",
   "execution_count": 6,
   "id": "f44e2d74-d163-47d7-8046-ee9113b7b48a",
   "metadata": {},
   "outputs": [
    {
     "data": {
      "image/png": "[encoded data removed]",
      "text/plain": [
       "<Figure size 432x288 with 1 Axes>"
      ]
     },
     "metadata": {
      "needs_background": "light"
     },
     "output_type": "display_data"
    }
   ],
   "source": [
    "plt.plot(vt,186488*np.exp(0.0056*vt),\"r\") #P(t)\n",
    "\n",
    "plt.title(\"Simulação populacional de Rio Grande\")\n",
    "plt.xlabel(\"Anos\")\n",
    "plt.ylabel(\"Número de habitantes\")\n",
    "plt.yscale(\"log\")\n",
    "plt.xscale(\"log\")\n",
    "plt.show()\n",
    "\n",
    "#print(\"Simulação para 2021:\",186488*np.exp(0.0056*21)) #Simulação para 2021"
   ]
  },
  {
   "cell_type": "markdown",
   "id": "7379d157-340d-44d4-b401-3b384433d4c2",
   "metadata": {},
   "source": [
    "<h2 style='color:#0000b7' >&nbsp; 3.2 &nbsp;Modelo de Verhulst</h2>"
   ]
  },
  {
   "cell_type": "code",
   "execution_count": 7,
   "id": "3b0188f6-7fcb-4ea3-9cae-ce7f2e9df251",
   "metadata": {},
   "outputs": [
    {
     "data": {
      "text/latex": [
       "$\\displaystyle \\frac{d}{d t} P{\\left(t \\right)} = \\left(0.04285 - 1.95789050434528 \\cdot 10^{-7} P{\\left(t \\right)}\\right) P{\\left(t \\right)}$"
      ],
      "text/plain": [
       "Eq(Derivative(P(t), t), (0.04285 - 1.95789050434528e-7*P(t))*P(t))"
      ]
     },
     "execution_count": 7,
     "metadata": {},
     "output_type": "execute_result"
    }
   ],
   "source": [
    "L = 218858 \n",
    "k = 0.04285\n",
    "\n",
    "eq_dif = sp.Eq(P(t).diff(t),  (0.04285*(1-P(t)/218858))*P(t) )\n",
    "eq_dif"
   ]
  },
  {
   "cell_type": "markdown",
   "id": "b2bf3080-d783-4608-b364-78a2ca4ae9ed",
   "metadata": {},
   "source": [
    "&nbsp; &nbsp; &nbsp; &nbsp;  Obtendo solução particular da equação diferencial:"
   ]
  },
  {
   "cell_type": "code",
   "execution_count": 8,
   "id": "20f2f548-cae5-49bf-b6ec-6034f8017c15",
   "metadata": {},
   "outputs": [
    {
     "data": {
      "text/latex": [
       "$\\displaystyle P{\\left(t \\right)} = - \\frac{218858.0}{-1.0 - 0.109670026568236 e^{- 0.04285 t}}$"
      ],
      "text/plain": [
       "Eq(P(t), -218858.0/(-1.0 - 0.109670026568236*exp(-0.04285*t)))"
      ]
     },
     "execution_count": 8,
     "metadata": {},
     "output_type": "execute_result"
    }
   ],
   "source": [
    "sg = sp.dsolve(eq_dif,ics={P(0):197228})\n",
    "sg"
   ]
  },
  {
   "cell_type": "markdown",
   "id": "e1ff6038-485a-4916-8d1d-2f15887579c0",
   "metadata": {},
   "source": [
    "&nbsp; Criando o vetor tempo de 0 a 11 anos (2010 e 2021):"
   ]
  },
  {
   "cell_type": "code",
   "execution_count": 9,
   "id": "d708080d-b46d-4d8c-9277-af5d86db25db",
   "metadata": {},
   "outputs": [
    {
     "data": {
      "text/plain": [
       "array([ 0.        ,  0.2244898 ,  0.44897959,  0.67346939,  0.89795918,\n",
       "        1.12244898,  1.34693878,  1.57142857,  1.79591837,  2.02040816,\n",
       "        2.24489796,  2.46938776,  2.69387755,  2.91836735,  3.14285714,\n",
       "        3.36734694,  3.59183673,  3.81632653,  4.04081633,  4.26530612,\n",
       "        4.48979592,  4.71428571,  4.93877551,  5.16326531,  5.3877551 ,\n",
       "        5.6122449 ,  5.83673469,  6.06122449,  6.28571429,  6.51020408,\n",
       "        6.73469388,  6.95918367,  7.18367347,  7.40816327,  7.63265306,\n",
       "        7.85714286,  8.08163265,  8.30612245,  8.53061224,  8.75510204,\n",
       "        8.97959184,  9.20408163,  9.42857143,  9.65306122,  9.87755102,\n",
       "       10.10204082, 10.32653061, 10.55102041, 10.7755102 , 11.        ])"
      ]
     },
     "execution_count": 9,
     "metadata": {},
     "output_type": "execute_result"
    }
   ],
   "source": [
    "vt = np.linspace(0,11)\n",
    "vt"
   ]
  },
  {
   "cell_type": "markdown",
   "id": "b461db5b-d0d2-4a57-bf2c-4db13bf7b7d3",
   "metadata": {},
   "source": [
    "Exibindo gráfico <b>vt</b> $\\times$ <b>$P$</b>"
   ]
  },
  {
   "cell_type": "code",
   "execution_count": 10,
   "id": "2d7487f6-c7bc-45a1-8375-d55f57f70dd4",
   "metadata": {},
   "outputs": [
    {
     "data": {
      "image/png": "[encoded data removed]",
      "text/plain": [
       "<Figure size 432x288 with 1 Axes>"
      ]
     },
     "metadata": {
      "needs_background": "light"
     },
     "output_type": "display_data"
    }
   ],
   "source": [
    "plt.plot(vt,218858/(1+0.109670026568236*np.exp(-0.04285*vt)),\"b\") #P(t)\n",
    "\n",
    "plt.title(\"Simulação populacional de Rio Grande\")\n",
    "plt.xlabel(\"Anos\")\n",
    "plt.ylabel(\"Número de habitantes\")\n",
    "plt.yscale(\"log\")\n",
    "plt.xscale(\"log\")\n",
    "plt.show()"
   ]
  },
  {
   "cell_type": "markdown",
   "id": "888cd3e5-f53b-4604-92e0-bb98a0a5e6f9",
   "metadata": {},
   "source": [
    "&nbsp; &nbsp; &nbsp; &nbsp; Exibindo gráfico <b>vt</b> $\\times$ <b>$P$</b> com característica assintótica:"
   ]
  },
  {
   "cell_type": "code",
   "execution_count": 18,
   "id": "519b254b-3e1b-4400-bf83-e013219f081a",
   "metadata": {},
   "outputs": [
    {
     "data": {
      "image/png": "[encoded data removed]",
      "text/plain": [
       "<Figure size 432x288 with 1 Axes>"
      ]
     },
     "metadata": {
      "needs_background": "light"
     },
     "output_type": "display_data"
    }
   ],
   "source": [
    "t_lim = np.linspace(0,200)\n",
    "lim = 218858\n",
    "\n",
    "plt.plot(vt,218858/(1+0.109670026568236*np.exp(-0.04285*t_lim)),\"b\") #P(t)\n",
    "plt.plot(t_lim,np.full(t_lim.shape[0], lim),\"b\", linestyle = 'dotted') #Assíntota\n",
    "\n",
    "plt.title(\"Simulação populacional de Rio Grande\")\n",
    "plt.xlabel(\"Anos\")\n",
    "plt.ylabel(\"Número de habitantes\")\n",
    "plt.yscale(\"log\")\n",
    "plt.xscale(\"log\")\n",
    "plt.show()"
   ]
  }
 ],
 "metadata": {
  "kernelspec": {
   "display_name": "Python 3 (ipykernel)",
   "language": "python",
   "name": "python3"
  },
  "language_info": {
   "codemirror_mode": {
    "name": "ipython",
    "version": 3
   },
   "file_extension": ".py",
   "mimetype": "text/x-python",
   "name": "python",
   "nbconvert_exporter": "python",
   "pygments_lexer": "ipython3",
   "version": "3.10.2"
  }
 },
 "nbformat": 4,
 "nbformat_minor": 5
}
