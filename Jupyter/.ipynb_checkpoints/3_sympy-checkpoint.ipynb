{
 "cells": [
  {
   "cell_type": "markdown",
   "id": "5ae68684-ebdf-4b32-86e1-4878e420578f",
   "metadata": {},
   "source": [
    "<h1 style='color:#0000ec'>3 &nbsp; Emprego da biblioteca SymPy</h1>\n",
    "\n",
    "&nbsp; Importando as bibliotecas <b>SymPy</b>, <b>Matplotlib</b> e <b>NumPy</b>:\n",
    "\n"
   ]
  },
  {
   "cell_type": "code",
   "execution_count": 1,
   "id": "46827118-d18e-4687-9eec-80d41285f254",
   "metadata": {},
   "outputs": [],
   "source": [
    "import sympy as sp\n",
    "import matplotlib.pyplot as plt\n",
    "import numpy as np"
   ]
  },
  {
   "cell_type": "markdown",
   "id": "9e4ea65b-f4af-403f-80ea-558567ad6e00",
   "metadata": {},
   "source": [
    "&nbsp; Utilizando o SymPy para declarar a função modelo e a variável simbólica:"
   ]
  },
  {
   "cell_type": "code",
   "execution_count": 2,
   "id": "2c5671dc-1754-403f-a0dc-ee5c210c8596",
   "metadata": {},
   "outputs": [],
   "source": [
    "P = sp.Function(\"P\") #Função\n",
    "\n",
    "t = sp.Symbol(\"t\") #Variável"
   ]
  },
  {
   "cell_type": "markdown",
   "id": "3a9f1d3b-a843-4d5d-a8b9-33a31306e774",
   "metadata": {},
   "source": [
    "&nbsp; Criando o vetor tempo de 10 à 21 anos:"
   ]
  },
  {
   "cell_type": "code",
   "execution_count": 3,
   "id": "8cb3975a-6c95-4c9e-bab2-cec1d0843fc7",
   "metadata": {},
   "outputs": [
    {
     "data": {
      "text/plain": [
       "array([ 0.        ,  0.42857143,  0.85714286,  1.28571429,  1.71428571,\n",
       "        2.14285714,  2.57142857,  3.        ,  3.42857143,  3.85714286,\n",
       "        4.28571429,  4.71428571,  5.14285714,  5.57142857,  6.        ,\n",
       "        6.42857143,  6.85714286,  7.28571429,  7.71428571,  8.14285714,\n",
       "        8.57142857,  9.        ,  9.42857143,  9.85714286, 10.28571429,\n",
       "       10.71428571, 11.14285714, 11.57142857, 12.        , 12.42857143,\n",
       "       12.85714286, 13.28571429, 13.71428571, 14.14285714, 14.57142857,\n",
       "       15.        , 15.42857143, 15.85714286, 16.28571429, 16.71428571,\n",
       "       17.14285714, 17.57142857, 18.        , 18.42857143, 18.85714286,\n",
       "       19.28571429, 19.71428571, 20.14285714, 20.57142857, 21.        ])"
      ]
     },
     "execution_count": 3,
     "metadata": {},
     "output_type": "execute_result"
    }
   ],
   "source": [
    "vt = np.linspace(0,21)\n",
    "vt"
   ]
  },
  {
   "cell_type": "markdown",
   "id": "34949d05-bd5c-4cc8-b8e5-4d3eb0982364",
   "metadata": {},
   "source": [
    "<h2 style='color:#0000b7' >&nbsp; 3.1 &nbsp;Modelo de Malthus</h2>"
   ]
  },
  {
   "cell_type": "markdown",
   "id": "4507743b-8e31-4d28-845b-200e9794697a",
   "metadata": {},
   "source": [
    "&nbsp; &nbsp; &nbsp; &nbsp; Construindo a EDO:"
   ]
  },
  {
   "cell_type": "code",
   "execution_count": 4,
   "id": "91305b74-1ae8-4a8e-b640-308fe6d0cfd5",
   "metadata": {},
   "outputs": [
    {
     "data": {
      "text/latex": [
       "$\\displaystyle \\frac{d}{d t} P{\\left(t \\right)} = 0.0056 P{\\left(t \\right)}$"
      ],
      "text/plain": [
       "Eq(Derivative(P(t), t), 0.0056*P(t))"
      ]
     },
     "execution_count": 4,
     "metadata": {},
     "output_type": "execute_result"
    }
   ],
   "source": [
    "eq_dif = sp.Eq(P(t).diff(t),0.0056*P(t))\n",
    "eq_dif"
   ]
  },
  {
   "cell_type": "markdown",
   "id": "efd743d1-405d-49dd-b896-0a39063fdcc1",
   "metadata": {},
   "source": [
    "&nbsp; &nbsp; &nbsp; &nbsp;  Obtendo solução particular da equação diferencial:"
   ]
  },
  {
   "cell_type": "code",
   "execution_count": 5,
   "id": "25aeb2e5-1bc2-4473-8721-cebf54014a92",
   "metadata": {},
   "outputs": [
    {
     "data": {
      "text/latex": [
       "$\\displaystyle P{\\left(t \\right)} = 186488 e^{0.0056 t}$"
      ],
      "text/plain": [
       "Eq(P(t), 186488*exp(0.0056*t))"
      ]
     },
     "execution_count": 5,
     "metadata": {},
     "output_type": "execute_result"
    }
   ],
   "source": [
    "sg = sp.dsolve(eq_dif,ics={P(0):186488})\n",
    "sg"
   ]
  },
  {
   "cell_type": "markdown",
   "id": "88c2849c-9ed6-4f30-9ab5-2dfc92259998",
   "metadata": {},
   "source": [
    "Exibindo gráfico <b>vt</b> $\\times$ <b>$P$</b>"
   ]
  },
  {
   "cell_type": "code",
   "execution_count": 6,
   "id": "f44e2d74-d163-47d7-8046-ee9113b7b48a",
   "metadata": {},
   "outputs": [
    {
     "data": {
      "image/png": "[encoded data removed]",
      "text/plain": [
       "<Figure size 432x288 with 1 Axes>"
      ]
     },
     "metadata": {
      "needs_background": "light"
     },
     "output_type": "display_data"
    },
    {
     "name": "stdout",
     "output_type": "stream",
     "text": [
      "Simulação para 2021: 209760.60281646045\n"
     ]
    }
   ],
   "source": [
    "plt.plot(vt,186488*np.exp(0.0056*vt),\"b\") #P(t)\n",
    "\n",
    "plt.title(\"Simulação populacional de Rio Grande\")\n",
    "plt.xlabel(\"Anos+2*10^3\")\n",
    "plt.ylabel(\"Número de habitantes\")\n",
    "plt.show()\n",
    "\n",
    "print(\"Simulação para 2021:\",186488*np.exp(0.0056*21)) #Simulação para 2021"
   ]
  },
  {
   "cell_type": "markdown",
   "id": "7379d157-340d-44d4-b401-3b384433d4c2",
   "metadata": {},
   "source": [
    "<h2 style='color:#0000b7' >&nbsp; 3.2 &nbsp;Modelo de Verhulst</h2>"
   ]
  },
  {
   "cell_type": "markdown",
   "id": "3137ff79-f418-4a13-84c2-6ec76e0ed574",
   "metadata": {},
   "source": [
    "&nbsp; &nbsp; &nbsp; &nbsp; Construindo a EDO:"
   ]
  },
  {
   "cell_type": "code",
   "execution_count": 9,
   "id": "3b0188f6-7fcb-4ea3-9cae-ce7f2e9df251",
   "metadata": {},
   "outputs": [
    {
     "data": {
      "text/latex": [
       "$\\displaystyle \\frac{d}{d t} P{\\left(t \\right)} = \\left(0.0155389141893823 - 5.17963806312742 \\cdot 10^{-8} P{\\left(t \\right)}\\right) P{\\left(t \\right)}$"
      ],
      "text/plain": [
       "Eq(Derivative(P(t), t), (0.0155389141893823 - 5.17963806312742e-8*P(t))*P(t))"
      ]
     },
     "execution_count": 9,
     "metadata": {},
     "output_type": "execute_result"
    }
   ],
   "source": [
    "L = 300000 #Limite populacional (L)\n",
    "k = 0.01553891418938226 #Constande de crescimento (k)\n",
    "\n",
    "eq_dif = sp.Eq(P(t).diff(t),  (k*(1-P(t)/L))*P(t) )\n",
    "eq_dif"
   ]
  },
  {
   "cell_type": "markdown",
   "id": "b2bf3080-d783-4608-b364-78a2ca4ae9ed",
   "metadata": {},
   "source": [
    "&nbsp; &nbsp; &nbsp; &nbsp;  Obtendo solução particular da equação diferencial:"
   ]
  },
  {
   "cell_type": "code",
   "execution_count": null,
   "id": "20f2f548-cae5-49bf-b6ec-6034f8017c15",
   "metadata": {},
   "outputs": [],
   "source": [
    "#sg = sp.dsolve(eq_dif,ics={P(10):186488})\n",
    "#sg"
   ]
  },
  {
   "cell_type": "markdown",
   "id": "29c8eca4-3ede-469c-92f6-9fa8f93149e0",
   "metadata": {},
   "source": [
    "&nbsp; &nbsp; &nbsp; &nbsp;   A função sympy.dsolve não resolve a equação diferencial."
   ]
  }
 ],
 "metadata": {
  "kernelspec": {
   "display_name": "Python 3 (ipykernel)",
   "language": "python",
   "name": "python3"
  },
  "language_info": {
   "codemirror_mode": {
    "name": "ipython",
    "version": 3
   },
   "file_extension": ".py",
   "mimetype": "text/x-python",
   "name": "python",
   "nbconvert_exporter": "python",
   "pygments_lexer": "ipython3",
   "version": "3.10.2"
  }
 },
 "nbformat": 4,
 "nbformat_minor": 5
}
