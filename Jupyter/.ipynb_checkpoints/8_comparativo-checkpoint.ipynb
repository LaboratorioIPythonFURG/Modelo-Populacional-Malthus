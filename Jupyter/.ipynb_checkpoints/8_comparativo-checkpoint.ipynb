{
 "cells": [
  {
   "cell_type": "markdown",
   "id": "7cfe0448-01ce-418d-bcfa-c69e4045b9b3",
   "metadata": {},
   "source": [
    "<h1 style='color:#0000ec'>8 &nbsp;Estudo comparativo - Soluções numéricas e analítica</h1>"
   ]
  },
  {
   "cell_type": "markdown",
   "id": "8e7a6f2e-e763-4271-b87d-34a3327ee36b",
   "metadata": {},
   "source": [
    "&nbsp; &nbsp; &nbsp; Importando bibliotecas <i><b>Numpy</b></i> e <i><b>Matplotlib</b></i>:"
   ]
  },
  {
   "cell_type": "code",
   "execution_count": 1,
   "id": "1267e598-d6ec-478a-9bb1-fb980e0ba520",
   "metadata": {},
   "outputs": [],
   "source": [
    "import numpy as np\n",
    "import matplotlib.pyplot as plt"
   ]
  },
  {
   "cell_type": "markdown",
   "id": "9f4e4d89-687c-41a3-b41a-a8761e4b8445",
   "metadata": {},
   "source": [
    "&nbsp; &nbsp; &nbsp; Importando bibliotecas <i><b>SciPy</b></i> :"
   ]
  },
  {
   "cell_type": "code",
   "execution_count": 2,
   "id": "ad8a3c87-7f4d-4173-842e-673eaf31305e",
   "metadata": {},
   "outputs": [],
   "source": [
    "import scipy.integrate as sciInt"
   ]
  },
  {
   "cell_type": "markdown",
   "id": "5c894573-7376-4fe1-9e88-7431af9445b9",
   "metadata": {},
   "source": [
    "&nbsp; &nbsp; &nbsp; Importando bibliotecas <i><b>display</b></i> para exibir tabelas HTML por meio do python:"
   ]
  },
  {
   "cell_type": "code",
   "execution_count": 3,
   "id": "324ed58c-4017-426b-98bb-d2bf46546d43",
   "metadata": {},
   "outputs": [],
   "source": [
    "from IPython.display import HTML, display"
   ]
  },
  {
   "cell_type": "markdown",
   "id": "822e4328-d74f-40ff-9699-ced153e04f2b",
   "metadata": {},
   "source": [
    "&nbsp; &nbsp; &nbsp; Importando os modelos de <b>Malthus</b>, <b>Verhulst</b> e <b>Montroll</b>:"
   ]
  },
  {
   "cell_type": "code",
   "execution_count": 4,
   "id": "cad65a33-a0ee-4b6f-a70f-f9e261642af8",
   "metadata": {},
   "outputs": [],
   "source": [
    "import sys\n",
    "sys.path.insert(0,'../python')\n",
    "\n",
    "from modelo_malthus import modelo_malthus\n",
    "from modelo_verhulst import modelo_verhulst\n",
    "from modelo_montroll import modelo_montroll\n",
    "from f_malthus import f_malthus\n",
    "from f_verhulst import f_verhulst\n",
    "from f_montroll import f_montroll"
   ]
  },
  {
   "cell_type": "markdown",
   "id": "45c281b4-b616-4ece-98bc-b1e11d62ef1e",
   "metadata": {},
   "source": [
    "&nbsp; &nbsp; &nbsp; Importando os métodos de solução:"
   ]
  },
  {
   "cell_type": "code",
   "execution_count": 5,
   "id": "c5c5af53-054a-4ac0-a3c7-6cdab183bb27",
   "metadata": {},
   "outputs": [],
   "source": [
    "from sol_euler import sol_euler\n",
    "from sol_euler_mod import sol_euler_mod\n",
    "from sol_rk4 import sol_rk4"
   ]
  },
  {
   "cell_type": "markdown",
   "id": "a88e7388-6146-4429-848d-3b9afe637c95",
   "metadata": {},
   "source": [
    "&nbsp; &nbsp; &nbsp; Declarando vetor contendo a população de Rio Grande, segundo o DATASUS, entre os anos de 2010 e 2012."
   ]
  },
  {
   "cell_type": "code",
   "execution_count": 6,
   "id": "a01a630c-4846-469d-b18e-00c6f59eb06d",
   "metadata": {},
   "outputs": [],
   "source": [
    "dados_datasus = [197228, 198049, 198842]\n",
    "dsus = [197228, 198049, 198842,0]"
   ]
  },
  {
   "cell_type": "markdown",
   "id": "4a5925fd-dd37-491c-9cfb-aa4b48fc63ef",
   "metadata": {},
   "source": [
    "<h2 style='color:#0000b7' >&nbsp; 8.1 &nbsp;Obtendo aproximações numéricas e analítica</h2>"
   ]
  },
  {
   "cell_type": "markdown",
   "id": "7891ea2d-a66c-42e0-ac06-3b768d2a5193",
   "metadata": {},
   "source": [
    "&nbsp; &nbsp; &nbsp; Declarando o passo de derivação <b>h</b>, a condição inicial <b>T0</b>, o tempo inicial <b>ti</b>, o tempo final <b>tf</b> e o intervalo de tempo <b>vt</b>:"
   ]
  },
  {
   "cell_type": "code",
   "execution_count": 7,
   "id": "a092555b-b25d-46cb-bda2-d303dd1c5ab0",
   "metadata": {},
   "outputs": [
    {
     "data": {
      "text/plain": [
       "[(array([0], dtype=int64),),\n",
       " (array([1000], dtype=int64),),\n",
       " (array([2000], dtype=int64),),\n",
       " (array([3000], dtype=int64),),\n",
       " (array([4000], dtype=int64),),\n",
       " (array([5000], dtype=int64),),\n",
       " (array([6000], dtype=int64),)]"
      ]
     },
     "execution_count": 7,
     "metadata": {},
     "output_type": "execute_result"
    }
   ],
   "source": [
    "h = 0.001 #Passo de derivação\n",
    "\n",
    "P0 = 197228 #Condição inicial\n",
    "\n",
    "ti = 0 #tempo inicial\n",
    "\n",
    "tf = 12 #tempo final\n",
    "\n",
    "vt = np.arange(ti,tf,h) #Intervalo de 10 à 21 anos com passo h\n",
    "\n",
    "#vetor de posições para os intantes 0, 0.5, 1, 1.5, 2, 2.5 e 3: \n",
    "pos = [np.where(vt == 0),np.where(vt == 1),np.where(vt == 2),np.where(vt == 3),np.where(vt == 4),np.where(vt == 5),np.where(vt == 6)]\n",
    "pos2 = [np.where(vt == 0),np.where(vt == 1),np.where(vt == 2)]\n",
    "pos"
   ]
  },
  {
   "cell_type": "markdown",
   "id": "e3f11542-aba1-4fef-9c9c-063060aa013d",
   "metadata": {},
   "source": [
    "&nbsp; &nbsp; &nbsp; Obtendo solução analítica e segundo os métodos <b>LSODA</b>, <b>RK45</b>, <b>Euler</b>, <b>Euler modificado</b> e <b>RK4</b> para o modelo de <b>Malthus</b>:"
   ]
  },
  {
   "cell_type": "code",
   "execution_count": 8,
   "id": "05f40473-9bcf-4c6c-be0f-69a3a55e6d97",
   "metadata": {
    "tags": []
   },
   "outputs": [
    {
     "data": {
      "image/png": "[encoded data removed]",
      "text/plain": [
       "<Figure size 432x288 with 1 Axes>"
      ]
     },
     "metadata": {
      "needs_background": "light"
     },
     "output_type": "display_data"
    }
   ],
   "source": [
    "malthus_analitico = 197228*np.exp(0.00407*vt)\n",
    "\n",
    "malthus_sympy = 197228*np.exp(0.00407*vt)\n",
    "\n",
    "malthus_lsoda = sciInt.odeint(modelo_malthus, y0=P0, t=vt, tfirst=True)\n",
    "\n",
    "malthus_rk45 = sciInt.solve_ivp(modelo_malthus, t_span=(0,max(vt)), y0=[P0], t_eval=vt)\n",
    "\n",
    "malthus_euler = sol_euler(vt,P0,f_malthus)\n",
    "\n",
    "malthus_euler_mod = sol_euler_mod(vt,P0,f_malthus)\n",
    "\n",
    "malthus_rk4 = sol_rk4(vt,P0,f_malthus)\n",
    "\n",
    "plt.plot(vt,malthus_analitico,'m',label='Euler')\n",
    "plt.plot(vt,malthus_euler,'m',label='Euler')\n",
    "plt.plot(vt,malthus_euler_mod,'b',label='Euler modificado')\n",
    "plt.plot(vt,malthus_rk4 ,'y',label='RK4')\n",
    "\n",
    "plt.title('Simulação Numérica')\n",
    "plt.xlabel('Tempo (Anos)')\n",
    "plt.ylabel('Número de habiltantes')\n",
    "plt.legend()\n",
    "plt.yscale(\"log\")\n",
    "plt.xscale(\"log\")\n",
    "plt.show()"
   ]
  },
  {
   "cell_type": "code",
   "execution_count": 9,
   "id": "ffad98a4-9b9f-4621-896e-af2402c5a878",
   "metadata": {},
   "outputs": [
    {
     "data": {
      "image/png": "[encoded data removed]",
      "text/plain": [
       "<Figure size 432x288 with 1 Axes>"
      ]
     },
     "metadata": {
      "needs_background": "light"
     },
     "output_type": "display_data"
    }
   ],
   "source": [
    "L = 218858 #Limite \n",
    "\n",
    "t_lim = np.linspace(0,90)\n",
    "sol_lim_verhulst = sol_rk4(t_lim,P0,f_verhulst)\n",
    "sol_lim_malthus = sol_rk4(t_lim,P0,f_malthus)\n",
    "\n",
    "plt.plot(t_lim,sol_lim_malthus,'b',label='Modelo de Malthus')\n",
    "plt.plot(t_lim,sol_lim_verhulst,'r',label='Modelo de Verhulst')\n",
    "plt.plot(t_lim,np.full(t_lim.shape[0], L),\"k\", linestyle = 'dotted', label='Capacidade Suporte') #Assíntota\n",
    "\n",
    "plt.title('Simulação populacional pelo método RK4')\n",
    "plt.xlabel('Tempo (Anos)')\n",
    "plt.ylabel('Número de habiltantes')\n",
    "plt.legend()\n",
    "plt.yscale(\"log\")\n",
    "plt.xscale(\"log\")\n",
    "plt.show()"
   ]
  },
  {
   "cell_type": "markdown",
   "id": "f810e3fe-bd46-49a6-ac9c-4e85bb7c9943",
   "metadata": {},
   "source": [
    "&nbsp; &nbsp; &nbsp; Obtendo solução analítica e segundo os métodos <b>LSODA</b>, <b>RK45</b>, <b>Euler</b>, <b>Euler modificado</b> e <b>RK4</b> para o modelo de <b>Verhulst</b>:"
   ]
  },
  {
   "cell_type": "code",
   "execution_count": 10,
   "id": "ed6a9f8a-1e2f-4b38-b3e5-25bc62555cac",
   "metadata": {},
   "outputs": [
    {
     "name": "stdout",
     "output_type": "stream",
     "text": [
      "\n",
      "[201282.70651097]\n",
      "[201060.19427949]\n"
     ]
    }
   ],
   "source": [
    "vt1 = np.arange(0,2,0.001)\n",
    "\n",
    "verhulst_analitico = (218858*197228*np.exp(0.04285*vt))/(218858+197228*(np.exp(0.04285*vt)-1))\n",
    "verhulst_analitico1 = (218858*197228*np.exp(0.04285*vt1))/(218858+197228*(np.exp(0.04285*vt1)-1))\n",
    "\n",
    "verhulst_sympy = 218858/(1+0.109670026568236*np.exp(-0.04285*vt))\n",
    "\n",
    "verhulst_lsoda = sciInt.odeint(modelo_verhulst, y0=P0, t=vt, tfirst=True)\n",
    "\n",
    "verhulst_rk45 = sciInt.solve_ivp(modelo_verhulst, t_span=(0,max(vt)), y0=[P0], t_eval=vt)\n",
    "\n",
    "verhulst_euler = sol_euler(vt,P0,f_verhulst)\n",
    "\n",
    "verhulst_euler_mod = sol_euler_mod(vt,P0,f_verhulst)\n",
    "\n",
    "verhulst_rk4 = sol_rk4(vt,P0,f_verhulst)\n",
    "\n",
    "print()\n",
    "print(malthus_lsoda[5000])\n",
    "print(verhulst_lsoda[5000])"
   ]
  },
  {
   "cell_type": "code",
   "execution_count": 11,
   "id": "9338bd3f-c913-461f-9165-00977e16b7e8",
   "metadata": {},
   "outputs": [
    {
     "data": {
      "text/html": [
       "<center><b>Soluções para o problema segundo o modelo de Malthus</b><br><table><tr><td>t</td><td>Dados Reais</td><td>Solução Analítica</td><td>Euler</td><td>Euler-Modificado</td><td>RK4</td></tr><tr><td>0.0</td><td>197228.0</td><td>197228.0</td><td>197228.0</td><td>197228.0</td><td>197228.0</td></tr><tr><td>1.0</td><td>198049.0</td><td>198032.0</td><td>198032.352</td><td>198032.354</td><td>198032.354</td></tr><tr><td>2.0</td><td>198842.0</td><td>198840.0</td><td>198839.985</td><td>198839.988</td><td>198839.988</td></tr></table>"
      ],
      "text/plain": [
       "<IPython.core.display.HTML object>"
      ]
     },
     "metadata": {},
     "output_type": "display_data"
    },
    {
     "data": {
      "text/html": [
       "<center><b>Soluções para o problema segundo o modelo de Verhulst</b><br><table><tr><td>t</td><td>Dados Reais</td><td>Solução Analítica</td><td>Euler</td><td>Euler-Modificado</td><td>RK4</td></tr><tr><td>0.0</td><td>197228.0</td><td>197228.0</td><td>197228.0</td><td>197228.0</td><td>197228.0</td></tr><tr><td>1.0</td><td>198049.0</td><td>198049.0</td><td>198049.019</td><td>198049.005</td><td>198049.005</td></tr><tr><td>2.0</td><td>198842.0</td><td>198842.0</td><td>198842.038</td><td>198842.011</td><td>198842.011</td></tr></table>"
      ],
      "text/plain": [
       "<IPython.core.display.HTML object>"
      ]
     },
     "metadata": {},
     "output_type": "display_data"
    }
   ],
   "source": [
    "\n",
    "\n",
    "tabela = ['t','Dados Reais','Solução Analítica','Euler','Euler-Modificado','RK4']\n",
    "\n",
    "arr = 3\n",
    "\n",
    "for k in range(0,3):\n",
    "    i = pos2[k][0][0]\n",
    "    tabela = np.vstack([tabela,[k,round(dados_datasus[k]),round(malthus_analitico[i]),round(malthus_euler[i],arr),round(malthus_euler_mod[i],arr),round(malthus_rk4[i],arr)]])\n",
    "    \n",
    "display(HTML(\n",
    "   '<center><b>Soluções para o problema segundo o modelo de Malthus</b><br><table><tr>{}</tr></table>'.format(\n",
    "       '</tr><tr>'.join(\n",
    "           '<td>{}</td>'.format('</td><td>'.join(str(_) for _ in row)) for row in tabela)\n",
    "       )\n",
    "))\n",
    "\n",
    "\n",
    "tabela = ['t','Dados Reais','Solução Analítica','Euler','Euler-Modificado','RK4']\n",
    "\n",
    "arr = 3\n",
    "\n",
    "for k in range(0,3):\n",
    "    i = pos2[k][0][0]\n",
    "    tabela = np.vstack([tabela,[k,round(dados_datasus[k]),round(verhulst_analitico[i]),round(verhulst_euler[i],arr),round(verhulst_euler_mod[i],arr),round(verhulst_rk4[i],arr)]])\n",
    "    \n",
    "display(HTML(\n",
    "   '<center><b>Soluções para o problema segundo o modelo de Verhulst</b><br><table><tr>{}</tr></table>'.format(\n",
    "       '</tr><tr>'.join(\n",
    "           '<td>{}</td>'.format('</td><td>'.join(str(_) for _ in row)) for row in tabela)\n",
    "       )\n",
    "))"
   ]
  },
  {
   "cell_type": "markdown",
   "id": "342396dd-8ea5-4265-930b-2ce989a94d0d",
   "metadata": {},
   "source": [
    "&nbsp; &nbsp; &nbsp; Obtendo solução analítica e segundo os métodos <b>LSODA</b>, <b>RK45</b>, <b>Euler</b>, <b>Euler modificado</b> e <b>RK4</b> para o modelo de <b>Montroll</b>:"
   ]
  },
  {
   "cell_type": "code",
   "execution_count": 12,
   "id": "8fa60b1f-e93a-4d62-9845-e03999df9e01",
   "metadata": {},
   "outputs": [
    {
     "name": "stdout",
     "output_type": "stream",
     "text": [
      "Modelo de Montroll\n"
     ]
    },
    {
     "data": {
      "text/html": [
       "<table><tr><td>t</td><td>Dados Reais</td><td>Solução Analítica</td><td>Euler</td><td>Euler-Modificado</td><td>RK4</td></tr><tr><td>0.0</td><td>197228.0</td><td>197233.0</td><td>197233.192</td><td>197233.192</td><td>197233.192</td></tr><tr><td>1.0</td><td>198049.0</td><td>198039.0</td><td>198038.571</td><td>198038.572</td><td>198038.572</td></tr><tr><td>2.0</td><td>198842.0</td><td>198847.0</td><td>198847.232</td><td>198847.235</td><td>198847.235</td></tr></table>"
      ],
      "text/plain": [
       "<IPython.core.display.HTML object>"
      ]
     },
     "metadata": {},
     "output_type": "display_data"
    },
    {
     "name": "stdout",
     "output_type": "stream",
     "text": [
      "198847.2348276467\n",
      "[(array([0], dtype=int64),), (array([1000], dtype=int64),), (array([2000], dtype=int64),), (array([3000], dtype=int64),), (array([4000], dtype=int64),), (array([5000], dtype=int64),), (array([6000], dtype=int64),)]\n",
      "montroll2023,  207113.5454996113\n"
     ]
    },
    {
     "data": {
      "image/png": "[encoded data removed]",
      "text/plain": [
       "<Figure size 432x288 with 1 Axes>"
      ]
     },
     "metadata": {
      "needs_background": "light"
     },
     "output_type": "display_data"
    }
   ],
   "source": [
    "c = 92269.66046549017\n",
    "r =  0.004075131037140572\n",
    "l = 109.8892759720857\n",
    "L = 218858\n",
    "\n",
    "montroll_analitico = L/(1+c*np.exp(-l*r*vt))**(1/l)\n",
    "montroll_analitico1 = L/(1+c*np.exp(-l*r*vt1))**(1/l)\n",
    "\n",
    "montroll_lsoda = sciInt.odeint(modelo_montroll, y0=P0, t=vt, tfirst=True)\n",
    "\n",
    "montroll_rk45 = sciInt.solve_ivp(modelo_montroll, t_span=(0,max(vt)), y0=[P0], t_eval=vt)\n",
    "\n",
    "P01 = 197233.19241797953\n",
    "\n",
    "montroll_euler = sol_euler(vt,P01,f_montroll)\n",
    "\n",
    "montroll_euler_mod = sol_euler_mod(vt,P01,f_montroll)\n",
    "\n",
    "montroll_rk4 = sol_rk4(vt,P01,f_montroll)\n",
    "\n",
    "\n",
    "print('Modelo de Montroll')\n",
    "\n",
    "tabela = ['t','Dados Reais','Solução Analítica','Euler','Euler-Modificado','RK4']\n",
    "\n",
    "arr = 3\n",
    "\n",
    "for k in range(0,3):\n",
    "    i = pos2[k][0][0]\n",
    "    tabela = np.vstack([tabela,[k,round(dados_datasus[k],arr),round(montroll_analitico[i]),round(montroll_euler[i],arr),round(montroll_euler_mod[i],arr),round(montroll_rk4[i],arr)]])\n",
    "    \n",
    "display(HTML(\n",
    "   '<table><tr>{}</tr></table>'.format(\n",
    "       '</tr><tr>'.join(\n",
    "           '<td>{}</td>'.format('</td><td>'.join(str(_) for _ in row)) for row in tabela)\n",
    "       )\n",
    "))\n",
    "\n",
    "print(montroll_analitico[2000])\n",
    "print(pos)\n",
    "\n",
    "plt.plot(vt1,montroll_analitico1,'m',label='Analitico')\n",
    "plt.plot(vt1,verhulst_analitico1,'b',label='Analitico')\n",
    "#plt.yscale(\"log\")\n",
    "#plt.xscale(\"log\")\n",
    "plt.plot()\n",
    "\n",
    "print('montroll2023, ',L/(1+c*np.exp(-l*r*12))**(1/l))"
   ]
  },
  {
   "cell_type": "markdown",
   "id": "76ffd42f-9f47-4f9e-85d3-6ffb7fedb15c",
   "metadata": {},
   "source": [
    "<h2 style='color:#0000b7' >&nbsp; 8.2 &nbsp;Erro entre as soluções numéricas e analíticas</h2>"
   ]
  },
  {
   "cell_type": "code",
   "execution_count": 13,
   "id": "75a5de99-5489-48fe-b510-ce2b0ceda7da",
   "metadata": {},
   "outputs": [
    {
     "data": {
      "text/html": [
       "<table><tr><td>t</td><td>Euler</td><td>Euler-Modificado</td><td>RK4</td><td>RK45</td><td>LSODA</td></tr><tr><td>0.0</td><td>0.0</td><td>0.0</td><td>0.0</td><td>0.0</td><td>0.0</td></tr><tr><td>1000.0</td><td>0.0016401885</td><td>2e-09</td><td>1e-10</td><td>1.15e-08</td><td>804.3537094625</td></tr><tr><td>2000.0</td><td>0.0032937551</td><td>4.3e-09</td><td>1e-10</td><td>1.28e-08</td><td>1611.9878095892</td></tr><tr><td>3000.0</td><td>0.0049607821</td><td>6.6e-09</td><td>1e-10</td><td>7e-10</td><td>2422.9156787768</td></tr><tr><td>4000.0</td><td>0.0066413514</td><td>8.7e-09</td><td>2e-10</td><td>4.662e-07</td><td>3237.1507499828</td></tr><tr><td>5000.0</td><td>0.0083355458</td><td>1.08e-08</td><td>5e-10</td><td>1.8677e-06</td><td>4054.7065109482</td></tr></table>"
      ],
      "text/plain": [
       "<IPython.core.display.HTML object>"
      ]
     },
     "metadata": {},
     "output_type": "display_data"
    }
   ],
   "source": [
    "err_malthus_euler = abs(malthus_analitico - malthus_euler)\n",
    "err_malthus_euler_mod = abs(malthus_analitico - malthus_euler_mod)\n",
    "err_malthus_rk4 = abs(malthus_analitico - malthus_rk4)\n",
    "err_malthus_lsoda = abs(malthus_analitico - malthus_lsoda[0])\n",
    "err_malthus_rk45 = abs(malthus_analitico - malthus_rk45.y[0])\n",
    "\n",
    "tabela = ['t','Euler','Euler-Modificado','RK4','RK45','LSODA']\n",
    "\n",
    "arr = 10\n",
    "\n",
    "for k in range(0,6):\n",
    "    i = pos[k][0][0]\n",
    "    a = round(abs(err_malthus_euler[i]/malthus_analitico[i])*100,2)\n",
    "    tabela = np.vstack([tabela,[i,round(err_malthus_euler[i],arr),round(err_malthus_euler_mod[i],arr),round(err_malthus_rk4[i],arr),round(err_malthus_rk45[i],arr),round(err_malthus_lsoda[i],arr)]])\n",
    "    \n",
    "display(HTML(\n",
    "   '<table><tr>{}</tr></table>'.format(\n",
    "       '</tr><tr>'.join(\n",
    "           '<td>{}</td>'.format('</td><td>'.join(str(_) for _ in row)) for row in tabela)\n",
    "       )\n",
    "))"
   ]
  },
  {
   "cell_type": "code",
   "execution_count": 14,
   "id": "bc05b1ab-9b26-4cd5-9967-469aab55ef3b",
   "metadata": {},
   "outputs": [
    {
     "data": {
      "text/html": [
       "<table><tr><td>t</td><td>Euler</td><td>Euler-Modificado</td><td>RK4</td><td>RK45</td><td>LSODA</td></tr><tr><td>0.0</td><td>0.0</td><td>0.0</td><td>0.0</td><td>0.0</td><td>0.0</td></tr><tr><td>1000.0</td><td>0.01393595719</td><td>1.8178e-07</td><td>3e-11</td><td>1.534616e-05</td><td>821.00547137143</td></tr><tr><td>2000.0</td><td>0.02704021186</td><td>3.5312e-07</td><td>1.5e-10</td><td>9.644162e-05</td><td>1614.01080511374</td></tr><tr><td>3000.0</td><td>0.03933309802</td><td>5.1482e-07</td><td>6.1e-10</td><td>1.274567e-05</td><td>2379.73308970733</td></tr><tr><td>4000.0</td><td>0.05083622946</td><td>6.6636e-07</td><td>9e-10</td><td>0.00138689508</td><td>3118.88929167658</td></tr><tr><td>5000.0</td><td>0.06157230071</td><td>8.0827e-07</td><td>1.16e-09</td><td>0.00744459286</td><td>3832.19457823556</td></tr></table>"
      ],
      "text/plain": [
       "<IPython.core.display.HTML object>"
      ]
     },
     "metadata": {},
     "output_type": "display_data"
    }
   ],
   "source": [
    "err_verhulst_euler = abs(verhulst_analitico - verhulst_euler)\n",
    "err_verhulst_euler_mod = abs(verhulst_analitico - verhulst_euler_mod)\n",
    "err_verhulst_rk4 = abs(verhulst_analitico - verhulst_rk4)\n",
    "err_verhulst_lsoda = abs(verhulst_analitico - verhulst_lsoda[0])\n",
    "err_verhulst_rk45 = abs(verhulst_analitico - verhulst_rk45.y[0])\n",
    "\n",
    "tabela = ['t','Euler','Euler-Modificado','RK4','RK45','LSODA']\n",
    "\n",
    "arr = 11\n",
    "\n",
    "for k in range(0,6):\n",
    "    i = pos[k][0][0]\n",
    "    a = round(abs(err_verhulst_euler[i]/verhulst_analitico[i])*100,2)\n",
    "    tabela = np.vstack([tabela,[i,round(err_verhulst_euler[i],arr),round(err_verhulst_euler_mod[i],arr),round(err_verhulst_rk4[i],arr),round(err_verhulst_rk45[i],arr),round(err_verhulst_lsoda[i],arr)]])\n",
    "    \n",
    "display(HTML(\n",
    "   '<table><tr>{}</tr></table>'.format(\n",
    "       '</tr><tr>'.join(\n",
    "           '<td>{}</td>'.format('</td><td>'.join(str(_) for _ in row)) for row in tabela)\n",
    "       )\n",
    "))"
   ]
  },
  {
   "cell_type": "code",
   "execution_count": 15,
   "id": "9c50d926-47c2-413f-b541-5e3e8f85aa38",
   "metadata": {},
   "outputs": [
    {
     "data": {
      "image/png": "[encoded data removed]",
      "text/plain": [
       "<Figure size 432x288 with 1 Axes>"
      ]
     },
     "metadata": {
      "needs_background": "light"
     },
     "output_type": "display_data"
    }
   ],
   "source": [
    "#plt.plot(vt,err_malthus_euler,'m',label='Euler')\n",
    "#plt.plot(vt,err_malthus_euler_mod,'b',label='Euler modificado')\n",
    "plt.plot(vt,err_malthus_rk4 ,'y',label='RK4')\n",
    "#plt.plot(vt,err_malthus_lsoda,'g',label='LSODA')\n",
    "#plt.plot(vt,err_malthus_rk45,'r',label='RK45')\n",
    "\n",
    "plt.title('Erro absoluto entre solução analítica e numérica')\n",
    "plt.xlabel('Tempo (Anos)')\n",
    "plt.ylabel('Erro absoluto')\n",
    "plt.legend()\n",
    "#plt.yscale('log')\n",
    "plt.show()"
   ]
  },
  {
   "cell_type": "markdown",
   "id": "ec9b1974-0e40-4df5-8638-4356624940b2",
   "metadata": {
    "tags": []
   },
   "source": [
    "<h2 style='color:#0000b7' >&nbsp; 8.2 &nbsp;Calculando o erro para 2010-2012</h2>"
   ]
  },
  {
   "cell_type": "markdown",
   "id": "b4636b77-ddd9-4ea4-9706-58d5e2c6870e",
   "metadata": {},
   "source": [
    "&nbsp; &nbsp; &nbsp; A seguir, escrevemos a função <i><b>erro_datasus(\t&lt;dados do DATASUS>,\t&lt;Vetor solução>)</b></i> o erro das soluções obtidas com relação a população fornecida pelo DATASUS."
   ]
  },
  {
   "cell_type": "code",
   "execution_count": 16,
   "id": "5d3310a3-3f9b-4b80-904d-83d044508e7e",
   "metadata": {},
   "outputs": [
    {
     "name": "stdout",
     "output_type": "stream",
     "text": [
      "Overwriting ../python/erro_datasus.py\n"
     ]
    }
   ],
   "source": [
    "%%writefile ../python/erro_datasus.py\n",
    "\n",
    "import numpy as np\n",
    "\n",
    "def erro_datasus(dados_datasus,solucoes,metodo):\n",
    "    \n",
    "    dados = [[0, 0, 0, 0, 0]]\n",
    "    \n",
    "    for i in range(0,3):\n",
    "        \n",
    "        if metodo=='lsoda':\n",
    "            \n",
    "            solucao = solucoes[i][0]\n",
    "            \n",
    "        elif metodo=='rk45':\n",
    "            \n",
    "            solucao = solucoes.y[0][i]\n",
    "        \n",
    "        else:\n",
    "            \n",
    "            solucao = solucoes[i]\n",
    "            \n",
    "        erro_hab = dados_datasus[i] - solucao\n",
    "        #print(erro_hab)\n",
    "        erro_perc = (erro_hab/dados_datasus[i])*100\n",
    "        #Adicionando linhas à matriz (tabela)\n",
    "        dados = np.vstack([dados,[i,dados_datasus[i],round(solucao,2),round(erro_hab),str(round(erro_perc,2))+'%']])\n",
    "        #dados = np.vstack([dados,[i,dados_datasus[i],round(solucao,2),round(erro_hab),str(erro_perc)+'%']])\n",
    "        \n",
    "    #remove a primeira linha da matriz\n",
    "    dados = np.delete(dados, 0, 0)\n",
    "    \n",
    "    return dados"
   ]
  },
  {
   "cell_type": "markdown",
   "id": "d6b5c74f-e432-42b3-8888-2bccb0fe82f5",
   "metadata": {},
   "source": [
    "&nbsp; &nbsp; &nbsp; Importando função escrita em <b>[11]</b>"
   ]
  },
  {
   "cell_type": "code",
   "execution_count": 17,
   "id": "67d36e94-5f0f-4f54-9b67-0852b6582a19",
   "metadata": {},
   "outputs": [],
   "source": [
    "import sys\n",
    "sys.path.insert(0, '../python')\n",
    "from erro_datasus import erro_datasus"
   ]
  },
  {
   "cell_type": "markdown",
   "id": "d96e302c-c2ec-4060-a2de-d3af8ddddda0",
   "metadata": {},
   "source": [
    "&nbsp; &nbsp; &nbsp; Atribuindo as aproximações à funções <i><b>erro_ibge</b></i>."
   ]
  },
  {
   "cell_type": "code",
   "execution_count": 18,
   "id": "0334e695-18d2-42dc-83a0-a83f9d58de62",
   "metadata": {},
   "outputs": [
    {
     "name": "stdout",
     "output_type": "stream",
     "text": [
      "197228.0\n"
     ]
    }
   ],
   "source": [
    "print(malthus_lsoda[0][0])"
   ]
  },
  {
   "cell_type": "code",
   "execution_count": 19,
   "id": "db69dbe5-cc8b-4d25-a9ce-9f35ebb8909a",
   "metadata": {},
   "outputs": [],
   "source": [
    "err_malthus_analitico = erro_datasus(dados_datasus,malthus_analitico,'')\n",
    "\n",
    "err_malthus_sympy = erro_datasus(dados_datasus,malthus_sympy,'')\n",
    "\n",
    "err_malthus_lsoda = erro_datasus(dados_datasus,malthus_lsoda,'lsoda')\n",
    "\n",
    "err_malthus_rk45 = erro_datasus(dados_datasus,malthus_rk45,'rk45')\n",
    "\n",
    "err_malthus_euler = erro_datasus(dados_datasus,malthus_euler,'')\n",
    "\n",
    "err_malthus_euler_mod = erro_datasus(dados_datasus,malthus_euler_mod,'')\n",
    "\n",
    "err_malthus_rk4 = erro_datasus(dados_datasus,malthus_rk4,'')"
   ]
  },
  {
   "cell_type": "code",
   "execution_count": 20,
   "id": "0f88ffcb-1d4a-4f5a-a02b-4140d332250f",
   "metadata": {},
   "outputs": [],
   "source": [
    "err_verhulst_analitico = erro_datasus(dados_datasus,verhulst_analitico,'')\n",
    "\n",
    "err_verhulst_sympy = erro_datasus(dados_datasus,verhulst_sympy,'')\n",
    "\n",
    "err_verhulst_lsoda = erro_datasus(dados_datasus,verhulst_lsoda,'lsoda')\n",
    "\n",
    "err_verhulst_rk45 = erro_datasus(dados_datasus,verhulst_rk45,'rk45')\n",
    "\n",
    "err_verhulst_euler = erro_datasus(dados_datasus,verhulst_euler,'')\n",
    "\n",
    "err_verhulst_euler_mod = erro_datasus(dados_datasus,verhulst_euler_mod,'')\n",
    "\n",
    "err_verhulst_rk4 = erro_datasus(dados_datasus,verhulst_rk4,'')"
   ]
  },
  {
   "cell_type": "code",
   "execution_count": 21,
   "id": "cdb9844c-b781-436b-a6a3-331c7af94dcc",
   "metadata": {},
   "outputs": [],
   "source": [
    "err_montroll_analitico = erro_datasus(dados_datasus,montroll_analitico,'')\n",
    "\n",
    "#err_montroll_sympy = erro_datasus(dados_datasus,montroll_sympy,'')\n",
    "\n",
    "err_montroll_lsoda = erro_datasus(dados_datasus,montroll_lsoda,'lsoda')\n",
    "\n",
    "err_montroll_rk45 = erro_datasus(dados_datasus,montroll_rk45,'rk45')\n",
    "\n",
    "err_montroll_euler = erro_datasus(dados_datasus,montroll_euler,'')\n",
    "\n",
    "err_montroll_euler_mod = erro_datasus(dados_datasus,montroll_euler_mod,'')\n",
    "\n",
    "err_montroll_rk4 = erro_datasus(dados_datasus,montroll_rk4,'')"
   ]
  },
  {
   "cell_type": "markdown",
   "id": "a52b6dc2-59ad-4525-bdcf-5312e6a7dd20",
   "metadata": {
    "tags": []
   },
   "source": [
    "<h2 style='color:#0000b7' >&nbsp; 8.3 &nbsp;Apresentação dos dados sobre o modelo de Malthus</h2>"
   ]
  },
  {
   "cell_type": "markdown",
   "id": "eb8958c6-ffcb-4340-865f-d53713465129",
   "metadata": {},
   "source": [
    "&nbsp; &nbsp; &nbsp; Finalmente, exibimos os dados armazenados:"
   ]
  },
  {
   "cell_type": "markdown",
   "id": "37bf794a-c102-43f8-9325-ab623c18d056",
   "metadata": {},
   "source": [
    "<h3 style='color:#b50000' >&nbsp; &nbsp; 8.3.1 &nbsp;Malthus - SymPy (Analítico)</h3>"
   ]
  },
  {
   "cell_type": "code",
   "execution_count": 22,
   "id": "32c99bc4-a91f-43c8-bfb8-b714d2c6638e",
   "metadata": {},
   "outputs": [
    {
     "data": {
      "text/html": [
       "<table><tr><td>t</td><td>Dados reais</td><td>Aproximação</td><td>Erro absoluto</td><td>Erro percentual</td></tr><tr><td>0</td><td>197228</td><td>197228.0</td><td>0</td><td>0.0%</td></tr><tr><td>1</td><td>198049</td><td>197228.8</td><td>820</td><td>0.41%</td></tr><tr><td>2</td><td>198842</td><td>197229.61</td><td>1612</td><td>0.81%</td></tr></table>"
      ],
      "text/plain": [
       "<IPython.core.display.HTML object>"
      ]
     },
     "metadata": {},
     "output_type": "display_data"
    }
   ],
   "source": [
    "display(HTML(\n",
    "   '<table><tr><td>t</td><td>Dados reais</td><td>Aproximação</td><td>Erro absoluto</td><td>Erro percentual</td></tr><tr>{}</tr></table>'.format(\n",
    "       '</tr><tr>'.join(\n",
    "           '<td>{}</td>'.format('</td><td>'.join(str(_) for _ in row)) for row in err_malthus_analitico))))"
   ]
  },
  {
   "cell_type": "markdown",
   "id": "f1abb8a9-c702-4445-a8ed-2d2282f6819a",
   "metadata": {},
   "source": [
    "<h3 style='color:#b50000' >&nbsp; &nbsp; 8.3.2 &nbsp;Malthus - SciPy (LSODA)</h3>"
   ]
  },
  {
   "cell_type": "code",
   "execution_count": 23,
   "id": "36a31985-1047-48ce-a9d7-36a459b1a6e9",
   "metadata": {},
   "outputs": [
    {
     "data": {
      "text/html": [
       "<table><tr><td>t</td><td>Dados reais</td><td>Aproximação</td><td>Erro absoluto</td><td>Erro percentual</td></tr><tr><td>0</td><td>197228</td><td>197228.0</td><td>0</td><td>0.0%</td></tr><tr><td>1</td><td>198049</td><td>197228.8</td><td>820</td><td>0.41%</td></tr><tr><td>2</td><td>198842</td><td>197229.61</td><td>1612</td><td>0.81%</td></tr></table>"
      ],
      "text/plain": [
       "<IPython.core.display.HTML object>"
      ]
     },
     "metadata": {},
     "output_type": "display_data"
    }
   ],
   "source": [
    "display(HTML(\n",
    "   '<table><tr><td>t</td><td>Dados reais</td><td>Aproximação</td><td>Erro absoluto</td><td>Erro percentual</td></tr><tr>{}</tr></table>'.format(\n",
    "       '</tr><tr>'.join(\n",
    "           '<td>{}</td>'.format('</td><td>'.join(str(_) for _ in row)) for row in err_malthus_lsoda))))"
   ]
  },
  {
   "cell_type": "markdown",
   "id": "2a8aeb4d-719b-4674-a86a-9052cfdd30c9",
   "metadata": {
    "tags": []
   },
   "source": [
    "<h3 style='color:#b50000' >&nbsp; &nbsp; 8.3.3 &nbsp;Malthus - SciPy (RK45)</h3>"
   ]
  },
  {
   "cell_type": "code",
   "execution_count": 24,
   "id": "4b387d54-6b85-41e1-8545-09bad6f970b3",
   "metadata": {},
   "outputs": [
    {
     "data": {
      "text/html": [
       "<table><tr><td>t</td><td>Dados reais</td><td>Aproximação</td><td>Erro absoluto</td><td>Erro percentual</td></tr><tr><td>0</td><td>197228</td><td>197228.0</td><td>0</td><td>0.0%</td></tr><tr><td>1</td><td>198049</td><td>197228.8</td><td>820</td><td>0.41%</td></tr><tr><td>2</td><td>198842</td><td>197229.61</td><td>1612</td><td>0.81%</td></tr></table>"
      ],
      "text/plain": [
       "<IPython.core.display.HTML object>"
      ]
     },
     "metadata": {},
     "output_type": "display_data"
    }
   ],
   "source": [
    "display(HTML(\n",
    "   '<table><tr><td>t</td><td>Dados reais</td><td>Aproximação</td><td>Erro absoluto</td><td>Erro percentual</td></tr><tr>{}</tr></table>'.format(\n",
    "       '</tr><tr>'.join(\n",
    "           '<td>{}</td>'.format('</td><td>'.join(str(_) for _ in row)) for row in err_malthus_rk45))))"
   ]
  },
  {
   "cell_type": "markdown",
   "id": "896d8095-505b-424c-b418-64835e110ffe",
   "metadata": {
    "tags": []
   },
   "source": [
    "<h3 style='color:#b50000' >&nbsp; &nbsp; 8.3.4 &nbsp;Malthus - Método de Euler</h3>"
   ]
  },
  {
   "cell_type": "code",
   "execution_count": 25,
   "id": "bc6b6c49-8d24-40e7-b630-69078891770e",
   "metadata": {},
   "outputs": [
    {
     "data": {
      "text/html": [
       "<table><tr><td>t</td><td>Dados reais</td><td>Aproximação</td><td>Erro absoluto</td><td>Erro percentual</td></tr><tr><td>0</td><td>197228</td><td>197228.0</td><td>0</td><td>0.0%</td></tr><tr><td>1</td><td>198049</td><td>197228.8</td><td>820</td><td>0.41%</td></tr><tr><td>2</td><td>198842</td><td>197229.61</td><td>1612</td><td>0.81%</td></tr></table>"
      ],
      "text/plain": [
       "<IPython.core.display.HTML object>"
      ]
     },
     "metadata": {},
     "output_type": "display_data"
    }
   ],
   "source": [
    "display(HTML(\n",
    "   '<table><tr><td>t</td><td>Dados reais</td><td>Aproximação</td><td>Erro absoluto</td><td>Erro percentual</td></tr><tr>{}</tr></table>'.format(\n",
    "       '</tr><tr>'.join(\n",
    "           '<td>{}</td>'.format('</td><td>'.join(str(_) for _ in row)) for row in err_malthus_euler)\n",
    "       )\n",
    "))"
   ]
  },
  {
   "cell_type": "markdown",
   "id": "38b2e0a2-d9d1-47e9-b2d3-3c02d2cd64fd",
   "metadata": {
    "tags": []
   },
   "source": [
    "<h3 style='color:#b50000' >&nbsp; &nbsp; 8.3.5 &nbsp;Malthus - Método de Euler modificado</h3>"
   ]
  },
  {
   "cell_type": "code",
   "execution_count": 26,
   "id": "58a920e5-bec0-44d6-a334-948c800b9c51",
   "metadata": {},
   "outputs": [
    {
     "data": {
      "text/html": [
       "<table><tr><td>t</td><td>Dados reais</td><td>Aproximação</td><td>Erro absoluto</td><td>Erro percentual</td></tr><tr><td>0</td><td>197228</td><td>197228.0</td><td>0</td><td>0.0%</td></tr><tr><td>1</td><td>198049</td><td>197228.8</td><td>820</td><td>0.41%</td></tr><tr><td>2</td><td>198842</td><td>197229.61</td><td>1612</td><td>0.81%</td></tr></table>"
      ],
      "text/plain": [
       "<IPython.core.display.HTML object>"
      ]
     },
     "metadata": {},
     "output_type": "display_data"
    }
   ],
   "source": [
    "display(HTML(\n",
    "   '<table><tr><td>t</td><td>Dados reais</td><td>Aproximação</td><td>Erro absoluto</td><td>Erro percentual</td></tr><tr>{}</tr></table>'.format(\n",
    "       '</tr><tr>'.join(\n",
    "           '<td>{}</td>'.format('</td><td>'.join(str(_) for _ in row)) for row in err_malthus_euler_mod))))"
   ]
  },
  {
   "cell_type": "markdown",
   "id": "6ea85ba5-c1cc-40d5-8f53-c127a1980725",
   "metadata": {
    "tags": []
   },
   "source": [
    "<h3 style='color:#b50000' >&nbsp; &nbsp; 8.3.6 &nbsp;Malthus - Método Runge-Kutta de 4a ordem</h3>"
   ]
  },
  {
   "cell_type": "code",
   "execution_count": 27,
   "id": "b7afb742-d70f-4920-89ea-ba4f017fd5cb",
   "metadata": {},
   "outputs": [
    {
     "data": {
      "text/html": [
       "<table><tr><td>t</td><td>Dados reais</td><td>Aproximação</td><td>Erro absoluto</td><td>Erro percentual</td></tr><tr><td>0</td><td>197228</td><td>197228.0</td><td>0</td><td>0.0%</td></tr><tr><td>1</td><td>198049</td><td>197228.8</td><td>820</td><td>0.41%</td></tr><tr><td>2</td><td>198842</td><td>197229.61</td><td>1612</td><td>0.81%</td></tr></table>"
      ],
      "text/plain": [
       "<IPython.core.display.HTML object>"
      ]
     },
     "metadata": {},
     "output_type": "display_data"
    }
   ],
   "source": [
    "display(HTML(\n",
    "   '<table><tr><td>t</td><td>Dados reais</td><td>Aproximação</td><td>Erro absoluto</td><td>Erro percentual</td></tr><tr>{}</tr></table>'.format(\n",
    "       '</tr><tr>'.join(\n",
    "           '<td>{}</td>'.format('</td><td>'.join(str(_) for _ in row)) for row in err_malthus_rk4))))"
   ]
  },
  {
   "cell_type": "markdown",
   "id": "7af1f32b-19a2-4acc-a399-7c8d77f6d003",
   "metadata": {
    "tags": []
   },
   "source": [
    "<h2 style='color:#0000b7' >&nbsp; 8.4 &nbsp;Apresentação dos dados sobre o modelo de Verhulst</h2>"
   ]
  },
  {
   "cell_type": "markdown",
   "id": "de0b5545-6a94-4785-becf-8d0771f8ae94",
   "metadata": {
    "tags": []
   },
   "source": [
    "<h3 style='color:#b50000' >&nbsp; &nbsp; 8.4.1 &nbsp;Verhulst - SymPy (Analítico)</h3>"
   ]
  },
  {
   "cell_type": "code",
   "execution_count": 28,
   "id": "9e8c51df-28f6-49a8-8324-f6eb6a339e34",
   "metadata": {},
   "outputs": [
    {
     "data": {
      "text/html": [
       "<table><tr><td>t</td><td>Dados reais</td><td>Aproximação</td><td>Erro absoluto</td><td>Erro percentual</td></tr><tr><td>0</td><td>197228</td><td>197228.0</td><td>0</td><td>0.0%</td></tr><tr><td>1</td><td>198049</td><td>197228.84</td><td>820</td><td>0.41%</td></tr><tr><td>2</td><td>198842</td><td>197229.67</td><td>1612</td><td>0.81%</td></tr></table>"
      ],
      "text/plain": [
       "<IPython.core.display.HTML object>"
      ]
     },
     "metadata": {},
     "output_type": "display_data"
    }
   ],
   "source": [
    "display(HTML(\n",
    "   '<table><tr><td>t</td><td>Dados reais</td><td>Aproximação</td><td>Erro absoluto</td><td>Erro percentual</td></tr><tr>{}</tr></table>'.format(\n",
    "       '</tr><tr>'.join(\n",
    "           '<td>{}</td>'.format('</td><td>'.join(str(_) for _ in row)) for row in err_verhulst_sympy))))"
   ]
  },
  {
   "cell_type": "markdown",
   "id": "a75e8754-a1a4-48d0-94d6-31d8be234ac9",
   "metadata": {
    "tags": []
   },
   "source": [
    "<h3 style='color:#b50000' >&nbsp; &nbsp; 8.4.2 &nbsp;Verhulst - SciPy (LSODA)</h3>"
   ]
  },
  {
   "cell_type": "code",
   "execution_count": 29,
   "id": "20bda533-c06e-453c-b679-a3daaa4c882d",
   "metadata": {},
   "outputs": [
    {
     "data": {
      "text/html": [
       "<table><tr><td>t</td><td>Dados reais</td><td>Aproximação</td><td>Erro absoluto</td><td>Erro percentual</td></tr><tr><td>0</td><td>197228</td><td>197228.0</td><td>0</td><td>0.0%</td></tr><tr><td>1</td><td>198049</td><td>197228.84</td><td>820</td><td>0.41%</td></tr><tr><td>2</td><td>198842</td><td>197229.67</td><td>1612</td><td>0.81%</td></tr></table>"
      ],
      "text/plain": [
       "<IPython.core.display.HTML object>"
      ]
     },
     "metadata": {},
     "output_type": "display_data"
    }
   ],
   "source": [
    "display(HTML(\n",
    "   '<table><tr><td>t</td><td>Dados reais</td><td>Aproximação</td><td>Erro absoluto</td><td>Erro percentual</td></tr><tr>{}</tr></table>'.format(\n",
    "       '</tr><tr>'.join(\n",
    "           '<td>{}</td>'.format('</td><td>'.join(str(_) for _ in row)) for row in err_verhulst_lsoda))))"
   ]
  },
  {
   "cell_type": "markdown",
   "id": "3c6334e7-ab13-40bd-86a2-db3806a62771",
   "metadata": {
    "tags": []
   },
   "source": [
    "<h3 style='color:#b50000' >&nbsp; &nbsp; 8.4.3 &nbsp;Verhulst - SciPy (RK45)</h3>"
   ]
  },
  {
   "cell_type": "code",
   "execution_count": 30,
   "id": "7a3bc80b-3d1e-43c8-99c6-4b8ff3b5858e",
   "metadata": {},
   "outputs": [
    {
     "data": {
      "text/html": [
       "<table><tr><td>t</td><td>Dados reais</td><td>Aproximação</td><td>Erro absoluto</td><td>Erro percentual</td></tr><tr><td>0</td><td>197228</td><td>197228.0</td><td>0</td><td>0.0%</td></tr><tr><td>1</td><td>198049</td><td>197228.84</td><td>820</td><td>0.41%</td></tr><tr><td>2</td><td>198842</td><td>197229.67</td><td>1612</td><td>0.81%</td></tr></table>"
      ],
      "text/plain": [
       "<IPython.core.display.HTML object>"
      ]
     },
     "metadata": {},
     "output_type": "display_data"
    }
   ],
   "source": [
    "display(HTML(\n",
    "   '<table><tr><td>t</td><td>Dados reais</td><td>Aproximação</td><td>Erro absoluto</td><td>Erro percentual</td></tr><tr>{}</tr></table>'.format(\n",
    "       '</tr><tr>'.join(\n",
    "           '<td>{}</td>'.format('</td><td>'.join(str(_) for _ in row)) for row in err_verhulst_rk45))))"
   ]
  },
  {
   "cell_type": "markdown",
   "id": "f18fe09d-71b3-47c6-8654-321b56a94cac",
   "metadata": {
    "tags": []
   },
   "source": [
    "<h3 style='color:#b50000' >&nbsp; &nbsp; 8.4.4 &nbsp;Verhulst - Método de Euler</h3>"
   ]
  },
  {
   "cell_type": "code",
   "execution_count": 31,
   "id": "d41821cc-35df-4d80-b5ae-83092dc3995f",
   "metadata": {},
   "outputs": [
    {
     "data": {
      "text/html": [
       "<table><tr><td>t</td><td>Dados reais</td><td>Aproximação</td><td>Erro absoluto</td><td>Erro percentual</td></tr><tr><td>0</td><td>197228</td><td>197228.0</td><td>0</td><td>0.0%</td></tr><tr><td>1</td><td>198049</td><td>197228.84</td><td>820</td><td>0.41%</td></tr><tr><td>2</td><td>198842</td><td>197229.67</td><td>1612</td><td>0.81%</td></tr></table>"
      ],
      "text/plain": [
       "<IPython.core.display.HTML object>"
      ]
     },
     "metadata": {},
     "output_type": "display_data"
    }
   ],
   "source": [
    "display(HTML(\n",
    "   '<table><tr><td>t</td><td>Dados reais</td><td>Aproximação</td><td>Erro absoluto</td><td>Erro percentual</td></tr><tr>{}</tr></table>'.format(\n",
    "       '</tr><tr>'.join(\n",
    "           '<td>{}</td>'.format('</td><td>'.join(str(_) for _ in row)) for row in err_verhulst_euler))))"
   ]
  },
  {
   "cell_type": "markdown",
   "id": "c371dbec-a0a5-48fb-895d-d702beb292f8",
   "metadata": {
    "tags": []
   },
   "source": [
    "<h3 style='color:#b50000' >&nbsp; &nbsp; 8.4.5 &nbsp;Verhulst - Método de Euler modificado</h3>"
   ]
  },
  {
   "cell_type": "code",
   "execution_count": 32,
   "id": "bb15c2e8-aaa3-476a-aa8f-406142d23a24",
   "metadata": {},
   "outputs": [
    {
     "data": {
      "text/html": [
       "<table><tr><td>t</td><td>Dados reais</td><td>Aproximação</td><td>Erro absoluto</td><td>Erro percentual</td></tr><tr><td>0</td><td>197228</td><td>197228.0</td><td>0</td><td>0.0%</td></tr><tr><td>1</td><td>198049</td><td>197228.84</td><td>820</td><td>0.41%</td></tr><tr><td>2</td><td>198842</td><td>197229.67</td><td>1612</td><td>0.81%</td></tr></table>"
      ],
      "text/plain": [
       "<IPython.core.display.HTML object>"
      ]
     },
     "metadata": {},
     "output_type": "display_data"
    }
   ],
   "source": [
    "display(HTML(\n",
    "   '<table><tr><td>t</td><td>Dados reais</td><td>Aproximação</td><td>Erro absoluto</td><td>Erro percentual</td></tr><tr>{}</tr></table>'.format(\n",
    "       '</tr><tr>'.join(\n",
    "           '<td>{}</td>'.format('</td><td>'.join(str(_) for _ in row)) for row in err_verhulst_euler_mod))))"
   ]
  },
  {
   "cell_type": "markdown",
   "id": "3cb5a8ef-8454-4379-a93f-53a8ca228831",
   "metadata": {
    "tags": []
   },
   "source": [
    "<h3 style='color:#b50000' >&nbsp; &nbsp; 8.4.6 &nbsp;Verhulst - Método de Runge-Kutta de 4a ordem</h3>"
   ]
  },
  {
   "cell_type": "code",
   "execution_count": 33,
   "id": "a2bd621f-d6ac-4b1d-9a42-703bce1ffc2e",
   "metadata": {},
   "outputs": [
    {
     "data": {
      "text/html": [
       "<table><tr><td>t</td><td>Dados reais</td><td>Aproximação</td><td>Erro absoluto</td><td>Erro percentual</td></tr><tr><td>0</td><td>197228</td><td>197228.0</td><td>0</td><td>0.0%</td></tr><tr><td>1</td><td>198049</td><td>197228.84</td><td>820</td><td>0.41%</td></tr><tr><td>2</td><td>198842</td><td>197229.67</td><td>1612</td><td>0.81%</td></tr></table>"
      ],
      "text/plain": [
       "<IPython.core.display.HTML object>"
      ]
     },
     "metadata": {},
     "output_type": "display_data"
    }
   ],
   "source": [
    "display(HTML(\n",
    "   '<table><tr><td>t</td><td>Dados reais</td><td>Aproximação</td><td>Erro absoluto</td><td>Erro percentual</td></tr><tr>{}</tr></table>'.format(\n",
    "       '</tr><tr>'.join(\n",
    "           '<td>{}</td>'.format('</td><td>'.join(str(_) for _ in row)) for row in err_verhulst_rk45))))"
   ]
  },
  {
   "cell_type": "markdown",
   "id": "f40a56d0-9b0a-4fc0-9cef-43aadc5c95ed",
   "metadata": {},
   "source": [
    "<h2 style='color:#0000b7' >&nbsp; 8.5 &nbsp;Apresentação dos dados sobre o modelo de Montroll</h2>"
   ]
  },
  {
   "cell_type": "markdown",
   "id": "98d2feb0-d333-4f13-aadd-56ecb1025d40",
   "metadata": {},
   "source": [
    "<h3 style='color:#b50000' >&nbsp; &nbsp; 8.5.1 &nbsp;Montroll - SciPy (LSODA)</h3>"
   ]
  },
  {
   "cell_type": "code",
   "execution_count": 34,
   "id": "13d050b8-8384-4627-94d2-cbda75d7d2db",
   "metadata": {},
   "outputs": [
    {
     "data": {
      "text/html": [
       "<table><tr><td>t</td><td>Dados reais</td><td>Aproximação</td><td>Erro absoluto</td><td>Erro percentual</td></tr><tr><td>0</td><td>197228</td><td>197228.0</td><td>0</td><td>0.0%</td></tr><tr><td>1</td><td>198049</td><td>197228.79</td><td>820</td><td>0.41%</td></tr><tr><td>2</td><td>198842</td><td>197229.58</td><td>1612</td><td>0.81%</td></tr></table>"
      ],
      "text/plain": [
       "<IPython.core.display.HTML object>"
      ]
     },
     "metadata": {},
     "output_type": "display_data"
    }
   ],
   "source": [
    "display(HTML(\n",
    "   '<table><tr><td>t</td><td>Dados reais</td><td>Aproximação</td><td>Erro absoluto</td><td>Erro percentual</td></tr><tr>{}</tr></table>'.format(\n",
    "       '</tr><tr>'.join(\n",
    "           '<td>{}</td>'.format('</td><td>'.join(str(_) for _ in row)) for row in err_montroll_lsoda))))"
   ]
  },
  {
   "cell_type": "markdown",
   "id": "67af9f54-7722-4241-9f6e-5670f7d6f6b2",
   "metadata": {},
   "source": [
    "<h2 style='color:#0000b7' >&nbsp; 8.6 &nbsp;Erro entre a solução numérica e analítica</h2>"
   ]
  },
  {
   "cell_type": "code",
   "execution_count": 35,
   "id": "37a3048a-5f04-4b5a-bf12-7688e34d3acb",
   "metadata": {},
   "outputs": [],
   "source": [
    "from f_erro import f_erro"
   ]
  },
  {
   "cell_type": "markdown",
   "id": "a6553089-c5b1-42e3-9675-7361e7acb360",
   "metadata": {
    "tags": []
   },
   "source": [
    "<h3 style='color:#b50000' >&nbsp; &nbsp; 8.6.1 &nbsp;Modelo de Malthus</h3>"
   ]
  },
  {
   "cell_type": "code",
   "execution_count": null,
   "id": "2fe591d4-04a6-4e36-b6d2-9e11782b2a51",
   "metadata": {},
   "outputs": [],
   "source": [
    "#err_num = malthus_analitico - malthus_lsoda\n",
    "#plt.plot(vt,abs(err_num),'m',label='LSODA')\n",
    "#plt.plot(vt,abs(f_erro(malthus_analitico,malthus_rk45.y[0])),'c',label='RK45')\n",
    "plt.plot(vt,abs(malthus_analitico-malthus_euler),'m',label='Euler')\n",
    "plt.plot(vt,abs(malthus_analitico-malthus_euler_mod),'b',label='Euler modificado')\n",
    "plt.plot(vt,abs(malthus_analitico-malthus_rk4),'y',label='RK4')\n",
    "\n",
    "plt.title('Erro entre solução analítica e numérica')\n",
    "plt.xlabel('Tempo (Anos)')\n",
    "plt.ylabel('Nº de Habitantes')\n",
    "plt.yscale(\"log\")\n",
    "plt.xscale(\"log\")\n",
    "plt.legend()\n",
    "plt.show()"
   ]
  },
  {
   "cell_type": "markdown",
   "id": "aef90990-ddd5-46dd-ab46-0bac578d161e",
   "metadata": {},
   "source": [
    "<h2 style='color:#0000b7' >&nbsp; 8.7 &nbsp;Simulação para o ano de 2021</h2>"
   ]
  },
  {
   "cell_type": "markdown",
   "id": "167bd9d5-ed11-4b4a-8afa-db3091e6641d",
   "metadata": {
    "tags": []
   },
   "source": [
    "<h3 style='color:#b50000' >&nbsp; &nbsp; 8.3.1 &nbsp;Modelo de Malthus</h3>"
   ]
  },
  {
   "cell_type": "code",
   "execution_count": null,
   "id": "dd389588-049d-4997-91cd-92e82d58cac3",
   "metadata": {},
   "outputs": [],
   "source": [
    "%%writefile ../python/erro_n.py\n",
    "\n",
    "import numpy as np\n",
    "\n",
    "def erro_n(dados,hab_real,approx,metodo):\n",
    "    \n",
    "    erro_hab = abs(hab_real - approx)\n",
    "    erro_perc = (erro_hab/hab_real)*100\n",
    "    dados = np.vstack([dados,[str(metodo),hab_real,round(approx,2),round(erro_hab),str(round(erro_perc,2))+'%']])\n",
    "    \n",
    "    return dados"
   ]
  },
  {
   "cell_type": "code",
   "execution_count": null,
   "id": "d095699d-3377-43bc-9bf9-854d5a97b736",
   "metadata": {},
   "outputs": [],
   "source": [
    "from erro_n import erro_n"
   ]
  },
  {
   "cell_type": "code",
   "execution_count": null,
   "id": "a3a79a4c-2289-424f-b666-ff2138e8da4b",
   "metadata": {},
   "outputs": [],
   "source": [
    "hab_real = 212881\n",
    "dados = [[0, 0, 0, 0, 0]]\n",
    "dados = erro_n(dados,hab_real,round(malthus_analitico[-1]),'Analitico')\n",
    "#dados = erro_n(dados,hab_real,malthus_sympy[-1],'SymPy')\n",
    "#dados = erro_n(dados,hab_real,malthus_lsoda[-1][0],'LSODA')\n",
    "#dados = erro_n(dados,hab_real,malthus_rk45.y[0][-1],'RK45')\n",
    "#dados = erro_n(dados,hab_real,malthus_euler[-1],'Euler')\n",
    "#dados = erro_n(dados,hab_real,malthus_euler_mod[-1],'Euler modif')\n",
    "#dados = erro_n(dados,hab_real,malthus_rk4[-1],'RK4')\n",
    "dados = np.delete(dados, 0, 0)\n",
    "\n",
    "fig, ax =plt.subplots(1,1)\n",
    "column_labels=['Método','Dados reais','Aproximação', 'Erro absoluto', 'Erro percentual']\n",
    "ax.axis('tight')\n",
    "ax.axis('off')\n",
    "\n",
    "print('Erro entre a estimativa do IBGE e solução numérica para 2021')\n",
    "ax.table(cellText=dados,colLabels=column_labels,loc='center')\n",
    "plt.show()\n",
    "\n",
    "print(dados)"
   ]
  },
  {
   "cell_type": "markdown",
   "id": "251b593b-98d4-498e-987b-62ed9369a41a",
   "metadata": {
    "tags": []
   },
   "source": [
    "<h3 style='color:#b50000' >&nbsp; &nbsp; 8.3.2 &nbsp;Modelo de Verhulst</h3>"
   ]
  },
  {
   "cell_type": "code",
   "execution_count": null,
   "id": "603315ce-bda5-4b48-95b2-37004c8b5442",
   "metadata": {},
   "outputs": [],
   "source": [
    "hab_real = 212881\n",
    "dados = [[0, 0, 0, 0, 0]]\n",
    "dados = erro_n(dados,hab_real,round(verhulst_analitico[-1]),'Analitico')\n",
    "#dados = erro_n(dados,hab_real,verhulst_sympy[-1],'SymPy')\n",
    "#dados = erro_n(dados,hab_real,verhulst_lsoda[-1][0],'LSODA')\n",
    "#dados = erro_n(dados,hab_real,verhulst_rk45.y[0][-1],'RK45')\n",
    "#dados = erro_n(dados,hab_real,verhulst_euler[-1],'Euler')\n",
    "#dados = erro_n(dados,hab_real,verhulst_euler_mod[-1],'Euler modif')\n",
    "#dados = erro_n(dados,hab_real,verhulst_rk4[-1],'RK4')\n",
    "dados = np.delete(dados, 0, 0)\n",
    "\n",
    "fig, ax =plt.subplots(1,1)\n",
    "column_labels=['Método','Dados reais','Aproximação', 'Erro absoluto', 'Erro percentual']\n",
    "ax.axis('tight')\n",
    "ax.axis('off')\n",
    "\n",
    "print('Erro entre a estimativa do IBGE e solução numérica para 2021')\n",
    "ax.table(cellText=dados,colLabels=column_labels,loc='center')\n",
    "plt.show()\n",
    "\n",
    "print(dados)"
   ]
  },
  {
   "cell_type": "code",
   "execution_count": null,
   "id": "5bed351d-7778-487f-9efc-bbd6a38be867",
   "metadata": {},
   "outputs": [],
   "source": [
    "print('ver: ',round(verhulst_analitico[-1]))\n",
    "print('mal: ',round(malthus_analitico[-1]))\n",
    "print('mon: ',round(montroll_analitico[-1]))"
   ]
  }
 ],
 "metadata": {
  "kernelspec": {
   "display_name": "Python 3 (ipykernel)",
   "language": "python",
   "name": "python3"
  },
  "language_info": {
   "codemirror_mode": {
    "name": "ipython",
    "version": 3
   },
   "file_extension": ".py",
   "mimetype": "text/x-python",
   "name": "python",
   "nbconvert_exporter": "python",
   "pygments_lexer": "ipython3",
   "version": "3.10.2"
  }
 },
 "nbformat": 4,
 "nbformat_minor": 5
}
