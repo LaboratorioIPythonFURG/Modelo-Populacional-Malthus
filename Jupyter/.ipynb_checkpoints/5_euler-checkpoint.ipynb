{
 "cells": [
  {
   "cell_type": "markdown",
   "id": "227bdc86-28a8-44ff-aa74-d236c6bf01b9",
   "metadata": {
    "tags": []
   },
   "source": [
    "<h1 style='color:#0000ec'>5 &nbsp; O método de Euler</h1>\n",
    "\n",
    "&nbsp; Importando as bibliotecas NumPy e Matplotlib ao arquivo <b>atual</b>:"
   ]
  },
  {
   "cell_type": "code",
   "execution_count": 1,
   "id": "7d37fc62-8de1-4daf-a04e-d15039fdcc06",
   "metadata": {},
   "outputs": [],
   "source": [
    "import numpy as np\n",
    "import matplotlib.pyplot as plt"
   ]
  },
  {
   "cell_type": "markdown",
   "id": "15feacc9-eb56-438d-8425-884e509ea5bd",
   "metadata": {},
   "source": [
    "&nbsp; Escrevendo arquivo contendo a função <i><b>sol_euler(\t&lt;tempo>,\t&lt;população inicial>,\t&lt;modelo>)</b></i> para receber diferentes modelos:"
   ]
  },
  {
   "cell_type": "code",
   "execution_count": 2,
   "id": "a6185b10-9f1b-4792-93a1-1d5d7320ab61",
   "metadata": {},
   "outputs": [
    {
     "name": "stdout",
     "output_type": "stream",
     "text": [
      "Overwriting ../python/sol_euler.py\n"
     ]
    }
   ],
   "source": [
    "%%writefile ../python/sol_euler.py\n",
    "import numpy as np\n",
    "from f_malthus import f_malthus\n",
    "from f_verhulst import f_verhulst\n",
    "\n",
    "def sol_euler(vt,P0,modelo):\n",
    "    \n",
    "    #Declarando vetor de Habitantes\n",
    "    P = np.array([P0])\n",
    "    \n",
    "    #Obtendo passo de derivação (h)\n",
    "    h = vt[2] - vt[1]\n",
    "\n",
    "    #Aproximando P(i) pelo método de Euler segundo o modelo\n",
    "    for t in vt:\n",
    "        \n",
    "        if modelo=='malthus':\n",
    "            Pi = P[-1]+h*f_malthus(P[-1])\n",
    "        elif modelo=='verhulst':\n",
    "            Pi = P[-1]+h*f_verhulst(P[-1])            \n",
    "        P = np.append(P,Pi)\n",
    "        \n",
    "    return P[0:P.shape[0]-1]\n"
   ]
  },
  {
   "cell_type": "markdown",
   "id": "b80db701-53da-480f-aaab-95a6a8a6903e",
   "metadata": {},
   "source": [
    "&nbsp; Carregando o diretório <b>python/</b> que contém as funções escritas ao longo dos tópicos:"
   ]
  },
  {
   "cell_type": "code",
   "execution_count": 3,
   "id": "7850ed81-16c5-4f35-9915-d395cad66726",
   "metadata": {},
   "outputs": [],
   "source": [
    "import sys\n",
    "sys.path.insert(0, '../python')"
   ]
  },
  {
   "cell_type": "markdown",
   "id": "eae9d787-6255-4cfd-bffd-6dbbeafefdaf",
   "metadata": {},
   "source": [
    "Importando a função <b>sol_euler</b> escrita em <b>[2]</b>:"
   ]
  },
  {
   "cell_type": "code",
   "execution_count": 4,
   "id": "2916198f-6ae9-4984-ac2a-bd3432b8d12f",
   "metadata": {},
   "outputs": [],
   "source": [
    "from sol_euler import sol_euler"
   ]
  },
  {
   "cell_type": "markdown",
   "id": "8a9850fd-0cbb-4a67-a280-c083bba48003",
   "metadata": {},
   "source": [
    "&nbsp; Uma vez definido o método de Euler, basta declarar o passo de derivação <b>h</b>, a condição inicial <b>T0</b>, o tempo inicial <b>ti</b>, o tempo final <b>tf</b> e o intervalo de tempo <b>vt</b>:"
   ]
  },
  {
   "cell_type": "code",
   "execution_count": 5,
   "id": "b296e39a-b2e4-4bd8-94a4-79aecc88148d",
   "metadata": {},
   "outputs": [],
   "source": [
    "h = 0.001 #Passo de derivação\n",
    "\n",
    "P0 = 186488 #Condição inicial\n",
    "\n",
    "ti = 0 #tempo inicial\n",
    "\n",
    "tf = 21 #tempo final\n",
    "\n",
    "vt = np.arange(ti,tf,h) #Intervalo de 10 à 21 anos com passo h"
   ]
  },
  {
   "cell_type": "markdown",
   "id": "5c75aa0d-0de9-42aa-bb67-1e36f8c524a2",
   "metadata": {
    "tags": []
   },
   "source": [
    "<h2 style='color:#0000b7' >&nbsp; 5.1 &nbsp;Modelo de Malthus</h2>\n",
    "\n",
    "&nbsp; &nbsp; &nbsp; Atribuindo as variáveis aos parâmetros de <b>sol_euler</b>:"
   ]
  },
  {
   "cell_type": "code",
   "execution_count": 6,
   "id": "fa0ad597-7eb6-4820-9670-15f9694093cf",
   "metadata": {},
   "outputs": [
    {
     "name": "stdout",
     "output_type": "stream",
     "text": [
      "[186488.         186489.0443328  186490.08867145 ... 209757.00980926\n",
      " 209758.18444852 209759.35909435]\n",
      "O vetor de temperaturas tem 21000 elementos\n"
     ]
    }
   ],
   "source": [
    "sol = sol_euler(vt,P0,'malthus')\n",
    "print(sol)\n",
    "print('O vetor de temperaturas tem {} elementos'.format(sol.shape[0]))"
   ]
  },
  {
   "cell_type": "markdown",
   "id": "d96695a4-c13d-4393-82d9-289ac7d96ecd",
   "metadata": {},
   "source": [
    "&nbsp; &nbsp; &nbsp; Exibindo o gráfico <b>vt</b> $\\times$ <b>P</b>:"
   ]
  },
  {
   "cell_type": "code",
   "execution_count": 7,
   "id": "124bc414-a3ae-400f-aecc-ffd4f1c4cd70",
   "metadata": {},
   "outputs": [
    {
     "data": {
      "image/png": "[encoded data removed]",
      "text/plain": [
       "<Figure size 432x288 with 1 Axes>"
      ]
     },
     "metadata": {
      "needs_background": "light"
     },
     "output_type": "display_data"
    },
    {
     "name": "stdout",
     "output_type": "stream",
     "text": [
      "Simulação para 2021: 209759.35909434903\n",
      "Simulação para 2021 (arredondado): 209759\n"
     ]
    }
   ],
   "source": [
    "plt.plot(vt,sol,'b',label='Euler')\n",
    "plt.title(\"Simulação populacional de Rio Grande\")\n",
    "plt.xlabel(\"Anos (Ano+2*10^3)\")\n",
    "plt.ylabel(\"Número de habitantes\")\n",
    "plt.show()\n",
    "\n",
    "print(\"Simulação para 2021:\",sol[sol.shape[0]-1])\n",
    "print(\"Simulação para 2021 (arredondado):\",round(sol[sol.shape[0]-1]))"
   ]
  },
  {
   "cell_type": "markdown",
   "id": "de7722aa-a695-438b-b49b-e0b2af233bc6",
   "metadata": {},
   "source": [
    "<h2 style='color:#0000b7' >&nbsp; 5.2 &nbsp;Modelo de Verhulst</h2>\n",
    "\n",
    "&nbsp; &nbsp; &nbsp; Atribuindo as variáveis aos parâmetros de <b>sol_euler</b>:"
   ]
  },
  {
   "cell_type": "code",
   "execution_count": 8,
   "id": "406e6178-2a01-4871-ac4e-99d9ebc0a1cf",
   "metadata": {},
   "outputs": [
    {
     "name": "stdout",
     "output_type": "stream",
     "text": [
      "[186488.         186489.0964582  186490.19291226 ... 208444.64308515\n",
      " 208445.63157886 208446.62006659]\n",
      "O vetor de temperaturas tem 21000 elementos\n"
     ]
    }
   ],
   "source": [
    "sol = sol_euler(vt,P0,'verhulst')\n",
    "print(sol)\n",
    "print('O vetor de temperaturas tem {} elementos'.format(sol.shape[0]))"
   ]
  },
  {
   "cell_type": "markdown",
   "id": "715153ce-607a-4dec-8d1b-bfe40cc5ba3a",
   "metadata": {},
   "source": [
    "&nbsp; &nbsp; Gerando solução com vetor variando de 0 à 500, com o obejtivo de visualizar a assíntota horizontal em <b>P</b> = <b>L</b>"
   ]
  },
  {
   "cell_type": "code",
   "execution_count": 10,
   "id": "ce449021-ff94-439e-a454-2f16da0dfaf5",
   "metadata": {},
   "outputs": [],
   "source": [
    "t_lim = np.linspace(0,500)\n",
    "sol_lim = sol_euler(t_lim,P0,'verhulst')"
   ]
  },
  {
   "cell_type": "markdown",
   "id": "7a941075-175f-46e8-a163-4e0099b96498",
   "metadata": {},
   "source": [
    "&nbsp; &nbsp; &nbsp; &nbsp; Exibindo gráfico <b>vt</b> $\\times$ <b>$P$</b>"
   ]
  },
  {
   "cell_type": "code",
   "execution_count": 13,
   "id": "f7eb8e22-1974-41c9-92f8-3991672c7d00",
   "metadata": {},
   "outputs": [
    {
     "data": {
      "image/png": "[encoded data removed]",
      "text/plain": [
       "<Figure size 432x288 with 1 Axes>"
      ]
     },
     "metadata": {
      "needs_background": "light"
     },
     "output_type": "display_data"
    },
    {
     "name": "stdout",
     "output_type": "stream",
     "text": [
      "Simulação para 2021: 208446.62006659215\n",
      "Simulação para 2021 (arredondado): 208447\n"
     ]
    }
   ],
   "source": [
    "plt.plot(vt,sol,\"g\")\n",
    "\n",
    "#Exibindo figura\n",
    "plt.title(\"Simulação populacional de Rio Grande\")\n",
    "plt.xlabel(\"Anos (Ano+2*10^3)\")\n",
    "plt.ylabel(\"Número de habitantes\")\n",
    "plt.show()\n",
    "\n",
    "print(\"Simulação para 2021:\",sol[sol.shape[0]-1])\n",
    "print(\"Simulação para 2021 (arredondado):\",round(sol[sol.shape[0]-1]))"
   ]
  },
  {
   "cell_type": "code",
   "execution_count": 14,
   "id": "ef57076b-42b9-4164-8346-23e54b454a99",
   "metadata": {},
   "outputs": [
    {
     "data": {
      "image/png": "[encoded data removed]",
      "text/plain": [
       "<Figure size 432x288 with 1 Axes>"
      ]
     },
     "metadata": {
      "needs_background": "light"
     },
     "output_type": "display_data"
    }
   ],
   "source": [
    "L = 300000 #Limite (L)\n",
    "\n",
    "plt.plot(t_lim,sol_lim,\"g\") #Curva logística\n",
    "plt.plot(t_lim,np.full(t_lim.shape[0], L),\"b\", linestyle = 'dotted') #Assíntota\n",
    "\n",
    "#Exibindo figura\n",
    "plt.title(\"Simulação populacional de Rio Grande\")\n",
    "plt.xlabel(\"Anos (Ano+2*10^3)\")\n",
    "plt.ylabel(\"Número de habitantes\")\n",
    "plt.show()"
   ]
  }
 ],
 "metadata": {
  "kernelspec": {
   "display_name": "Python 3 (ipykernel)",
   "language": "python",
   "name": "python3"
  },
  "language_info": {
   "codemirror_mode": {
    "name": "ipython",
    "version": 3
   },
   "file_extension": ".py",
   "mimetype": "text/x-python",
   "name": "python",
   "nbconvert_exporter": "python",
   "pygments_lexer": "ipython3",
   "version": "3.10.2"
  }
 },
 "nbformat": 4,
 "nbformat_minor": 5
}
