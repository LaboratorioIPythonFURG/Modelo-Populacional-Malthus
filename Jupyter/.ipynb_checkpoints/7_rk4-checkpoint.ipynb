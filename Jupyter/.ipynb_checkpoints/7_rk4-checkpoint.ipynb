{
 "cells": [
  {
   "cell_type": "markdown",
   "id": "388559c1-2a27-4b3f-922f-51b4a69fb684",
   "metadata": {},
   "source": [
    "<h1 style='color:#0000ec'>7 &nbsp; O método de Runge-Kutta de 4º ordem</h1>\n",
    "\n",
    "&nbsp; Importando as bibliotecas NumPy e Matplotlib ao arquivo <b>atual</b>:"
   ]
  },
  {
   "cell_type": "code",
   "execution_count": 1,
   "id": "ffb9aaa9-8e26-4d32-955f-aa50ee973779",
   "metadata": {},
   "outputs": [],
   "source": [
    "import numpy as np\n",
    "import matplotlib.pyplot as plt"
   ]
  },
  {
   "cell_type": "markdown",
   "id": "77e21f6e-25b2-400b-8b3c-b95a39d0e842",
   "metadata": {},
   "source": [
    "&nbsp; Escrevendo arquivo contendo a função <i><b>sol_rk4(\t&lt;tempo>,\t&lt;população inicial>,\t&lt;modelo>)</b></i> para receber diferentes modelos:"
   ]
  },
  {
   "cell_type": "code",
   "execution_count": null,
   "id": "405de6ee-8a22-4ef1-963e-04225f407123",
   "metadata": {},
   "outputs": [],
   "source": [
    "%%writefile ../python/sol_rk4.py\n",
    "#dependencias \n",
    "import numpy as np\n",
    "from f_malthus import f_malthus\n",
    "from f_verhulst import f_verhulst\n",
    "\n",
    "def sol_rk4(vt,T0,modelo):\n",
    "    \n",
    "    #Declarando vetor de temperaturas\n",
    "    T = np.array([T0])\n",
    "    \n",
    "    #Obtendo passo de derivação (h)\n",
    "    h = vt[2] - vt[1]\n",
    "\n",
    "    #Aproximando T(i) pelo método de Euler modificado\n",
    "    for t in vt:\n",
    "        \n",
    "        if modelo == 'malthus':\n",
    "            k1 = f_malthus(T[-1])\n",
    "            k2 = f_malthus(T[-1]+(h/2)*k1)\n",
    "            k3 = f_malthus(T[-1]+(h/2)*k2)\n",
    "            k4 = f_malthus(T[-1]+h*k3)\n",
    "        elif modelo == 'verhulst':\n",
    "            k1 = f_verhulst(T[-1])\n",
    "            k2 = f_verhulst(T[-1]+(h/2)*k1)\n",
    "            k3 = f_verhulst(T[-1]+(h/2)*k2)\n",
    "            k4 = f_verhulst(T[-1]+h*k3)\n",
    "        \n",
    "        K = (1/6)*(k1+2*(k2+k3)+k4)\n",
    "        Ti = T[-1]+h*K\n",
    "        T = np.append(T,Ti)\n",
    "        \n",
    "    return T[0:T.shape[0]-1]"
   ]
  },
  {
   "cell_type": "markdown",
   "id": "69230080-2747-4b79-a950-8fbe0e30b22c",
   "metadata": {},
   "source": [
    "&nbsp; Carregando o diretório <b>python/</b> que contém as funções escritas ao longo dos tópicos:"
   ]
  },
  {
   "cell_type": "code",
   "execution_count": 2,
   "id": "da141a54-4460-4e19-bebb-ef3403f01865",
   "metadata": {},
   "outputs": [],
   "source": [
    "import sys\n",
    "sys.path.insert(0, '../python')"
   ]
  },
  {
   "cell_type": "markdown",
   "id": "bb8df3f3-696e-4d7e-8013-682760bbd9bd",
   "metadata": {},
   "source": [
    "Importando a função <b>sol_rk4</b> escrita em <b>[2]</b>:"
   ]
  },
  {
   "cell_type": "code",
   "execution_count": 3,
   "id": "8c731f5b-5e35-4956-8485-89c878f866f9",
   "metadata": {},
   "outputs": [],
   "source": [
    "from sol_rk4 import sol_rk4"
   ]
  },
  {
   "cell_type": "markdown",
   "id": "8b867f8c-9f4d-4fd5-bfb9-cb008d889b51",
   "metadata": {},
   "source": [
    "&nbsp; Uma vez definido o método de Euler modificado, basta declarar o passo de derivação <b>h</b>, a condição inicial <b>T0</b>, o tempo inicial <b>ti</b>, o tempo final <b>tf</b> e o intervalo de tempo <b>vt</b>:"
   ]
  },
  {
   "cell_type": "code",
   "execution_count": 4,
   "id": "12b40dd4-02e4-4966-9bdc-429a6c7d5d52",
   "metadata": {},
   "outputs": [],
   "source": [
    "h = 0.001 #Passo de derivação\n",
    "\n",
    "P0 = 186488 #Condição inicial\n",
    "\n",
    "ti = 0 #tempo inicial\n",
    "\n",
    "tf = 21 #tempo final\n",
    "\n",
    "vt = np.arange(ti,tf,h) #Intervalo de 10 à 21 anos com passo h"
   ]
  },
  {
   "cell_type": "markdown",
   "id": "a5d7c65e-4e25-47a8-8217-b4614e55bb18",
   "metadata": {},
   "source": [
    "<h2 style='color:#0000b7' >&nbsp; 7.1 &nbsp;Modelo de Malthus</h2>\n",
    "\n",
    "&nbsp; &nbsp; &nbsp; Atribuindo as variáveis aos parâmetros de <b>sol_rk4</b>:"
   ]
  },
  {
   "cell_type": "code",
   "execution_count": 5,
   "id": "b2d45c8e-84cd-4978-9d10-129c7fe71833",
   "metadata": {},
   "outputs": [
    {
     "name": "stdout",
     "output_type": "stream",
     "text": [
      "[186488.         186489.04433572 186490.0886773  ... 209757.07886794\n",
      " 209758.25351087 209759.42816037]\n",
      "O vetor de temperaturas tem 21000 elementos\n"
     ]
    }
   ],
   "source": [
    "sol = sol_rk4(vt,P0,'malthus')\n",
    "print(sol)\n",
    "print('O vetor de temperaturas tem {} elementos'.format(sol.shape[0]))"
   ]
  },
  {
   "cell_type": "markdown",
   "id": "a533aaf7-4c5b-46ac-843d-3d439548a251",
   "metadata": {},
   "source": [
    "&nbsp; &nbsp; &nbsp; Exibindo o gráfico <b>vt</b> $\\times$ <b>P</b>:"
   ]
  },
  {
   "cell_type": "code",
   "execution_count": 8,
   "id": "aeac0246-e22d-44b8-a7da-f681a1ed238c",
   "metadata": {},
   "outputs": [
    {
     "data": {
      "image/png": "[encoded data removed]",
      "text/plain": [
       "<Figure size 432x288 with 1 Axes>"
      ]
     },
     "metadata": {
      "needs_background": "light"
     },
     "output_type": "display_data"
    },
    {
     "name": "stdout",
     "output_type": "stream",
     "text": [
      "Simulação para 2021: 209759.4281603745\n",
      "Simulação para 2021 (arredondado): 209759\n"
     ]
    }
   ],
   "source": [
    "plt.plot(vt,sol,'b',label='Euler modificado')\n",
    "plt.title(\"Simulação populacional de Rio Grande (Euler modificado)\")\n",
    "plt.xlabel(\"Anos (Ano+2*10^3)\")\n",
    "plt.ylabel(\"Número de habitantes\")\n",
    "plt.show()\n",
    "\n",
    "print(\"Simulação para 2021:\",sol[sol.shape[0]-1])\n",
    "print(\"Simulação para 2021 (arredondado):\",round(sol[sol.shape[0]-1]))"
   ]
  },
  {
   "cell_type": "markdown",
   "id": "27de59e2-be9a-4ea1-b4d6-aeb7932de138",
   "metadata": {},
   "source": [
    "<h2 style='color:#0000b7' >&nbsp; 7.2 &nbsp;Modelo de Verhulst</h2>\n",
    "\n",
    "&nbsp; &nbsp; &nbsp; Atribuindo as variáveis aos parâmetros de <b>sol_rk4</b>:"
   ]
  },
  {
   "cell_type": "code",
   "execution_count": 9,
   "id": "105be1b1-0d4e-48f1-883f-ba844cf33cda",
   "metadata": {},
   "outputs": [
    {
     "name": "stdout",
     "output_type": "stream",
     "text": [
      "[186488.         186489.09645613 186490.19290812 ... 208444.59185256\n",
      " 208445.58034359 208446.56882864]\n",
      "O vetor de temperaturas tem 21000 elementos\n"
     ]
    }
   ],
   "source": [
    "sol = sol_rk4(vt,P0,'verhulst')\n",
    "print(sol)\n",
    "print('O vetor de temperaturas tem {} elementos'.format(sol.shape[0]))"
   ]
  },
  {
   "cell_type": "markdown",
   "id": "23b1f141-08f0-4b2d-8f4d-f3855688affa",
   "metadata": {},
   "source": [
    "&nbsp; &nbsp; Gerando solução com vetor variando de 0 à 500, com o obejtivo de visualizar a assíntota horizontal em <b>P</b> = <b>L</b>"
   ]
  },
  {
   "cell_type": "code",
   "execution_count": 10,
   "id": "26ecd282-3325-4f3d-a7f7-67dde3895809",
   "metadata": {},
   "outputs": [],
   "source": [
    "t_lim = np.linspace(0,500)\n",
    "sol_lim = sol_rk4(t_lim,P0,'verhulst')"
   ]
  },
  {
   "cell_type": "markdown",
   "id": "f9ae6251-fc64-485a-9625-be412e883c26",
   "metadata": {},
   "source": [
    "&nbsp; &nbsp; &nbsp; &nbsp; Exibindo gráfico <b>vt</b> $\\times$ <b>$P$</b>"
   ]
  },
  {
   "cell_type": "code",
   "execution_count": 12,
   "id": "dd8bae86-3076-4888-b4f6-41711fabd8ed",
   "metadata": {},
   "outputs": [
    {
     "data": {
      "image/png": "[encoded data removed]",
      "text/plain": [
       "<Figure size 432x288 with 1 Axes>"
      ]
     },
     "metadata": {
      "needs_background": "light"
     },
     "output_type": "display_data"
    },
    {
     "name": "stdout",
     "output_type": "stream",
     "text": [
      "Simulação para 2021: 208446.56882864167\n",
      "Simulação para 2021 (arredondado): 208447\n"
     ]
    }
   ],
   "source": [
    "plt.plot(vt,sol,\"g\")\n",
    "\n",
    "#Exibindo figura\n",
    "plt.title(\"Simulação populacional de Rio Grande (RK4)\")\n",
    "plt.xlabel(\"Anos (Ano+2*10^3)\")\n",
    "plt.ylabel(\"Número de habitantes\")\n",
    "plt.show()\n",
    "\n",
    "print(\"Simulação para 2021:\",sol[sol.shape[0]-1])\n",
    "print(\"Simulação para 2021 (arredondado):\",round(sol[sol.shape[0]-1]))"
   ]
  },
  {
   "cell_type": "code",
   "execution_count": 13,
   "id": "84b803af-1416-4fcf-991a-7b41b5e00da7",
   "metadata": {},
   "outputs": [
    {
     "data": {
      "image/png": "[encoded data removed]",
      "text/plain": [
       "<Figure size 432x288 with 1 Axes>"
      ]
     },
     "metadata": {
      "needs_background": "light"
     },
     "output_type": "display_data"
    }
   ],
   "source": [
    "L = 300000 #Limite (L)\n",
    "\n",
    "plt.plot(t_lim,sol_lim,\"g\") #Curva logística\n",
    "plt.plot(t_lim,np.full(t_lim.shape[0], L),\"b\", linestyle = 'dotted') #Assíntota\n",
    "\n",
    "#Exibindo figura\n",
    "plt.title(\"Simulação populacional de Rio Grande\")\n",
    "plt.xlabel(\"Anos (Ano+2*10^3)\")\n",
    "plt.ylabel(\"Número de habitantes\")\n",
    "plt.show()"
   ]
  }
 ],
 "metadata": {
  "kernelspec": {
   "display_name": "Python 3 (ipykernel)",
   "language": "python",
   "name": "python3"
  },
  "language_info": {
   "codemirror_mode": {
    "name": "ipython",
    "version": 3
   },
   "file_extension": ".py",
   "mimetype": "text/x-python",
   "name": "python",
   "nbconvert_exporter": "python",
   "pygments_lexer": "ipython3",
   "version": "3.10.2"
  }
 },
 "nbformat": 4,
 "nbformat_minor": 5
}
