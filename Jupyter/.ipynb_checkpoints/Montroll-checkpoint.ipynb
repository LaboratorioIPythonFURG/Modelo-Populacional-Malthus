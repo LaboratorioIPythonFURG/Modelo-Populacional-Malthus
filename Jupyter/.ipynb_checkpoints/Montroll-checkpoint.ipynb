{
 "cells": [
  {
   "cell_type": "code",
   "execution_count": 22,
   "id": "6e2608ec-8e66-433f-a71f-1bea588ce742",
   "metadata": {},
   "outputs": [
    {
     "name": "stdout",
     "output_type": "stream",
     "text": [
      "Lambda:  109.8892759720857\n",
      "tm:  0.9860669771165383\n"
     ]
    }
   ],
   "source": [
    "import scipy \n",
    "from scipy import optimize\n",
    "import numpy as np\n",
    "from IPython.display import HTML, display\n",
    "\n",
    "dados_reais = [197228, 198049, 198842]\n",
    "anos = [2010, 2011, 2012]\n",
    "\n",
    "tm = 1981.6/2009.5998\n",
    "\n",
    "def Lambda(l):\n",
    "    return 218858/(1+l)**(1/l)-209678.4464\n",
    "\n",
    "l = scipy.optimize.newton(Lambda,100)\n",
    "\n",
    "print('Lambda: ',l)\n",
    "print('tm: ',tm)"
   ]
  },
  {
   "cell_type": "code",
   "execution_count": 12,
   "id": "2153b4a6-941e-4325-ab5f-f2da24efe5d4",
   "metadata": {},
   "outputs": [],
   "source": [
    "def z(l,P):\n",
    "    L = 218858\n",
    "    return np.log( (P/L)**l / (1-(P/L)**l))"
   ]
  },
  {
   "cell_type": "code",
   "execution_count": 52,
   "id": "674b3d98-8dee-47e7-80d9-0a109620dd91",
   "metadata": {},
   "outputs": [
    {
     "data": {
      "text/html": [
       "<table><tr><td>Ano</td><td>ti</td><td>Pi</td><td>zi</td><td>ti^2</td><td>ti*zi</td></tr><tr><td>2010.0</td><td>0.0</td><td>197228.0</td><td>-11.435363706975131</td><td>0.0</td><td>-0.0</td></tr><tr><td>2011.0</td><td>1.0</td><td>198049.0</td><td>-10.978871369205162</td><td>1.0</td><td>-10.978871369205162</td></tr><tr><td>2012.0</td><td>2.0</td><td>198842.0</td><td>-10.539737308649629</td><td>4.0</td><td>-21.079474617299258</td></tr></table>"
      ],
      "text/plain": [
       "<IPython.core.display.HTML object>"
      ]
     },
     "metadata": {},
     "output_type": "display_data"
    }
   ],
   "source": [
    "#z(l,dados_reais[1])\n",
    "\n",
    "tabela = ['Ano','ti','Pi','zi','ti^2','ti*zi']\n",
    "\n",
    "for ti in range(0,3):\n",
    "    zi = z(l,dados_reais[ti])\n",
    "    tabela = np.vstack([tabela,[ anos[ti] , ti , dados_reais[ti] , zi , ti**2 , ti*zi  ]])\n",
    "    \n",
    "display(HTML(\n",
    "   '<table><tr>{}</tr></table>'.format(\n",
    "       '</tr><tr>'.join(\n",
    "           '<td>{}</td>'.format('</td><td>'.join(str(_) for _ in row)) for row in tabela)\n",
    "       )\n",
    "))"
   ]
  },
  {
   "cell_type": "code",
   "execution_count": 53,
   "id": "c737fb82-5225-4c80-aa98-d6d1496fcf92",
   "metadata": {},
   "outputs": [
    {
     "data": {
      "text/plain": [
       "[3.0, -32.953972384829925, 5.0, -32.05834598650442]"
      ]
     },
     "execution_count": 53,
     "metadata": {},
     "output_type": "execute_result"
    }
   ],
   "source": [
    "somas = [tabela[1:4,1].astype(float).sum(),\n",
    "         tabela[1:4,3].astype(float).sum(),\n",
    "         tabela[1:4,4].astype(float).sum(),\n",
    "         tabela[1:4,5].astype(float).sum()]\n",
    "somas"
   ]
  },
  {
   "cell_type": "code",
   "execution_count": 54,
   "id": "84fc2717-eac2-496a-a361-c4e885e7479c",
   "metadata": {},
   "outputs": [
    {
     "name": "stdout",
     "output_type": "stream",
     "text": [
      "a =  0.4478131991627521\n",
      "b =  -11.432470660772726\n"
     ]
    }
   ],
   "source": [
    "n = 3; #numero de termos\n",
    "\n",
    "a = (n*somas[3]-somas[0]*somas[1])/( n*somas[2]-(somas[0])**2)\n",
    "b = (1/n)*(somas[1]-a*somas[0])\n",
    "\n",
    "print('a = ',a)\n",
    "print('b = ',b)"
   ]
  },
  {
   "cell_type": "code",
   "execution_count": 55,
   "id": "d0f6149f-b3ed-4f79-b713-0a0af4050b66",
   "metadata": {},
   "outputs": [
    {
     "name": "stdout",
     "output_type": "stream",
     "text": [
      "r =  0.004075131037140572\n",
      "c =  92269.66046549017\n"
     ]
    }
   ],
   "source": [
    "r = a/l\n",
    "c = np.exp(-b)\n",
    "print('r = ',r)\n",
    "print('c = ',c)"
   ]
  },
  {
   "cell_type": "code",
   "execution_count": 57,
   "id": "8cb47fb9-0308-4f5c-9019-d3edbd05ee45",
   "metadata": {},
   "outputs": [],
   "source": [
    " #Limite populacional\n",
    "\n",
    "def SolMontroll(t):\n",
    "    L = 218858\n",
    "    c = 92269.66046549017\n",
    "    r =  0.004075131037140572\n",
    "    l = 109.8892759720857\n",
    "    return L/(1+c*np.exp(-l*r*t))**(1/l)"
   ]
  },
  {
   "cell_type": "code",
   "execution_count": 62,
   "id": "70a727d5-950b-40c2-9ad5-39793ace99ae",
   "metadata": {},
   "outputs": [
    {
     "name": "stdout",
     "output_type": "stream",
     "text": [
      "t=0 : P =  197233.19241797953\n",
      "t=1 : P =  198038.57241144407\n",
      "t=2 : P =  198847.2348276467\n"
     ]
    }
   ],
   "source": [
    "print('t=0 : P = ',SolMontroll(0))\n",
    "print('t=1 : P = ',SolMontroll(1))\n",
    "print('t=2 : P = ',SolMontroll(2))"
   ]
  }
 ],
 "metadata": {
  "kernelspec": {
   "display_name": "Python 3 (ipykernel)",
   "language": "python",
   "name": "python3"
  },
  "language_info": {
   "codemirror_mode": {
    "name": "ipython",
    "version": 3
   },
   "file_extension": ".py",
   "mimetype": "text/x-python",
   "name": "python",
   "nbconvert_exporter": "python",
   "pygments_lexer": "ipython3",
   "version": "3.10.2"
  }
 },
 "nbformat": 4,
 "nbformat_minor": 5
}
