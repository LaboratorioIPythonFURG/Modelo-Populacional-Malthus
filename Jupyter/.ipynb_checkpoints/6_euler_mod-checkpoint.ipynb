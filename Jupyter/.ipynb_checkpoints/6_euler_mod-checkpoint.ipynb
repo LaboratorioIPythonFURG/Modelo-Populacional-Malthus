{
 "cells": [
  {
   "cell_type": "markdown",
   "id": "cc46fd65-31aa-4a6a-b4b4-959dceafa8af",
   "metadata": {},
   "source": [
    "<h1 style='color:#0000ec'>6 &nbsp; O método de Euler modificado</h1>\n",
    "\n",
    "&nbsp; Importando as bibliotecas NumPy e Matplotlib ao arquivo <b>atual</b>:"
   ]
  },
  {
   "cell_type": "code",
   "execution_count": 1,
   "id": "324aa897-9187-4255-885e-fb9ff902e2d3",
   "metadata": {},
   "outputs": [],
   "source": [
    "import numpy as np\n",
    "import matplotlib.pyplot as plt"
   ]
  },
  {
   "cell_type": "markdown",
   "id": "6f020139-f05a-443c-8b70-d02e9f2e2174",
   "metadata": {},
   "source": [
    "&nbsp; Escrevendo arquivo contendo a função <i><b>sol_euler_mod(\t&lt;tempo>,\t&lt;população inicial>,\t&lt;modelo>)</b></i> para receber diferentes modelos:"
   ]
  },
  {
   "cell_type": "code",
   "execution_count": 2,
   "id": "09465587-0051-40fd-9525-ce3507a08cc2",
   "metadata": {},
   "outputs": [
    {
     "name": "stdout",
     "output_type": "stream",
     "text": [
      "Overwriting ../python/sol_euler_mod.py\n"
     ]
    }
   ],
   "source": [
    "%%writefile ../python/sol_euler_mod.py\n",
    "import numpy as np\n",
    "from f_malthus import f_malthus\n",
    "from f_verhulst import f_verhulst\n",
    "\n",
    "def sol_euler_mod(vt,T0,modelo):\n",
    "    \n",
    "    #Declarando vetor de temperaturas\n",
    "    T = np.array([T0])\n",
    "    \n",
    "    #Obtendo passo de derivação (h)\n",
    "    h = vt[2] - vt[1]\n",
    "\n",
    "    #Aproximando T(i) pelo método de Euler modificado\n",
    "    for t in vt:\n",
    "        \n",
    "        if modelo=='malthus':\n",
    "            Ti = T[-1]+(h/2)*(f_malthus(T[-1])+f_malthus(T[-1]+h*f_malthus(T[-1])))\n",
    "        elif modelo=='verhulst':\n",
    "            Ti = T[-1]+(h/2)*(f_verhulst(T[-1])+f_verhulst(T[-1]+h*f_verhulst(T[-1])))\n",
    "        \n",
    "        T = np.append(T,Ti)\n",
    "        \n",
    "    return T[0:T.shape[0]-1]"
   ]
  },
  {
   "cell_type": "markdown",
   "id": "440d1d3d-e0c7-4137-b827-dc455eee5443",
   "metadata": {},
   "source": [
    "&nbsp; Carregando o diretório <b>python/</b> que contém as funções escritas ao longo dos tópicos:"
   ]
  },
  {
   "cell_type": "code",
   "execution_count": 3,
   "id": "e3e4e334-1812-4bfa-bd3f-4254b5ae2a26",
   "metadata": {},
   "outputs": [],
   "source": [
    "import sys\n",
    "sys.path.insert(0, '../python')"
   ]
  },
  {
   "cell_type": "markdown",
   "id": "3561cf0b-d2b3-461c-9eba-0ea0b88e3481",
   "metadata": {},
   "source": [
    "Importando a função <b>sol_euler_mod</b> escrita em <b>[2]</b>:"
   ]
  },
  {
   "cell_type": "code",
   "execution_count": 4,
   "id": "d8ae2f38-98aa-4cff-9390-173a0b418eaf",
   "metadata": {},
   "outputs": [],
   "source": [
    "from sol_euler_mod import sol_euler_mod"
   ]
  },
  {
   "cell_type": "markdown",
   "id": "e20e300b-a8ed-4fd9-9407-9c9c61f3c1cd",
   "metadata": {},
   "source": [
    "&nbsp; Uma vez definido o método de Euler modificado, basta declarar o passo de derivação <b>h</b>, a condição inicial <b>P0</b>, o tempo inicial <b>ti</b>, o tempo final <b>tf</b> e o intervalo de tempo <b>vt</b>:"
   ]
  },
  {
   "cell_type": "code",
   "execution_count": 5,
   "id": "5f30ec37-7f90-44d9-aa0e-ef10295d839b",
   "metadata": {},
   "outputs": [],
   "source": [
    "h = 0.001 #Passo de derivação\n",
    "\n",
    "P0 = 197228 #Condição inicial\n",
    "\n",
    "ti = 0 #tempo inicial\n",
    "\n",
    "tf = 12 #tempo final\n",
    "\n",
    "vt = np.arange(ti,tf,h) #Intervalo de 10 à 21 anos com passo h"
   ]
  },
  {
   "cell_type": "markdown",
   "id": "44a35525-cffa-487c-a4a5-c5ecd67d1731",
   "metadata": {},
   "source": [
    "<h2 style='color:#0000b7' >&nbsp; 6.1 &nbsp;Modelo de Malthus</h2>\n",
    "\n",
    "&nbsp; &nbsp; &nbsp; Atribuindo as variáveis aos parâmetros de <b>sol_euler_mod</b>:"
   ]
  },
  {
   "cell_type": "code",
   "execution_count": 6,
   "id": "ce2bebb5-d22f-4e13-ad2f-5fe62b661870",
   "metadata": {},
   "outputs": [
    {
     "name": "stdout",
     "output_type": "stream",
     "text": [
      "[197228.         197228.80271959 197229.60544245 ... 207097.19205724\n",
      " 207098.03494453 207098.87783525]\n",
      "O vetor de temperaturas tem 12000 elementos\n"
     ]
    }
   ],
   "source": [
    "sol = sol_euler_mod(vt,P0,'malthus')\n",
    "print(sol)\n",
    "print('O vetor de temperaturas tem {} elementos'.format(sol.shape[0]))"
   ]
  },
  {
   "cell_type": "markdown",
   "id": "6562d3fa-f000-45c6-ad95-cff775624e16",
   "metadata": {},
   "source": [
    "&nbsp; &nbsp; &nbsp; Exibindo o gráfico <b>vt</b> $\\times$ <b>P</b>:"
   ]
  },
  {
   "cell_type": "code",
   "execution_count": 7,
   "id": "571baa35-9651-4e2f-a1cf-c62dfe1a8ce5",
   "metadata": {},
   "outputs": [
    {
     "data": {
      "image/png": "[encoded data removed]",
      "text/plain": [
       "<Figure size 432x288 with 1 Axes>"
      ]
     },
     "metadata": {
      "needs_background": "light"
     },
     "output_type": "display_data"
    },
    {
     "name": "stdout",
     "output_type": "stream",
     "text": [
      "Simulação para 2021: 207098.87783524548\n",
      "Simulação para 2021 (arredondado): 207099\n"
     ]
    }
   ],
   "source": [
    "plt.plot(vt,sol,'b',label='Euler modificado')\n",
    "plt.title(\"Simulação populacional de Rio Grande (Euler modificado)\")\n",
    "plt.xlabel(\"Anos\")\n",
    "plt.ylabel(\"Número de habitantes\")\n",
    "plt.yscale(\"log\")\n",
    "plt.xscale(\"log\")\n",
    "plt.show()\n",
    "\n",
    "print(\"Simulação para 2021:\",sol[sol.shape[0]-1])\n",
    "print(\"Simulação para 2021 (arredondado):\",round(sol[sol.shape[0]-1]))"
   ]
  },
  {
   "cell_type": "markdown",
   "id": "a543c55f-cca9-4adc-b657-bc1fc7c4c615",
   "metadata": {},
   "source": [
    "<h2 style='color:#0000b7' >&nbsp; 6.2 &nbsp;Modelo de Verhulst</h2>\n",
    "\n",
    "&nbsp; &nbsp; &nbsp; Atribuindo as variáveis aos parâmetros de <b>sol_euler_mod</b>:"
   ]
  },
  {
   "cell_type": "code",
   "execution_count": 8,
   "id": "de955ca2-e71e-40e0-b341-66f302603a27",
   "metadata": {},
   "outputs": [
    {
     "name": "stdout",
     "output_type": "stream",
     "text": [
      "[197228.         197228.83522988 197229.67043105 ... 205386.92228021\n",
      " 205387.46397589 205388.00565121]\n",
      "O vetor de temperaturas tem 12000 elementos\n"
     ]
    }
   ],
   "source": [
    "sol = sol_euler_mod(vt,P0,'verhulst')\n",
    "print(sol)\n",
    "print('O vetor de temperaturas tem {} elementos'.format(sol.shape[0]))"
   ]
  },
  {
   "cell_type": "markdown",
   "id": "d9d10493-c184-4864-a556-fe1d40a66ac1",
   "metadata": {},
   "source": [
    "&nbsp; &nbsp; Gerando solução com vetor variando de 0 à 500, com o obejtivo de visualizar a assíntota horizontal em <b>P</b> = <b>L</b>"
   ]
  },
  {
   "cell_type": "code",
   "execution_count": 9,
   "id": "de3a03da-1f26-4f55-92a0-4f38801953ee",
   "metadata": {},
   "outputs": [],
   "source": [
    "t_lim = np.linspace(0,500)\n",
    "sol_lim = sol_euler_mod(t_lim,P0,'verhulst')"
   ]
  },
  {
   "cell_type": "markdown",
   "id": "7f77aec1-bf86-4df7-9b44-537f9fb5141f",
   "metadata": {},
   "source": [
    "&nbsp; &nbsp; &nbsp; &nbsp; Exibindo gráfico <b>vt</b> $\\times$ <b>$P$</b>"
   ]
  },
  {
   "cell_type": "code",
   "execution_count": 10,
   "id": "ecf89463-77b7-47eb-8e66-5e5fc067c397",
   "metadata": {},
   "outputs": [
    {
     "data": {
      "image/png": "[encoded data removed]",
      "text/plain": [
       "<Figure size 432x288 with 1 Axes>"
      ]
     },
     "metadata": {
      "needs_background": "light"
     },
     "output_type": "display_data"
    },
    {
     "name": "stdout",
     "output_type": "stream",
     "text": [
      "Simulação para 2021: 205388.0056512107\n",
      "Simulação para 2021 (arredondado): 205388\n"
     ]
    }
   ],
   "source": [
    "plt.plot(vt,sol,\"g\")\n",
    "\n",
    "#Exibindo figura\n",
    "plt.title(\"Simulação populacional de Rio Grande\")\n",
    "plt.xlabel(\"Anos \")\n",
    "plt.ylabel(\"Número de habitantes\")\n",
    "plt.yscale(\"log\")\n",
    "plt.xscale(\"log\")\n",
    "plt.show()\n",
    "\n",
    "print(\"Simulação para 2021:\",sol[sol.shape[0]-1])\n",
    "print(\"Simulação para 2021 (arredondado):\",round(sol[sol.shape[0]-1]))"
   ]
  },
  {
   "cell_type": "code",
   "execution_count": 11,
   "id": "7635de4f-03eb-4ab0-8e03-35413771feba",
   "metadata": {},
   "outputs": [
    {
     "data": {
      "image/png": "[encoded data removed]",
      "text/plain": [
       "<Figure size 432x288 with 1 Axes>"
      ]
     },
     "metadata": {
      "needs_background": "light"
     },
     "output_type": "display_data"
    }
   ],
   "source": [
    "L = 218858 #Limite (L)\n",
    "\n",
    "plt.plot(t_lim,sol_lim,\"g\") #Curva logística\n",
    "plt.plot(t_lim,np.full(t_lim.shape[0], L),\"b\", linestyle = 'dotted') #Assíntota\n",
    "\n",
    "#Exibindo figura\n",
    "plt.title(\"Simulação populacional de Rio Grande\")\n",
    "plt.xlabel(\"Anos \")\n",
    "plt.ylabel(\"Número de habitantes\")\n",
    "plt.show()"
   ]
  }
 ],
 "metadata": {
  "kernelspec": {
   "display_name": "Python 3 (ipykernel)",
   "language": "python",
   "name": "python3"
  },
  "language_info": {
   "codemirror_mode": {
    "name": "ipython",
    "version": 3
   },
   "file_extension": ".py",
   "mimetype": "text/x-python",
   "name": "python",
   "nbconvert_exporter": "python",
   "pygments_lexer": "ipython3",
   "version": "3.10.2"
  }
 },
 "nbformat": 4,
 "nbformat_minor": 5
}
