{
 "cells": [
  {
   "cell_type": "markdown",
   "id": "eb6b0a01-5a2c-4452-9b34-5a0683e051f9",
   "metadata": {},
   "source": [
    "<h1 style='color:#0000ec'>2 &nbsp; Modelos de Malthus, Verhulst e Montroll</h1>\n",
    "\n",
    "<h2 style='color:#0000b7' >&nbsp; 2.1 &nbsp;O modelo de Malthus</h2>\n",
    "\n",
    "&nbsp; &nbsp; &nbsp; O modelo populacional de Malthus é dado por:\n",
    "​\n",
    "$$\\frac{dP}{dt}=κP$$\n",
    "​\n",
    "&nbsp; &nbsp; onde <b>P</b> é o número de habitantes e <b>κ</b> a constante de proporcionalidade. \n",
    "\n",
    "<h3 style='color:#b50000' >&nbsp; &nbsp; 2.1.1 &nbsp;Solução da equação diferencial</h3>\n",
    "\n",
    "&nbsp; &nbsp; &nbsp; &nbsp; Inicialmente, obtemos a solução da equação diferencial por separação de variáveis:\n",
    "\n",
    "$$\\frac{dP}{dt}=κP \\Rightarrow \\frac{dP}{κP}=dt $$\n",
    "\n",
    "&nbsp; &nbsp; &nbsp; &nbsp; Integrando a equação:\n",
    "\n",
    "$$ \\int\\frac{dP}{P} = \\int κdt \\Rightarrow ln|P|+C_{1} = κt + C_{2} \\Rightarrow ln|P| = κt + C $$\n",
    "\n",
    "&nbsp; &nbsp; &nbsp; &nbsp;  Isolando <b>P</b>,temos:\n",
    "\n",
    "$$ P = e^{κt + C}$$ \n",
    "\n",
    "&nbsp; &nbsp; &nbsp; &nbsp;  Tomando $e^{C}$ como a população inicial $P_{0}$ temos a solução analítica do problema de contorno:\n",
    "\n",
    "$$ P(t) = P_{0}\\:e^{κt}$$ \n",
    "\n",
    "<h3 style='color:#b50000' >&nbsp; &nbsp; 2.1.2 &nbsp;Solução do problema de contorno</h3>\n",
    "\n",
    "&nbsp; &nbsp; &nbsp; &nbsp;  Em $t=0$ a população era de 197 228 habitantes, logo:\n",
    "\n",
    "$$ P(0)=P_{0}e^{κ(0)} \\Rightarrow 197 \\: 228 = P_{0} $$\n",
    "\n",
    "&nbsp; &nbsp; &nbsp; &nbsp;  Dessa forma, $P(t)$:\n",
    "\n",
    "$$ P(t) = 197228\\:e^{κt}$$\n",
    "\n",
    "&nbsp; &nbsp; &nbsp; &nbsp;  Mas, em $t=2$ a população era de 198 842, então:\n",
    "\n",
    "$$ P(10) = 197228\\:e^{(2)κ} \\Rightarrow 198 842 = 197228\\:e^{2κ} \\Rightarrow \\frac{198 842}{197228}=e^{2κ} \\Rightarrow $$ <br> \n",
    "\n",
    "$$ \\Rightarrow ln \\left ( \\frac{198 842}{197228}\\right ) = 2κ \\Rightarrow κ=\\frac{1}{2}ln \\left ( \\frac{198 842}{197228} \\right ) \\approx 0.00407$$\n",
    "\n",
    "&nbsp; &nbsp; &nbsp; &nbsp;  Portanto, segundo o modelo de Malthus, a equação que descreve o número de habitantes de Rio Grande - RS sob as condições do <br>  &nbsp; &nbsp; &nbsp; enunciado é dada por:\n",
    "\n",
    "$$ P(t)=197228e^{0.00407t}$$\n",
    "\n"
   ]
  },
  {
   "cell_type": "markdown",
   "id": "e0227fde-f725-4afd-911c-97916f14ac9a",
   "metadata": {},
   "source": [
    "<h2 style='color:#0000b7' >&nbsp; 2.2 &nbsp;O modelo de Verhulst</h2>\n",
    "\n",
    "\n",
    "&nbsp; &nbsp; &nbsp; <b style='color:#b50000'>Referência:</b> <b>A Short History of Mathematical Population Dynamics</b>, Nicolas Bacaër.\n",
    "\n",
    "&nbsp; &nbsp; &nbsp; O modelo populacional de Verhulst é dado por:\n",
    "\n",
    "$$\\frac{dP}{dt}=\\left [  κ\\left ( 1- \\frac{P}{L} \\ \\right ) \\right ]P$$\n",
    "\n",
    "&nbsp; &nbsp; &nbsp; Onde <b>P</b> é o número de habitantes, <b>L</b> é um limite estipulado em decorrência da competitividade, e, <b>κ</b> a constante de crescimento de uma <br> &nbsp; &nbsp; população em determinada época.\n",
    "\n",
    "<h3 style='color:#b50000' >&nbsp; &nbsp; 2.1.1 &nbsp;Solução da equação diferencial</h3>\n",
    "\n",
    "&nbsp; &nbsp; &nbsp; &nbsp;  A solução analítica do modelo de Verhulst é dada por:\n",
    "\n",
    "$$P(t)=\\frac{L P_{0}e^{κt}}{L+P_{0}(e^{κt}-1)}$$\n",
    "\n",
    "<h3 style='color:#b50000' >&nbsp; &nbsp; 2.1.2 &nbsp;Estivamativa dos parâmetros κ e L</h3>\n",
    "&nbsp; &nbsp; &nbsp; &nbsp;   Se $P_{0}$ é a população no instante $t=0$, $P_{1}$ no instante $t=T$ e $P_{2}$ no instante $t=2T$ podemos estimar os parâmetros κ e L da seguinte <br> &nbsp; &nbsp;  forma:\n",
    "\n",
    "$$ L = P_{1}\\frac{P_{0}P_{1}+P_{1}P_{2}-2P_{0}P_{2}}{P_{1}^{2}-P_{0}P_{2}}, \\: κ = \\frac{1}{T}ln\\left ( \\frac{1/P_{0}-1/L}{1/P_{1}-1/L} \\right ) $$\n",
    "\n",
    "&nbsp; &nbsp; &nbsp; &nbsp; Sabendo que $P_{0}=197\\:228$, $P_{1}=198\\: 049$, $P_{2}=198\\:842$ e $T=1$, os parâmetros para o problema proposto são:\n",
    "\n",
    "$$ L = 198049\\frac{197228*198049+198049*198842-2*197228*198842}{198049^{2}-197228*198842} \\approx 218 \\: 858$$\n",
    "<br>\n",
    "$$ κ = ln\\left ( \\frac{1/197228-1/218858}{1/198049-1/218858} \\right ) \\approx 0.04285 $$"
   ]
  },
  {
   "cell_type": "markdown",
   "id": "3491cbe6-469d-496a-9937-74a42f434119",
   "metadata": {},
   "source": [
    "<h3 style='color:#b50000' >&nbsp; &nbsp; 2.1.3 &nbsp;Solução geral do problema</h3>\n",
    "\n",
    "&nbsp; &nbsp; &nbsp; &nbsp; Substituindo $κ$, $L$ e $P_{0}$ na solução geral do problema, temos:\n",
    "\n",
    "$$P(t)=\\frac{218858(197228)e^{0.04285t}}{218858+197228(e^{0.04285t}-1)}$$"
   ]
  }
 ],
 "metadata": {
  "kernelspec": {
   "display_name": "Python 3 (ipykernel)",
   "language": "python",
   "name": "python3"
  },
  "language_info": {
   "codemirror_mode": {
    "name": "ipython",
    "version": 3
   },
   "file_extension": ".py",
   "mimetype": "text/x-python",
   "name": "python",
   "nbconvert_exporter": "python",
   "pygments_lexer": "ipython3",
   "version": "3.10.2"
  }
 },
 "nbformat": 4,
 "nbformat_minor": 5
}
