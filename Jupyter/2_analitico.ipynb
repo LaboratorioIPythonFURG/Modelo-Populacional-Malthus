{
 "cells": [
  {
   "cell_type": "markdown",
   "id": "eb6b0a01-5a2c-4452-9b34-5a0683e051f9",
   "metadata": {},
   "source": [
    "<h1 style='color:#0000ec'>2 &nbsp; Modelos de Malthus, Verhulst e Montroll</h1>\n",
    "\n",
    "<h2 style='color:#0000b7' >&nbsp; 2.1 &nbsp;O modelo de Malthus</h2>\n",
    "\n",
    "&nbsp; &nbsp; &nbsp; O modelo populacional de Malthus é dado por:\n",
    "​\n",
    "$$\\frac{dP}{dt}=κP$$\n",
    "​\n",
    "&nbsp; &nbsp; onde <b>P</b> é o número de habitantes e <b>κ</b> a constante de proporcionalidade. \n",
    "\n",
    "<h3 style='color:#b50000' >&nbsp; &nbsp; 2.1.1 &nbsp;Solução da equação diferencial</h3>\n",
    "\n",
    "&nbsp; &nbsp; &nbsp; &nbsp; Inicialmente, obtemos a solução da equação diferencial por separação de variáveis:\n",
    "\n",
    "$$\\frac{dP}{dt}=κP \\Rightarrow \\frac{dP}{κP}=dt $$\n",
    "\n",
    "&nbsp; &nbsp; &nbsp; &nbsp; Integrando a equação:\n",
    "\n",
    "$$ \\int\\frac{dP}{P} = \\int κdt \\Rightarrow ln|P|+C_{1} = κt + C_{2} \\Rightarrow ln|P| = κt + C $$\n",
    "\n",
    "&nbsp; &nbsp; &nbsp; &nbsp;  Isolando <b>P</b>,temos:\n",
    "\n",
    "$$ P = e^{κt + C}$$ \n",
    "\n",
    "&nbsp; &nbsp; &nbsp; &nbsp;  Tomando $e^{C}$ como a população inicial $P_{0}$ temos a solução analítica do problema de contorno:\n",
    "\n",
    "$$ P(t) = P_{0}\\:e^{κt}$$ \n",
    "\n",
    "<h3 style='color:#b50000' >&nbsp; &nbsp; 2.1.2 &nbsp;Solução do problema de contorno</h3>\n",
    "\n",
    "&nbsp; &nbsp; &nbsp; &nbsp;  Em $t=0$ a população era de 186 488 habitantes, logo:\n",
    "\n",
    "$$ P(0)=P_{0}e^{κ(0)} \\Rightarrow 186 \\: 488 = P_{0} $$\n",
    "\n",
    "&nbsp; &nbsp; &nbsp; &nbsp;  Dessa forma, $P(t)$:\n",
    "\n",
    "$$ P(t) = 186488\\:e^{κt}$$\n",
    "\n",
    "&nbsp; &nbsp; &nbsp; &nbsp;  Mas, em $t=10$ a população era de 197 228, então:\n",
    "\n",
    "$$ P(10) = 186488\\:e^{(10)κ} \\Rightarrow 197228 = 186488\\:e^{10κ} \\Rightarrow \\frac{197228}{186488}=e^{10κ} \\Rightarrow $$ <br> \n",
    "\n",
    "$$ \\Rightarrow ln \\left ( \\frac{197228}{186488} \\right ) = 10κ \\Rightarrow κ=\\frac{1}{10}ln \\left ( \\frac{197228}{186488} \\right ) \\approx 0.0056$$\n",
    "\n",
    "&nbsp; &nbsp; &nbsp; &nbsp;  Portanto, segundo o modelo de Malthus, a equação que descreve o número de habitantes de Rio Grande - RS sob as condições do <br>  &nbsp; &nbsp; &nbsp; enunciado é dada por:\n",
    "\n",
    "$$ P(t)=186488e^{0.0056t}$$\n",
    "\n"
   ]
  },
  {
   "cell_type": "markdown",
   "id": "e0227fde-f725-4afd-911c-97916f14ac9a",
   "metadata": {},
   "source": [
    "<h2 style='color:#0000b7' >&nbsp; 2.2 &nbsp;O modelo de Verhulst</h2>\n",
    "\n",
    "\n",
    "&nbsp; &nbsp; &nbsp; <b style='color:#b50000'>Referência:</b> https://repositorio.ufsc.br/bitstream/handle/123456789/203170/TCC%20Geraldo%20Campos.pdf?\n",
    "\n",
    "&nbsp; &nbsp; &nbsp; O modelo populacional de Verhulst é dado por:\n",
    "\n",
    "$$\\frac{dP}{dt}=\\left [  κ\\left ( 1- \\frac{P}{L} \\ \\right ) \\right ]P$$\n",
    "\n",
    "&nbsp; &nbsp; &nbsp; Onde <b>P</b> é o número de habitantes, <b>L</b> é um limite estipulado em decorrência da competitividade, e, <b>κ</b> a constante de crescimento de uma <br> &nbsp; &nbsp; população em determinada época.\n",
    "\n",
    "<h3 style='color:#b50000' >&nbsp; &nbsp; 2.1.1 &nbsp;Solução da equação diferencial</h3>\n",
    "\n",
    "&nbsp; &nbsp; &nbsp; &nbsp;  A solução analítica do modelo de Verhulst é dada por:\n",
    "\n",
    "$$P(t)=\\frac{L P_{0}e^{κt}}{L+P_{0}(e^{κt}-1)}$$\n",
    "\n",
    "<h3 style='color:#b50000' >&nbsp; &nbsp; 2.1.2 &nbsp;Solução do problema de contorno</h3>\n",
    "\n",
    "&nbsp; &nbsp; &nbsp; &nbsp;  Podemos escrever o problema enunciado na <b>Seção 1</b> como um problema de contorno:\n",
    "\n",
    "$$\\begin{cases} \\frac{dP}{dt}= \\left [  κ\\left ( 1- \\frac{P}{L} \\ \\right ) \\right ]P  \\\\ P(0)= 186 \\: 488 \\\\ P(10)= 197 \\: 228 \\end{cases}$$\n",
    "\n",
    "&nbsp; &nbsp; &nbsp; &nbsp;   Para o modelo de Verhuslt devemos estudar um limite <b>L</b>, isto é, estipular o número de habitantes de Rio Grande após um determinado <br> &nbsp; &nbsp; &nbsp; período. Vamos considerar <b>L = 300 000</b>\n",
    "\n",
    " &nbsp; &nbsp; &nbsp; &nbsp;   Em $t=10$ temos $N=197 \\: 228$:\n",
    " \n",
    " $$P(10)=\\frac{300 \\: 000 * 186 \\: 488*e^{κ(10)}}{300 \\: 000+186 \\: 488(e^{κ(10)}-1)} = 197 \\: 228 \\Rightarrow κ = ln\\left ( \\frac{699617023^{1/10}}{598929523^{1/10}} \\right ) $$\n",
    "\n",
    "&nbsp; &nbsp; &nbsp; &nbsp; Calculando κ:"
   ]
  },
  {
   "cell_type": "code",
   "execution_count": 1,
   "id": "329f574d-8d28-4963-9256-e11f75b16612",
   "metadata": {},
   "outputs": [
    {
     "name": "stdout",
     "output_type": "stream",
     "text": [
      "k = 0.01553891418938226\n"
     ]
    }
   ],
   "source": [
    "import math\n",
    "k = math.log(699617023**(1/10)/598929523**(1/10))\n",
    "print('k =',k)"
   ]
  },
  {
   "cell_type": "markdown",
   "id": "3491cbe6-469d-496a-9937-74a42f434119",
   "metadata": {},
   "source": [
    "&nbsp; &nbsp; &nbsp; &nbsp;Logo, a solução geral do problema:<br>\n",
    "\n",
    "\n",
    " $$P(t)=\\frac{300 \\: 000 * 186 \\: 488*e^{κ(t)}}{300 \\: 000+186 \\: 488(e^{κ(t)}-1)}, \\: κ = 0.01553891418938226$$\n",
    "\n",
    "<h3 style='color:#b50000' >&nbsp; &nbsp; 2.1.3 &nbsp;População estimada para 2021</h3>\n",
    "\n",
    "&nbsp; &nbsp; &nbsp; &nbsp; A função $P(t)$ em $t=21$:\n",
    "\n",
    "$$P(21)=\\frac{300 \\: 000 * 186 \\: 488*e^{0.01553891418938226(21)}}{300 \\: 000+186 \\: 488(e^{0.01553891418938226(21)}-1)} = 208447.5573077047$$\n",
    "\n",
    "&nbsp; &nbsp; &nbsp; &nbsp; Portanto, a simulação para 2021 é de 208 448 habitantes."
   ]
  },
  {
   "cell_type": "markdown",
   "id": "ff5ab1b2-d5dd-4230-ba3c-c7f417f4ae9b",
   "metadata": {},
   "source": [
    "<h2 style='color:#0000b7' >&nbsp; 2.3 &nbsp;O modelo de Montroll</h2>\n",
    "\n",
    "&nbsp; &nbsp; &nbsp; <b style='color:#b50000'>Referência:</b> https://repositorio.ufsc.br/bitstream/handle/123456789/203170/TCC%20Geraldo%20Campos.pdf?\n",
    "\n",
    "&nbsp; &nbsp; &nbsp; O modelo populacional de Verhulst é dado por:\n",
    "\n",
    "$$\\frac{dP}{dt}=  κP\\left [ 1- \\left ( \\frac{P}{L} \\right )^{b}  \\ \\right ] $$\n",
    "\n"
   ]
  },
  {
   "cell_type": "markdown",
   "id": "9103e97f-4eb4-43ca-af07-b62b1ebf2162",
   "metadata": {},
   "source": [
    "<b>Simulação para dados do DATASUS 2010-2011-2012</b>"
   ]
  },
  {
   "cell_type": "code",
   "execution_count": 29,
   "id": "76e7fcc7-5065-47c6-8e2d-82a5839d2bd6",
   "metadata": {},
   "outputs": [
    {
     "name": "stdout",
     "output_type": "stream",
     "text": [
      "Vetor Tempo:  [0 1 2]\n",
      "[197228.         198048.97112335 198841.94301014]\n",
      "Dados reais: 197228 , Dados estimados: 197228.0, Erro percentual : 0.0%\n",
      "Dados reais: 198049 , Dados estimados: 198048.97112335352, Erro percentual : 1.4580556569362828e-05%\n",
      "Dados reais: 198842 , Dados estimados: 198841.94301014344, Erro percentual : 2.866087474431193e-05%\n",
      "_________\n",
      " Simulação para 2021:  203668.78697678153\n",
      "Erro para 2021: 4.327400295572866%\n"
     ]
    }
   ],
   "source": [
    "import numpy as np\n",
    "\n",
    "def Pn(P0,K,r,vt):\n",
    "    Pt =  (K * P0 * np.exp (r * vt) ) / (K + P0 * (np.exp (r * vt) - 1))\n",
    "    return Pt\n",
    "\n",
    "P0 = 197228\n",
    "K = 218857\n",
    "r = 0.04285\n",
    "vt = np.arange(0,3,1)\n",
    "\n",
    "print('Vetor Tempo: ',vt)\n",
    "\n",
    "# 2000-2005-2010 dados = np.array([186544, 195392, 197228]) (DataSus)\n",
    "dados = np.array([197228, 198049, 198842])\n",
    "\n",
    "Pt = Pn(P0,K,r,vt)\n",
    "\n",
    "print(Pt)\n",
    "\n",
    "\n",
    "for i in range(0,Pt.shape[0],1):\n",
    "    \n",
    "    erro_perc = ((dados[i] - Pt[i])/dados[i])*100\n",
    "    print('Dados reais: {} , Dados estimados: {}, Erro percentual : {}%'.format(dados[i],Pt[i],erro_perc))\n",
    "    \n",
    "P21 = Pn(P0,K,r,9)\n",
    "err21 = ((212881 -P21)/212881)*100\n",
    "print('_________\\n Simulação para 2021: ',P21)\n",
    "print('Erro para 2021: {}%'.format(err21))"
   ]
  },
  {
   "cell_type": "markdown",
   "id": "7d55a0b8-b300-4364-b11a-c42e69358ac7",
   "metadata": {},
   "source": [
    "<b>Simulação para dados do IBGE 1991-2000-2010</b> (considerando intevalos igualmente espaçados)"
   ]
  },
  {
   "cell_type": "code",
   "execution_count": 33,
   "id": "6f08b1d3-7274-40eb-8073-147fae59bbdf",
   "metadata": {},
   "outputs": [
    {
     "name": "stdout",
     "output_type": "stream",
     "text": [
      "Vetor Tempo:  [ 0 10 20]\n",
      "[172422.         186487.80809951 197227.65240351]\n",
      "Dados reais: 172422 , Dados estimados: 172422.0, Erro percentual : 0.0%\n",
      "Dados reais: 186488 , Dados estimados: 186487.80809950575, Erro percentual : 0.0001029023284321301%\n",
      "Dados reais: 197228 , Dados estimados: 197227.65240351102, Erro percentual : 0.00017624094397364652%\n",
      "_________\n",
      " Simulação para 2021:  185236.4494615247\n",
      "Erro para 2021: 12.985917267616792%\n"
     ]
    }
   ],
   "source": [
    "import numpy as np\n",
    "\n",
    "def Pn(P0,K,r,vt):\n",
    "    Pt =  (K * P0 * np.exp (r * vt) ) / (K + P0 * (np.exp (r * vt) - 1))\n",
    "    return Pt\n",
    "\n",
    "P0 = 172422\n",
    "K = 223012\n",
    "r = 0.04042\n",
    "vt = np.array([0,10,20])\n",
    "\n",
    "print('Vetor Tempo: ',vt)\n",
    "\n",
    "# 2000-2005-2010 dados = np.array([186544, 195392, 197228]) (DataSus)\n",
    "#dados = np.array([197228, 198049, 198842])\n",
    "dados = np.array([172422,186488,197228])\n",
    "\n",
    "Pt = Pn(P0,K,r,vt)\n",
    "\n",
    "print(Pt)\n",
    "\n",
    "\n",
    "for i in range(0,Pt.shape[0],1):\n",
    "    \n",
    "    erro_perc = ((dados[i] - Pt[i])/dados[i])*100\n",
    "    print('Dados reais: {} , Dados estimados: {}, Erro percentual : {}%'.format(dados[i],Pt[i],erro_perc))\n",
    "    \n",
    "P21 = Pn(P0,K,r,9)\n",
    "err21 = ((212881 -P21)/212881)*100\n",
    "print('_________\\n Simulação para 2021: ',P21)\n",
    "print('Erro para 2021: {}%'.format(err21))"
   ]
  },
  {
   "cell_type": "markdown",
   "id": "029cc65a-49bb-4e25-8def-bf13f10252fe",
   "metadata": {},
   "source": [
    "<b>Simulação para dados do DATASUS 2000-2005-2010</b>"
   ]
  },
  {
   "cell_type": "code",
   "execution_count": 35,
   "id": "025c5fa3-f77e-4c0c-88e4-9ab4e71ff94d",
   "metadata": {},
   "outputs": [
    {
     "name": "stdout",
     "output_type": "stream",
     "text": [
      "Vetor Tempo:  [ 0  5 10]\n",
      "[186544.         186752.33566418 186956.99811623]\n",
      "Dados reais: 186544 , Dados estimados: 186544.0, Erro percentual : 0.0%\n",
      "Dados reais: 195392 , Dados estimados: 186752.33566417915, Erro percentual : 4.421708327782536%\n",
      "Dados reais: 197228 , Dados estimados: 186956.99811623126, Erro percentual : 5.2076793780643404%\n",
      "_________\n",
      " Simulação para 2021:  186916.3567658648\n",
      "Erro para 2021: 12.196787517033087%\n"
     ]
    }
   ],
   "source": [
    "import numpy as np\n",
    "\n",
    "def Pn(P0,K,r,vt):\n",
    "    Pt =  (K * P0 * np.exp (r * vt) ) / (K + P0 * (np.exp (r * vt) - 1))\n",
    "    return Pt\n",
    "\n",
    "P0 = 186544\n",
    "K = 197681\n",
    "r = 0.004\n",
    "vt = np.array([0,5,10])\n",
    "\n",
    "print('Vetor Tempo: ',vt)\n",
    "\n",
    "# 2000-2005-2010 dados = np.array([186544, 195392, 197228]) (DataSus)\n",
    "#dados = np.array([197228, 198049, 198842])\n",
    "#dados = np.array([172422,186488,197228])\n",
    "dados = np.array([186544, 195392, 197228])\n",
    "\n",
    "Pt = Pn(P0,K,r,vt)\n",
    "\n",
    "print(Pt)\n",
    "\n",
    "\n",
    "for i in range(0,Pt.shape[0],1):\n",
    "    \n",
    "    erro_perc = ((dados[i] - Pt[i])/dados[i])*100\n",
    "    print('Dados reais: {} , Dados estimados: {}, Erro percentual : {}%'.format(dados[i],Pt[i],erro_perc))\n",
    "    \n",
    "P21 = Pn(P0,K,r,9)\n",
    "err21 = ((212881 -P21)/212881)*100\n",
    "print('_________\\n Simulação para 2021: ',P21)\n",
    "print('Erro para 2021: {}%'.format(err21))"
   ]
  },
  {
   "cell_type": "code",
   "execution_count": null,
   "id": "0fc7052f-12d6-48d7-b531-9b0cdd48e734",
   "metadata": {},
   "outputs": [],
   "source": []
  }
 ],
 "metadata": {
  "kernelspec": {
   "display_name": "Python 3 (ipykernel)",
   "language": "python",
   "name": "python3"
  },
  "language_info": {
   "codemirror_mode": {
    "name": "ipython",
    "version": 3
   },
   "file_extension": ".py",
   "mimetype": "text/x-python",
   "name": "python",
   "nbconvert_exporter": "python",
   "pygments_lexer": "ipython3",
   "version": "3.10.2"
  }
 },
 "nbformat": 4,
 "nbformat_minor": 5
}
