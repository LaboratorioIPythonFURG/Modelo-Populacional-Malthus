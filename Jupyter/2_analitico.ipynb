{
 "cells": [
  {
   "cell_type": "markdown",
   "id": "eb6b0a01-5a2c-4452-9b34-5a0683e051f9",
   "metadata": {},
   "source": [
    "<h1 style='color:#0000ec'>2 &nbsp; Modelos de Malthus, Verhulst e Montroll</h1>\n",
    "\n",
    "<h2 style='color:#0000b7' >&nbsp; 2.1 &nbsp;O modelo de Malthus</h2>\n",
    "\n",
    "&nbsp; &nbsp; &nbsp; O modelo populacional de Malthus é dado por:\n",
    "​\n",
    "$$\\frac{dP}{dt}=κP$$\n",
    "​\n",
    "&nbsp; &nbsp; onde <b>P</b> é o número de habitantes e <b>κ</b> a constante de proporcionalidade. \n",
    "\n",
    "<h3 style='color:#b50000' >&nbsp; &nbsp; 2.1.1 &nbsp;Solução da equação diferencial</h3>\n",
    "\n",
    "&nbsp; &nbsp; &nbsp; &nbsp; Inicialmente, obtemos a solução da equação diferencial por separação de variáveis:\n",
    "\n",
    "$$\\frac{dP}{dt}=κP \\Rightarrow \\frac{dP}{κP}=dt $$\n",
    "\n",
    "&nbsp; &nbsp; &nbsp; &nbsp; Integrando a equação:\n",
    "\n",
    "$$ \\int\\frac{dP}{P} = \\int κdt \\Rightarrow ln|P|+C_{1} = κt + C_{2} \\Rightarrow ln|P| = κt + C $$\n",
    "\n",
    "&nbsp; &nbsp; &nbsp; &nbsp;  Isolando <b>P</b>,temos:\n",
    "\n",
    "$$ P = e^{κt + C}$$ \n",
    "\n",
    "&nbsp; &nbsp; &nbsp; &nbsp;  Tomando $e^{C}$ como a população inicial $P_{0}$ temos a solução analítica do problema de contorno:\n",
    "\n",
    "$$ P(t) = P_{0}\\:e^{κt}$$ \n",
    "\n",
    "<h3 style='color:#b50000' >&nbsp; &nbsp; 2.1.2 &nbsp;Solução do problema de contorno</h3>\n",
    "\n",
    "&nbsp; &nbsp; &nbsp; &nbsp;  Em $t=0$ a população era de 186 488 habitantes, logo:\n",
    "\n",
    "$$ P(0)=P_{0}e^{κ(0)} \\Rightarrow 186 \\: 488 = P_{0} $$\n",
    "\n",
    "&nbsp; &nbsp; &nbsp; &nbsp;  Dessa forma, $P(t)$:\n",
    "\n",
    "$$ P(t) = 186488\\:e^{κt}$$\n",
    "\n",
    "&nbsp; &nbsp; &nbsp; &nbsp;  Mas, em $t=10$ a população era de 197 228, então:\n",
    "\n",
    "$$ P(10) = 186488\\:e^{(10)κ} \\Rightarrow 197228 = 186488\\:e^{10κ} \\Rightarrow \\frac{197228}{186488}=e^{10κ} \\Rightarrow $$ <br> \n",
    "\n",
    "$$ \\Rightarrow ln \\left ( \\frac{197228}{186488} \\right ) = 10κ \\Rightarrow κ=\\frac{1}{10}ln \\left ( \\frac{197228}{186488} \\right ) \\approx 0.0056$$\n",
    "\n",
    "&nbsp; &nbsp; &nbsp; &nbsp;  Portanto, segundo o modelo de Malthus, a equação que descreve o número de habitantes de Rio Grande - RS sob as condições do <br>  &nbsp; &nbsp; &nbsp; enunciado é dada por:\n",
    "\n",
    "$$ P(t)=186488e^{0.0056t}$$\n",
    "\n"
   ]
  },
  {
   "cell_type": "markdown",
   "id": "e0227fde-f725-4afd-911c-97916f14ac9a",
   "metadata": {},
   "source": [
    "<h2 style='color:#0000b7' >&nbsp; 2.2 &nbsp;O modelo de Verhulst</h2>\n",
    "\n",
    "\n",
    "&nbsp; &nbsp; &nbsp; <b style='color:#b50000'>Referência:</b> <b>A Short History of Mathematical Population Dynamics</b>, Nicolas Bacaër.\n",
    "\n",
    "&nbsp; &nbsp; &nbsp; O modelo populacional de Verhulst é dado por:\n",
    "\n",
    "$$\\frac{dP}{dt}=\\left [  κ\\left ( 1- \\frac{P}{L} \\ \\right ) \\right ]P$$\n",
    "\n",
    "&nbsp; &nbsp; &nbsp; Onde <b>P</b> é o número de habitantes, <b>L</b> é um limite estipulado em decorrência da competitividade, e, <b>κ</b> a constante de crescimento de uma <br> &nbsp; &nbsp; população em determinada época.\n",
    "\n",
    "<h3 style='color:#b50000' >&nbsp; &nbsp; 2.1.1 &nbsp;Solução da equação diferencial</h3>\n",
    "\n",
    "&nbsp; &nbsp; &nbsp; &nbsp;  A solução analítica do modelo de Verhulst é dada por:\n",
    "\n",
    "$$P(t)=\\frac{L P_{0}e^{κt}}{L+P_{0}(e^{κt}-1)}$$\n",
    "\n",
    "<h3 style='color:#b50000' >&nbsp; &nbsp; 2.1.2 &nbsp;Estivamativa dos parâmetros κ e L</h3>\n",
    "&nbsp; &nbsp; &nbsp; &nbsp;   Se $P_{0}$ é a população no instante $t=0$, $P_{1}$ no instante $t=T$ e $P_{2}$ no instante $t=2T$ podemos estimar os parâmetros κ e L da seguinte <br> &nbsp; &nbsp;  forma:\n",
    "\n",
    "$$ L = P_{1}\\frac{P_{0}P_{1}+P_{1}P_{2}-2P_{0}P_{2}}{P_{1}^{2}-P_{0}P_{2}}, \\: κ = \\frac{1}{T}ln\\left ( \\frac{1/P_{0}-1/L}{1/P_{1}-1/L} \\right ) $$\n",
    "\n",
    "&nbsp; &nbsp; &nbsp; &nbsp; Sabendo que $P_{0}=197\\:228$, $P_{1}=198\\: 049$, $P_{2}=198\\:842$ e $T=1$, os parâmetros para o problema proposto são:\n",
    "\n",
    "$$ L = 198049\\frac{197228*198049+198049*198842-2*197228*198842}{198049^{2}-197228*198842} \\approx 218 \\: 858$$\n",
    "<br>\n",
    "$$ κ = ln\\left ( \\frac{1/197228-1/218858}{1/198049-1/218858} \\right ) \\approx 0.04285 $$"
   ]
  },
  {
   "cell_type": "markdown",
   "id": "3491cbe6-469d-496a-9937-74a42f434119",
   "metadata": {},
   "source": [
    "<h3 style='color:#b50000' >&nbsp; &nbsp; 2.1.3 &nbsp;Solução geral do problema</h3>\n",
    "\n",
    "&nbsp; &nbsp; &nbsp; &nbsp; Substituindo $κ$, $L$ e $P_{0}$ na solução geral do problema, temos:\n",
    "\n",
    "$$P(t)=\\frac{218858(197228)e^{0.04285t}}{218858+197228(e^{0.04285t}-1)}$$"
   ]
  },
  {
   "cell_type": "markdown",
   "id": "9103e97f-4eb4-43ca-af07-b62b1ebf2162",
   "metadata": {},
   "source": [
    "<b>Simulação para dados do DATASUS 2010-2011-2012</b>"
   ]
  },
  {
   "cell_type": "markdown",
   "id": "7d55a0b8-b300-4364-b11a-c42e69358ac7",
   "metadata": {},
   "source": [
    "<b>Simulação para dados do IBGE 1991-2000-2010</b> (considerando intevalos igualmente espaçados)"
   ]
  },
  {
   "cell_type": "code",
   "execution_count": 33,
   "id": "6f08b1d3-7274-40eb-8073-147fae59bbdf",
   "metadata": {},
   "outputs": [
    {
     "name": "stdout",
     "output_type": "stream",
     "text": [
      "Vetor Tempo:  [ 0 10 20]\n",
      "[172422.         186487.80809951 197227.65240351]\n",
      "Dados reais: 172422 , Dados estimados: 172422.0, Erro percentual : 0.0%\n",
      "Dados reais: 186488 , Dados estimados: 186487.80809950575, Erro percentual : 0.0001029023284321301%\n",
      "Dados reais: 197228 , Dados estimados: 197227.65240351102, Erro percentual : 0.00017624094397364652%\n",
      "_________\n",
      " Simulação para 2021:  185236.4494615247\n",
      "Erro para 2021: 12.985917267616792%\n"
     ]
    }
   ],
   "source": [
    "import numpy as np\n",
    "\n",
    "def Pn(P0,K,r,vt):\n",
    "    Pt =  (K * P0 * np.exp (r * vt) ) / (K + P0 * (np.exp (r * vt) - 1))\n",
    "    return Pt\n",
    "\n",
    "P0 = 172422\n",
    "K = 223012\n",
    "r = 0.04042\n",
    "vt = np.array([0,10,20])\n",
    "\n",
    "print('Vetor Tempo: ',vt)\n",
    "\n",
    "# 2000-2005-2010 dados = np.array([186544, 195392, 197228]) (DataSus)\n",
    "#dados = np.array([197228, 198049, 198842])\n",
    "dados = np.array([172422,186488,197228])\n",
    "\n",
    "Pt = Pn(P0,K,r,vt)\n",
    "\n",
    "print(Pt)\n",
    "\n",
    "\n",
    "for i in range(0,Pt.shape[0],1):\n",
    "    \n",
    "    erro_perc = ((dados[i] - Pt[i])/dados[i])*100\n",
    "    print('Dados reais: {} , Dados estimados: {}, Erro percentual : {}%'.format(dados[i],Pt[i],erro_perc))\n",
    "    \n",
    "P21 = Pn(P0,K,r,9)\n",
    "err21 = ((212881 -P21)/212881)*100\n",
    "print('_________\\n Simulação para 2021: ',P21)\n",
    "print('Erro para 2021: {}%'.format(err21))"
   ]
  },
  {
   "cell_type": "markdown",
   "id": "029cc65a-49bb-4e25-8def-bf13f10252fe",
   "metadata": {},
   "source": [
    "<b>Simulação para dados do DATASUS 2000-2005-2010</b>"
   ]
  },
  {
   "cell_type": "code",
   "execution_count": 35,
   "id": "025c5fa3-f77e-4c0c-88e4-9ab4e71ff94d",
   "metadata": {},
   "outputs": [
    {
     "name": "stdout",
     "output_type": "stream",
     "text": [
      "Vetor Tempo:  [ 0  5 10]\n",
      "[186544.         186752.33566418 186956.99811623]\n",
      "Dados reais: 186544 , Dados estimados: 186544.0, Erro percentual : 0.0%\n",
      "Dados reais: 195392 , Dados estimados: 186752.33566417915, Erro percentual : 4.421708327782536%\n",
      "Dados reais: 197228 , Dados estimados: 186956.99811623126, Erro percentual : 5.2076793780643404%\n",
      "_________\n",
      " Simulação para 2021:  186916.3567658648\n",
      "Erro para 2021: 12.196787517033087%\n"
     ]
    }
   ],
   "source": [
    "import numpy as np\n",
    "\n",
    "def Pn(P0,K,r,vt):\n",
    "    Pt =  (K * P0 * np.exp (r * vt) ) / (K + P0 * (np.exp (r * vt) - 1))\n",
    "    return Pt\n",
    "\n",
    "P0 = 186544\n",
    "K = 197681\n",
    "r = 0.004\n",
    "vt = np.array([0,5,10])\n",
    "\n",
    "print('Vetor Tempo: ',vt)\n",
    "\n",
    "# 2000-2005-2010 dados = np.array([186544, 195392, 197228]) (DataSus)\n",
    "#dados = np.array([197228, 198049, 198842])\n",
    "#dados = np.array([172422,186488,197228])\n",
    "dados = np.array([186544, 195392, 197228])\n",
    "\n",
    "Pt = Pn(P0,K,r,vt)\n",
    "\n",
    "print(Pt)\n",
    "\n",
    "\n",
    "for i in range(0,Pt.shape[0],1):\n",
    "    \n",
    "    erro_perc = ((dados[i] - Pt[i])/dados[i])*100\n",
    "    print('Dados reais: {} , Dados estimados: {}, Erro percentual : {}%'.format(dados[i],Pt[i],erro_perc))\n",
    "    \n",
    "P21 = Pn(P0,K,r,9)\n",
    "err21 = ((212881 -P21)/212881)*100\n",
    "print('_________\\n Simulação para 2021: ',P21)\n",
    "print('Erro para 2021: {}%'.format(err21))"
   ]
  },
  {
   "cell_type": "code",
   "execution_count": null,
   "id": "0fc7052f-12d6-48d7-b531-9b0cdd48e734",
   "metadata": {},
   "outputs": [],
   "source": []
  }
 ],
 "metadata": {
  "kernelspec": {
   "display_name": "Python 3 (ipykernel)",
   "language": "python",
   "name": "python3"
  },
  "language_info": {
   "codemirror_mode": {
    "name": "ipython",
    "version": 3
   },
   "file_extension": ".py",
   "mimetype": "text/x-python",
   "name": "python",
   "nbconvert_exporter": "python",
   "pygments_lexer": "ipython3",
   "version": "3.10.2"
  }
 },
 "nbformat": 4,
 "nbformat_minor": 5
}
