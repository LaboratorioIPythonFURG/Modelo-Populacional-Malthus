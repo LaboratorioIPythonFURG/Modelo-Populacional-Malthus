{
 "cells": [
  {
   "cell_type": "markdown",
   "id": "388559c1-2a27-4b3f-922f-51b4a69fb684",
   "metadata": {},
   "source": [
    "<h1 style='color:#0000ec'>7 &nbsp; O método de Runge-Kutta de 4º ordem</h1>\n",
    "\n",
    "&nbsp; Importando as bibliotecas NumPy e Matplotlib ao arquivo <b>atual</b>:"
   ]
  },
  {
   "cell_type": "code",
   "execution_count": 1,
   "id": "ffb9aaa9-8e26-4d32-955f-aa50ee973779",
   "metadata": {},
   "outputs": [],
   "source": [
    "import numpy as np\n",
    "import matplotlib.pyplot as plt"
   ]
  },
  {
   "cell_type": "markdown",
   "id": "77e21f6e-25b2-400b-8b3c-b95a39d0e842",
   "metadata": {},
   "source": [
    "&nbsp; Escrevendo arquivo contendo a função <i><b>sol_rk4(\t&lt;tempo>,\t&lt;população inicial>,\t&lt;modelo>)</b></i> para receber diferentes modelos:"
   ]
  },
  {
   "cell_type": "code",
   "execution_count": 2,
   "id": "405de6ee-8a22-4ef1-963e-04225f407123",
   "metadata": {},
   "outputs": [
    {
     "name": "stdout",
     "output_type": "stream",
     "text": [
      "Overwriting ../python/sol_rk4.py\n"
     ]
    }
   ],
   "source": [
    "%%writefile ../python/sol_rk4.py\n",
    "\n",
    "import numpy as np #Biblioteca\n",
    "\n",
    "def sol_rk4(vt,P0,modelo): #Função RK4\n",
    "    \n",
    "    P = np.array([P0]) #Vetor população\n",
    "    \n",
    "    h = vt[2] - vt[1] #Passo de integração\n",
    "\n",
    "    for t in vt: #Aproximando T(i) pelo método de Euler modificado\n",
    "        \n",
    "        k1 = modelo(P[-1])\n",
    "        k2 = modelo(P[-1]+(h/2)*k1)\n",
    "        k3 = modelo(P[-1]+(h/2)*k2)\n",
    "        k4 = modelo(P[-1]+h*k3)\n",
    "        K = (1/6)*(k1+2*(k2+k3)+k4)\n",
    "        Pi = P[-1]+h*K\n",
    "        P = np.append(P,Pi)\n",
    "        \n",
    "    return P[0:P.shape[0]-1]"
   ]
  },
  {
   "cell_type": "markdown",
   "id": "69230080-2747-4b79-a950-8fbe0e30b22c",
   "metadata": {},
   "source": [
    "&nbsp; Carregando o diretório <b>python/</b> que contém as funções escritas ao longo dos tópicos:"
   ]
  },
  {
   "cell_type": "code",
   "execution_count": 3,
   "id": "da141a54-4460-4e19-bebb-ef3403f01865",
   "metadata": {},
   "outputs": [],
   "source": [
    "import sys\n",
    "sys.path.insert(0, '../python')"
   ]
  },
  {
   "cell_type": "markdown",
   "id": "bb8df3f3-696e-4d7e-8013-682760bbd9bd",
   "metadata": {},
   "source": [
    "Importando a função <b>sol_rk4</b> escrita em <b>[2]</b> e os modelos populacionais:"
   ]
  },
  {
   "cell_type": "code",
   "execution_count": 4,
   "id": "8c731f5b-5e35-4956-8485-89c878f866f9",
   "metadata": {},
   "outputs": [],
   "source": [
    "from sol_rk4 import sol_rk4\n",
    "from f_malthus import f_malthus\n",
    "from f_verhulst import f_verhulst\n",
    "from f_montroll import f_montroll"
   ]
  },
  {
   "cell_type": "markdown",
   "id": "8b867f8c-9f4d-4fd5-bfb9-cb008d889b51",
   "metadata": {},
   "source": [
    "&nbsp; Uma vez definido o método de Euler modificado, basta declarar o passo de derivação <b>h</b>, a condição inicial <b>P0</b>, o tempo inicial <b>ti</b>, o tempo final <b>tf</b> e o intervalo de tempo <b>vt</b>:"
   ]
  },
  {
   "cell_type": "code",
   "execution_count": 5,
   "id": "12b40dd4-02e4-4966-9bdc-429a6c7d5d52",
   "metadata": {},
   "outputs": [],
   "source": [
    "h = 0.001 #Passo de derivação\n",
    "\n",
    "P0 = 197228 #Condição inicial\n",
    "\n",
    "ti = 0 #tempo inicial\n",
    "\n",
    "tf = 12 #tempo final\n",
    "\n",
    "vt = np.arange(ti,tf,h) #Intervalo de 10 à 21 anos com passo h"
   ]
  },
  {
   "cell_type": "markdown",
   "id": "a5d7c65e-4e25-47a8-8217-b4614e55bb18",
   "metadata": {},
   "source": [
    "<h2 style='color:#0000b7' >&nbsp; 7.1 &nbsp;Modelo de Malthus</h2>\n",
    "\n",
    "&nbsp; &nbsp; &nbsp; Atribuindo as variáveis aos parâmetros de <b>sol_rk4</b>:"
   ]
  },
  {
   "cell_type": "code",
   "execution_count": 6,
   "id": "b2d45c8e-84cd-4978-9d10-129c7fe71833",
   "metadata": {},
   "outputs": [
    {
     "name": "stdout",
     "output_type": "stream",
     "text": [
      "[197228.         197228.80271959 197229.60544245 ... 207097.19205727\n",
      " 207098.03494455 207098.87783527]\n",
      "O vetor contendo o número de habitantes tem 12000 elementos\n"
     ]
    }
   ],
   "source": [
    "sol = sol_rk4(vt,P0,f_malthus)\n",
    "print(sol)\n",
    "print('O vetor contendo o número de habitantes tem {} elementos'.format(sol.shape[0]))"
   ]
  },
  {
   "cell_type": "markdown",
   "id": "a533aaf7-4c5b-46ac-843d-3d439548a251",
   "metadata": {},
   "source": [
    "&nbsp; &nbsp; &nbsp; Exibindo o gráfico <b>vt</b> $\\times$ <b>P</b>:\n",
    "\n",
    "<h3 style='color:#0000b7' > &nbsp;Modelo de Malthus para $0\\leq t\\leq 12$ anos</h3>"
   ]
  },
  {
   "cell_type": "code",
   "execution_count": 7,
   "id": "aeac0246-e22d-44b8-a7da-f681a1ed238c",
   "metadata": {},
   "outputs": [
    {
     "data": {
      "image/png": "[encoded data removed]",
      "text/plain": [
       "<Figure size 432x288 with 1 Axes>"
      ]
     },
     "metadata": {
      "needs_background": "light"
     },
     "output_type": "display_data"
    },
    {
     "name": "stdout",
     "output_type": "stream",
     "text": [
      "Simulação para 2021: 207098.87783527214\n",
      "Simulação para 2021 (arredondado): 207099\n"
     ]
    }
   ],
   "source": [
    "plt.plot(vt,sol,'b',label='Euler modificado')\n",
    "plt.title(\"Simulação populacional de Rio Grande (RK4)\")\n",
    "plt.xlabel(\"Anos\")\n",
    "plt.ylabel(\"Número de habitantes\")\n",
    "plt.yscale(\"log\")\n",
    "plt.xscale(\"log\")\n",
    "plt.show()\n",
    "\n",
    "print(\"Simulação para 2021:\",sol[sol.shape[0]-1])\n",
    "print(\"Simulação para 2021 (arredondado):\",round(sol[sol.shape[0]-1]))"
   ]
  },
  {
   "cell_type": "markdown",
   "id": "27de59e2-be9a-4ea1-b4d6-aeb7932de138",
   "metadata": {},
   "source": [
    "<h2 style='color:#0000b7' >&nbsp; 7.2 &nbsp;Modelo de Verhulst</h2>\n",
    "\n",
    "&nbsp; &nbsp; &nbsp; Atribuindo as variáveis aos parâmetros de <b>sol_rk4</b>:"
   ]
  },
  {
   "cell_type": "code",
   "execution_count": 8,
   "id": "105be1b1-0d4e-48f1-883f-ba844cf33cda",
   "metadata": {},
   "outputs": [
    {
     "name": "stdout",
     "output_type": "stream",
     "text": [
      "[197228.         197228.83522988 197229.67043105 ... 205386.92228177\n",
      " 205387.46397744 205388.00565277]\n",
      "O vetor contendo o número de habitantes tem 12000 elementos\n"
     ]
    }
   ],
   "source": [
    "sol = sol_rk4(vt,P0,f_verhulst)\n",
    "print(sol)\n",
    "print('O vetor contendo o número de habitantes tem {} elementos'.format(sol.shape[0]))"
   ]
  },
  {
   "cell_type": "markdown",
   "id": "23b1f141-08f0-4b2d-8f4d-f3855688affa",
   "metadata": {},
   "source": [
    "&nbsp; &nbsp; Gerando solução com vetor variando de 0 à 500, com o obejtivo de visualizar a assíntota horizontal em <b>P</b> = <b>L</b>"
   ]
  },
  {
   "cell_type": "code",
   "execution_count": 9,
   "id": "26ecd282-3325-4f3d-a7f7-67dde3895809",
   "metadata": {},
   "outputs": [],
   "source": [
    "t_lim = np.linspace(0,500)\n",
    "sol_lim = sol_rk4(t_lim,P0,f_verhulst)"
   ]
  },
  {
   "cell_type": "markdown",
   "id": "f9ae6251-fc64-485a-9625-be412e883c26",
   "metadata": {},
   "source": [
    "&nbsp; &nbsp; &nbsp; &nbsp; Exibindo gráfico <b>vt</b> $\\times$ <b>$P$</b>\n",
    "<h3 style='color:#0000b7' > &nbsp;Modelo de Verhulst para $0\\leq t\\leq 12$ anos</h3>"
   ]
  },
  {
   "cell_type": "code",
   "execution_count": 10,
   "id": "dd8bae86-3076-4888-b4f6-41711fabd8ed",
   "metadata": {},
   "outputs": [
    {
     "data": {
      "image/png": "[encoded data removed]",
      "text/plain": [
       "<Figure size 432x288 with 1 Axes>"
      ]
     },
     "metadata": {
      "needs_background": "light"
     },
     "output_type": "display_data"
    },
    {
     "name": "stdout",
     "output_type": "stream",
     "text": [
      "Simulação para 2021: 205388.00565276708\n",
      "Simulação para 2021 (arredondado): 205388\n"
     ]
    }
   ],
   "source": [
    "plt.plot(vt,sol,\"g\")\n",
    "plt.title(\"Simulação populacional de Rio Grande (RK4)\")\n",
    "plt.xlabel(\"Anos \")\n",
    "plt.ylabel(\"Número de habitantes\")\n",
    "plt.yscale(\"log\")\n",
    "plt.xscale(\"log\")\n",
    "plt.show()\n",
    "\n",
    "print(\"Simulação para 2021:\",sol[sol.shape[0]-1])\n",
    "print(\"Simulação para 2021 (arredondado):\",round(sol[sol.shape[0]-1]))"
   ]
  },
  {
   "cell_type": "markdown",
   "id": "0893ac6f-bc07-4a7d-91c9-87872f2bfb5a",
   "metadata": {},
   "source": [
    "<h3 style='color:#0000b7' > &nbsp;Modelo de Verhulst para $0\\leq t\\leq 500$ anos</h3>"
   ]
  },
  {
   "cell_type": "code",
   "execution_count": 11,
   "id": "84b803af-1416-4fcf-991a-7b41b5e00da7",
   "metadata": {},
   "outputs": [
    {
     "data": {
      "image/png": "[encoded data removed]",
      "text/plain": [
       "<Figure size 432x288 with 1 Axes>"
      ]
     },
     "metadata": {
      "needs_background": "light"
     },
     "output_type": "display_data"
    }
   ],
   "source": [
    "L = 218858 #Limite (L)\n",
    "plt.plot(t_lim,sol_lim,\"g\",label='População') #Curva logística\n",
    "plt.plot(t_lim,np.full(t_lim.shape[0], L),\"b\", linestyle = 'dotted',\n",
    "         label='Capacidade Suporte') #Assíntota\n",
    "\n",
    "plt.title(\"Simulação populacional de Rio Grande (RK4)\")\n",
    "plt.xlabel(\"Anos\")\n",
    "plt.ylabel(\"Número de habitantes\")\n",
    "plt.yscale(\"log\")\n",
    "plt.legend()\n",
    "plt.show()"
   ]
  },
  {
   "cell_type": "markdown",
   "id": "83d46279-1ff0-458d-b09d-3a290803f5ee",
   "metadata": {},
   "source": [
    "<h2 style='color:#0000b7' >&nbsp; 7.3 &nbsp;Modelo de Montroll</h2>\n",
    "\n",
    "&nbsp; &nbsp; &nbsp; Atribuindo as variáveis aos parâmetros de <b>sol_rk4</b>:"
   ]
  },
  {
   "cell_type": "code",
   "execution_count": 12,
   "id": "8350d25a-25e2-4ff0-b440-03a201830ae9",
   "metadata": {},
   "outputs": [
    {
     "name": "stdout",
     "output_type": "stream",
     "text": [
      "[197228.         197228.80372289 197229.60744906 ... 207105.57952721\n",
      " 207106.42155103 207107.2635774 ]\n",
      "O vetor contendo o número de habitantes tem 12000 elementos\n"
     ]
    }
   ],
   "source": [
    "sol = sol_rk4(vt,P0,f_montroll)\n",
    "print(sol)\n",
    "print('O vetor contendo o número de habitantes tem {} elementos'.format(sol.shape[0]))"
   ]
  },
  {
   "cell_type": "markdown",
   "id": "1868f040-b357-4bd3-915d-caef7692aef5",
   "metadata": {},
   "source": [
    "&nbsp; &nbsp; Gerando solução com vetor variando de 0 à 500, com o obejtivo de visualizar a assíntota horizontal em <b>P</b> = <b>L</b>"
   ]
  },
  {
   "cell_type": "code",
   "execution_count": 13,
   "id": "8cd64222-818d-405a-aad8-8f49f9550cfa",
   "metadata": {},
   "outputs": [],
   "source": [
    "t_lim = np.linspace(0,500)\n",
    "sol_lim = sol_rk4(t_lim,P0,f_montroll)"
   ]
  },
  {
   "cell_type": "markdown",
   "id": "55efece5-95b5-4f4a-8627-f862e48cf0e0",
   "metadata": {},
   "source": [
    " &nbsp; &nbsp; &nbsp; Exibindo gráfico <b>vt</b> $\\times$ <b>$P$</b>"
   ]
  },
  {
   "cell_type": "code",
   "execution_count": 14,
   "id": "a428c813-3d06-4c85-b18c-5967574f5757",
   "metadata": {},
   "outputs": [
    {
     "data": {
      "image/png": "[encoded data removed]",
      "text/plain": [
       "<Figure size 432x288 with 1 Axes>"
      ]
     },
     "metadata": {
      "needs_background": "light"
     },
     "output_type": "display_data"
    },
    {
     "name": "stdout",
     "output_type": "stream",
     "text": [
      "Simulação para 2021: 207107.26357739503\n",
      "Simulação para 2021 (arredondado): 207107\n"
     ]
    }
   ],
   "source": [
    "plt.plot(vt,sol,\"g\")\n",
    "\n",
    "#Exibindo figura\n",
    "plt.title(\"Simulação populacional de Rio Grande (RK4)\")\n",
    "plt.xlabel(\"Anos \")\n",
    "plt.ylabel(\"Número de habitantes\")\n",
    "plt.yscale(\"log\")\n",
    "plt.xscale(\"log\")\n",
    "plt.show()\n",
    "\n",
    "print(\"Simulação para 2021:\",sol[sol.shape[0]-1])\n",
    "print(\"Simulação para 2021 (arredondado):\",round(sol[sol.shape[0]-1]))"
   ]
  }
 ],
 "metadata": {
  "kernelspec": {
   "display_name": "Python 3 (ipykernel)",
   "language": "python",
   "name": "python3"
  },
  "language_info": {
   "codemirror_mode": {
    "name": "ipython",
    "version": 3
   },
   "file_extension": ".py",
   "mimetype": "text/x-python",
   "name": "python",
   "nbconvert_exporter": "python",
   "pygments_lexer": "ipython3",
   "version": "3.10.2"
  }
 },
 "nbformat": 4,
 "nbformat_minor": 5
}
