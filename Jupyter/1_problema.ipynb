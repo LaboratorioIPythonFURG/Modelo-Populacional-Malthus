{
 "cells": [
  {
   "cell_type": "markdown",
   "id": "86093a3b-b5aa-4fe9-af97-b743191b6c5d",
   "metadata": {},
   "source": [
    "<h1 style='color:#0000ec'>1 &nbsp; Modelos Populacionais</h1>\n",
    "<h2 style='color:#0000b7'> &nbsp; Problema modelo:</h2> \n",
    "    &nbsp; &nbsp; &nbsp; Jaçanã é uma cidade pacata no interior do Rio Grande do Norte e no ano 2000 a população do município era de 7677 habitantes e em 2010 <br> &nbsp; &nbsp; essa população passou para 7925. De acordo o modelo de crescimento populacional de Malthus, qual será a população estimada para\n",
    "2016?\n",
    "<br><br>\n",
    "&nbsp; &nbsp; &nbsp;<b style='color:#b50000'>Referência:</b> https://editorarealize.com.br/artigo/visualizar/43077\n",
    "\n",
    "<h2 style='color:#0000b7' > &nbsp; Problema proposto:</h2>\n",
    "    &nbsp; &nbsp; &nbsp; Rio Grande é uma cidade localizada na região sul do Rio Grande do sul e no ano 2000 a população do município era de 186 488 e em 2010 <br> &nbsp; &nbsp; essa população aumentou para 197 228.  De acordo o modelo de crescimento populacional de <b>Malthus</b>, <b>Verhulst</b> e <b>Montroll</b>, qual será a população estimada para 2021?"
   ]
  }
 ],
 "metadata": {
  "kernelspec": {
   "display_name": "Python 3 (ipykernel)",
   "language": "python",
   "name": "python3"
  },
  "language_info": {
   "codemirror_mode": {
    "name": "ipython",
    "version": 3
   },
   "file_extension": ".py",
   "mimetype": "text/x-python",
   "name": "python",
   "nbconvert_exporter": "python",
   "pygments_lexer": "ipython3",
   "version": "3.10.2"
  }
 },
 "nbformat": 4,
 "nbformat_minor": 5
}
